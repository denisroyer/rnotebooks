{
 "cells": [
  {
   "cell_type": "markdown",
   "id": "37032545-2e6a-48a0-a735-a046b02ba85e",
   "metadata": {
    "tags": []
   },
   "source": [
    "![R-Kenntnis](../Pics/header.png \"R-Kenntnis\")\n",
    "\n",
    "<div class=\"alert alert-block alert-info\">\n",
    "\n",
    "* **Titel:** Praktische Informationen zum Semesterprojekt\n",
    "* **Autor:** Prof. Dr. Denis Royer\n",
    "* **Datum:** 28.10.2022 (Version 1.1)\n",
    "\n",
    "</div>\n",
    "\n",
    "<div class=\"alert alert-block alert-success\">\n",
    "\n",
    "Im Folgenden finden Sie ein paar Infos zur Bearbeitung des Semesterprojektes.\n",
    "    \n",
    "</div>"
   ]
  },
  {
   "cell_type": "markdown",
   "id": "c2df6e5c-1318-43e3-aea5-630fbbc32ead",
   "metadata": {},
   "source": [
    "# Praktische Informationen zum Semesterprojekt\n",
    "## Data Understanding: Beipackzettel und Fragestellungen zum Datenpaket\n",
    "\n",
    "Folgende Fragen sollen Sie bezüglich des Datensatzes einmal durchgehen (<a href=\"https://moodle.ostfalia.de/course/view.php?id=7556&section=2\">siehe Moodle Kurs</a>):\n",
    "\n",
    "* Überprüfen Sie bitte einmal die Daten – was für Daten finden Sie vor?\n",
    "* Kann ein Data Dictionary abgeleitet werde und wie sieht dieses aus?\n",
    "* Können die Daten überhaupt geladen werden, bzw. welche Schritte müssen Sie durchführen, um die Daten in RStudio laden zu können?\n",
    "* Gibt es Auffälligkeiten beim Laden der Daten?\n",
    "* Welche Datenfelder müssen ggf. konvertiert werden?\n",
    "* Gibt es weitere Fragen zum Datensatz? Bitte sammeln Sie diese für die Q&A Session.\n",
    "\n",
    "\n",
    "<div class=\"alert alert-block alert-success\">\n",
    "<b>Data Dictionary</b>\n",
    "\n",
    "Ein Data-Dictionary – deutsch Datenwörterbuch, Datenkatalog oder etwas unschärfer Datenverzeichnis genannt – ist ein Katalog von Metadaten, der die Definitionen und Darstellungsregeln für alle Datenfelder eines Datensatzes enthält. \n",
    "    \n",
    "Hierzu gehören bspw.:\n",
    "    \n",
    "* Name des Feldes\n",
    "* Zweck und Nutzung der Daten\n",
    "* Verwendeter Datentyp (Zahlen, Zeichen, etc.)\n",
    "* zulässiger/gültiger Wertebereich für die Daten\n",
    "* Skalierung der Daten\n",
    "* Ergänzende Kommentare    \n",
    "    \n",
    "</div>\n"
   ]
  },
  {
   "cell_type": "markdown",
   "id": "b4a5407a-88f5-4c06-8150-048a109b3d0f",
   "metadata": {},
   "source": [
    "## Hinweise und Coding Guidelines:\n",
    "\n",
    "Ein Programmierstil (engl. code conventions, coding conventions, coding standards) ist in der Programmierung das Erstellen von Quellcode nach bestimmten vorgegebenen Regeln. Er gilt als Teilaspekt von Softwarequalität, der insbesondere die Verständlichkeit und Wartbarkeit von Software, dies sind Kriterien für Softwarequalität gem. ISO/IEC 9126 (aktualisiert durch ISO/IEC 25000) unterstützen soll. [<a href=\"https://de.wikipedia.org/wiki/Programmierstil\" target=\"_blank\">Wikipedia</a>]\n",
    "\n",
    "### Grundsätzlich zur Benennung von Variablen\n",
    "\n",
    "* R unterscheidet zwischen Groß- und Kleinbuchstaben, d. h. Oma und oma sind zwei verschiedene Personen für R.\n",
    "* R verwendet den Punkt . als Dezimaltrennzeichen.\n",
    "* Fehlende Werte werden in R durch NA gekennzeichnet.\n",
    "* Kommentare werden mit dem Rautezeichen (Hashtag) `#` eingeleitet; der Rest der Zeile wird von R dann ignoriert.\n",
    "* Variablennamen in R sollten mit Buchstaben beginnen; ansonsten dürfen nur Zahlen, Unterstriche (_) oder Punkte enthalten sein. Leerzeichen sollte man meiden.\n",
    "\n",
    "### Style-Guide\n",
    "\n",
    "#### Benennung von Variablen\n",
    "\n",
    "* Nur Kleinschreibung verwenden \n",
    "* Unterstrich verwenden (_), um Wörter innerhalb des Namens abzugrenzen (gewinn_ abt1) \n",
    "* Vor Ziffern ist kein Unterstrich nötig \n",
    "* Es sollten nur Buchstaben und Ziffern, keine Umlaute und Sonderzeichen verwendet werden \n",
    "* Objektnamen sollten nicht mit Ziffern beginnen \n",
    "* Für Namen von Funktionen eignen sich Verben; für Datenobjekte sollten nie Verben verwendet werden. \n",
    "* Beispiele:\n",
    "    * `gewinn`\n",
    "    * `gewinn_avg` oder `gewinn.avg`\n",
    "    * `gewinn_avg_q1` oder `gewinn.avg.q1`\n",
    "    * `gewinn_avg_q1_nona` oder `gewinn.avg.q1.nona`\n",
    "\n",
    "\n",
    "#### Variablennamen - Pre-/Suffixe\n",
    "\n",
    "* Mittelwert berechnet: `_avg` (average) \n",
    "* Analog für übrige deskriptive Statistiken: `_md`, `_sd`, `_min`, . . . \n",
    "* Fehlende Werte entfernt: `_nona` (No NA, keine fehlenden Werte; fehlende Werte bereinigt) \n",
    "* Dataframe in das „lange“ Format umgewandelt: `_long` \n",
    "* Dataframe mit einem zweiten vereinigt: `_joined` \n",
    "* Diagrammobjekt erzeugt: `_plot` \n",
    "* Häufigkeiten für ein Objekt: `_count` \n",
    "* Anteile für ein Objekt: `_prop` (proportion)\n",
    "* Den zentralen Dataframe kann man konsistent mit `data`, `d` oder `df` bezeichnen; für die Rohdaten fügt man `_raw` an\n",
    "\n",
    "\n",
    "<div class=\"alert alert-block alert-warning\">\n",
    "<b>WICHTIG:</b> \n",
    "    \n",
    "*Anstatt des Unterstrichs kann man auch einen Punkt bei der Benennung verwenden - z.B.: `myData.df`.*\n",
    "    \n",
    "</div>\n"
   ]
  },
  {
   "cell_type": "code",
   "execution_count": 3,
   "id": "74880835-2e6a-48f4-a31c-4544e69bab2c",
   "metadata": {},
   "outputs": [],
   "source": [
    "# Beispiele\n",
    "\n",
    "gewinn.avg.q1 <- 1"
   ]
  }
 ],
 "metadata": {
  "kernelspec": {
   "display_name": "R",
   "language": "R",
   "name": "ir"
  },
  "language_info": {
   "codemirror_mode": "r",
   "file_extension": ".r",
   "mimetype": "text/x-r-source",
   "name": "R",
   "pygments_lexer": "r",
   "version": "4.2.1"
  }
 },
 "nbformat": 4,
 "nbformat_minor": 5
}

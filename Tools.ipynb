{
 "cells": [
  {
   "cell_type": "markdown",
   "id": "aef12779-a931-461a-ad73-dbc27c3ae730",
   "metadata": {},
   "source": [
    "![R-Kenntnis](Pics/header.png \"R-Kenntnis\")\n",
    "\n",
    "* **Titel:** Tools für das Handling der Dateien\n",
    "* **Autor:** Prof. Dr. Denis Royer\n",
    "* **Datum:** 06.10.2021\n",
    "\n",
    "# Tools für das Handling der Dateien\n",
    "\n",
    "Die folgenden Skripte sind kleien Werkzeuge und Helfer, die dabei helfen sollen, die Dateien in den Projekten verarbeiten zu können:\n",
    "\n",
    "* Erstellung von RMD-Dateien aus den Jupyter Notebooks\n",
    "* Löschen der erstellten RMD-Dateien\n",
    "\n",
    "Die Liste wird nach und nach erweiter."
   ]
  },
  {
   "cell_type": "markdown",
   "id": "98d2b43d-9e6e-474b-ac3c-a77a331f1e7b",
   "metadata": {},
   "source": [
    "# Erstellung von RMD-Dateien aus den Jupyter Notebooks\n",
    "\n",
    "Der folgende Code erstellt aus allen Jupyter Notebooks in Ihrem Verzeichnisbaum RMD-Dateien, die man herunterladen kann und danach in RStudio weiterverarbeiten kann. Hierzu wird auch das Package ***rmarkdown*** benötigt, welches bereits vorinstalliert ist. \n",
    "\n",
    "Mehr hierzu unter: <https://rmarkdown.rstudio.com>."
   ]
  },
  {
   "cell_type": "code",
   "execution_count": 12,
   "id": "2be267d7-5fc6-4b6c-986b-69b32f502186",
   "metadata": {},
   "outputs": [],
   "source": [
    "library(rmarkdown)\n",
    "fileNames <- list.files(pattern=\"\\\\.(ipynb)\",\n",
    "                        recursive=TRUE)\n",
    "\n",
    "for (i in 1:length(fileNames)) {\n",
    "    nb_rmd = rmarkdown::convert_ipynb(fileNames[i])\n",
    "}"
   ]
  },
  {
   "cell_type": "markdown",
   "id": "31c87ccc-dbea-4a66-895d-dfe5ed58466b",
   "metadata": {},
   "source": [
    "# Löschen der erstellten RMD-Dateien\n",
    "\n",
    "Der folgende Code löscht alle RMD-Dateien, die im aktuellen Verzeichnis und in den darunterliegenden Verzeichnissen liegen (Dateiendung \".Rmd\" - bitte auf die Groß-/Kleinschreibung achten)."
   ]
  },
  {
   "cell_type": "code",
   "execution_count": 1,
   "id": "db7a99e9-1ea4-4381-bbe6-d9a17d729a2f",
   "metadata": {},
   "outputs": [],
   "source": [
    "fileNames <- list.files(pattern=\"\\\\.(Rmd)\",\n",
    "                        recursive=TRUE)\n",
    "\n",
    "for (i in 1:length(fileNames)) {\n",
    "    unlink(fileNames[i])\n",
    "}"
   ]
  }
 ],
 "metadata": {
  "authors": [
   {
    "name": "Prof. Dr. Denis Royer"
   }
  ],
  "kernelspec": {
   "display_name": "R",
   "language": "R",
   "name": "ir"
  },
  "language_info": {
   "codemirror_mode": "r",
   "file_extension": ".r",
   "mimetype": "text/x-r-source",
   "name": "R",
   "pygments_lexer": "r",
   "version": "3.6.3"
  }
 },
 "nbformat": 4,
 "nbformat_minor": 5
}

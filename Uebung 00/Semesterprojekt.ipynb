{
 "cells": [
  {
   "cell_type": "markdown",
   "id": "1e20526b-99fb-4bc7-8102-4fef14259027",
   "metadata": {},
   "source": [
    "# Übung: Ein Dokument mit Markdown\n",
    "\n",
    "![Übungsaufgabe](../Pics/excercise.png \"Übungsaufgabe\")\n",
    "\n",
    "Erstellen Sie mittels des Markdown Syntax folgendes Dokument in JupyterLab:\n",
    "\n",
    " * Erstellen Sie ein neues Jupyter Workbook Dokument mit dem Titel \"Semesterprojekt\".\n",
    " * Titel des ersten Hauptkapitels ist \"Semesterprojekt\".\n",
    " * Bitte fügen Sie das Logo der Ostfalia als Bild mit ein (liegt unter Pics/ostfalia.png).\n",
    " * Im ersten Unterkapitel soll als Bullet-Liste mit den Personen enthalten sein, die zu Ihrer Gruppe gehören. Jeweils die Vor- und Zunamen in Fett und in Klammern danach die Matrikelnummern in Kursiv (Bsp.: **Rainer Wahnsinn** (*1234567*)).\n",
    " * Das Zweite Unterkapitel soll \"Versionshistorie\" heißen und ein Tabelle mit den folgenden Spalten enthalten: Version, Datum, Beschreibung und Autor:in. Bitte füllen Sie Tabelle mit min. zwei Einträgen.\n",
    " * Die übrige Struktur der Kapitel soll sich entlang der CRISP-DM Struktur aus der Beschreibung des Semesterprojektes antlanghangeln.\n",
    "\n"
   ]
  },
  {
   "cell_type": "markdown",
   "id": "3c7ad8bc-4f3d-45aa-9a85-b954cd80674c",
   "metadata": {},
   "source": [
    "# Semesterprojekt\n",
    "\n",
    "![Ostfalia Logo](../Pics/ostfalia.png \"Das Ostfalia Logo\")"
   ]
  },
  {
   "cell_type": "markdown",
   "id": "e8784068-eab1-4221-9e15-1a4f50d0018e",
   "metadata": {},
   "source": [
    "## Überblick\n",
    "\n",
    "* **Rainer Wahnsinn** (*1234567*)\n",
    "* **Jim Panse** (*7654321*)\n",
    "* **Klara Korn** (*47111174*)"
   ]
  },
  {
   "cell_type": "markdown",
   "id": "701586d2-7937-4eb8-9173-8c2e716d8f70",
   "metadata": {},
   "source": [
    "## Versionshistorie\n",
    "\n",
    "Version | Datum    | Beschreibung | Autor:in \n",
    "--|:---------:|:-----------:|:-----------:\n",
    "1.0 |01.10.2023     | Erste Verison | DR\n",
    "2.0 |13.10.2023  | Überarbeitung | DR\n",
    " |  |   |  "
   ]
  },
  {
   "cell_type": "markdown",
   "id": "d2824f19-e105-4de8-85b3-3d94a9f0390a",
   "metadata": {},
   "source": [
    "# Hauptteil\n",
    "\n",
    "## Geschäftsverständnis (Business Understanding)\n",
    "\n",
    "In dieser Phase geht es darum, die Ziele und Anforderungen aus der Geschäftsperspektive zu verstehen und in ein Data-Mining-Problem umzuwandeln. Es werden auch die Erfolgskriterien für das Projekt festgelegt.\n",
    "\n",
    "## Datenverständnis (Data Understanding)\n",
    "\n",
    "Hier werden die Daten gesammelt, beschrieben und erkundet. Es werden erste Datenqualitätsprobleme identifiziert und erste Einblicke in die Daten gewonnen.\n",
    "\n",
    "## Datenvorbereitung (Data Preparation)\n",
    "\n",
    "In dieser Phase werden die Daten für die Modellierung vorbereitet. Dazu gehören Aufgaben wie die Auswahl von Daten, die Reinigung von Daten, die Erstellung von neuen Daten (z.B. durch Ableitung oder Aggregation) und die Formatierung von Daten.\n",
    "\n",
    "## Modellierung (Modeling)\n",
    "\n",
    "Hier werden verschiedene Modellierungstechniken ausgewählt und angewendet. Es werden auch die notwendigen Parameter für die Modelle festgelegt.\n",
    "\n",
    "## Evaluation (Evaluation)\n",
    "\n",
    "In dieser Phase wird das Modell bewertet und getestet, um sicherzustellen, dass es die Geschäftsziele erfüllt. Es wird überprüft, ob das Modell die gewünschten Ergebnisse liefert und ob es die festgelegten Erfolgskriterien erfüllt.\n",
    "\n",
    "## Bereitstellung (Deployment)\n",
    "\n",
    "Schließlich wird das Modell in die Geschäftsumgebung implementiert, damit es genutzt werden kann.\n",
    "\n",
    "<div class=\"alert alert-block alert-info\">\n",
    "<b>Hinweis:</b> Es ist wichtig zu beachten, dass CRISP-DM ein iterativer Prozess ist, bei dem es oft notwendig ist, zu früheren Schritten zurückzukehren und Anpassungen vorzunehmen.\n",
    "</div>\n"
   ]
  }
 ],
 "metadata": {
  "kernelspec": {
   "display_name": "R",
   "language": "R",
   "name": "ir"
  },
  "language_info": {
   "codemirror_mode": "r",
   "file_extension": ".r",
   "mimetype": "text/x-r-source",
   "name": "R",
   "pygments_lexer": "r",
   "version": "4.3.1"
  },
  "toc-autonumbering": true
 },
 "nbformat": 4,
 "nbformat_minor": 5
}

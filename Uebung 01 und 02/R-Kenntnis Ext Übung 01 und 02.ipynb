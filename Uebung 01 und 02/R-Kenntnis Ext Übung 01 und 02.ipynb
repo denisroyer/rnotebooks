{
 "cells": [
  {
   "cell_type": "markdown",
   "id": "2154df55-abb9-4633-bb1c-406de64784e8",
   "metadata": {},
   "source": [
    "![R-Kenntnis](../Pics/header.png \"R-Kenntnis\")\n",
    "\n",
    "<img src=\"https://img.shields.io/badge/--Kenntnis-blue?style=flat-square&logo=r&logoColor=white\"/> <a href=\"https://ostfalia.de/w\" target=\"_blank\"><img src=\"https://img.shields.io/badge/Ostfalia-Fakultät%20W-blue?style=flat-square&logo=googlescholar&logoColor=white\"/></a> <img src=\"https://img.shields.io/badge/Semester-WiSe2023%2F24-green?style=flat-square\"/> <img src=\"https://img.shields.io/badge/Copyright-2020--24-orange?style=flat-square\"/> <a href=\"https://creativecommons.org/licenses/by-nc-sa/4.0/\" target=\"_blank\"><img src=\"https://img.shields.io/badge/License-by--nc--sa-red?style=flat-square\"/></a> \n",
    "\n",
    "<div class=\"alert alert-block alert-info\">\n",
    "<img src=\"https://img.shields.io/badge/Information-EXT_Übung_01/02-blue?style=for-the-badge&logo=bookstack&logoColor=white\">\n",
    "    \n",
    "* **Titel:** Weitere zur Übungen 01 & 02: Basis Datenstrukturen in R\n",
    "* **Autor:** Prof. Dr. Denis Royer\n",
    "* **Datum:** 07.12.2023 (Version 1.0)\n",
    "\n",
    "</div>\n",
    "\n",
    "# BI - R-Kenntnis Weitere Übungen 01 & 02: Basis Datenstrukturen in R\n",
    "\n",
    "**Übungsaufgaben:**\n",
    "\n",
    "1. **Vektoren**\n",
    "    - Erstelle einen numerischen Vektor mit den Werten 5, 8, 12 und 16 und weise ihn einer Variablen namens `num_vec` zu.\n",
    "    - Finde den Durchschnitt der Werte in `num_vec`.\n",
    "\n",
    "2. **Matrizen**\n",
    "    - Erstelle eine 3x3 Matrix mit den Zahlen von 1 bis 9 und weise sie einer Variablen namens `my_matrix` zu.\n",
    "    - Extrahiere die zweite Zeile aus `my_matrix`.\n",
    "\n",
    "3. **Listen**\n",
    "    - Erstelle eine Liste, die einen numerischen Vektor, einen Charaktervektor und eine Matrix enthält. Weise diese einer Variablen namens `my_list` zu.\n",
    "    - Zugriff auf den Charaktervektor in `my_list`.\n",
    "\n",
    "4. **Datenrahmen (Data Frames)**\n",
    "    - Erstelle einen Datenrahmen mit 3 Spalten: `Name`, `Alter` und `Stadt`. Füge mindestens drei Zeilen mit fiktiven Daten hinzu.\n",
    "    - Filtere den Datenrahmen, um nur die Zeilen zurückzugeben, in denen das Alter größer als 25 ist.\n",
    "\n",
    "\n",
    "**Lösungen:**\n",
    "\n",
    "1. **Vektoren**"
   ]
  },
  {
   "cell_type": "code",
   "execution_count": null,
   "id": "5fa0d7e1-6919-4a98-b250-8155762d2c8e",
   "metadata": {},
   "outputs": [],
   "source": [
    "    # Erstellung des Vektors\n",
    "    num_vec <- c(5, 8, 12, 16)\n",
    "    # Durchschnitt des Vektors\n",
    "    mean(num_vec)"
   ]
  },
  {
   "cell_type": "markdown",
   "id": "d2c867ee-fc53-4fea-ac43-9c1ca4aab798",
   "metadata": {},
   "source": [
    "2. **Matrizen**"
   ]
  },
  {
   "cell_type": "code",
   "execution_count": null,
   "id": "9c0c9aa9-03f6-4558-8ead-188e4827062e",
   "metadata": {},
   "outputs": [],
   "source": [
    "    # Erstellung der Matrix\n",
    "    my_matrix <- matrix(1:9, nrow=3)\n",
    "    my_matrix\n",
    "    # Extrahieren der zweiten Zeile\n",
    "    my_matrix[2,]"
   ]
  },
  {
   "cell_type": "markdown",
   "id": "4ba598ae-2886-49ed-9dbc-299468e10d7b",
   "metadata": {},
   "source": [
    "3. **Listen**"
   ]
  },
  {
   "cell_type": "code",
   "execution_count": null,
   "id": "a986b8c1-d82d-4312-8773-8cc7614c1eaa",
   "metadata": {},
   "outputs": [],
   "source": [
    "    # Erstellung der Liste\n",
    "    my_list <- list(nums = c(1,2,3), chars = c(\"a\", \"b\", \"c\"), mat = matrix(1:4, nrow=2))\n",
    "    # Zugriff auf den Charaktervektor\n",
    "    my_list$chars"
   ]
  },
  {
   "cell_type": "markdown",
   "id": "13b9157c-d471-4935-beb3-b7b945078e3a",
   "metadata": {},
   "source": [
    "4. **Datenrahmen (Data Frames)**"
   ]
  },
  {
   "cell_type": "code",
   "execution_count": null,
   "id": "7c12d4da-9e34-4231-99a0-cf3f4161b223",
   "metadata": {},
   "outputs": [],
   "source": [
    "    # Erstellung des Datenrahmens\n",
    "    df <- data.frame(Name = c(\"Anna\", \"Ben\", \"Chris\"), Alter = c(24, 28, 23), Stadt = c(\"Berlin\", \"München\", \"Köln\"))\n",
    "    # Filtern des Datenrahmens\n",
    "    subset(df, Alter > 25)\n",
    "    # ODER: Filter über []-Syntax\n",
    "    df[df$Alter > 25,]"
   ]
  },
  {
   "cell_type": "code",
   "execution_count": null,
   "id": "7e49ad7f-7297-44a1-80a9-e06bea059c28",
   "metadata": {},
   "outputs": [],
   "source": []
  }
 ],
 "metadata": {
  "kernelspec": {
   "display_name": "R",
   "language": "R",
   "name": "ir"
  },
  "language_info": {
   "codemirror_mode": "r",
   "file_extension": ".r",
   "mimetype": "text/x-r-source",
   "name": "R",
   "pygments_lexer": "r",
   "version": "4.3.1"
  }
 },
 "nbformat": 4,
 "nbformat_minor": 5
}

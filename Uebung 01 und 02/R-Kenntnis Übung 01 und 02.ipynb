{
 "cells": [
  {
   "cell_type": "markdown",
   "id": "b2a8469e-c1cd-45de-a8ef-ed5689a0ae66",
   "metadata": {
    "jp-MarkdownHeadingCollapsed": false,
    "tags": []
   },
   "source": [
    "![R-Kenntnis](../Pics/header.png \"R-Kenntnis\")\n",
    "\n",
    "<img src=\"https://img.shields.io/badge/--Kenntnis-blue?style=flat-square&logo=r&logoColor=white\"/> <a href=\"https://ostfalia.de/w\" target=\"_blank\"><img src=\"https://img.shields.io/badge/Ostfalia-Fakultät%20W-blue?style=flat-square&logo=googlescholar&logoColor=white\"/></a> <img src=\"https://img.shields.io/badge/Semester-WiSe2023%2F24-green?style=flat-square\"/> <img src=\"https://img.shields.io/badge/Copyright-2020--24-orange?style=flat-square\"/> <a href=\"https://creativecommons.org/licenses/by-nc-sa/4.0/\" target=\"_blank\"><img src=\"https://img.shields.io/badge/License-by--nc--sa-red?style=flat-square\"/></a> \n",
    "\n",
    "<div class=\"alert alert-block alert-info\">\n",
    "<img src=\"https://img.shields.io/badge/Information-Übung_01/02-blue?style=for-the-badge&logo=bookstack&logoColor=white\">\n",
    "    \n",
    "* **Titel:** R-Kenntnis Übungen 01 & 02: Basis Datenstrukturen in R\n",
    "* **Autor:** Prof. Dr. Denis Royer\n",
    "* **Datum:** 29.09.2023 (Version 3.0)\n",
    "\n",
    "</div>\n",
    "\n",
    "\n",
    "<div class=\"alert alert-block alert-success\">\n",
    "    \n",
    "# Überblick:    \n",
    "## 01 & 02: Basis Datenstrukturen in R\n",
    "\n",
    "1. **Vektoren**: Eindimensionale Arrays, die Daten gleichen Typs speichern.\n",
    "   - Funktionen: `c()`, `seq()`, `rep()`\n",
    "   \n",
    "2. **Matrizen**: Zweidimensionale Arrays, die Daten gleichen Typs speichern.\n",
    "   - Funktionen: `matrix()`, `rbind()`, `cbind()`\n",
    "   \n",
    "3. **Listen**: Sammlungen von Objekten, die unterschiedliche Datenstrukturen und -typen enthalten können.\n",
    "   - Funktionen: `list()`, `unlist()`\n",
    "   \n",
    "4. **Data Frames**: Tabellenartige Strukturen, in denen jede Spalte eine Variable und jede Zeile eine Beobachtung darstellt.\n",
    "   - Funktionen: `data.frame()`, `read.csv()`, `head()`, `tail()`\n",
    "   \n",
    "5. **Faktoren**: Vektoren, die kategorische Daten darstellen und Ebenen haben.\n",
    "   - Funktionen: `factor()`, `levels()`\n",
    "   \n",
    "6. **Arrays**: Mehrdimensionale Sammlungen von Daten gleichen Typs.\n",
    "   - Funktionen: `array()`, `dim()`\n",
    "\n",
    "## Vermittelte Kompetenzen:\n",
    "Mit diesen Datenstrukturen und den zugehörigen Funktionen können Nutzer ihre Daten in R optimal organisieren, verarbeiten und analysieren. Sie werden in der Lage sein, unterschiedliche Datentypen und -strukturen zu erkennen und effizient mit ihnen zu arbeiten.\n",
    "</div>\n",
    "\n",
    "# BI - R-Kenntnis Übungen 01 & 02: Basis Datenstrukturen in R\n",
    "\n",
    "Bitte lesen Sie die folgenden Kapitel und die enthaltenen Hinweise ***sorgfältig*** durch. Die Aufgaben sind zum Teil in den Kapiteln enthalten.\n",
    "\n",
    "<div class=\"alert alert-block alert-warning\">\n",
    "<b>WICHTIG:</b> \n",
    "    \n",
    "*Die Schritte im Source Code bauen zum Teil aufeinander auf. Sollten Sie Ihre RStudio oder JupyterLab Session schließen oder neu starten, so müssen Sie ggf. den **Code erneut ausführen**, bzw. die **Packages neu laden**.*\n",
    "    \n",
    "</div>\n",
    "\n",
    "<div class=\"alert alert-block alert-info\">\n",
    "<b>Hinweis:</b> Weitere Hinweise und Quellen finden Sie <a href=\"../index.ipynb\">auf der zenteralen Übersicht zu den Übungen</a>. </div>\n",
    "\n",
    "<div class=\"alert alert-block alert-success\">\n",
    "\n",
    "**Zellen können mit der Tastenkombination \"Shift\" + \"Enter\" ausgeführt werden - das funktioniert bei `Code` Zellen als auch bei den Markdown Zellen**\n",
    "    \n",
    "![execute_command.png](../Pics/execute_command.png)\n",
    "    \n",
    "</div>\n",
    "\n",
    "# Einleitung\n",
    "\n",
    "In der Datenanalyse ist die Wahl der richtigen Datenstruktur oft entscheidend für Effizienz und Verständlichkeit des Analyseprozesses. R, als eine der führenden Programmiersprachen für statistische Berechnungen und Datenanalyse, bietet eine Vielzahl von eingebauten Datenstrukturen, die speziell für unterschiedliche Anforderungen im Umgang mit Daten konzipiert sind. Von eindimensionalen Vektoren, die einfache Datenreihen darstellen, bis hin zu komplexen Datenrahmen, die heterogene Datensätze abbilden – die Basis Datenstrukturen in R sind sowohl vielfältig als auch mächtig.\n",
    "\n",
    "Diese Einheit führt in die grundlegenden Datenstrukturen von R ein, wobei jede Struktur im Detail vorgestellt und durch ihre spezifischen Eigenschaften und Anwendungsbereiche definiert wird. Das Verständnis dieser Strukturen ist fundamental für jeden, der in R arbeiten möchte, da sie die Bausteine für alle weiterführenden Analysen und Datenmanipulationen darstellen. \n",
    "\n",
    "Indem wir die Kernkonzepte dieser Strukturen erkunden und ihre jeweiligen R-Funktionen kennenlernen, legen wir das Fundament für eine effektive und strukturierte Datenanalyse in R."
   ]
  },
  {
   "cell_type": "markdown",
   "id": "3c8e4024-803a-4bf8-8f01-0ff05d6ce369",
   "metadata": {
    "tags": [
     "Intro"
    ]
   },
   "source": [
    "# Source Code zur Übung: Datenstrukturen in R"
   ]
  },
  {
   "cell_type": "markdown",
   "id": "8c313e06-6ada-4f0d-a181-6e8057c87913",
   "metadata": {},
   "source": [
    "## Mathematische Operationen mit R\n",
    "### R als Taschenrechner\n",
    "\n",
    "Als erste Anwendung können wir R als Taschenrechner benützen. Zuvor müssen wir uns aber noch ein wenig Vokabular aneignen, und dann ein bisschen Syntax lernen.\n",
    "\n",
    "Zum Basisvokabular gehören einige eingebaute Operatoren (sowohl arithmetische als auch logische).\n",
    "\n",
    "Die ersten fünf Operatoren sollten selbsterklärend sein:\n",
    "\n",
    "     +                Addition\n",
    "     -                Subtraktion\n",
    "     *                Multiplikation\n",
    "     /                Division\n",
    "     ^ oder **        Potenz\n",
    "     x %*% y          Matrixmultiplikation c(5, 3) %*% c(2, 4) == 22\n",
    "     x %% y           Modulo (x mod y) 5 %% 2 == 1\n",
    "     x %/% y          Ganzzahlige Teilung: 5 %/% 2 == 2\n",
    "\n",
    "* Die letzten drei Operatoren sind vielleicht nicht allen geläufig. `%*%` ist der Operator für die Matrixmultiplikation. Der einfachste Fall ist die Multiplikation zweier gleich langer Vektoren (eines Zeilen- und eines Spaltenvektors). Dabei werden die Elemente der beiden Vektoren elementweise miteinander multipliziert und anschliessend die Produkte aufsummiert. Ergebnis ist ein Skalar (eine einzelne Zahl bzw. ein Vektor mit nur einem Element bzw. eine Matrix mit nur einer Zeile und einer Spalte). \n",
    "* `%%` ist der Modulo Operator und gibt den Rest nach einer ganzzahligen Division an. So gibt z.B.`5 %% 2` (sprich 5 modulo 2) den Wert 1. \n",
    "* `%/%` gibt das Resultat der ganzzahligen Division, d.h. `5 %/% 2` gibt den Wert 2 (wie oft kann man 2 von 5 subtrahieren?). Diese Operatoren werden beim Programmieren oft gebracht.\n",
    "\n",
    "**Quelle:** https://methodenlehre.github.io/einfuehrung-in-R/die-r-sprache.html#operatoren-und-funktionen\n",
    "\n",
    "**Ein paar einfach Beipiele:**"
   ]
  },
  {
   "cell_type": "code",
   "execution_count": null,
   "id": "8a0b3ddb-c3e5-4716-b391-f9bf4b368139",
   "metadata": {},
   "outputs": [],
   "source": [
    "6 + 3.4"
   ]
  },
  {
   "cell_type": "code",
   "execution_count": null,
   "id": "96c08002-0149-438f-8ea9-3fc13169f685",
   "metadata": {},
   "outputs": [],
   "source": [
    "3^3"
   ]
  },
  {
   "cell_type": "code",
   "execution_count": null,
   "id": "d978e92c-a5ba-4346-9827-fe093bc4cf33",
   "metadata": {},
   "outputs": [],
   "source": [
    "22 * 15 + 6"
   ]
  },
  {
   "cell_type": "code",
   "execution_count": null,
   "id": "dec63c08-95e3-404e-8cb9-8f816aa59308",
   "metadata": {},
   "outputs": [],
   "source": [
    "22 * (15 + 6)"
   ]
  },
  {
   "cell_type": "code",
   "execution_count": null,
   "id": "a6a8bc82-8f72-4c6c-9b01-0adc0e6a07f2",
   "metadata": {},
   "outputs": [],
   "source": [
    "22 ^ 2 + 7"
   ]
  },
  {
   "cell_type": "code",
   "execution_count": null,
   "id": "c98aea75-29cc-4684-9bde-ed4d00eabaf1",
   "metadata": {},
   "outputs": [],
   "source": [
    "22 ^ (2 + 7)"
   ]
  },
  {
   "cell_type": "code",
   "execution_count": null,
   "id": "045373aa-bbb6-465b-84e7-ec337997d43a",
   "metadata": {},
   "outputs": [],
   "source": [
    "(2 * (17.2 + 5)) / 56"
   ]
  },
  {
   "cell_type": "markdown",
   "id": "6e448cb3-5a9f-42b1-a7f2-baa0577e3c01",
   "metadata": {
    "caption": "Logische Operatoren",
    "label": "fig:logicOpps",
    "tags": [],
    "widefigure": true
   },
   "source": [
    "### Logische Operationen \n",
    "\n",
    "Auch R unterstützt logische Operatoren - folgende können genutzt werden:\n",
    "\n",
    "* `==` gleich \n",
    "* `!=` ungleich\n",
    "* `<` kleiner als\n",
    "* `>` größer als\n",
    "* `<=` kleiner gleich \n",
    "* `>=` größer gleich\n",
    "* `&` logisches UND\n",
    "* `|` logisches ODER \n",
    "* `!` logisches NICHT\n",
    "\n",
    "Zur Verdeutlichung, ein paar Beispiele, wie die logischen Operatoren in Bezug auf die Mengen x und y auswirken:\n",
    "\n",
    "![Logische Operatoren](../Pics/transform-logical.png \"Logische Operatoren\")"
   ]
  },
  {
   "cell_type": "code",
   "execution_count": null,
   "id": "0d46fe2a-ee1f-4f9f-8904-54d647e5b396",
   "metadata": {},
   "outputs": [],
   "source": [
    "3 == 3"
   ]
  },
  {
   "cell_type": "code",
   "execution_count": null,
   "id": "460d33ee-c56a-4675-bb4c-d2bfa39700bd",
   "metadata": {},
   "outputs": [],
   "source": [
    "3 == 4"
   ]
  },
  {
   "cell_type": "code",
   "execution_count": null,
   "id": "2b84873f-65db-4116-b28b-2623e367b7dc",
   "metadata": {},
   "outputs": [],
   "source": [
    "3 != 4"
   ]
  },
  {
   "cell_type": "code",
   "execution_count": null,
   "id": "ff1936d0-6da6-4093-93df-2da0f6caf76b",
   "metadata": {},
   "outputs": [],
   "source": [
    "3 <= 4 & 3 == 3"
   ]
  },
  {
   "cell_type": "code",
   "execution_count": null,
   "id": "e307457e-4fd7-4c57-842d-f0a232226da6",
   "metadata": {},
   "outputs": [],
   "source": [
    "3 <= 4 | 3 == 4"
   ]
  },
  {
   "cell_type": "code",
   "execution_count": null,
   "id": "45e7bf90-a2ad-48e0-9c63-5d2ccaef9dde",
   "metadata": {},
   "outputs": [],
   "source": [
    "(3 <= 4 | 3 == 3) & 3 == 4"
   ]
  },
  {
   "cell_type": "markdown",
   "id": "6a1a34f8-ffbf-4ef0-a074-993987e1ce3c",
   "metadata": {},
   "source": [
    "### Erstellung von Variablen\n",
    "Bisher haben wir die Resultate unserer Berechnungen nicht gespeichert. Selbstverständlich können in R auch Variablen definiert werden, und diesen einen Wert zuweisen.\n",
    "\n",
    "Variablen werden in R so definiert: `my_var <- 4`. `<-` ist hier ein spezieller Zuweisungspfeil, und besteht aus einem < Zeichen und einem -. Es gibt in RStudio dafür eine Tastenkombination ALT *+* -. Hier weisen wir also der neuen Variablen `my_var` den Wert 4 zu.\n",
    "\n",
    "<div class=\"alert alert-block alert-warning\">\n",
    "\n",
    "**Hinweis:** In dieser Anweisung wird der Variable x der Wert 5 zugewiesen. Es ist auch möglich, den Gleichheitsoperator `=` für die Zuweisung zu verwenden, aber in R ist der Zuweisungsoperator `<-` gebräuchlicher und wird traditionell bevorzug.\n",
    "\n",
    "</div>"
   ]
  },
  {
   "cell_type": "code",
   "execution_count": null,
   "id": "d9e5525a-e0a6-41d2-87c3-e70d5ed5f081",
   "metadata": {},
   "outputs": [],
   "source": [
    "meine_variable = 12\n",
    "meine_variable2 <- 23\n",
    "\n",
    "meine_variable2 + meine_variable"
   ]
  },
  {
   "cell_type": "markdown",
   "id": "9134003b-77d1-4695-a805-32e109cf6d63",
   "metadata": {},
   "source": [
    "### Übung 1.1 - Arbeiten mit Variablen\n",
    "![Übungsaufgabe](../Pics/excercise.png \"Übungsaufgabe\")\n",
    "1. Schätzen Sie die Einwohner Hessens und speichern Sie Ihre Schätzung in eine neue Variable namens`hessen`.\n",
    "2. Schätzen Sie die Einwohner Deutschlands und speichern Sie Ihre Schätzung in die Variable `deutschland`.\n",
    "3. Berechnen Sie eine neue Variable `ant_hessen`, die den Anteil der Einwohner Hessens an Gesamt-Deutschland enthält (in %).\n",
    "4. Geben sie dem Inhalt der Variable `ant_hessen` aus."
   ]
  },
  {
   "cell_type": "code",
   "execution_count": null,
   "id": "07d10a4d-5b28-4a56-8bc8-b1ed903d9fd2",
   "metadata": {},
   "outputs": [],
   "source": [
    "### Ihr Source Code\n",
    "# Variable hessen anlegen und befüllen\n",
    "hessen <- 6.266\n",
    "# Variable deutschland anlegen und befüllen\n",
    "deutschland <- 83.2\n",
    "# Anteil hessen berechnen (in %)\n",
    "ant_hessen <- hessen / deutschland *100\n",
    "#Ergebnis ausgeben\n",
    "ant_hessen"
   ]
  },
  {
   "cell_type": "markdown",
   "id": "2f6d8ff0-1018-4169-8ec6-b6ba797062ad",
   "metadata": {},
   "source": [
    "## Übersicht über die Datenstrukturen\n",
    "\n",
    "In R unterschediet man vier grundlegende Datenstrukturen (siehe Grafik unten):\n",
    "\n",
    "  * **Vektoren:** Vektoren bilden das Fundament. Sie sind eindimensional und enthalten n Elemente, die alle vom gleichen Variablentyp sein müssen. Im Prinzip greifen alle anderen Datenstrukturen auf vector zu.\n",
    "  *  **Matrizen:** Matrizen setzen sich aus einem oder mehreren Vektoren zusammen, die alle dieselbe Länge haben müssen. Matrizen sind zweidimensional mit n Reihen und k Spalten. Alle Vektoren müssen vom selben Datentyp sein.\n",
    "  *  **Data Frames:** Data Frames setzen sich auch aus einem oder mehreren Vektoren der selben Länge zusammen, sind zweidimensional mit n Reihen und k Spalten. Anders als bei Matrizen können die Vektoren aber von unterschiedlichen Variablentypen sein. Data Frames sind somit die üblichen Verdächtigen, wenn es um klassische Analysen mit typischen Datensätzen geht.\n",
    "  * **Listen:** Listen sind etwas komplexer, denn sie setzen sich selbst wiederum aus beliebigen Datenstrukturen zusammen. Das heißt, eine Liste kann sowohl drei Elemente enthalten, die alle Vektoren sind (im Gegensatz zu Data Frames können die Vektoren auch unterschiedlicher Länge sein), eine Liste kann aber auch aus einem Vektor, einem Data Frame, und einer weiteren Liste bestehen. Manchmal kann man Daten nur vernünftig strukturieren, indem man Listen benutzt.\n",
    "\n",
    "![Datenstrukturen](../Pics/dataStructuresNew.png \"Übersicht der Datenstrukturen\")\n",
    "\n",
    "## Datenstrukturen: Vektoren\n",
    "\n",
    "### Grundlagen Vektoren\n",
    "\n",
    "Ein Vektor ist eine geordnete Sammlung mehrerer Objekte gleicher Art. Die Objekte werden mit fortlaufender Nummer hintereinander geschrieben und können so auch angesprochen werden."
   ]
  },
  {
   "cell_type": "markdown",
   "id": "b1c660b7-dd9a-4d92-86f5-6b3d6b3e8b86",
   "metadata": {},
   "source": [
    "### Vektoren erstellen (Die `c()` Funktion)"
   ]
  },
  {
   "cell_type": "markdown",
   "id": "3b045b5d-2561-4231-86db-2f44536cccca",
   "metadata": {},
   "source": [
    "Mit dem Operator (Befehl) `c()` wird den Objekten a, b und c ein Vektor mit Elementen zugewiesen, indem die Funktion `c()` (vom englischen “concatenation”, d. h. ”Verkettung“) diese Werte zu einem Vektor zusammenfasst. "
   ]
  },
  {
   "cell_type": "code",
   "execution_count": null,
   "id": "832ac5b0-40bd-43b4-b81d-0be46cc9bfae",
   "metadata": {
    "tags": []
   },
   "outputs": [],
   "source": [
    "# Erstellung von Vektoren mittels der combine/concatenate Funktion \"c()\"\n",
    "a <- c(5, 3, 2)\n",
    "a"
   ]
  },
  {
   "cell_type": "code",
   "execution_count": null,
   "id": "5cbf17cb-70ce-45bd-a47b-7376ae4e24d1",
   "metadata": {},
   "outputs": [],
   "source": [
    "b <- c(\"A\", \"B\", \"C\")\n",
    "b"
   ]
  },
  {
   "cell_type": "code",
   "execution_count": null,
   "id": "b38cee21-2355-42a6-9704-9bc82a72a14d",
   "metadata": {},
   "outputs": [],
   "source": [
    "c <- c(\"a\", \"b\", \"c\")\n",
    "c "
   ]
  },
  {
   "cell_type": "code",
   "execution_count": null,
   "id": "b14ac509-8142-4c4b-8406-0f0bfdf44df8",
   "metadata": {},
   "outputs": [],
   "source": [
    "# Erstellt einen Vektor x mit den Zahlen 1 bis 6\n",
    "# vorwärts\n",
    "x <- 4:16\n",
    "x"
   ]
  },
  {
   "cell_type": "code",
   "execution_count": null,
   "id": "0d84f358-3f78-465b-a517-3682e1556a0a",
   "metadata": {},
   "outputs": [],
   "source": [
    "# rückwärts\n",
    "y <- 6:1\n",
    "y"
   ]
  },
  {
   "cell_type": "code",
   "execution_count": null,
   "id": "a0516eb1-2a63-431f-9a42-df4d3daa8b33",
   "metadata": {},
   "outputs": [],
   "source": [
    "# Zufallszahlen\n",
    "# runif() erzeugt einen Vektor mit 6 Zufallszahlen im Bereich [0,100]\n",
    "z <- runif(6,min=0,max=100) \n",
    "z"
   ]
  },
  {
   "cell_type": "code",
   "execution_count": null,
   "id": "d3579d77-6f51-40ac-80db-0574f10479dd",
   "metadata": {},
   "outputs": [],
   "source": [
    "z[1:3]"
   ]
  },
  {
   "cell_type": "code",
   "execution_count": null,
   "id": "bd303551-ff50-4e9e-ba88-7efbe57cbbc9",
   "metadata": {},
   "outputs": [],
   "source": [
    "# Zusammenfassende ansicht eines Vektors mittels der summary() Funktion\n",
    "summary(x)\n",
    "summary(y)\n",
    "summary(z)"
   ]
  },
  {
   "cell_type": "markdown",
   "id": "5798eec6-ceba-4ccd-8a91-542d275bf65d",
   "metadata": {},
   "source": [
    "### Operationen mit Vektoren"
   ]
  },
  {
   "cell_type": "code",
   "execution_count": null,
   "id": "d95aaf93-2415-42b7-bb29-bbe0e92a1a8e",
   "metadata": {},
   "outputs": [],
   "source": [
    "#Vergleiche\n",
    "a == b\n",
    "b == c"
   ]
  },
  {
   "cell_type": "markdown",
   "id": "49374594-9c59-4422-9450-f7c16fc3dd54",
   "metadata": {},
   "source": [
    "R selber ist eine Objektorientierte Programmiersprache. Dementsprechend sind alle Variablen Objekte, deren Klasse und Typ man feststellen kann. Hierzu dienen die Funktionen `class()` und `type()`.\n",
    "\n",
    "Mehr infos finden Sie unter <https://statistik-dresden.de/archives/15281>."
   ]
  },
  {
   "cell_type": "code",
   "execution_count": null,
   "id": "c247c5a1-6fda-4da5-91e9-c6da6a0c873a",
   "metadata": {},
   "outputs": [],
   "source": [
    "# Typen und Klasse von Vektoren überprüfen\n",
    "typeof(a)"
   ]
  },
  {
   "cell_type": "code",
   "execution_count": null,
   "id": "3114eace-387b-4e5f-8e9b-b9547909548e",
   "metadata": {},
   "outputs": [],
   "source": [
    "# Klasse des \n",
    "class(a) "
   ]
  },
  {
   "cell_type": "code",
   "execution_count": null,
   "id": "63b9aebd-7071-49f3-9b3e-dfc063dd1c8c",
   "metadata": {},
   "outputs": [],
   "source": [
    "is.numeric(b); "
   ]
  },
  {
   "cell_type": "code",
   "execution_count": null,
   "id": "695a44cf-dc1f-46a2-a64d-7efcbb0f618f",
   "metadata": {},
   "outputs": [],
   "source": [
    "is.character(b)"
   ]
  },
  {
   "cell_type": "code",
   "execution_count": null,
   "id": "1a8fdbdb-bf00-4afe-924c-8ac69af44887",
   "metadata": {},
   "outputs": [],
   "source": [
    "# Länge des Vektors a\n",
    "length(a)"
   ]
  },
  {
   "cell_type": "code",
   "execution_count": null,
   "id": "f208e3a7-cc5e-40b1-8365-0330498cdaa1",
   "metadata": {},
   "outputs": [],
   "source": [
    "# Selektieren von Elementen eines Vektors\n",
    "# das 2. Element\n",
    "a[2]\n",
    "#das 2. bis 4. Element von x\n",
    "x[2:4]"
   ]
  },
  {
   "cell_type": "code",
   "execution_count": null,
   "id": "c504b611-2a74-42d1-894d-03fc89055a4c",
   "metadata": {},
   "outputs": [],
   "source": [
    "# Alle Elemente des Vektors a um den Wert 3 erhöhen\n",
    "x+3\n",
    "# Alle Elemente des Vektors a mit dem Wert 3 multiplizieren\n",
    "x*3"
   ]
  },
  {
   "cell_type": "code",
   "execution_count": null,
   "id": "c3be26eb-85f8-4697-9d77-33e5fad5a9e9",
   "metadata": {},
   "outputs": [],
   "source": [
    "# Vektor x zurücksetzen\n",
    "x <- 1:6\n",
    "x"
   ]
  },
  {
   "cell_type": "code",
   "execution_count": null,
   "id": "0179242b-eca6-4a9f-83ae-7833665e4042",
   "metadata": {},
   "outputs": [],
   "source": [
    "# löschen des 3. Wertes\n",
    "x <- x[-3]\n",
    "x"
   ]
  },
  {
   "cell_type": "code",
   "execution_count": null,
   "id": "aac1f15b-1a02-46b9-b4ca-1d844938cf45",
   "metadata": {},
   "outputs": [],
   "source": [
    "# Anhängen weiterer Komponenten an einen bestehenden Vektor\n",
    "(y1 = append(x, c(10,11), after=5))\n",
    "(y2 = c(-1, 0, x, 10))"
   ]
  },
  {
   "cell_type": "code",
   "execution_count": null,
   "id": "45f37b76-2622-4f30-ab44-31f1b453458b",
   "metadata": {},
   "outputs": [],
   "source": [
    "# Ausgabe der resultierenden Vektoren\n",
    "y1\n",
    "y2"
   ]
  },
  {
   "cell_type": "code",
   "execution_count": null,
   "id": "34939e34-8d03-4e61-a4c5-1b95a6629988",
   "metadata": {},
   "outputs": [],
   "source": [
    "# Vergleich der Werte in a, ob diese > 4 sind\n",
    "a > 4\n",
    "# Vergleich der Werte in a, ob diese gleich 3 sind\n",
    "a == 3"
   ]
  },
  {
   "cell_type": "code",
   "execution_count": null,
   "id": "f67e72ec-2932-48ce-bac5-e239f26bf134",
   "metadata": {},
   "outputs": [],
   "source": [
    "a\n",
    "# Wie viele Vektor-Komponenten sind grösser als 3\n",
    "sum(a>3)"
   ]
  },
  {
   "cell_type": "code",
   "execution_count": null,
   "id": "bdba2e81-08ec-406b-84d8-67dc704bbd44",
   "metadata": {},
   "outputs": [],
   "source": [
    "# Welche Vektor-Komponenten sind groesser als 2.5 sowie deren Werte\n",
    "# Variante 1 - which Funktion\n",
    "which(a>2.5) "
   ]
  },
  {
   "cell_type": "code",
   "execution_count": null,
   "id": "99ccf1eb-3bcd-4ec0-9ad9-c9b4fae2a39e",
   "metadata": {},
   "outputs": [],
   "source": [
    "# Variante 2 - direkt über den Vektor\n",
    "a[a>2.5]"
   ]
  },
  {
   "cell_type": "markdown",
   "id": "09600cb2-c8d9-4683-bbf1-8ef312eb2196",
   "metadata": {
    "tags": []
   },
   "source": [
    "### NEU: Weitere nützliche Funktionen und Beispiele\n",
    "\n",
    "* `seq(from, to, by)` Generiert eine Sequenz\n",
    "* `:` Colon Operator: generiert eine reguläre Sequenz (d.h. Sequenz in Einerschritten). Diese kann sowohl aufwärts (1:x) oder abwärts (x:1) genutzt werden.\n",
    "* `rep(x, times, each)` Wiederholt x \n",
    "    * `times`: die Sequenz wird n-mal wiederholt \n",
    "    * `each`: jedes Element wird n-mal wiederholt\n",
    "* `head(x, n = 6)` Zeigt die n ersten Elemente von x an\n",
    "* `tail(x, n = 6)` Zeigt die n letzten Elemente von x an"
   ]
  },
  {
   "cell_type": "code",
   "execution_count": null,
   "id": "6a4f5405-6750-4d2a-aa2a-7c8d68a7114b",
   "metadata": {},
   "outputs": [],
   "source": [
    "# concatenate Funktion\n",
    "c(1, 2, 3, 4, 5, 6)"
   ]
  },
  {
   "cell_type": "code",
   "execution_count": null,
   "id": "f8990124-5eda-450c-a23c-e52075fab66d",
   "metadata": {},
   "outputs": [],
   "source": [
    "# Sequenz von 1 bis 6 mit 1er Schrittweite\n",
    "seq(from = 1, to = 6, by = 1)"
   ]
  },
  {
   "cell_type": "code",
   "execution_count": null,
   "id": "5413ac98-0fb7-46d7-9da4-fc3bdc3191e4",
   "metadata": {},
   "outputs": [],
   "source": [
    "# Sequenz 1 bis 6\n",
    "1:6"
   ]
  },
  {
   "cell_type": "code",
   "execution_count": null,
   "id": "cf965e9e-69b9-4de2-b3c3-68d4070c8f91",
   "metadata": {},
   "outputs": [],
   "source": [
    "# Sequenz 1 bis 6, zweimal wiederholt\n",
    "rep(1:6, times = 2)"
   ]
  },
  {
   "cell_type": "code",
   "execution_count": null,
   "id": "5408f19b-f165-4636-9d68-b1490574a868",
   "metadata": {},
   "outputs": [],
   "source": [
    "# Sequenz 1 bis 6, jede Zahl wird zweimal wiederholt\n",
    "rep(1:6, each = 2)"
   ]
  },
  {
   "cell_type": "code",
   "execution_count": null,
   "id": "0560bdd7-af56-4c9d-a6fe-b0c0bfea2e2c",
   "metadata": {},
   "outputs": [],
   "source": [
    "# Sequenz 1 bis 6, zweimal, jede Zahl wird zweimal wiederholt\n",
    "rep(1:6, times = 2, each = 2)"
   ]
  },
  {
   "cell_type": "markdown",
   "id": "7976da7e-e2d2-4f11-b852-5e083e11f119",
   "metadata": {},
   "source": [
    "### NEU: Statistische Funktionen\n",
    "\n",
    "Hier ist eine Auflistung statistischer Funktionen. Diese Funktionen haben alle das Argument na.rm, welches standardmässig den Wert FALSE annimmt. Damit können fehlende Werte berücksichtigt werden, d.h. fehlende Werte (na = not available/NA) werden in diesem Fall nicht entfernt (rm = remove). Diese Funktionen können alle auf einen Vektor angewandt werden (siehe weiter unten).\n",
    "\n",
    "* `mean(x, na.rm = FALSE)` Mittelwert\n",
    "* `sd(x)` Standardabweichung\n",
    "* `var(x)` Varianz\n",
    "* `median(x)` Median\n",
    "* `quantile(x, probs)` Quantile von x.  probs: Vektor mit Wahrscheinlichkeiten\n",
    "* `sum(x)` Summe\n",
    "* `min(x)` Minimalwert x_min\n",
    "* `max(x)` Maximalwert x_max\n",
    "* `range(x)` x_min und x_max"
   ]
  },
  {
   "cell_type": "code",
   "execution_count": null,
   "id": "2c8939cd-fef9-4b2e-bde1-93d9de316a2f",
   "metadata": {},
   "outputs": [],
   "source": [
    "meinVector <- c(1, 2, 3, 4, 5, 6)"
   ]
  },
  {
   "cell_type": "code",
   "execution_count": null,
   "id": "5240bff1-56d7-42e4-b22c-be6683b50f98",
   "metadata": {},
   "outputs": [],
   "source": [
    "mean(meinVector)"
   ]
  },
  {
   "cell_type": "code",
   "execution_count": null,
   "id": "c470764b-0aff-430e-b526-87039472cf4d",
   "metadata": {},
   "outputs": [],
   "source": [
    "mean(meinVector, na.rm = TRUE)"
   ]
  },
  {
   "cell_type": "code",
   "execution_count": null,
   "id": "aad0f9a3-a87c-419d-8f14-a5c8987c868a",
   "metadata": {},
   "outputs": [],
   "source": [
    "mean(meinVector, na.rm = FALSE)"
   ]
  },
  {
   "cell_type": "code",
   "execution_count": null,
   "id": "fd5bf934-23de-4e70-9613-c0a0a4e64c42",
   "metadata": {},
   "outputs": [],
   "source": [
    "sd(meinVector)"
   ]
  },
  {
   "cell_type": "code",
   "execution_count": null,
   "id": "8da306b8-ebf2-4136-9035-b136450b3fdb",
   "metadata": {},
   "outputs": [],
   "source": [
    "sum(meinVector)"
   ]
  },
  {
   "cell_type": "code",
   "execution_count": null,
   "id": "2e0bd046-64b5-40c7-be3f-bb2be32c7e83",
   "metadata": {},
   "outputs": [],
   "source": [
    "min(meinVector)"
   ]
  },
  {
   "cell_type": "code",
   "execution_count": null,
   "id": "81183dc1-bd26-4b9f-a18d-3108ab661492",
   "metadata": {},
   "outputs": [],
   "source": [
    "range(meinVector)"
   ]
  },
  {
   "cell_type": "markdown",
   "id": "8d4e607f-9355-49be-99a5-bdb7e57b4103",
   "metadata": {},
   "source": [
    "### Übung 1.2 - weiter Funktionen\n",
    "\n",
    "![Übungsaufgabe](../Pics/excercise.png \"Übungsaufgabe\")\n",
    "\n",
    "1. Erzeugen Sie eine Sequenz von 0 bis 100 in 5-er Schritten.\n",
    "2. Berechnen Sie den Mittelwert des Vektors [1, 3, 4, 7, 11, 2].\n",
    "3. Lassen Sie sich die Spannweite $x_{max} - x_{min}$ dieses Vektors ausgeben.\n",
    "4. Berechnen Sie die Summe dieses Vektors.\n",
    "5.Generieren Sie einen Vektor, der aus 100 Wiederholungen der Zahl 3 besteht."
   ]
  },
  {
   "cell_type": "code",
   "execution_count": null,
   "id": "0f9e31f9-053e-4dd1-a56c-546426d05858",
   "metadata": {},
   "outputs": [],
   "source": [
    "# Hier kommt Ihr Source Code hin:\n"
   ]
  },
  {
   "cell_type": "markdown",
   "id": "2261f497-0947-4e37-98d6-600d5539387b",
   "metadata": {},
   "source": [
    "## Datenstrukturen: Matrizen und Arrays"
   ]
  },
  {
   "cell_type": "markdown",
   "id": "24b4f646-4964-4136-892a-2bb7f70176e7",
   "metadata": {},
   "source": [
    "### Erstellen von Matrizen und Arrays"
   ]
  },
  {
   "cell_type": "code",
   "execution_count": null,
   "id": "4fdf03ba-969a-4366-9cd5-08273228e2d8",
   "metadata": {},
   "outputs": [],
   "source": [
    "# Matrix == Anordnung mehrerer Vektoren in einer Tabelle\n",
    "# Array == beliebige Dimension\n",
    "gewicht <- c(56, 63, 80, 49, 75)\n",
    "groesse <- c(1.64, 1.73, 1.85, 1.6, 1.81) \n",
    "alter <- c(22, 21.5, 24, 28, 39)"
   ]
  },
  {
   "cell_type": "code",
   "execution_count": null,
   "id": "82c321e3-efab-496a-9e1c-a6279627af8d",
   "metadata": {},
   "outputs": [],
   "source": [
    "#spaltenweise (c = columns) zusammenbinden\n",
    "# hierfür nutzen wir dei Funktion cbind() --> column bind\n",
    "Spalte <- cbind(alter, gewicht, groesse) ## alter gewicht groesse\n",
    "Spalte"
   ]
  },
  {
   "cell_type": "markdown",
   "id": "0e24d2d8-395f-481e-ad44-d9cc848cd3b9",
   "metadata": {},
   "source": [
    "Erzeugt die folgende Tabelle:\n",
    "\n",
    "| alter| gewicht| groesse|\n",
    "|-----:|-------:|-------:|\n",
    "|  22.0|      56|    1.64|\n",
    "|  21.5|      63|    1.73|\n",
    "|  24.0|      80|    1.85|\n",
    "|  28.0|      49|    1.60|\n",
    "|  39.0|      75|    1.81|"
   ]
  },
  {
   "cell_type": "code",
   "execution_count": null,
   "id": "7832de54-f86f-4218-a8d4-21356e2e796c",
   "metadata": {},
   "outputs": [],
   "source": [
    "# zeilenweise (r = rows) zusammenbinden\n",
    "Zeile <- rbind(alter, gewicht, groesse)\n",
    "Zeile"
   ]
  },
  {
   "cell_type": "markdown",
   "id": "3b5ed0d1-f723-4787-a82a-47217f3ef265",
   "metadata": {},
   "source": [
    "Erzeugt die folgende Tabelle:\n",
    "\n",
    "|        |      |      |      |     |      |\n",
    "|:-------|-----:|-----:|-----:|----:|-----:|\n",
    "|alter   | 22.00| 21.50| 24.00| 28.0| 39.00|\n",
    "|gewicht | 56.00| 63.00| 80.00| 49.0| 75.00|\n",
    "|groesse |  1.64|  1.73|  1.85|  1.6|  1.81|\n",
    "\n",
    "Der Zugriff auf Matrizen erfolgt analog zu Vektoren: \n",
    "`Spalte[n, m]` entspricht dem Eintrag in der n−ten Zeile und der m−ten Spalte.\n",
    "\n",
    "![Matrix](../Pics/matrix.png \"Matrix\")"
   ]
  },
  {
   "cell_type": "code",
   "execution_count": null,
   "id": "ce1092d3-942c-49ca-91ff-72a5c3605abe",
   "metadata": {},
   "outputs": [],
   "source": [
    "Spalte[5,1]"
   ]
  },
  {
   "cell_type": "code",
   "execution_count": null,
   "id": "8df4a032-e73e-4eb2-9641-18902f32f338",
   "metadata": {},
   "outputs": [],
   "source": [
    "Spalte[1,]"
   ]
  },
  {
   "cell_type": "code",
   "execution_count": null,
   "id": "74b2898c-8301-4aa6-87c1-60b9c33197f4",
   "metadata": {},
   "outputs": [],
   "source": [
    "Spalte[c(1,3,5),]"
   ]
  },
  {
   "cell_type": "code",
   "execution_count": null,
   "id": "a6ae5a1a-f1b2-4639-8b42-2a246a49cf06",
   "metadata": {},
   "outputs": [],
   "source": [
    "# Namen vergeben\n",
    "colnames(Spalte)"
   ]
  },
  {
   "cell_type": "code",
   "execution_count": null,
   "id": "b406b7d6-d4c7-40a8-a021-9ae00fdd7749",
   "metadata": {},
   "outputs": [],
   "source": [
    "namen = c(\"Gerda\", \"Karin\", \"Hans\", \"Doris\", \"Ludwig\") \n",
    "rownames(Spalte) = namen\n",
    "\n",
    "Spalte"
   ]
  },
  {
   "cell_type": "code",
   "execution_count": null,
   "id": "2645f5fa-4012-4064-8094-cf29dc3e006e",
   "metadata": {},
   "outputs": [],
   "source": [
    "Spalte[\"Doris\", \"gewicht\"]\n",
    "\n",
    "Spalte[4,2]"
   ]
  },
  {
   "cell_type": "markdown",
   "id": "e5c794d7-f35d-40ec-86fe-abc2fddfe98f",
   "metadata": {},
   "source": [
    "### Funktionen zum Arbeiten mit Matrizen oder Arrays"
   ]
  },
  {
   "cell_type": "code",
   "execution_count": null,
   "id": "7233bc1e-2570-4003-a44a-ae214f6831f8",
   "metadata": {},
   "outputs": [],
   "source": [
    "# hilfreiche Funktionen zum Arbeiten mit Matrizen oder Arrays\n",
    "# Wie viele Element (Zellen) enthält die Matrix?\n",
    "length(Spalte)"
   ]
  },
  {
   "cell_type": "code",
   "execution_count": null,
   "id": "ffa25b6c-a054-4f8c-add0-e2138e2c5bcf",
   "metadata": {},
   "outputs": [],
   "source": [
    "# Wie viele Spalten / Zeilen enthält die Matrix?\n",
    "dim(Spalte)"
   ]
  },
  {
   "cell_type": "code",
   "execution_count": null,
   "id": "22351999-7935-4324-900f-a640229d5588",
   "metadata": {},
   "outputs": [],
   "source": [
    "# structure Funktion\n",
    "str(Spalte)"
   ]
  },
  {
   "cell_type": "code",
   "execution_count": null,
   "id": "65aabea0-aba3-40a4-9e37-6fd1958a0d4b",
   "metadata": {},
   "outputs": [],
   "source": [
    "# Alternative Erzeugung einer Matrix aus einem Vektor\n",
    "# Beispiel hier: Ein Vektor x mit den Zahlen 1 bis 12\n",
    "\n",
    "x = 1:12\n",
    "matrix(data <- x, nrow=3)\n",
    "\n",
    "matrix(data <- x, ncol=3)"
   ]
  },
  {
   "cell_type": "markdown",
   "id": "ffa39773-e96a-4c90-a9d7-fa1b2c93fcd3",
   "metadata": {},
   "source": [
    "## Datenstrukturen: Data Frames"
   ]
  },
  {
   "cell_type": "markdown",
   "id": "0bada2ab-6871-40a6-8c4a-dd70205471d3",
   "metadata": {},
   "source": [
    "### Einen Data Frame erstellen"
   ]
  },
  {
   "cell_type": "code",
   "execution_count": null,
   "id": "1f2910b2-cbbf-4e3d-ba7e-af16dc67ce75",
   "metadata": {},
   "outputs": [],
   "source": [
    "# häufigste Verwendungsform für statistische Daten\n",
    "# Matrix-ähnliche Struktur für verschiedene Datentypen\n",
    "\n",
    "gewicht <- c(56, 63, 80, 49, 75)\n",
    "groesse <- c(1.64, 1.73, 1.85, 1.6, 1.81) \n",
    "alter <- c(22, 21.5, 24, 28, 39)"
   ]
  },
  {
   "cell_type": "code",
   "execution_count": null,
   "id": "9e8d07f7-4f9e-43f9-a3ea-931239087b9c",
   "metadata": {},
   "outputs": [],
   "source": [
    "#spaltenweise (c = columns) zusammenbinden\n",
    "Spalte <- cbind(alter, gewicht, groesse) ## alter gewicht groesse"
   ]
  },
  {
   "cell_type": "code",
   "execution_count": null,
   "id": "8a9c6db1-91f7-4c2b-bba9-607fdfe8890f",
   "metadata": {},
   "outputs": [],
   "source": [
    "# Die Daten im Data Frame \"Spalte\" ausgeben\n",
    "Spalte"
   ]
  },
  {
   "cell_type": "code",
   "execution_count": null,
   "id": "05028cdb-dc85-4e72-a656-d0c2af3fc47e",
   "metadata": {},
   "outputs": [],
   "source": [
    "# Vector mit den Daten zum \"Geschlecht\" erstellen\n",
    "Geschlecht <- c(\"weiblich\",\"weiblich\",\"männlich\",\"weiblich\",\"männlich\")"
   ]
  },
  {
   "cell_type": "code",
   "execution_count": null,
   "id": "d422d107-ec5f-4eb0-9857-ec33be3e3550",
   "metadata": {},
   "outputs": [],
   "source": [
    "# Die Daten aus der Matrix \"Spalte\" und die Daten \n",
    "# aus dem Vektor Geschlecht zu einem Data Frame zusammenführen\n",
    "mein_df <- data.frame(Spalte,Geschlecht)"
   ]
  },
  {
   "cell_type": "code",
   "execution_count": null,
   "id": "bc0f37e8-a4fa-4c73-af31-b12e4d78bc17",
   "metadata": {},
   "outputs": [],
   "source": [
    "# Ausgabe des Data Frames daten\n",
    "mein_df"
   ]
  },
  {
   "cell_type": "code",
   "execution_count": null,
   "id": "0446ea65-352b-4b01-a57b-ca84fd25d79a",
   "metadata": {},
   "outputs": [],
   "source": [
    "# Man kann sich noch weitere Infos zum Data Frame daten ausgeben lassen:\n",
    "# Die Struktur des Data Frames\n",
    "str(mein_df)"
   ]
  },
  {
   "cell_type": "code",
   "execution_count": null,
   "id": "86054f15-5bef-4ed1-93fa-96cc5831dd6f",
   "metadata": {},
   "outputs": [],
   "source": [
    "# Die Dimensionen des Data Frames (Zeilen x Spalten)\n",
    "dim(mein_df)"
   ]
  },
  {
   "cell_type": "markdown",
   "id": "a3b775a5-9b3b-4831-b972-375e184c1622",
   "metadata": {
    "caption": "Data Frames",
    "label": "fig:df",
    "tags": [],
    "widefigure": true
   },
   "source": [
    "### Zugriff auf Data Frames\n",
    "\n",
    "Oftmals ist es notwendig, nur auf spezifische Zeilen bzw. Spalten des Data Frames zurückzugreifen - dies ist analog zu den Matritzen oben.\n",
    "\n",
    "![Zugriff auf Data Frames](../Pics/data_frame.jpg \"Data Frame\")"
   ]
  },
  {
   "cell_type": "code",
   "execution_count": null,
   "id": "ec3eca2e-417b-426b-836d-b718a445a279",
   "metadata": {},
   "outputs": [],
   "source": [
    "# Zugriff auf Data Frames und ihre Spalten über den \"$\" Operator und dem zug\n",
    "# Namen der Spalte.\n",
    "\n",
    "mein_df$gewicht\n",
    "mein_df$groesse"
   ]
  },
  {
   "cell_type": "code",
   "execution_count": null,
   "id": "8fcfa09f-f35b-4225-a6fc-1844ee2a9b4d",
   "metadata": {},
   "outputs": [],
   "source": [
    "mein_df[,\"gewicht\"]"
   ]
  },
  {
   "cell_type": "code",
   "execution_count": null,
   "id": "e432bf7e-d9ba-403d-84a2-b7b195373eec",
   "metadata": {},
   "outputs": [],
   "source": [
    "mein_df[\"Doris\",]"
   ]
  },
  {
   "cell_type": "code",
   "execution_count": null,
   "id": "d57f0922-3be0-4e58-8e92-4a52722ba340",
   "metadata": {},
   "outputs": [],
   "source": [
    "mein_df[4,]"
   ]
  },
  {
   "cell_type": "markdown",
   "id": "425e6562-95b1-4838-8eb2-4695c2098346",
   "metadata": {},
   "source": [
    "### Zugriff mittels attach() Funktion"
   ]
  },
  {
   "cell_type": "code",
   "execution_count": null,
   "id": "5ec73b72-bde8-44d0-83de-f1850e7f77ae",
   "metadata": {},
   "outputs": [],
   "source": [
    "# direkter Zugriff auf Unterelemente mittels Suchpfad durch die\n",
    "# attach() Funktion setzen\n",
    "attach(mein_df)\n",
    "# Nun kann man direkt auf die Daten und Spalten zugreifen\n",
    "gewicht"
   ]
  },
  {
   "cell_type": "code",
   "execution_count": null,
   "id": "feabf052-e1b6-4dec-9a24-3fceb0d648e3",
   "metadata": {},
   "outputs": [],
   "source": [
    "# Suchpfad fuer Objekt \"daten\" wieder loeschen\n",
    "detach(mein_df)\n",
    "# Zugriff auf Unterelemente wieder nur via objekt$unterobjekt \n",
    "mein_df$gewicht"
   ]
  },
  {
   "cell_type": "markdown",
   "id": "0a05b586-cfa5-4a64-aee9-4cf6e1ef89fd",
   "metadata": {
    "tags": []
   },
   "source": [
    "### Arbeiten mit Faktoren\n",
    "Die bisher vorgestellten zusammengesetzten Datentypen wie Vektoren, Felder, Listen oder Data Frames kann man auch als Container auffassen: Sie dienen dazu, Tupel von Zahlen (oder Zeichenketten) nach gewissen Regeln abzuspeichern. Je nachdem welcher innere Zusammenhang zwischen den Komponenten besteht und wie man sie weiterverarbeiten möchte, wird man den einen oder anderen Container auswählen. Mit Faktoren wird ein Container angeboten, der schon eine Auswertung beinhaltet: Die Daten werden gruppiert (oder wie man auch sagt: in Klassen eingeteilt) – so wie etwa jedem Datum ein bestimmter Wochentag zugeordnet werden kann.\n",
    "\n",
    "**Mehr unter folgender URLs:** \n",
    "* <http://de.jberries.com/artikel/faktoren-in-r-der-datentyp-factor-86> \n",
    "* <https://de.jberries.com/artikel/faktoren-in-r-anwendungen-92>\n"
   ]
  },
  {
   "cell_type": "code",
   "execution_count": null,
   "id": "036bb7e8-e30b-44db-a3bd-ab5c45f4309b",
   "metadata": {
    "tags": []
   },
   "outputs": [],
   "source": [
    "# Erstelle einen Vector x, der jeweils 10 mal die Ziffer 1 und \n",
    "# 10 mal die Ziffer 2 enthält\n",
    "x <- c(rep(1 ,10) , rep(2 ,10))"
   ]
  },
  {
   "cell_type": "code",
   "execution_count": null,
   "id": "2b2a9960-41fc-4bf2-b5ce-672d5c8b84a8",
   "metadata": {
    "tags": []
   },
   "outputs": [],
   "source": [
    "# Umwandlung des Vektors x in eine Faktorvariable\n",
    "geschl.factor.labeled <- factor(x, labels=c(\"w\", \"m\"))"
   ]
  },
  {
   "cell_type": "code",
   "execution_count": null,
   "id": "40806db3-6504-4b13-af84-fb68c1a7aa2e",
   "metadata": {
    "tags": []
   },
   "outputs": [],
   "source": [
    "# ... und Ausgabe der Faktorvariable\n",
    "geschl.factor.labeled"
   ]
  },
  {
   "cell_type": "code",
   "execution_count": null,
   "id": "5ad8ed20-ba9a-4a81-99d7-a7a7df294865",
   "metadata": {
    "tags": []
   },
   "outputs": [],
   "source": [
    "# Auf Nummer sicher: Ist es auch wirlich ein Factor?\n",
    "s.factor(geschl.factor.labeled)"
   ]
  },
  {
   "cell_type": "code",
   "execution_count": null,
   "id": "7cbe6948-9642-4787-89ae-73c0a7da4ca3",
   "metadata": {},
   "outputs": [],
   "source": [
    "# Über die Funktion levels() lassen sich die Faktorstufen einer bestehenden \n",
    "# Faktorvariablen im Nachhinein noch verändern:\n",
    "levels(geschl.factor.labeled) <- c(\"weiblich\", \"männlich\")\n",
    "geschl.factor.labeled"
   ]
  },
  {
   "cell_type": "markdown",
   "id": "a7d73a3f-dc4c-48da-86e9-b91c7773d948",
   "metadata": {},
   "source": [
    "Die Funktion `split()` hat einen Vektor mit Hilfe der Level eines Faktors in eine Liste verwandelt, wobei jede Komponente der Liste derjenige Teilvektor ist, der dem Level zugeordnet ist. Mit der Funktion`unlist()` kann man aus der Liste den Vektor wieder zurückgewinnen:"
   ]
  },
  {
   "cell_type": "code",
   "execution_count": null,
   "id": "ccd85d8e-f859-4cdd-9585-8c7aa9b7e4ed",
   "metadata": {
    "tags": []
   },
   "outputs": [],
   "source": [
    "# Aufsplitten mittels split()\n",
    "my_parts <- split(x = x, f = geschl.factor.labeled)\n",
    "# Parts ausgeben\n",
    "my_parts\n",
    "# Zählen der Parts pro Faktor --> wie viele gibt es pro Faktor\n",
    "lengths(my_parts)"
   ]
  },
  {
   "cell_type": "code",
   "execution_count": null,
   "id": "a2825f21-4fa4-40b4-9ab9-adc3d06599fa",
   "metadata": {},
   "outputs": [],
   "source": [
    "# Zusammenfassung der Parts mittels unsplit in einen neune Vektor v\n",
    "v <- unsplit(value = my_parts, f = geschl.factor.labeled)\n",
    "# Vektor v ausgeben\n",
    "v\n",
    "# Struktur von v ausgeben\n",
    "str(v)"
   ]
  },
  {
   "cell_type": "markdown",
   "id": "36c3e1cd-20b3-4293-8ca7-832af9bfe4d3",
   "metadata": {},
   "source": [
    "### Alternative Dateneingabe (funtioniert nur in RStudio)\n",
    "In RStudio kann man auch über die GUI direkt Daten eingeben. Dies geht allerdings nicht in Jupyter. Der unten genannte Code wird hier eine Fehlermeldung erzugen."
   ]
  },
  {
   "cell_type": "code",
   "execution_count": null,
   "id": "a3c2ceb9-1d51-430a-b114-75233597ca48",
   "metadata": {},
   "outputs": [],
   "source": [
    "# 1. Leeren Data Frame anlegen\n",
    "mydata <- data.frame()\n",
    "# 2. Beispielsweise Daten über Data Editor manuell eingeben\n",
    "# mydata <- edit(mydata)\n",
    "# Hinweis MacOS: XQuartz von xquartz.macosforge.org wird benötigt"
   ]
  },
  {
   "cell_type": "code",
   "execution_count": null,
   "id": "b7d140d1-94f1-408e-b92a-df1ef126a9d1",
   "metadata": {},
   "outputs": [],
   "source": [
    "# weitere nützliche Befehle\n",
    "#head(mydata)\n",
    "#fix(mydata)\n",
    "#View(mydata)"
   ]
  },
  {
   "cell_type": "code",
   "execution_count": null,
   "id": "87708868-a65f-4d83-9f00-d5a2bdf6206d",
   "metadata": {},
   "outputs": [],
   "source": [
    "#save(mydata, file <- \"mydata.RData\")\n",
    "#load(\"mydata.RData\")"
   ]
  },
  {
   "cell_type": "markdown",
   "id": "c4d556b1-c7e1-4032-b5d9-b06465d596b3",
   "metadata": {},
   "source": [
    "### Beispiel: Plot von Daten aus einem Data Frame"
   ]
  },
  {
   "cell_type": "code",
   "execution_count": null,
   "id": "97d7a91a-39ac-46f2-91e7-07b786012279",
   "metadata": {},
   "outputs": [],
   "source": [
    "# Ausgabe als Boxplot\n",
    "boxplot(daten$gewicht~daten$Geschlecht, main = \"Gewicht\")"
   ]
  },
  {
   "cell_type": "code",
   "execution_count": null,
   "id": "26859f82-53bc-4e8a-9879-f202ffd159c3",
   "metadata": {},
   "outputs": [],
   "source": [
    "plot(daten)"
   ]
  },
  {
   "cell_type": "code",
   "execution_count": null,
   "id": "609f9cfd-46ff-4390-8f90-2f55325f9652",
   "metadata": {},
   "outputs": [],
   "source": [
    "# und ganz fancy mit plotly:\n",
    "# https://plotly.com/r/box-plots/\n",
    "\n",
    "library(plotly)\n",
    "fig <- plot_ly(y = daten$gewicht, x = ~daten$Geschlecht, type = \"box\")\n",
    "fig"
   ]
  },
  {
   "cell_type": "markdown",
   "id": "622db899-f81a-42b4-af00-f461824d1d0f",
   "metadata": {
    "tags": []
   },
   "source": [
    "### Übung 1.3: Arbeiten mit Data Frames\n",
    "\n",
    "![Übungsaufgabe](../Pics/excercise.png \"Übungsaufgabe\")\n",
    "\n",
    "**Folgende kleine Aufgaben an Sie:**\n",
    "\n",
    "1. Erstellen Sie einen Vektor `meine_Zahlen` mit den Zahlen 20 runter bis zur 1 (Bitte dabei die Reihenfolge beachten).\n",
    "2. Erstellen Sie einen zweiten Vektor (`meine_Buchstaben`), der die Buchstaben A, B, C und D enthält. Der Vektor soll auch insgesamt 20 Elemente enthalten. Die Anzahl der einzelnen Buchstaben ist dabei egal.\n",
    "3. Wandeln Sie den Vektor `meine_Buchstaben` in einen Vektor vom Typ Factor um. Folgende Übersetzung:\n",
    "    * A -> grün\n",
    "    * B -> gelb\n",
    "    * C -> rot\n",
    "    * D -> blau\n",
    "4. Zählen die Ausprägungen der einzelnen Farben (Faktoren) einmal tabellarisch zusammen.\n",
    "5. Erstellen Sie aus den Vektoren `meine_Zahlen` und dem foktorisierten Vektor `meine_Buchstaben` einen Data Frame mit dem Namen `mein.df`."
   ]
  },
  {
   "cell_type": "code",
   "execution_count": null,
   "id": "682c1df3-1e24-4ce2-938b-2103344ca505",
   "metadata": {},
   "outputs": [],
   "source": [
    "# Hier kommt Ihr Source Code hin:\n"
   ]
  },
  {
   "cell_type": "markdown",
   "id": "1751a43c-2c25-482f-8625-12ac7fe2eb9b",
   "metadata": {},
   "source": [
    "# Lösungen\n",
    "\n",
    "Die Lösungen zu den Übungen finden Sie in der *Datei <a href=\"R-Kenntnis LSG Übung 01 und 02.ipynb\">R-Kenntnis LSG Übung 01 und 02.ipynb</a>*. Die Datei wird jeweils nach der Durchsprache der Übung bereitgestellt.\n",
    "\n",
    "<div class=\"alert alert-block alert-info\">\n",
    "<b>Info:</b> Die Datei wird jeweils nach der Durchsprache der Übung bereitgestellt.</div>\n"
   ]
  }
 ],
 "metadata": {
  "authors": [
   {
    "name": "Prof.Dr. Denis Royer"
   }
  ],
  "celltoolbar": "Edit Metadata",
  "kernelspec": {
   "display_name": "R",
   "language": "R",
   "name": "ir"
  },
  "language_info": {
   "codemirror_mode": "r",
   "file_extension": ".r",
   "mimetype": "text/x-r-source",
   "name": "R",
   "pygments_lexer": "r",
   "version": "4.3.1"
  },
  "latex_envs": {
   "LaTeX_envs_menu_present": true,
   "autoclose": false,
   "autocomplete": true,
   "bibliofile": "biblio.bib",
   "cite_by": "apalike",
   "current_citInitial": 1,
   "eqLabelWithNumbers": true,
   "eqNumInitial": 1,
   "hotkeys": {
    "equation": "Ctrl-E",
    "itemize": "Ctrl-I"
   },
   "labels_anchors": false,
   "latex_user_defs": false,
   "report_style_numbering": false,
   "user_envs_cfg": false
  },
  "latex_metadata": {
   "affiliation": "Ostfalia",
   "author": "Prof. Dr. Denis Royer",
   "title": "R-Kenntnis"
  },
  "toc": {
   "base_numbering": 1,
   "nav_menu": {},
   "number_sections": true,
   "sideBar": true,
   "skip_h1_title": false,
   "title_cell": "Inhaltsverzeichnis",
   "title_sidebar": "Contents",
   "toc_cell": false,
   "toc_position": {},
   "toc_section_display": true,
   "toc_window_display": false
  },
  "toc-autonumbering": true,
  "toc-showmarkdowntxt": false,
  "varInspector": {
   "cols": {
    "lenName": 16,
    "lenType": 16,
    "lenVar": 40
   },
   "kernels_config": {
    "python": {
     "delete_cmd_postfix": "",
     "delete_cmd_prefix": "del ",
     "library": "var_list.py",
     "varRefreshCmd": "print(var_dic_list())"
    },
    "r": {
     "delete_cmd_postfix": ") ",
     "delete_cmd_prefix": "rm(",
     "library": "var_list.r",
     "varRefreshCmd": "cat(var_dic_list()) "
    }
   },
   "types_to_exclude": [
    "module",
    "function",
    "builtin_function_or_method",
    "instance",
    "_Feature"
   ],
   "window_display": false
  }
 },
 "nbformat": 4,
 "nbformat_minor": 5
}

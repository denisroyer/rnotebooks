{
 "cells": [
  {
   "cell_type": "markdown",
   "id": "918e91f3-ff38-47b8-9ca1-416d4e85899f",
   "metadata": {},
   "source": [
    "![R-Kenntnis](../Pics/header.png \"R-Kenntnis\")\n",
    "\n",
    "<img src=\"https://img.shields.io/badge/--Kenntnis-blue?style=flat-square&logo=r&logoColor=white\"/> <a href=\"https://ostfalia.de/w\" target=\"_blank\"><img src=\"https://img.shields.io/badge/Ostfalia-Fakultät%20W-blue?style=flat-square&logo=googlescholar&logoColor=white\"/></a> <img src=\"https://img.shields.io/badge/Semester-WiSe2023%2F24-green?style=flat-square\"/> <img src=\"https://img.shields.io/badge/Copyright-2020--24-orange?style=flat-square\"/> <a href=\"https://creativecommons.org/licenses/by-nc-sa/4.0/\" target=\"_blank\"><img src=\"https://img.shields.io/badge/License-by--nc--sa-red?style=flat-square\"/></a> \n",
    "\n",
    "<div class=\"alert alert-block alert-info\">\n",
    "<img src=\"https://img.shields.io/badge/Information-LSG_Übung_03-blue?style=for-the-badge&logo=bookstack&logoColor=white\">\n",
    "\n",
    "* **Titel:** Lösung zu den Übungen 03: Datenimporte und Datenmanipulation\n",
    "* **Autor:** Prof. Dr. Denis Royer\n",
    "* **Datum:** 16.11.2023 (Version 3.1)\n",
    "\n",
    "</div>\n",
    "\n",
    "![Header_Data](../Pics/header_data.png \"Data\")\n",
    "\n",
    "# BI - R-Kenntnis Lösung zu den Übungen 03: Datenimporte und Datenmanipulation\n",
    "Als Start müssen wir die Packages und die Daten laden, damit die Aufgaben gelöst werden können:"
   ]
  },
  {
   "cell_type": "code",
   "execution_count": null,
   "id": "2cceb6a9-c667-4ca7-9226-54811f22ca73",
   "metadata": {},
   "outputs": [],
   "source": [
    "# Sofern das Paket tidyverse nicht installiert ist, soll es installiert werden. \n",
    "# Die require() Funktion prüft ab, ob das Paket bereits installiert ist. \n",
    "if(!require(\"tidyverse\")) install.packages(\"tidyverse\")\n",
    "# Laden des Pakets tidyverse (lädt stringr, tibble, readr und dplyr)\n",
    "library(tidyverse)\n",
    "library(DT)"
   ]
  },
  {
   "cell_type": "code",
   "execution_count": null,
   "id": "56741f95-5401-4a4b-b31d-4a86c27c4fbe",
   "metadata": {},
   "outputs": [],
   "source": [
    "# Laden der Daten aus der Beispieldatei (nutzt readr)\n",
    "# Wichtig Die Datei nicht vorher mit Excel öffnen!\n",
    "bike.raw <- read_csv(\"../Data/raw_bikeshare_data.csv\")\n",
    "# Kopie der Daten erstellen, so dass man immer noch mal auf die\n",
    "# Originaldaten zugreifen kann (\"... sicher ist sicher...\")\n",
    "bike.df <- bike.raw"
   ]
  },
  {
   "cell_type": "markdown",
   "id": "cab3e0e2-bcd3-4364-9966-167db3682ca2",
   "metadata": {},
   "source": [
    "## Aufgabe: Data Dictionary und Datenstruktur\n",
    "\n",
    "![Übungsaufgabe](../Pics/excercise.png \"Übungsaufgabe\")\n",
    "![](https://img.shields.io/badge/Aufgabe-3.1-blue?style=for-the-badge&logo=r&logoColor=white)\n",
    "\n",
    "Bitte schauen Sie sich die geladenen Daten in der Variable `bike` an und vergleichen Sie die Strukturen mit dem **Data Dictionary** aus den Folien zur Übung:\n",
    "\n",
    "\n",
    "\n",
    "* Welche Dinge Fallen Ihnen auf, wenn Sie sich die Daten mit der Funktion `str(bike)` ausgeben und mit den Inhalten des Data Dictionaries vergleichen?\n",
    "* Welche Anpassungen sind für die Daten notwendig?"
   ]
  },
  {
   "cell_type": "markdown",
   "id": "eb1e55a1-d3b0-4718-a974-f414174c8f2c",
   "metadata": {},
   "source": [
    "<div class=\"alert alert-block alert-success\">\n",
    "<b>Lösungsansatz:</b> \n",
    "\n",
    "* Einige der Datenstrukturen im Data Dictionary sind Skalen - diese müssen angepasst werden.\n",
    "* Einige Fehler müssen bereinigt werden.\n",
    "    \n",
    "</div>"
   ]
  },
  {
   "cell_type": "markdown",
   "id": "af8ea676-7c53-41f9-98a4-587f4b2a5cd2",
   "metadata": {},
   "source": [
    "## Aufgabe: Daten extrahieren\n",
    "\n",
    "Das Marketing benötigt eine Aussage darüber, an welchen Tagen im Frühling und Sommer nur Fahrräder von *Casual* Mietern entliehen wurden. Nutzen Sie die Funktionen aus dem Paket `dplyr` um aus dem `tibble bike.df` alle Vorkommen mit den folgenden Eigenschaften in eine neue Variable (bspw. einen tibble - z.B. `bike_extracted.df`) zu extrahieren: \n",
    "\n",
    "![Übungsaufgabe](../Pics/excercise.png \"Übungsaufgabe\")\n",
    "![](https://img.shields.io/badge/Aufgabe-3.2-blue?style=for-the-badge&logo=r&logoColor=white)\n",
    "* Alle Tage im Frühling und Sommer an denen nur *\"Casual\"* Mieter Fahrräder entliehen haben.\n",
    "* Wie viele Beobachtungen (*\"Observations\"*) gibt es?\n",
    "* Wie sieht Ihr R Source Code? \n",
    "\n",
    "<div class=\"alert alert-block alert-success\">\n",
    "<b>Lösungsansatz</b></div>"
   ]
  },
  {
   "cell_type": "code",
   "execution_count": null,
   "id": "59318ab9-fdee-4916-8e89-cff16895e3bc",
   "metadata": {},
   "outputs": [],
   "source": [
    "# Ausgabe aller Vorkommen in den Daten, für die \n",
    "# Folgendes gilt:\n",
    "# Alle Nutzer die nicht registriert sind (registered == 0)\n",
    "# UND die entweder season ==1 oder season==2 sind.\n",
    "bike_extracted.df <- filter(bike.df, registered == 0, season == 1 | season == 2)\n",
    "DT::datatable(bike_extracted.df)"
   ]
  },
  {
   "cell_type": "markdown",
   "id": "bbad2856-0d43-4631-8482-16851f076f9f",
   "metadata": {},
   "source": [
    "## Aufgabe: Werte in einer Tabelle berechnen\n",
    "\n",
    "Weiterhin will das Marketing wissen, wie hoch die Umsätze an den jeweiligen Tagen waren. Nutzen Sie hierfür die Funktion `dplyr::mutate`, um im `tibble bike_extracted.df` eine neue Spalte einzufügen, die die Umsätze aus den *\"Casual\"* Mietern berechnet:\n",
    "\n",
    "![Übungsaufgabe](../Pics/excercise.png \"Übungsaufgabe\")\n",
    "![](https://img.shields.io/badge/Aufgabe-3.3-blue?style=for-the-badge&logo=r&logoColor=white)\n",
    "* Erstellen Sie die neue Tabelle als Kopie des `data.frame/tibble` *bike_extracted.df*. \n",
    "* Die neue Spalte soll *\"revenue\"* heißen.\n",
    "* Als Wert pro vermietete Einheit sollen *5.00 Euro* angenommen werden (Hinweis: Nachkommaanteile werden mit einem \".\" und nicht mit \",\" abgetrennt)."
   ]
  },
  {
   "cell_type": "markdown",
   "id": "ffb0a7ea-5636-46bd-9cb1-087ffa9171a0",
   "metadata": {},
   "source": [
    "<div class=\"alert alert-block alert-success\">\n",
    "<b>Lösungsansatz:</b></div>"
   ]
  },
  {
   "cell_type": "code",
   "execution_count": null,
   "id": "98d37203-da3c-4a48-83fe-55aa3e3db7ca",
   "metadata": {},
   "outputs": [],
   "source": [
    "add_revenue.df <- mutate(bike_extracted.df, revenue = casual * 5)\n",
    "#Ausgabe der Daten - nur die Spalten 1, 10 und 14)\n",
    "add_revenue.df[c(1,10,14)]"
   ]
  },
  {
   "cell_type": "markdown",
   "id": "e61be60e-d216-46f0-8cbc-6fb74720e7ca",
   "metadata": {},
   "source": [
    "## Aufgabe: Daten zusammenfassen\n",
    "\n",
    "Nutzen Sie die Funktionen `dplyr:group_by` und `dplyr:summarise` aus `dplyr`, um aus der vorher erstellten Tabelle eine Zusammenfassung der Daten für das Marketing zu erstellen.\n",
    "\n",
    "![Übungsaufgabe](../Pics/excercise.png \"Übungsaufgabe\")\n",
    "![](https://img.shields.io/badge/Aufgabe-3.4-blue?style=for-the-badge&logo=r&logoColor=white)\n",
    "* Zusammengefasst werden sollen die Saison (Frühling und Sommer), jeweils über die Werte der Mieter (Casual) und die Einnahmen (revenue)\n",
    "* Hierzu müssen die Daten erst einmal gruppiert werden (`dplyr::group_by()`).\n",
    "* Danach können diese dann zusammengefasst werden.\n",
    "* Wie sieht die Kette der Befehle im Pipe-Syntax aus?\n",
    "* Speichern Sie Ihr Ergebnis als *.csv*-Datei ab."
   ]
  },
  {
   "cell_type": "markdown",
   "id": "f00edb94-ff31-448e-9f34-ee66e5f73b16",
   "metadata": {},
   "source": [
    "<div class=\"alert alert-block alert-success\">\n",
    "<b>Lösungsansatz:</b></div>"
   ]
  },
  {
   "cell_type": "code",
   "execution_count": null,
   "id": "b4d0d625-c00f-4d80-b179-e0ab20419227",
   "metadata": {},
   "outputs": [],
   "source": [
    "grouped.df <- group_by(add_revenue.df, season)\n",
    "report.df <- summarise(grouped.df, sum(casual), sum(revenue))\n",
    "\n",
    "# Ausgabe als Tabelle - \n",
    "report.df"
   ]
  },
  {
   "cell_type": "markdown",
   "id": "29f17a2f-9c1e-4da3-90f3-1d92d1051fa5",
   "metadata": {
    "tags": []
   },
   "source": [
    "## Aufgabe: Fehlerhaft Importierte Einträge finden (`read_csv()`)\n",
    "\n",
    "![Übungsaufgabe](../Pics/excercise.png \"Übungsaufgabe\")\n",
    "![](https://img.shields.io/badge/Aufgabe-3.5-blue?style=for-the-badge&logo=r&logoColor=white)\n",
    "\n",
    "mit der Funktion `problems()` aus dem Paket `readr` lassen sich die problematischen Einträge ausgeben, die beim Export durch `read_csv` detektiert wurden. Diese lassen sich dann im Weiteren bereinigen. \n",
    "\n",
    "* Was sagen die Informationen aus dem Befehl `readr::problems()` aus?\n",
    "* Wie kann man diese bei einer Bereinigung verwenden?\n",
    "* Bereinigen Sie die Fehler aus `readr::problems()`!"
   ]
  },
  {
   "cell_type": "markdown",
   "id": "9fad0199-d321-432e-8604-66355ee6604e",
   "metadata": {},
   "source": [
    "<div class=\"alert alert-block alert-success\">\n",
    "<b>Lösungsansatz:</b></div>"
   ]
  },
  {
   "cell_type": "code",
   "execution_count": null,
   "id": "c0a10a10-cf23-479a-95f9-5072548dd65e",
   "metadata": {},
   "outputs": [],
   "source": [
    "problems(bike.df)"
   ]
  },
  {
   "cell_type": "markdown",
   "id": "6d40842c-200f-45c7-9338-d57c2c3ab892",
   "metadata": {},
   "source": [
    "<div class=\"alert alert-block alert-success\">\n",
    "\n",
    "* Die Ausgabe von `problems()` zeigt, dass in Zeile 14178 des Datensatzes in Spalte 8 eine Fließkommazahl erwartet war.\n",
    "* Der Wert, der tatsächlich gespeichert ist, ist eine Zeichenkette: \"*x61*\"\n",
    "* Im nächsten Schritt konvertieren wir diese und überschreiben den Wert in unseem `data.table` `bike`.\n",
    "</div>"
   ]
  },
  {
   "cell_type": "code",
   "execution_count": null,
   "id": "24984268-9eea-467d-a0af-44ecb7f06ace",
   "metadata": {},
   "outputs": [],
   "source": [
    "# Problem reparieren\n",
    "# Daten aus Problems laden\n",
    "fix_values <- problems(bike.df)\n",
    "# Zeile laden, die wir reparieren wollen. Diese ist an der Stelle\n",
    "# [1,1] in fix_values gespeichert.\n",
    "myvar <- as.integer(fix_values[1,1])\n",
    "# Abschließend setzen wir an der Stelle myvar den Wert für humidity\n",
    "# manuell auf 61, wodurch nun eine Zahl und keine Zeichenkette mehr\n",
    "# im Datensatz steht.\n",
    "bike.df$humidity[myvar] <- 61"
   ]
  },
  {
   "cell_type": "code",
   "execution_count": null,
   "id": "44b033c2-a305-4626-a44d-285113ad1b4f",
   "metadata": {},
   "outputs": [],
   "source": [
    "# Ausgabe des Werts und Überprüfung, ob es nun eine Zahl ist\n",
    "bike.df$humidity[myvar]\n",
    "is.numeric(bike.df$humidity[myvar])"
   ]
  },
  {
   "cell_type": "markdown",
   "id": "e4631769-d013-4d46-a38d-76eb79ec13c5",
   "metadata": {},
   "source": [
    "## Aufgabe: Fehlende Einträge finden\n",
    "![Übungsaufgabe](../Pics/excercise.png \"Übungsaufgabe\")\n",
    "![](https://img.shields.io/badge/Aufgabe-3.6-blue?style=for-the-badge&logo=r&logoColor=white)\n",
    "\n",
    "Ein erster Schritt ist es festzustellen, wie viele Felder keine Einträge besitzen. ***R*** markierte diese leeren Werte bei einem Import mit `read_csv` automatisch mit dem Eintrag ***\"NA\"*** ([en] **n**ot **a**vailable) - somit kann man hiermit diese leeren Werte sehr gut identifizieren (bspw. über die Funktionen `is.na()` oder `str_detect()`)\n",
    "\n",
    "\n",
    "* Was schließen Sie aus den sich ergebende Werten?\n",
    "* Was muss Ihrer Meinung nach getan werden, um dies zu bereinigen?\n"
   ]
  },
  {
   "cell_type": "code",
   "execution_count": null,
   "id": "27fe1f8a-65d2-42aa-942d-6f858fd9973c",
   "metadata": {},
   "outputs": [],
   "source": [
    "# Anzahl der NA Werte im tibble bike als Tabelle darstellen\n",
    "table(is.na(bike.df))\n",
    "\n",
    "# Welche der Variablen (Spalten) enthalten NA-Werte?\n",
    "str_detect(bike.df, \"NA\")"
   ]
  },
  {
   "cell_type": "markdown",
   "id": "ff972db1-fb6f-4c41-a290-816b0d16708d",
   "metadata": {},
   "source": [
    "<div class=\"alert alert-block alert-success\">\n",
    "<b>Lösungsansatz:</b> \n",
    "\n",
    "* Die \"NA\"-Werte sind primär in der Spalte `source` vorhanden\n",
    "* Ggf. ist es sinnvoll, diese direkt zu bereinigen (siehe nächster Schritt)\n",
    "    \n",
    "</div>"
   ]
  },
  {
   "cell_type": "markdown",
   "id": "5a98f292-3e73-4835-968f-f10612cbda25",
   "metadata": {},
   "source": [
    "## Aufgabe: Spalten/Variablen in Faktoren umwandeln\n",
    "![Übungsaufgabe](../Pics/excercise.png \"Übungsaufgabe\")\n",
    "![](https://img.shields.io/badge/Aufgabe-3.7-blue?style=for-the-badge&logo=r&logoColor=white)\n",
    "\n",
    "* Welche Spalten/Variablen sind möglicherweise Skalen? Nutzen Sie hierfür das Data Dictionary.\n",
    "* Welche Skalenniveaus haben die Spalten/Variablen, bzw. in welche müssen diese konvertiert werden?\n",
    "* Wandeln Sie die übrigen Spalten/Variablen in die jeweiligen Skalenniveaus um! Nutzen Sie hierfür die `factor()` Funktion von R."
   ]
  },
  {
   "cell_type": "code",
   "execution_count": null,
   "id": "588446af-a3da-430b-9e15-385ea853b1a4",
   "metadata": {},
   "outputs": [],
   "source": [
    "# Ein Beispiel:\n",
    "# Vor der Umwandlung\n",
    "str(bike.df$holiday)\n",
    "# Umwandlung: 0 = no, 1 = yes\n",
    "bike.df$holiday <- factor(bike.df$holiday, levels = c(0, 1),\n",
    "                       labels = c(\"no\", \"yes\"))\n",
    "# Nach der Umwandlung\n",
    "str(bike.df$holiday)"
   ]
  },
  {
   "cell_type": "markdown",
   "id": "e57a3e55-ac0c-4b36-8743-479e23e9751e",
   "metadata": {},
   "source": [
    "<div class=\"alert alert-block alert-success\">\n",
    "<b>Lösungsansatz:</b></div>"
   ]
  },
  {
   "cell_type": "code",
   "execution_count": null,
   "id": "d21c9058-6edd-4b4e-9df0-8f6e68a5cf53",
   "metadata": {},
   "outputs": [],
   "source": [
    "# Skala: Nominal\n",
    "bike.df$workingday <- factor(bike.df$workingday, levels = c(0, 1),\n",
    "                          labels = c(\"no\", \"yes\"))"
   ]
  },
  {
   "cell_type": "code",
   "execution_count": null,
   "id": "6d5e1b8c-c544-470b-8462-bd9713bf9b2b",
   "metadata": {},
   "outputs": [],
   "source": [
    "# Skala: Ordinal --> sonst alphabetische Sortierung!\n",
    "bike.df$season <- factor(bike.df$season, levels = c(1, 2, 3, 4),\n",
    "                      labels = c(\"spring\", \"summer\",\n",
    "                                 \"fall\", \"winter\"),\n",
    "                      ordered = TRUE )"
   ]
  },
  {
   "cell_type": "code",
   "execution_count": null,
   "id": "c4539e16-e5db-4bcc-89be-bdde8844dfa4",
   "metadata": {},
   "outputs": [],
   "source": [
    "# Skala: Ordinal\n",
    "bike.df$weather <- factor(bike.df$weather, levels = c(1, 2, 3, 4),\n",
    "                       labels = c(\"clr_part_cloud\",\n",
    "                                  \"mist_cloudy\",\n",
    "                                  \"lt_rain_snow\",\n",
    "                                  \"hvy_rain_snow\"),\n",
    "                       ordered = TRUE )"
   ]
  },
  {
   "cell_type": "code",
   "execution_count": null,
   "id": "8892d103-df0f-438d-b251-a7fc038396dc",
   "metadata": {},
   "outputs": [],
   "source": [
    "str(bike.df)"
   ]
  },
  {
   "cell_type": "markdown",
   "id": "72931bfc-665c-4b9d-855a-64a06977fd7e",
   "metadata": {},
   "source": [
    "## Aufgabe: Datenquellen anpassen (`sources`)\n",
    "![Übungsaufgabe](../Pics/excercise.png \"Übungsaufgabe\")\n",
    "![](https://img.shields.io/badge/Aufgabe-3.8-blue?style=for-the-badge&logo=r&logoColor=white)\n",
    "\n",
    "Eine weitere sinnvolle Optimierung ist es, die Anzahl der Qullen in der Spalte `sources` zu reduzieren. \n",
    "Als Faustregel kann man hier den Wert 7 (+/- 2) als Anzahl der Einträge annehmen.\n",
    "\n",
    "* Welche Werte ais `sources` lassen sich ggf. in Gruppen von maximal 7 (+/- 2) Ausprägungen zusammengefasst darstellen?\n",
    "* Gibt es ggf. Merkmale, die dabei helfen, die Daten neu zu gruppieren?\n",
    "* Welche Befehle in ***R*** benötigt man für die Bereinigung? Nutzen SIe hiefür die Unterlagen und die Hilfe von R.\n",
    "* Welchen Datentyp sollte die Variable/Spalte `sources` nach einer Bereinigung bekommen?\n",
    "\n",
    "**Level:** Difficult"
   ]
  },
  {
   "cell_type": "markdown",
   "id": "a6794a69-69d7-49ef-9e4f-db861ef8f056",
   "metadata": {},
   "source": [
    "<div class=\"alert alert-block alert-success\">\n",
    "<b>Lösungsansatz:</b></div>"
   ]
  },
  {
   "cell_type": "code",
   "execution_count": null,
   "id": "a60d8f00-2556-49e9-bf79-7e77d4aaa452",
   "metadata": {},
   "outputs": [],
   "source": [
    "# lubridate installieren/laden\n",
    "if(!require(\"lubridate\")) install.packages(\"lubridate\")\n",
    "library(lubridate)"
   ]
  },
  {
   "cell_type": "code",
   "execution_count": null,
   "id": "1339ba24-d2c0-40a5-8400-938eec843f7c",
   "metadata": {},
   "outputs": [],
   "source": [
    "# Datumsangaben umwandeln:\n",
    "str(bike.df$datetime)\n",
    "bike.df$datetime <- mdy_hm(bike.df$datetime)\n",
    "str(bike.df$datetime)"
   ]
  },
  {
   "cell_type": "code",
   "execution_count": null,
   "id": "bee1c441-8d63-44e0-be55-43d5fc239056",
   "metadata": {},
   "outputs": [],
   "source": [
    "#####################################\n",
    "# Lösungsansatz\n",
    "#####################################\n",
    "# Ausgangszustand\n",
    "source_lables <- unique(bike.df$sources)\n",
    "source_lables\n",
    "length(source_lables)"
   ]
  },
  {
   "cell_type": "code",
   "execution_count": null,
   "id": "ddd23d6e-5340-46da-a8b1-78e92d019225",
   "metadata": {},
   "outputs": [],
   "source": [
    "# Folgende Dinge können getan werden:\n",
    "# - Alle Einträeg in gleicher Form schreiben (klein, keine Leerzeichen, etc.)\n",
    "# - Webseiten/URLs als Kategorie \"website\" zusammenfassen\n",
    "# - alle NA Werte als Kategorie \"unknown\" zusammenfassen\n",
    "\n",
    "# Bezeichnung bereinigen:\n",
    "# - in Kleinschreibung umwandeln\n",
    "bike.df$sources <- tolower(bike.df$sources)"
   ]
  },
  {
   "cell_type": "code",
   "execution_count": null,
   "id": "ecaa11ca-71ec-42ec-9f3c-880339538a1e",
   "metadata": {},
   "outputs": [],
   "source": [
    "# - Leerzeichen weg\n",
    "bike.df$sources <- str_trim(bike.df$sources)"
   ]
  },
  {
   "cell_type": "code",
   "execution_count": null,
   "id": "4ed25c02-3bfd-408d-a65d-f2cff619dc81",
   "metadata": {},
   "outputs": [],
   "source": [
    "# Alle Werte mit NA identifizieren..\n",
    "na_loc <- is.na(bike.df$sources)"
   ]
  },
  {
   "cell_type": "code",
   "execution_count": null,
   "id": "15df8a26-dfc3-485a-91fb-d87b11c66f78",
   "metadata": {},
   "outputs": [],
   "source": [
    "# ... und auf den Wert \"unknown\" setzen\n",
    "bike.df$sources[na_loc] <- \"unknown\""
   ]
  },
  {
   "cell_type": "code",
   "execution_count": null,
   "id": "61c17abb-8e2a-48d4-a029-46b7fd69859e",
   "metadata": {},
   "outputs": [],
   "source": [
    "# In Faktorvariable umwandeln\n",
    "bike.df$sources <- as_factor(bike.df$sources)\n",
    "\n",
    "# Alle Vorkommen mit Webseite identifizieren\n",
    "# hierzu nutzt man bspw. einen Regulären Ausdruck --> siehe unten.\n",
    "# RegEx: <https://www.oreilly.com/library/view/regular-expressions-cookbook/9781449327453/ch08s15.html>\n",
    "web_sites <- \"([a-z0-9]+(-[a-z0-9]+)*\\\\.)+[a-z]{2,}\"\n",
    "\n",
    "# ALTERNATIV kann man natürlich auch alle enthaltenen URLs\n",
    "# für jedes Vorkommen einzeln entfernen oder zusammenfassen. "
   ]
  },
  {
   "cell_type": "markdown",
   "id": "50e241f8-6ed7-4707-bd4f-48263b15dfa0",
   "metadata": {},
   "source": [
    "<div class=\"alert alert-block alert-info\">\n",
    "<b>Tip:</b> Weitere Infos zu den Regulären Ausdrücken (regex) finden Sie im nachfolgenden Abschnitt.</div>\n"
   ]
  },
  {
   "cell_type": "code",
   "execution_count": null,
   "id": "084c7788-8af3-44a4-b65c-6c6147d6182f",
   "metadata": {},
   "outputs": [],
   "source": [
    "# Alle Vorkommen von Webseiten ersetzen!\n",
    "# Hierzu nutzen wir das Suchmuster im String web_sites, welches \n",
    "# wir auf die Werte in der Spalte bike$sources anwenden und das \n",
    "# Ergebnis in die neue Spalte bike$sources_new schreiben.\n",
    "bike.df <- bike.df %>% \n",
    "  mutate(sources_new = str_replace(sources, web_sites, \"web\"))"
   ]
  },
  {
   "cell_type": "code",
   "execution_count": null,
   "id": "c10b7ebb-16de-4ad0-b936-1844fc6ee35b",
   "metadata": {},
   "outputs": [],
   "source": [
    "str(bike.df)"
   ]
  },
  {
   "cell_type": "code",
   "execution_count": null,
   "id": "500527f6-4198-496f-85de-d1f6e3a262df",
   "metadata": {},
   "outputs": [],
   "source": [
    "# Zusammenfassung erzeugen:\n",
    "# Wie viele Ausprägungen haben wir pro Kategorie in der neuen\n",
    "# Spalte  bike$sources_new \n",
    "# Mehr zum %>% / Pipe Syntax in der nächsten Übung (Uebung 04)\n",
    "\n",
    "bike_source_report.df <- bike.df %>% \n",
    "  group_by(sources_new) %>% \n",
    "  summarise(n = n())"
   ]
  },
  {
   "cell_type": "code",
   "execution_count": null,
   "id": "f3038f50-90bb-4abb-9dcc-1cc2e9aee015",
   "metadata": {},
   "outputs": [],
   "source": [
    "# Report erzeugen\n",
    "bike_source_report.df\n",
    "# Anzahl summieren\n",
    "sum(bike_source_report.df$n)"
   ]
  },
  {
   "cell_type": "code",
   "execution_count": null,
   "id": "72241ed5-9616-4597-b332-d574f6afa4e0",
   "metadata": {},
   "outputs": [],
   "source": [
    "# Zustand nach der Bereinigung\n",
    "source_lables <- unique(bike.df$sources_new)\n",
    "length(source_lables)\n",
    "source_lables"
   ]
  },
  {
   "cell_type": "code",
   "execution_count": null,
   "id": "e718f40c-051f-45db-9aaf-f46eec8f7e87",
   "metadata": {},
   "outputs": [],
   "source": [
    "# Daten sichern\n",
    "write.csv(bike.df, \"cleaned_bikeshare_data.csv\", row.names = FALSE)"
   ]
  },
  {
   "cell_type": "code",
   "execution_count": null,
   "id": "3d784d82-8f99-4f94-8b53-403fc1f9b169",
   "metadata": {},
   "outputs": [],
   "source": [
    "# Schreiben einer .xlsx-Datei mit der writexl Library\n",
    "# https://www.geeksforgeeks.org/reading-and-writing-excel-files-with-r-using-readxl-and-writexl/\n",
    "library(writexl)\n",
    "# Über Listen kann man eine Reihe von Daten als Arbeitsblätter mit Beschreibung\n",
    "# in eine Excel Datei speichern. Die einzelnen Arbeitsblätter werden über Kommas in einer \n",
    "# Liste gespeichert - im Beispiel unten sind es die bereinigten Daten und die Originaldaten\n",
    "\n",
    "data.save.xls <- list(\"Bereinigte Daten\" = bike.df, \n",
    "                      \"Original Daten\" = bike.raw\n",
    "                     )\n",
    "write_xlsx(data.save.xls ,\"cleaned_bikeshare_data.xlsx\" ,col_names = TRUE)"
   ]
  },
  {
   "cell_type": "markdown",
   "id": "4f7c8aa5-18bc-428b-a2ac-bd38d03212be",
   "metadata": {
    "tags": []
   },
   "source": [
    "## Exkurs: Reguläre Ausdrücke für Einsteiger\n",
    "\n",
    "**Reguläre Ausdrücke**, oft kurz als \"Regex\" bezeichnet, sind spezielle Muster oder Formeln, mit denen man bestimmte Informationen in einem Text finden kann. Stellen Sie sich das wie eine erweiterte Suchfunktion vor, ähnlich wie das Sternchen (*) in Word oder Excel, wenn Sie nach Dateien suchen. Mit regulären Ausdrücken können Sie aber viel komplexere Suchen durchführen!\n",
    "\n",
    "Ein alltägliches Beispiel: Sie möchten in einem Dokument alle E-Mail-Adressen oder Webseiten-Links herausfiltern. Statt jede Seite einzeln durchzugehen, könnten Sie einen regulären Ausdruck verwenden, um das für Sie automatisch zu tun.\n",
    "\n",
    "Einige fortgeschrittene Textbearbeitungsprogramme und auch Programmiersprachen nutzen diese mächtige Methode, um schnell und präzise Texte zu durchsuchen, zu finden und auch zu ersetzen.\n",
    "\n",
    "Der Name \"*regulärer Ausdruck*\" mag etwas sperrig klingen, hat aber eine interessante Geschichte. Der Mathematiker Stephen Kleene hat diese Methode entwickelt und sie ursprünglich \"reguläre Mengen\" genannt.\n",
    "\n",
    "<div class=\"alert alert-block alert-info\">\n",
    "<b>Praktisches Beispiel:</b> \n",
    "\n",
    "Das untenstehende Muster dient dazu, Webseiten-Links in einem Text zu erkennen, wie z.B. \"www.beispiel.de\":\n",
    "    \n",
    "</div>"
   ]
  },
  {
   "cell_type": "code",
   "execution_count": 3,
   "id": "12465e41-53ee-446a-beaa-6f11de98a959",
   "metadata": {
    "tags": []
   },
   "outputs": [
    {
     "name": "stdout",
     "output_type": "stream",
     "text": [
      "[[1]]\n",
      "[1] \"www.beispiel.de\" \"test-seite.com\"  \"www.test\"       \n",
      "\n"
     ]
    }
   ],
   "source": [
    "# Einbindung der notwendigen Bibliothek\n",
    "# Ist Teil von tidyverse\n",
    "library(stringr)\n",
    "\n",
    "# Das Muster für reguläre Ausdrücke zum Erkennen von Webseiten-Links\n",
    "# - [a-z0-9]: Erlaubt jeden Buchstaben von a bis z und jede Zahl von 0 bis 9.\n",
    "# - (-[a-z0-9]+)*: Erlaubt Bindestriche im Domainnamen, gefolgt von weiteren Buchstaben oder Zahlen.\n",
    "# - \\\\.: Erkennt einen Punkt (wie in .com oder .de).\n",
    "# - [a-z]{2,}: Erlaubt zwei oder mehr Buchstaben, was für Domainendungen wie .com, .org, .de usw. steht.\n",
    "\n",
    "web_sites <- \"([a-z0-9]+(-[a-z0-9]+)*\\\\.)+[a-z]{2,}\"\n",
    "\n",
    "# Ein Beispieltext mit verschiedenen Webseiten-Links\n",
    "text <- \"Hier sind einige Webseiten: www.beispiel.de, test-seite.com und keineWebseite. Dies ist keine gültige URL: www.test-.com.\"\n",
    "\n",
    "# Verwenden von str_extract_all, um alle Webseiten-Links im Text zu finden\n",
    "gefundene_links <- str_extract_all(text, web_sites)\n",
    "\n",
    "# Ausgabe der gefundenen Links\n",
    "print(gefundene_links)"
   ]
  },
  {
   "cell_type": "markdown",
   "id": "8ea0fc0d-7f89-4acd-a85d-3c1f16199ee5",
   "metadata": {
    "tags": []
   },
   "source": [
    "![Ein visuelles Beispiel, wie Regex Webseiten-Links erkennt.](../Pics/regex.jpg) "
   ]
  },
  {
   "cell_type": "markdown",
   "id": "4196f683-c8bc-479b-a189-b623117533ed",
   "metadata": {},
   "source": [
    "Mehr infos unter:\n",
    "\n",
    "* <https://www.oreilly.com/library/view/regular-expressions-cookbook/9781449327453/ch08s15.html>\n",
    "* <https://www.debuggex.com>\n",
    "* <https://danielfett.de/2006/03/20/regulaere-ausdruecke-tutorial/>"
   ]
  }
 ],
 "metadata": {
  "authors": [
   {
    "name": "Prof.Dr. Denis Royer"
   }
  ],
  "kernelspec": {
   "display_name": "R",
   "language": "R",
   "name": "ir"
  },
  "language_info": {
   "codemirror_mode": "r",
   "file_extension": ".r",
   "mimetype": "text/x-r-source",
   "name": "R",
   "pygments_lexer": "r",
   "version": "4.3.1"
  },
  "toc-autonumbering": true,
  "toc-showcode": false,
  "toc-showmarkdowntxt": false
 },
 "nbformat": 4,
 "nbformat_minor": 5
}

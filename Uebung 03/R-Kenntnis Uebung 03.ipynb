{
 "cells": [
  {
   "cell_type": "markdown",
   "id": "a5a5bb5c-911b-4553-8e5e-932f43d0834d",
   "metadata": {
    "jp-MarkdownHeadingCollapsed": true,
    "tags": []
   },
   "source": [
    "![R-Kenntnis](../Pics/header.png \"R-Kenntnis\")\n",
    "\n",
    "<img src=\"https://img.shields.io/badge/--Kenntnis-blue?style=flat-square&logo=r&logoColor=white\"/> <a href=\"https://ostfalia.de/w\" target=\"_blank\"><img src=\"https://img.shields.io/badge/Ostfalia-Fakultät%20W-blue?style=flat-square&logo=googlescholar&logoColor=white\"/></a> <img src=\"https://img.shields.io/badge/Semester-WiSe2023%2F24-green?style=flat-square\"/> <img src=\"https://img.shields.io/badge/Copyright-2020--24-orange?style=flat-square\"/> <a href=\"https://creativecommons.org/licenses/by-nc-sa/4.0/\" target=\"_blank\"><img src=\"https://img.shields.io/badge/License-by--nc--sa-red?style=flat-square\"/></a> \n",
    "\n",
    "<div class=\"alert alert-block alert-info\">\n",
    "<img src=\"https://img.shields.io/badge/Information-Übung_03-blue?style=for-the-badge&logo=bookstack&logoColor=white\">\n",
    "    \n",
    "* **Titel:** R-Kenntnis Übung 03: Datenimporte und Datenmanipulation\n",
    "* **Autor:** Prof. Dr. Denis Royer\n",
    "* **Datum:** 30.09.2023 (Version 3.0)\n",
    "\n",
    "</div>\n",
    "\n",
    "![Header_Data](../Pics/header_data.png \"Data\")\n",
    "\n",
    "<div class=\"alert alert-block alert-success\">\n",
    "    \n",
    "# Überblick:  \n",
    "## 03: Datenimporte und Datenmanipulation\n",
    "1. **Datenaufbereitung**: Einführung in **ETL** und **SFCA** Ansätze zur Datenextraktion, -transformation und -anpassung.\n",
    "2. **Datensatz – Bike Sharing LLC**: Öffentlicher Datensatz mit Fahrradverleihinformationen.\n",
    "3. **Datenextraktion**: Ladeverfahren für .csv und .xlsx in R und Datenüberblick mittels R Funktionen.\n",
    "4. **Datenbereinigung**: Anwendung von `dplyr` und `stringr` zur Datenmanipulation.\n",
    "5. **Aufgaben**: Extraktion spezifischer Daten und Umsatzberechnung.\n",
    "\n",
    "## Vermittelte Kompetenzen:\n",
    "Erschließung von Fertigkeiten in der Datenaufbereitung und -manipulation in R, wobei der Fokus auf Datenimport und Datenanalyse liegt.\n",
    "\n",
    "</div>\n",
    "\n",
    "# BI - R-Kenntnis Übung 03: Datenimporte und Datenmanipulation\n",
    "\n",
    "Bitte lesen Sie die folgenden Kapitel und die enthaltenen Hinweise ***sorgfältig*** durch. Die Aufgaben sind zum Teil in den Kapiteln enthalten.\n",
    "\n",
    "<div class=\"alert alert-block alert-warning\">\n",
    "<b>WICHTIG:</b> \n",
    "    \n",
    "*Die Schritte im Source Code bauen zum Teil aufeinander auf. Sollten Sie Ihre RStudio oder JupyterLab Session schließen oder neu starten, so müssen Sie ggf. den **Code erneut ausführen**, bzw. die **Packages neu laden**.*\n",
    "    \n",
    "</div>\n",
    "\n",
    "<div class=\"alert alert-block alert-info\">\n",
    "<b>Hinweis:</b> Weitere Hinweise und Quellen finden Sie <a href=\"../index.ipynb\">auf der zenteralen Übersicht zu den Übungen</a>. </div>"
   ]
  },
  {
   "cell_type": "markdown",
   "id": "995834b8-ca43-4431-86cb-cf2946ba5083",
   "metadata": {},
   "source": [
    "# Einleitung\n",
    "\n",
    "In der dritten Übung tauchen wir tiefer in die Welt von R ein, einem mächtigen Werkzeug für statistische Analysen und Datenvisualisierung. Unser Hauptaugenmerk liegt auf dem kritischen Bereich der Datenaufbereitung und -manipulation. Jeder Datenwissenschaftler weiß, dass die Qualität und Genauigkeit der Analyseergebnisse stark von der Güte der zugrunde liegenden Daten abhängt. Deshalb ist das Verständnis und die Fähigkeit, Daten effektiv zu bereinigen, zu strukturieren und zu manipulieren, von unschätzbarem Wert. \n",
    "\n",
    "In dieser Übung lernen Sie, wie Sie Daten aus verschiedenen Quellen importieren, potenzielle Fehlerquellen identifizieren und diese korrigieren sowie die Daten für weiterführende Analysen vorbereiten. Durch eine Kombination aus theoretischem Wissen und praktischen Beispielen werden Sie am Ende dieser Einheit in der Lage sein, selbstständig Datenprojekte in R zu initiieren und durchzuführen."
   ]
  },
  {
   "cell_type": "markdown",
   "id": "22bd061a-5471-4226-b362-1d9d41811d90",
   "metadata": {},
   "source": [
    "# Vorbereitende Schritte - Packages laden\n",
    "\n",
    "<div class=\"alert alert-block alert-success\">\n",
    "\n",
    "***HINWEIS:* Die genutzten R-Packages für die Übungen sind in JupyterLab bereits vorinstalliert! In RStudio müssen Sie alle von Ihnen verwendeten Bibliotheken jeweils vorab installieren.**\n",
    "    \n",
    "</div>\n",
    "\n",
    "Fast jede Software kann heute über irgendeine Art erweitert werden. Manche haben extensions, andere plug-ins, wieder andere haben add-ons (bspw. MS Office, Adobe PhotoShop, etc.). **Unterschiedliche Terminologie für dasselbe Prinzip:** Mehr Features durch Erweiterungen anderer Leute.\n",
    "Bei Programmiersprachen heißt sowas meistens **library oder package**.\n",
    "\n",
    "***R*** als populäre open-source Software hat einen ähnlichen Mechanismus. Hier heißt sowas `packages` und besteht aus Funktionen, die andere Leute für bestimmte Anwendungsfälle geschrieben haben, und durch ein Verteilungssystem verfügbar machen, sodass wir alle sie benutzen können.\n",
    "\n",
    "Der Kern von ***R*** wird auch `base` genannt und umfasst die wichtigstens Grundfunktionen — mit denen kommen wir auch schon relativ weit, wir können zum Beispiel problemlos diverse Statistiken berechnen und sogar Visualisierungen machen, aber wir wollen natürlich mehr, einfacher, schneller und besser.\n",
    "\n",
    "Mehr auch unter <https://r-intro.tadaa-data.de/book/packages.html>\n",
    "\n",
    "## Exkurs: Benötigte Pakete laden\n",
    "Im ersten Schritt müssen die notwendigen Packages nachgeladen, bzw. installiert werden. Für diese Übungseinheit benötigen Sie die folgenden Pakete:\n",
    "\n",
    "* `dplyr`\n",
    "* `tibble`\n",
    "* `readr`\n",
    "* `stringr`\n",
    "\n",
    "Praktischerweise sind all diese Pakete im Paket **`tidyverse`** zusammengefasst (siehe auch <https://www.tidyverse.org>). Dies können Sie mit den folgenden R-Befehlen installieren/laden: "
   ]
  },
  {
   "cell_type": "code",
   "execution_count": null,
   "id": "8847a2b4-e6e6-4cd9-aaed-dea9fb342742",
   "metadata": {},
   "outputs": [],
   "source": [
    "# Sofern das Paket tidyverse nicht installiert ist, soll es installiert werden. \n",
    "# Die require() Funktion prüft ab, ob das Paket bereits installiert ist. \n",
    "if(!require(\"tidyverse\")) install.packages(\"tidyverse\")\n",
    "# Laden des Pakets tidyverse (lädt stringr, tibble, readr und dplyr)\n",
    "library(tidyverse)"
   ]
  },
  {
   "cell_type": "markdown",
   "id": "cb872ae5-2268-4aec-a8d1-03007ee45342",
   "metadata": {},
   "source": [
    "Eleganter geht es mit folgendem Code Snippet, welches Bibliotheken automatisch lädt, bzw. diese bei Bedarf gleich installiert:"
   ]
  },
  {
   "cell_type": "code",
   "execution_count": null,
   "id": "c3491149-0a97-498f-b2a0-74908f673594",
   "metadata": {},
   "outputs": [],
   "source": [
    "### Snippet - Library Load Code:\n",
    "# Der Vektor wants enthält alle für ein Projekt benötigten Bibliotheken.\n",
    "# In diesem Fall sind es die Bibliotheken tidyverse und forecast\n",
    "wants <- c(\"tidyverse\", \"forecast\")\n",
    "# Der Vektor has enthält alle Bibliotheken, die bereits installiert sind\n",
    "has <- wants %in% rownames(installed.packages())\n",
    "# Im Folgenden werden alle noch nicht installierten Bibliotheken nachgeladen\n",
    "# und installiert. Dies ist nur einmal notwendig.\n",
    "if(any(!has)) install.packages(wants[!has])"
   ]
  },
  {
   "cell_type": "markdown",
   "id": "5f9103a6-b645-45be-9f09-73ccbc957043",
   "metadata": {},
   "source": [
    "**Wichtig:** Da ***R*** darauf achtet, dass Funktionen bei gleich lautenden Namen sich nicht gegenseitig überschreiben, wird beim Laden der Packages jeweils explizit darauf hingewiesen:"
   ]
  },
  {
   "cell_type": "markdown",
   "id": "3ce2fb6f-1402-4f13-b2db-57658e1660fb",
   "metadata": {},
   "source": [
    "```R\n",
    "# Ausgabe von library(tidyverse)\n",
    "\n",
    "## x dplyr::filter() masks stats::filter()\n",
    "## x dplyr::lag()    masks stats::lag()\n",
    "```"
   ]
  },
  {
   "cell_type": "markdown",
   "id": "1c2512d0-ad64-4328-8a3a-e2838f1c72d2",
   "metadata": {},
   "source": [
    "<div class=\"alert alert-block alert-warning\">\n",
    "<b>Wichtig:</b> \n",
    "\n",
    "Im Fall von `tidyverse` bedeutet dies, dass man die Funktionen `filter()` und `lag()` am besten direkt über den Paketnamen (`Paketname::Funktion()`) anspricht, um Verwechslungen vorzubeugen:\n",
    "    \n",
    "</div>\n"
   ]
  },
  {
   "cell_type": "markdown",
   "id": "33258fd6-dd29-46be-96cd-8d6f218427bb",
   "metadata": {},
   "source": [
    "```R\n",
    "# Funktionen von Pakten können auch direkt über den \n",
    "# folgenden Syntax angesprochen werden:\n",
    "Paketname::Funktion()\n",
    "````"
   ]
  },
  {
   "cell_type": "markdown",
   "id": "9a290866-7de1-4f72-8a6b-7e7bc5aaf6ec",
   "metadata": {},
   "source": [
    "## Hilfe bekommen in ***R***\n",
    "***R*** enthält ein sehr umfangreiches und mächtiges Hilfesystem, was zu den meisten Paketen und deren Funktionen Erklärungen, Syntax und Beispiele parat hat. Man erreicht diese Hilfe (neben den Quellen im Internet) über die folgenden Befehle in der Console:"
   ]
  },
  {
   "cell_type": "code",
   "execution_count": null,
   "id": "ff972a1e-51dd-44fe-95c7-c08b5f3de3ef",
   "metadata": {},
   "outputs": [],
   "source": [
    "# Hilfe zu den Funktionen erhält man bspw. über:\n",
    "?str_detect # oder"
   ]
  },
  {
   "cell_type": "code",
   "execution_count": null,
   "id": "4315264b-34c9-491d-927b-99caa9c1eb0a",
   "metadata": {},
   "outputs": [],
   "source": [
    "help(str_detect) # oder"
   ]
  },
  {
   "cell_type": "code",
   "execution_count": null,
   "id": "c7c59902-4361-4c63-bbce-a9adf984612e",
   "metadata": {},
   "outputs": [],
   "source": [
    "# für eine spezifische Funktion eines Pakets\n",
    "help(filter, package=\"dplyr\")"
   ]
  },
  {
   "cell_type": "markdown",
   "id": "212574f4-7b50-49fa-a1af-d1f3bc5ac78f",
   "metadata": {},
   "source": [
    "## RStudio: Arbeitsverzeichnis setzen\n",
    "\n",
    "Vergessen Sie nicht, dass Sie ggf. Ihr Arbeitsverzeichnis setzen müssen. Dies kann direkt in RStudio oder in ***R*** mittels `setwd()` (set working directory) geschehen. Mit `getwd()` erhält man dementsprechend das aktuell gesetzte Arbeitsverzeichnis, was ***R*** aktuell benutzt.\n",
    "\n",
    "***Hinweis:*** in **JupyterLab** ist ein setzen des Arbeitsverzeichnis an sich nicht notwendig. **JupyterLab** verwendet immer das aktuelle Verzeich, in dem das aktuell bearbeitete Notebook liegt. In **RStudio** müssen Sie das Arbeitsverzeichnis vorab setzen, damit die Zgriffe auf die Daten auch funktionieren. Mehr hierzu unter <https://support.rstudio.com/hc/en-us/articles/200711843-Working-Directories-and-Workspaces>."
   ]
  },
  {
   "cell_type": "markdown",
   "id": "300abfb9-f7bf-41bd-a837-1f27d66e8e41",
   "metadata": {},
   "source": [
    "```R\n",
    "# Setzen des Arbeitsverzeichnis auf den Pfad \n",
    "# \"~/path/to/my/directory\"\n",
    "setwd(\"~/path/to/my/directory\")\n",
    "```"
   ]
  },
  {
   "cell_type": "markdown",
   "id": "c678b90c-49c6-48d0-9421-5a49164d7c58",
   "metadata": {},
   "source": [
    "Sollten Sie in RStudio ein Netzwerklaufwerk auswählen wollen, so können Sie dies über das Icon mit den drei Punkten (\"...\") tun. Vergessen Sie aber danach nicht, Ihr gewähltes Verzeichnis als Arbeitsverzeichnis zu setzen.\n",
    "\n",
    "![setwd() mit RStudio](../Pics/working_dir_rstudio.png \"setwd() mit RStudio\")"
   ]
  },
  {
   "cell_type": "markdown",
   "id": "90f37c8c-46fd-4abc-a047-67fc8c14795e",
   "metadata": {},
   "source": [
    "# Ansätze für die Bereinigung der Daten (ETL und SFCA)\n",
    "\n",
    "Extract, Transform, Load (ETL) ist der übergreifende Prozess, bei dem Daten aus mehreren gegebenenfalls unterschiedlich strukturierten Datenquellen in einer Zieldatenbank vereinigt werden. Diese Struktur machen wir uns für die kommenden Übungen zu nutze, um Daten in ***R*** nutzbar zu machen.\n",
    "\n",
    "Die einzelnen Schritte definieren sich dabei wie folgt:\n",
    "\n",
    "* **Extraktion** der relevanten Daten aus verschiedenen Quellen (Datenbanken, Dateien, Online, etc.)\n",
    "* **Transformation** der Daten in das Schema und Format der Zieldatenbank. Dies kann man aus der Sicht vom CRISP-DM auch als Teil des Data-Understandinmg und der Data-Preparation sehen.\n",
    "* **Laden** der Daten in die Zieldatenbank.\n",
    "\n",
    "Ein anderer Ansatz, welcher sich spezifisch auf die Schritte *Extract* und *Transform* fokussiert und diese erweitert, ist der **SFCA** Ansatz. Dieser umfasst dabei die folgenden Schritte (vgl. Sauer, 2019):\n",
    "\n",
    "* **Summarise:** Daten zusammenfassen um sich einen Überblick zu verschaffen und die Strategie für die Bereinigung festlegen\n",
    "* **Fixing:** Bereinigung fehlerhafter und fehlender Daten\n",
    "* **Converting:** Überführung der importierten Daten in die richtigen Datentypen, um spätere Analysen zu vereinfachen\n",
    "* **Adapting:** Anpassung/Anreicherung der Daten und (sofern möglich) Standardisierung der Daten\n",
    "\n",
    "Beide Ansätze (ETL und SFCA) helfen dabei, den Prozess der Datenaufbereitung zu unterstützen und zu strukturieren."
   ]
  },
  {
   "cell_type": "markdown",
   "id": "045a157d-f909-40c2-9927-778ecaba10a3",
   "metadata": {},
   "source": [
    "# Der Datensatz: Bike Sharing LLC\n",
    "\n",
    "## Intro\n",
    "Für die Übungen verwenden wir einen öffentlich verfügbaren Datensatz der Firma **Bike Sharing LLC**. Wie der Name schon vermuten lässt, verleiht die Bike Sharing LLC Fahrräder und hat verschiedene Fragestellungen an den von Ihnen gesammelten Daten.\n",
    "\n",
    "* Die Beispieldateien finden Sie im [Bereich Data (LINK)](../Data/raw_bikeshare_data.csv) (links in der Navigation von JupyterLab), bzw. im Moodle Kurs.\n",
    "* Das Bike Sharing LLC Dataset ist auch hier verfügbar: <https://www.kaggle.com/marklvl/bike-sharing-dataset>.\n",
    "\n",
    "## Data Dictionary\n",
    "\n",
    "Die Daten haben dabei folgende Struktur (Data Dictionary):\n",
    "\n",
    "| Datenfeld | Beschreibung |\n",
    "| :--------- | :------------ |\n",
    "| **datetime**  | Datum/Uhrzeit + timestamp|\n",
    "| **season**  | **1** = spring</br> **2** = summer</br> **3** = fall</br> **4** = winter|\n",
    "| **workingday**  | Ist der Tag ein Sonn-/Feiertag?|\n",
    "| **weather**  |  **1:** Clear, Few clouds, Partly cloudy, Partly cloudy</br> **2:** Mist + Cloudy, Mist + Broken clouds, Mist + Few clouds, Mist</br> **3:** Light Snow, Light Rain + Thunderstorm + Scattered clouds, Light Rain + Scattered clouds</br> **4:** Heavy Rain + Ice Pellets + Thunderstorm + Mist, Snow + Fog |\n",
    "| **temp**  | Außentemperatur in ° Celsius|\n",
    "| **atemp**  | Gefühlte Temperatur in ° Celsius|\n",
    "| **humidity**  |Relative Luftfeuchtigkeit in % |\n",
    "| **windspeed**  |Gemessene Windgeschwindigkeit |\n",
    "| **casual**  | Anzahl nicht-registrierter Nutzer|\n",
    "| **registered**  | Anzahl registrierter Nutzer|\n",
    "| **count**  | Gesamtanzahl der vermieteten Fahrräder |\n",
    "| **source**  | Quelle der Werbemaßnahme |"
   ]
  },
  {
   "cell_type": "markdown",
   "id": "d60e4797-43c3-4ca7-9636-1fe2249ca1d6",
   "metadata": {},
   "source": [
    "# Teil 1: Datenextraktion (***E***xtract)\n",
    "\n",
    "## Laden von Dateien\n",
    "\n",
    "### Laden einer .csv-Datei\n",
    "Um die Daten der Bike Sharing LLC Fallstudie zu laden, müssen vorher die Pakte `readr` aus dem `tidyverse` Paket geladen sein (siehe vorheriges Kapitel). "
   ]
  },
  {
   "cell_type": "code",
   "execution_count": null,
   "id": "3c66f3f2-4ddb-4e57-8c77-3069b80ed52f",
   "metadata": {},
   "outputs": [],
   "source": [
    "library(tidyverse)"
   ]
  },
  {
   "cell_type": "code",
   "execution_count": null,
   "id": "c7784af0-a013-4560-895e-70ae9ec6f1be",
   "metadata": {},
   "outputs": [],
   "source": [
    "# Laden der Daten aus der Beispieldatei (nutzt readr)\n",
    "# Wichtig Die Datei nicht vorher mit Excel öffnen!\n",
    "bike.raw <- read_csv(\"../Data/raw_bikeshare_data.csv\")\n",
    "# Kopie der Daten erstellen, so dass man immer noch mal auf die\n",
    "# Originaldaten zugreifen kann (\"... sicher ist sicher...\")\n",
    "bike.df <- bike.raw"
   ]
  },
  {
   "cell_type": "markdown",
   "id": "825c7ff5-d33b-41b6-be27-dd18c154321a",
   "metadata": {},
   "source": [
    "Der `readr::read_csv()` Befehl lädt die Daten in einen `tibble` mit dem Namen `bike`. Ein `tibble` ist ein erweiterter `data.frame`, wie sie durch die Pakete in `tidyverse` benutzt werden.\n",
    "\n",
    "**Hinweise zu `readr::read_csv()`:**\n",
    "\n",
    "* `readr::read_csv()` ist nicht gleich `read.csv()`. `read.csv()` ist eine interne Funktion von R, die aber nur sehr rudimentär beim Datenimport unterstützt. `readr::read_csv()` ist sehr viele mächtiger und erledigt eine Vielzahl weiterer Operationen, die den Import von Daten massiv erleichtern.\n",
    "* `readr::read_csv()` führt während eines Imports eine Vielzahl von automatischen Bereinigungen durch - bspw. werden unnötige Leerzeichen entfernt, sofern dies am Anfang oder am Ende eines zu importierenden Wertes stehen (das sog *trimmen*).\n",
    "* `readr::read_csv()` detektiert bereits beim Import Fehler (siehe auch in den späteren Kapiteln).\n",
    "* Im Gegensatz zu `read.csv()` ist `readr::read_csv()` performanter und schneller in der Aufbereitung der Daten.\n",
    "* `readr::read_csv()` gibt als Datenstruktur einen `tibble()` zurück, was Typensicherheit bei der Weiterverarbeitung der Daten erlaubt.\n",
    "\n",
    "### Laden einer .xlsx-Datei"
   ]
  },
  {
   "cell_type": "markdown",
   "id": "d42d1db2-cabe-432e-ba9f-4e660536bd6d",
   "metadata": {},
   "source": [
    "Alternativ kann R auch MS Excel ateien laden. Der einfachste Weg, eine Excel-Datei in R zu importieren, ist die Verwendung der Funktion `read_excel()` aus dem `readxl`-Paket.\n",
    "\n",
    "Zuerst muss man das `readxl` Paket geladen (bzw. installiert) werden, damit Excel Dateien geladen werden können."
   ]
  },
  {
   "cell_type": "code",
   "execution_count": null,
   "id": "b48b3235-dda5-4338-b36f-73014142d0c6",
   "metadata": {},
   "outputs": [],
   "source": [
    "library(\"readxl\")"
   ]
  },
  {
   "cell_type": "markdown",
   "id": "7c33ad72-5fe0-47e7-8e8c-289c956e90b7",
   "metadata": {},
   "source": [
    "Danach kann man die eigentliche Excel-Datei mit der `read_excel()` Funktion laden.\n",
    "\n",
    "Diese Funktion verwendet die folgende Syntax:\n",
    "\n",
    "```R\n",
    "# Lädt die Daten aus der Datei Daten.xlsx in den Data Frame meine.df\n",
    "mein.df <- read_excel(\"/Pfad/zu/den/Daten.xlsx\", sheet = \"Name des Sheets\")\n",
    "```\n",
    "wobei:\n",
    "\n",
    "* **Path:** Pfad zur .xls / .xlsx Datei\n",
    "* **Sheet:** Das zu lesende Blatt. Dies kann der Name des Blattes oder die Position des Blattes sein. Wenn dies nicht angegeben ist, wird **immer** das erste Blatt gelesen."
   ]
  },
  {
   "cell_type": "code",
   "execution_count": null,
   "id": "eac0badb-889d-4482-b767-4651998798c7",
   "metadata": {},
   "outputs": [],
   "source": [
    "# Beispiel mit den Bikeshare Daten - wird kein Arbeitsblatt angegeben,\n",
    "# so wird automatisch immer das erste Arbeitsblatt der atei geladen.\n",
    "bike.XLS.df <- read_excel(\"../Data/raw_bikeshare_data.xlsx\")\n",
    "\n",
    "# Hinweis: Auch die read_excel() liefert Rückmeldungen, sofern die geladenen\n",
    "# Datei Fehler enthält. Die Bahndlubng der Fehler läuft dann analog zur Behandlung\n",
    "# der Fehler in .csv Dateien."
   ]
  },
  {
   "cell_type": "code",
   "execution_count": null,
   "id": "0f410710-d504-429e-a243-3c631af8fedf",
   "metadata": {},
   "outputs": [],
   "source": [
    "# Ausgabe der geladenen Daten (ersten zehn Zeilen).\n",
    "head(bike.XLS.df,n = 10)"
   ]
  },
  {
   "cell_type": "code",
   "execution_count": null,
   "id": "7d254bec-b353-43dc-ae26-2830c5ca4fa4",
   "metadata": {},
   "outputs": [],
   "source": [
    "# Die Ausgabe in \"fancy\" mit dem Package DT\n",
    "# Mehr unter https://rstudio.github.io/DT/\n",
    "library(DT)\n",
    "DT::datatable(head(bike.XLS.df,n = 20))"
   ]
  },
  {
   "cell_type": "markdown",
   "id": "09a35f38-f316-45e4-8420-e42d4c50ea57",
   "metadata": {},
   "source": [
    "Wie bereits dargestellt, kann man auch gezielt einzelne Arbeitsblätter laden - hierzu muss der Paramter `path =\"...\"` in der `read_excel()` Funktion gesetzt werden:"
   ]
  },
  {
   "cell_type": "code",
   "execution_count": null,
   "id": "ea9802ea-ab11-490b-8d17-648e45815887",
   "metadata": {},
   "outputs": [],
   "source": [
    "source.XLS.df <- read_excel(\"../Data/raw_bikeshare_data.xlsx\",sheet = \"sources\")\n",
    "source.XLS.df"
   ]
  },
  {
   "cell_type": "markdown",
   "id": "3412b84c-cf37-4388-946c-11b5a40ff123",
   "metadata": {},
   "source": [
    "<div class=\"alert alert-block alert-warning\">\n",
    "<b>WICHTIG:</b> \n",
    "    \n",
    "*In den kommenden Kapiteln arbeiten wir mit den Daten us der .csv Datei weiter!*\n",
    "    \n",
    "</div>\n",
    "\n",
    "## Datenstrukturen sichten\n",
    "\n",
    "Im nächsten Schritt kann man sich die Größe der Variable `bike.df` und deren Struktur/Attribute ausgeben lassen:"
   ]
  },
  {
   "cell_type": "code",
   "execution_count": null,
   "id": "077962b0-09b3-40d8-9c0c-53bed642ea9d",
   "metadata": {},
   "outputs": [],
   "source": [
    "dim(bike.df) # gibt die Größe zurück --> Dimensionen von bike.df"
   ]
  },
  {
   "cell_type": "code",
   "execution_count": null,
   "id": "f677fc21-4774-4e3a-a48f-d0b3fb22bf79",
   "metadata": {},
   "outputs": [],
   "source": [
    "str(bike.df) # gibt die Struktur zurück (Variablen, Datentypen)"
   ]
  },
  {
   "cell_type": "code",
   "execution_count": null,
   "id": "c8412c1e-5de9-4384-a686-445c52df120f",
   "metadata": {},
   "outputs": [],
   "source": [
    "summary(bike.df) # Fasst die Variablen zusammen"
   ]
  },
  {
   "cell_type": "code",
   "execution_count": null,
   "id": "265110f3-3d79-4d81-ba0f-bf0a979c83a4",
   "metadata": {
    "scrolled": true,
    "tags": []
   },
   "outputs": [],
   "source": [
    "attributes(bike.df) # Gibt alle Attribute der Variablen in `bike.df` aus."
   ]
  },
  {
   "cell_type": "markdown",
   "id": "a68a11ce-bc44-4150-b035-0d10d0d1d8c7",
   "metadata": {},
   "source": [
    "## Exkurs (RStudio): `knitr` und `kable` zum Formatieren von Tabellen\n",
    "\n",
    "KnitR ist ein Paket für das RStudio, das die Erstellung von Textverarbeitungsdokumenten, PDF, Präsentationen,... mit Echtzeit-Einbettung von Daten ermöglicht. So können z.B. aktuelle Börsenkurse abgerufen, innerhalb von R analysiert und abhängig von der Analyse Phrasen und Ergebnisse z.B. in den Text implementiert werden. Das Paket KnitR wird oft innerhalb RStudio als grafische Benutzeroberfläche zum Aufruf von Befehlen und Skripten für die zugrundeliegende Statistik-Software R verwendet (siehe KnitR für Details).\n",
    "\n",
    "Mehr unter <https://yihui.name/knitr/> oder <https://bookdown.org/yihui/rmarkdown/>.\n",
    "\n",
    "Folgende Beispiele zeigen, wie man in `kntr` Tabellen mit Daten formatieren kann:"
   ]
  },
  {
   "cell_type": "code",
   "execution_count": null,
   "id": "029e6456-d8f2-4127-958f-6898e523b3e2",
   "metadata": {},
   "outputs": [],
   "source": [
    "# Kleiner Exkurs für R Markdown (rmd) und Tabellen:\n",
    "# Ich benutze das `knitr` Package und kable() um die Daten in \n",
    "# Tabellen anzuzeigen.\n",
    "# WICHTIG: Dies Funktioniert nur in der HTML und MS Word \n",
    "#          Ausgabe in R Markdown in der richtigen Art und Weise!\n",
    "knitr::kable(bike.df[1:10,c(1,5,6,10,11,12,13)], caption = 'Die resultierende `bike.df` Tabelle.')"
   ]
  },
  {
   "cell_type": "code",
   "execution_count": null,
   "id": "151eccb0-cc90-42f6-8569-afbb3cba4486",
   "metadata": {},
   "outputs": [],
   "source": [
    "\n",
    "# Alternativ kann man auch pander() aus dem gleichnamigen Paket nutzen.\n",
    "# Dies funktioniert insbesondere bei der Erzeugung von Word Dateien besser!\n",
    "# vorher muss pander über library(pander) geladen werden.\n",
    "pander(bike.df[1:10,c(1,5,6,10,11,12,13)], caption = 'Die resultierende `bike.df` Tabelle.')"
   ]
  },
  {
   "cell_type": "markdown",
   "id": "c50e41ef-67ef-43e9-b6f1-e03df9c2bbe5",
   "metadata": {},
   "source": [
    "## Aufgabe: Data Dictionary und Datenstruktur\n",
    "\n",
    "Bitte schauen Sie sich die geladenen Daten in der Variable `bike.df` an und vergleichen Sie die Strukturen mit dem **Data Dictionary** aus den Folien zur Übung:\n",
    "\n",
    "![Übungsaufgabe](../Pics/excercise.png \"Übungsaufgabe\")\n",
    "\n",
    "* Welche Dinge Fallen Ihnen auf, wenn Sie sich die Daten mit der Funktion `str(bike.df)` ausgeben und mit den Inhalten des Data Dictionaries vergleichen?\n",
    "* Welche Anpassungen sind für die Daten notwendig?"
   ]
  },
  {
   "cell_type": "code",
   "execution_count": null,
   "id": "72bab134-aac4-4a83-af49-c89aac2ca790",
   "metadata": {},
   "outputs": [],
   "source": [
    "# Hier kommt Ihr Source Code hin:\n"
   ]
  },
  {
   "cell_type": "markdown",
   "id": "f0328099-e84d-4244-8c80-adcab30e9dcb",
   "metadata": {},
   "source": [
    "# Teil 2: Datenbereinigung (***T***ranslate)\n",
    "\n",
    "Im nächsten Schritt geht es nun darum, die Daten zu bereinigen. Als Datenbasis nutzen wir hier weiterhin die Daten aus `bike.df`. \n",
    "\n",
    "## Datenmanipulation mit den Paketen `dplyr` und `stringr`\n",
    "\n",
    "<div class=\"alert alert-block alert-info\">\n",
    "    <b>Info:</b>  <b>dplyr</b> schauen wir uns noch mal intensiver in <a href=\"../Uebung 4/R-Kenntnis Uebung 4.ipynb\">Uebung 04</a> an.</div>\n",
    "\n",
    "Im nächsten Schritt geht es darum, die Daten weiter aufzubereiten. Hierzu lassen sich die Paket `dplyr` und `stringr` sehr gut nutzen. \n",
    "\n",
    "Folgende Befehle sind hier interessant:\n",
    "\n",
    "* `dplyr::filter()`\n",
    "* `dplyr::mutate()`\n",
    "* `dplyr::group_by()`\n",
    "* `stringr::str_subset()`\n",
    "* `stringr::str_detect()`"
   ]
  },
  {
   "cell_type": "markdown",
   "id": "e37a0171-71ce-42b0-acb3-1ca023646e26",
   "metadata": {},
   "source": [
    "**Weitere Hinweise erhält man auch hier:**\n",
    "\n",
    "* <https://www.rstudio.com/resources/cheatsheets/>\n",
    "* <https://github.com/rstudio/cheatsheets/raw/master/data-transformation.pdf>\n",
    "* <https://github.com/rstudio/cheatsheets/raw/master/translations/german/data-wrangling-german.pdf>\n",
    "\n",
    "## Aufgaben zu den Paketen `dplyr` und `stringr`\n",
    "Bearbeiten Sie die folgenden Aufgaben. Nutzen Sie für die Dokumentation Ihrer Ergebnisse ein \"R Notebook\" in RStudio oder direkt in Jupyter.\n",
    "\n",
    "<div class=\"alert alert-block alert-success\">\n",
    "\n",
    "***HINWEIS:* Weitere Details zu `dplyr` lassen sich in <a href=\"../Uebung 04/R-Kenntnis Uebung 04.ipynb\">Übung 04: Datenaufbereitung mit `dplyr`</a> finden.**\n",
    "    \n",
    "</div>\n",
    "\n",
    "### Aufgabe: Daten extrahieren\n",
    "\n",
    "Das Marketing benötigt eine Aussage darüber, an welchen Tagen im Frühling und Sommer nur Fahrräder von *Casual* Mietern entliehen wurden. Nutzen Sie die Funktionen aus dem Paket `dplyr` um aus dem `tibble bike` alle Vorkommen mit den folgenden Eigenschaften in eine neue Variable (bspw. einen `tibble` - z.B. `bike_extracted`) zu extrahieren: \n",
    "\n",
    "![Übungsaufgabe](../Pics/excercise.png \"Übungsaufgabe\")\n",
    "* Alle Tage im Frühling und Sommer an denen nur *\"Casual\"* Mieter Fahrräder entliehen haben.\n",
    "* Wie viele Beobachtungen (*\"Observations\"*) gibt es?\n",
    "* Wie sieht Ihr R Source Code? "
   ]
  },
  {
   "cell_type": "code",
   "execution_count": null,
   "id": "bca3098f-a09a-43e2-bd21-e471eda8f0fa",
   "metadata": {},
   "outputs": [],
   "source": [
    "# Hier kommt Ihr Source Code hin:\n"
   ]
  },
  {
   "cell_type": "markdown",
   "id": "a12f2279-f79a-4269-93e1-d5b760f586eb",
   "metadata": {},
   "source": [
    "### Aufgabe: Werte in einer Tabelle berechnen\n",
    "\n",
    "Weiterhin will das Marketing wissen, wie hoch die Umsätze an den jeweiligen Tagen waren. Nutzen Sie hierfür die Funktion `dplyr::mutate`, um im `tibble bike_extracted` eine neue Spalte einzufügen, die die Umsätze aus den *\"Casual\"* Mietern berechnet:\n",
    "\n",
    "![Übungsaufgabe](../Pics/excercise.png \"Übungsaufgabe\")\n",
    "* Erstellen Sie die neue Tabelle als Kopie des `data.frame/tibble` *bike_extracted*. \n",
    "* Die neue Spalte soll *\"revenue\"* heißen.\n",
    "* Als Wert pro vermietete Einheit sollen *5.00 Euro* angenommen werden (Hinweis: Nachkommaanteile werden mit einem \".\" und nicht mit \",\" abgetrennt)."
   ]
  },
  {
   "cell_type": "code",
   "execution_count": null,
   "id": "4b2030f4-cbab-4f8a-8060-bc935e003273",
   "metadata": {},
   "outputs": [],
   "source": [
    "# Hier kommt Ihr Source Code hin:\n"
   ]
  },
  {
   "cell_type": "markdown",
   "id": "1fee582b-d0ac-41e2-aba2-f2bca608ed40",
   "metadata": {},
   "source": [
    "### Aufgabe: Daten zusammenfassen\n",
    "\n",
    "Nutzen Sie die Funktionen `dplyr:group_by` und `dplyr:summarise` aus `dplyr`, um aus der vorher erstellten Tabelle eine Zusammenfassung der Daten für das Marketing zu erstellen.\n",
    "\n",
    "![Übungsaufgabe](../Pics/excercise.png \"Übungsaufgabe\")\n",
    "* Zusammengefasst werden sollen die Saison (Frühling und Sommer), jeweils über die Werte der Mieter (Casual) und die Einnahmen (revenue)\n",
    "* Hierzu müssen die Daten erst einmal gruppiert werden (`dplyr::group_by()`).\n",
    "* Danach können diese dann zusammengefasst werden.\n",
    "* Wie sieht die Kette der Befehle im Pipe-Syntax aus?\n",
    "* Speichern Sie Ihr Ergebnis als *.csv*-Datei ab."
   ]
  },
  {
   "cell_type": "code",
   "execution_count": null,
   "id": "2d5740ac-92d7-4bab-8336-c943a4c5c1b9",
   "metadata": {},
   "outputs": [],
   "source": [
    "# Hier kommt Ihr Source Code hin:\n"
   ]
  },
  {
   "cell_type": "markdown",
   "id": "60e137e9-6282-4b8c-946b-47e9fd7f79b9",
   "metadata": {},
   "source": [
    "## Aufgabe: Fehlerhaft Importierte Einträge finden (`read_csv()`)\n",
    "mit der Funktion `problems()` aus dem Paket `readr` lassen sich die problematischen Einträge ausgeben, die beim Export durch `read_csv` detektiert wurden. Diese lassen sich dann im Weiteren bereinigen. "
   ]
  },
  {
   "cell_type": "code",
   "execution_count": null,
   "id": "822965ed-9ec4-49a8-81a3-83728bb52c79",
   "metadata": {},
   "outputs": [],
   "source": [
    "# Ausgabe der problematischen Einträge aus dem initialen Import\n",
    "problems(bike.df)"
   ]
  },
  {
   "cell_type": "markdown",
   "id": "833fa06f-15a2-4109-b72b-d2ac066248b9",
   "metadata": {},
   "source": [
    "![Übungsaufgabe](../Pics/excercise.png \"Übungsaufgabe\")\n",
    "\n",
    "* Was sagen die Informationen aus dem Befehl `readr::problems()` aus?\n",
    "* Wie kann man diese bei einer Bereinigung verwenden?\n",
    "* Bereinigen Sie die Fehler aus `readr::problems()`!"
   ]
  },
  {
   "cell_type": "code",
   "execution_count": null,
   "id": "7d3b520b-3771-4d3d-b613-ef844bf3e2b1",
   "metadata": {},
   "outputs": [],
   "source": [
    "# Hier kommt Ihr Source Code hin:\n"
   ]
  },
  {
   "cell_type": "markdown",
   "id": "41c20f1e-5c36-45d2-8d75-3efbd63bce04",
   "metadata": {},
   "source": [
    "## Aufgabe: Fehlende Einträge finden\n",
    "\n",
    "Ein erster Schritt ist es festzustellen, wie viele Felder keine Einträge besitzen. ***R*** markierte diese leeren Werte bei einem Import mit `read_csv` automatisch mit dem Eintrag ***\"NA\"*** ([en] **n**ot **a**vailable) - somit kann man hiermit diese leeren Werte sehr gut identifizieren (bspw. über die Funktionen `is.na()` oder `str_detect()`)"
   ]
  },
  {
   "cell_type": "code",
   "execution_count": null,
   "id": "f399fc65-3773-46d7-96c7-ba0c226be638",
   "metadata": {},
   "outputs": [],
   "source": [
    "# Anzahl der NA Werte im tibble bike.df als Tabelle darstellen\n",
    "table(is.na(bike.df))\n",
    "\n",
    "# Welche der Variablen (Spalten) enthalten NA-Werte?\n",
    "str_detect(bike.df, \"NA\")\n",
    "\n",
    "# Ausgabe als formatierte Tabelle mit knitr::kable und kableExtra::kable_styling\n",
    "table(is.na(bike.df))"
   ]
  },
  {
   "cell_type": "markdown",
   "id": "5988b665-5db3-4e9b-bcff-a1e82418c364",
   "metadata": {},
   "source": [
    "![Übungsaufgabe](../Pics/excercise.png \"Übungsaufgabe\")\n",
    "\n",
    "* Was schließen Sie aus den sich ergebende Werten?\n",
    "* Was muss Ihrer Meinung nach getan werden, um dies zu bereinigen?"
   ]
  },
  {
   "cell_type": "markdown",
   "id": "f750850f-d717-4cd4-9253-c110a397e172",
   "metadata": {},
   "source": [
    "## Aufgabe: Spalten/Variablen in Faktoren umfandeln\n",
    "\n",
    "Einige der Spalten sind durch die `read_csv` Funktion als numerische Werte importiert worden, obwohl sie Skalen sind (siehe Data Dictionary). Mit der Funktion `factor()` lassen sich diese umwandeln.\n",
    "\n",
    "<div class=\"alert alert-block alert-success\">\n",
    "<b>Hinweis:</b> \n",
    "\n",
    "Mehr zu `factor()` finden Sie auch in Übung 1 und 2.\n",
    "\n",
    "```R\n",
    "# Syntax von factors()\n",
    "factor(x = character(), # Der eigentlich Datensatz \n",
    "       levels, # Die Levels/Kategorien im Datensatz\n",
    "       labels = levels, # Die beschriftungen\n",
    "       exclude = NA, # Die Werte, die ignoriert werden sollen\n",
    "       # TRUE/FALSE, wenn es ordinalskaliert ist:\n",
    "       ordered = is.ordered(x), \n",
    "       nmax = NA)\n",
    "```\n",
    "    \n",
    "</div>\n"
   ]
  },
  {
   "cell_type": "code",
   "execution_count": null,
   "id": "f58fa8ef-548a-49ef-9910-3e8e270105d9",
   "metadata": {},
   "outputs": [],
   "source": [
    "# Ein Beispiel:\n",
    "# Vor der Umwandlung\n",
    "str(bike.df$holiday)"
   ]
  },
  {
   "cell_type": "code",
   "execution_count": null,
   "id": "baa2c6c6-ad0b-449e-b2f3-e54e3296f4a3",
   "metadata": {},
   "outputs": [],
   "source": [
    "# Umwandlung: 0 = no, 1 = yes\n",
    "bike.df$holiday <- factor(bike.df$holiday, levels = c(0, 1),\n",
    "                       labels = c(\"no\", \"yes\"))"
   ]
  },
  {
   "cell_type": "code",
   "execution_count": null,
   "id": "aca026e4-5a2b-46eb-b49c-b89932f4d26a",
   "metadata": {},
   "outputs": [],
   "source": [
    "# Nach der Umwandlung\n",
    "str(bike.df$holiday)"
   ]
  },
  {
   "cell_type": "markdown",
   "id": "75af5489-83a4-4776-8487-4d86a87d38ad",
   "metadata": {},
   "source": [
    "![Übungsaufgabe](../Pics/excercise.png \"Übungsaufgabe\")\n",
    "\n",
    "* Welche Spalten/Variablen sind möglicherweise Skalen? Nutzen Sie hierfür das Data Dictionary.\n",
    "* Welche Skalenniveaus haben die Spalten/Variablen, bzw. in welche müssen diese konvertiert werden?\n",
    "* Wandeln Sie die übrigen Spalten/Variablen in die jeweiligen Skalenniveaus um! Nutzen Sie hierfür die `factor()` Funktion von R."
   ]
  },
  {
   "cell_type": "code",
   "execution_count": null,
   "id": "8afaf6d0-1a09-4dad-8e9f-a758f1b6614d",
   "metadata": {},
   "outputs": [],
   "source": [
    "# Hier kommt Ihr Source Code hin:\n"
   ]
  },
  {
   "cell_type": "markdown",
   "id": "a919500d-cf4b-4970-820d-67be30d6ea9a",
   "metadata": {},
   "source": [
    "## Umwandlung von Datumsangaben\n",
    "\n",
    "Die Variable/Spalte `datetime` ist derzeit noch ein String (vom Typ `chr`) - von daher ist es sinnvoll die Werte in Datumsangaben umzuwandeln. Zu diesem Zweck gibt es das Paket `lubridate`, was hier hilfreich ist."
   ]
  },
  {
   "cell_type": "code",
   "execution_count": null,
   "id": "71ab25ca-9907-43c5-82e8-2891fa8cbb70",
   "metadata": {},
   "outputs": [],
   "source": [
    "# lubridate installieren/laden\n",
    "library(lubridate)"
   ]
  },
  {
   "cell_type": "code",
   "execution_count": null,
   "id": "85eb7fc3-7353-42f8-849d-0515bcd51d36",
   "metadata": {},
   "outputs": [],
   "source": [
    "# Wie sieht das Datum vor der Konvertierung aus?\n",
    "str(bike.df$datetime)"
   ]
  },
  {
   "cell_type": "code",
   "execution_count": null,
   "id": "b1302f13-b0af-4a46-8357-d7c762eaaa99",
   "metadata": {},
   "outputs": [],
   "source": [
    "# mit der Funktion mdy_hm() die Datumsangaben umwandeln.\n",
    "bike.df$datetime <- mdy_hm(bike.df$datetime)"
   ]
  },
  {
   "cell_type": "code",
   "execution_count": null,
   "id": "27e90f77-b90f-4e9e-ac60-5b121161dac5",
   "metadata": {},
   "outputs": [],
   "source": [
    "# Wie sieht das Datum nach der Konvertierung aus?\n",
    "str(bike.df$datetime)"
   ]
  },
  {
   "cell_type": "markdown",
   "id": "ca6fc513-79bd-4c5e-8665-f491b4b2d72d",
   "metadata": {},
   "source": [
    "## Aufgabe: Datenquellen anpassen (`sources`)\n",
    "\n",
    "Eine weitere sinnvolle Optimierung ist es, die Anzahl der Qullen in `sources` zu reduzieren. Als Faustregel kann man hier den Wert 7 (+/- 2) als Anzahl der Einträge annehmen."
   ]
  },
  {
   "cell_type": "code",
   "execution_count": null,
   "id": "1390894b-ce91-498b-8094-b9e6732270c1",
   "metadata": {},
   "outputs": [],
   "source": [
    "# Anzahl der einzigartigen (unique) Einträge in sources ermitteln:\n",
    "number_sources <- unique(bike.df$sources)\n",
    "length(number_sources)\n",
    "number_sources"
   ]
  },
  {
   "cell_type": "markdown",
   "id": "9c71a971-25c6-4d9f-a846-4fd3d9bc3b64",
   "metadata": {},
   "source": [
    "![Übungsaufgabe](../Pics/excercise.png \"Übungsaufgabe\")\n",
    "\n",
    "* Welche Werte ais `sources` lassen sich ggf. in Gruppen von maximal 7 (+/- 2) Ausprägungen zusammengefasst darstellen?\n",
    "* Gibt es ggf. Merkmale, die dabei helfen, die Daten neu zu gruppieren?\n",
    "* Welche Befehle in ***R*** benötigt man für die Bereinigung? Nutzen SIe hiefür die Unterlagen und die Hilfe von R.\n",
    "* Welchen Datentyp sollte die Variable/Spalte `sources` nach einer Bereinigung bekommen?\n",
    "\n",
    "***Hinweis:*** Folgende hilfreiche Funktionen aus ***R*** können Sie für die Lösung der Aufgabe nutzen:\n",
    "\n",
    "* `strings::str_replace()` - ersetzt Teile von Zeichenketten\n",
    "* `trim()` - entfernt Whitspace (Leerzeichen, etc.) aus Zeichenketten \n",
    "* `tolower()` - wandelt eine Zeichenkette in Kleinbuchstaben um\n",
    "* `n()` - gibt die Anzahl von Elementen an\n",
    "* `is.na()` - zeigt an, welche Variablen nicht definiert sind (NA)\n",
    "* `dplyr::mutate()` - erweitert einen bestehenden `data.frame` um eine neuberechnete Spalte\n",
    "\n",
    "Für weitere Details, nutzen Sie bitte auch die Online-Hilfe von ***R***."
   ]
  },
  {
   "cell_type": "code",
   "execution_count": null,
   "id": "4aae9baa-16ab-4a78-bad1-14b09019400b",
   "metadata": {},
   "outputs": [],
   "source": [
    "# Hier kommt Ihr Source Code hin:\n"
   ]
  },
  {
   "cell_type": "markdown",
   "id": "dabc16b2-9700-469a-a2a2-5bb6d93fc5a1",
   "metadata": {},
   "source": [
    "## Daten in externe Dateien sichern (.csv/.xlsx)\n",
    "\n",
    "Um Daten aus Data Frames sichern zu können, kann man auf die folgenden Funktionen zurückgreifen. Also Formate stehen bspw. .csv oder .xlsx zur Verfügung."
   ]
  },
  {
   "cell_type": "code",
   "execution_count": null,
   "id": "e198db94-fbb7-458c-bbbf-6490817d2966",
   "metadata": {},
   "outputs": [],
   "source": [
    "# Schreiben einer .csv-Datei\n",
    "write.csv(bike.df, \"cleaned_bikeshare_data.csv\", row.names = FALSE)"
   ]
  },
  {
   "cell_type": "code",
   "execution_count": null,
   "id": "d6d3993c-ed26-4ed9-8111-e44ccca9f12c",
   "metadata": {},
   "outputs": [],
   "source": [
    "# Schreiben einer .xlsx-Datei mit der writexl Library\n",
    "# https://www.geeksforgeeks.org/reading-and-writing-excel-files-with-r-using-readxl-and-writexl/\n",
    "library(writexl)\n",
    "# Über Listen kann man eine Reihe von Daten als Arbeitsblätter mit Beschreibung\n",
    "# in eine Excel Datei speichern. Die einzelnen Arbeitsblätter werden über Kommas in einer \n",
    "# Liste gespeichert - im Beispiel unten sind es die bereinigten Daten und die Originaldaten\n",
    "\n",
    "data.save.xls <- list(\"Bereinigte Daten\" = bike.df, \n",
    "                      \"Original Daten\" = bike.raw\n",
    "                     )\n",
    "write_xlsx(data.save.xls ,\"cleaned_bikeshare_data.xlsx\" ,col_names = TRUE)"
   ]
  },
  {
   "cell_type": "markdown",
   "id": "e400fd5e-d765-47a1-a23d-7cda814e1f92",
   "metadata": {},
   "source": [
    "## Übungen: Zusammenfassung der Aufgaben aus diesem Abschnitt\n",
    "\n",
    "![Übungsaufgabe](../Pics/excercise.png \"Übungsaufgabe\")\n",
    "\n",
    "Führen Sie folgende Bereinigungen der importierten Daten im `tibble bike.df` durch und dokumentieren Sie Ihre Schritte in Ihrem Ergebnisdokument: \n",
    "\n",
    "* Reparieren Sie den fehlerhaften Eintrag in der Spalte `humidity`.\n",
    "* Wandeln Sie die von Ihnen identifizierten Variablen in die jeweiligen Skalen um.\n",
    "* Bereinigen Sie die Datumsangaben in der Variable/Spalte `datetime`.\n",
    "* Überlegen Sie sich eine Strategie, die Variable `sources` zu bereinigen. \n",
    "    * Machen Sie einen Vorschlag für die Zusammenfassung der Kategorien.\n",
    "    * Recherchieren Sie mögliche Befehle und Funktionen.Hier können das Paket `dplyr` mit der Funktion `dplyr::mutate()` und das Paket `stringr` mit der Funktion `stringr::str_replce()`hilfreich sein.\n",
    "    * [Optional:] Bereinigen Sie die Variable/Spalte `sources`.\n",
    "* Fassen Sie die Daten entlang der Kategorien aus `sources` für die Anzahl der `casual` und `registered` Nutzer zusammen.\n",
    "* Last, but not least: Speichern Sie die Daten einmal ab (*.csv* oder *.xlsx*)\n",
    "\n",
    "# Quellen\n",
    "\n",
    "* **Gendron (2016)** – Gendron, J.: *Introduction to R for business intelligence learn how to leverage the power of R for business intelligence* Birmingham, UK: Packt Publishing, 2016.\n",
    "* **Müller und Lenz (2013)** – Müller, R. M. und Jenz H.-J.: *Business Intelligence*, 1. Auflage, Springer Vieweg, 2013.\n",
    "* **Sauer (2019)** – Sauer, S.: *Moderne Datenanalyse mit R*, Springer, DOI: <https://doi.org/10.1007/978-3-658-21587-3>, 2019.\n",
    "\n",
    "# Lösungen\n",
    "Die Lösungen zu den Übungen finden Sie in der *Datei <a href=\"R-Kenntnis LSG Uebung 03.ipynb\">R-Kenntnis LSG Uebung 03.ipynb</a>*. Die Datei wird jeweils nach der Durchsprache der Übung bereitgestellt.\n",
    "\n",
    "<div class=\"alert alert-block alert-info\">\n",
    "<b>Info:</b> Die Datei wird jeweils nach der Durchsprache der Übung bereitgestellt.</div>"
   ]
  },
  {
   "cell_type": "code",
   "execution_count": null,
   "id": "80175477-5425-4ae7-9c84-5f21f5ad98d1",
   "metadata": {},
   "outputs": [],
   "source": []
  }
 ],
 "metadata": {
  "authors": [
   {
    "name": "Prof. Dr. Denis Royer"
   }
  ],
  "kernelspec": {
   "display_name": "R",
   "language": "R",
   "name": "ir"
  },
  "language_info": {
   "codemirror_mode": "r",
   "file_extension": ".r",
   "mimetype": "text/x-r-source",
   "name": "R",
   "pygments_lexer": "r",
   "version": "4.3.1"
  },
  "toc-autonumbering": true
 },
 "nbformat": 4,
 "nbformat_minor": 5
}

{
 "cells": [
  {
   "cell_type": "markdown",
   "id": "2743c5f8-7f31-49a8-a327-09551355cb62",
   "metadata": {},
   "source": [
    "![R-Kenntnis](../Pics/header.png \"R-Kenntnis\")\n",
    "\n",
    "<div class=\"alert alert-block alert-info\">\n",
    "\n",
    "* **Titel:** Übungen 04 (Add-On): Pivot-Tabellen mit `dplyr`\n",
    "* **Autor:** Prof. Dr. Denis Royer\n",
    "* **Datum:** 08.11.2022 (Version 1.0)\n",
    "\n",
    "</div>\n",
    "\n",
    "# BI - R-Kenntnis Lösung zu den Übungen 04 (Add-On): Pivot-Tabellen mit `dplyr`\n",
    "\n",
    "<div class=\"alert alert-block alert-warning\">\n",
    "<b>Wichtig:</b> Bevor wir loslegen, müssen wir zunächst einmal ein paar vorbereitende Dinge erledigen:\n",
    "\n",
    "* Die notwendigen Packages laden (bspw. `tidyverse`)\n",
    "* Den Datensatz laden (siehe *Data/cube_rohdaten.xlsx*)\n",
    "* Hinweis: Bei dem Datensartz handelt es sich um den gleich Datensatz, der auch bei der Excel-Übung zum EInsatz kam.\n",
    "</div>\n"
   ]
  },
  {
   "cell_type": "code",
   "execution_count": null,
   "id": "8ca316bd-e112-4fd1-a087-a95fccb4249d",
   "metadata": {},
   "outputs": [],
   "source": [
    "library(tidyverse)\n",
    "library(readxl)\n",
    "library(DT)\n",
    "\n",
    "# Hinweise der summarise() Funktion bei der Gruppierung von\n",
    "# Daten abschaltem - mehr unter:\n",
    "# https://statisticsglobe.com/dplyr-message-summarise-has-grouped-output-r\n",
    "options(dplyr.summarise.inform = FALSE)"
   ]
  },
  {
   "cell_type": "code",
   "execution_count": null,
   "id": "65be88df-d7db-4a97-b7fb-5074474e0247",
   "metadata": {},
   "outputs": [],
   "source": [
    "# Daten laden \n",
    "pipeline_report.raw <- read_excel(\"../Data/cube_rohdaten.xlsx\")"
   ]
  },
  {
   "cell_type": "code",
   "execution_count": null,
   "id": "84ee1998-3046-46b5-9f42-9b5e6390c4ff",
   "metadata": {},
   "outputs": [],
   "source": [
    "DT::datatable(pipeline_report.raw)"
   ]
  },
  {
   "cell_type": "code",
   "execution_count": null,
   "id": "c5b6ef07-cd19-4cd3-b109-c739a7a57a7e",
   "metadata": {},
   "outputs": [],
   "source": [
    "# Wie sieht der Datensatz aus?\n",
    "str(pipeline_report.raw)"
   ]
  },
  {
   "cell_type": "markdown",
   "id": "f869e87c-292b-4170-af05-49f5f738890d",
   "metadata": {},
   "source": [
    "# Einfache Pivots erstellen (Aufgabe 2)\n",
    "\n",
    "In den Folgenden Source-Code Blöcken, werden die Aufgaben aus der Excel Pivot-Tabellen Übung in ***R*** nachgestellt. \n",
    "\n",
    "Die Aufgaben sollen als Beispiele für die Nutzung von `dplyr` dienen und die Inhalte aus **Übung 04:** <a href=\"Uebung 04/R-Kenntnis Uebung 04.ipynb\">Datenaufbereitung mit `dplyr`</a> ergänzen.\n",
    "\n",
    "## Aufgabe 2a\n",
    "\n",
    "**Frage:**  Wie viele Opportunities werden voraussichtlich im 1. Quartal 2019 in Deutschland abgeschlossen?\n"
   ]
  },
  {
   "cell_type": "code",
   "execution_count": null,
   "id": "519d610a-de27-4504-909d-f6aac9921559",
   "metadata": {},
   "outputs": [],
   "source": [
    "# SCHRITT 1:\n",
    "# Zunächst geht es darum, die Daten einmal zu filtern, so dass\n",
    "# nur die Daten mit Export = 0 gentzt werden.\n",
    "#\n",
    "# Weiterhin werden die Daten zu den Quartale und Jahre so kombiniert,\n",
    "# so dass sie in der Form YYYY-Q in eine neue Spalte QuartalJahr\n",
    "# zum Gruppieren der Daten genutzt werden können. \n",
    "\n",
    "aufgabe.2a.step1 <- pipeline_report.raw %>%\n",
    "              filter(Export == 0) %>%\n",
    "              mutate(QuartalJahr = paste(Jahr, Quartal, sep=\"-\")) \n",
    "\n",
    "head(aufgabe.2a.step1)"
   ]
  },
  {
   "cell_type": "code",
   "execution_count": null,
   "id": "7fed8352-7e71-4b9c-8fd0-729a35bb9479",
   "metadata": {},
   "outputs": [],
   "source": [
    "# SCHRITT 2:\n",
    "# Sind die Daten nun aufbereitet, können sie nach QuartalJahr und Phase\n",
    "# gruppiert (group_by) und die Anzahl der Opportunities dann addiert werden\n",
    "# (summarise). Bei der Addition werden die leeren Werte (NA) ignoriert\n",
    "# (Parameter: na.rm = TRUE).\n",
    "\n",
    "aufgabe.2a.step2 <- aufgabe.2a.step1 %>%\n",
    "              group_by(QuartalJahr, Phase) %>%\n",
    "              summarise(Auftraege = sum(AnzahlOpportunities,na.rm = TRUE)) \n",
    "\n",
    "# Ausagabe der ersten 6 Werte\n",
    "head(aufgabe.2a.step2)"
   ]
  },
  {
   "cell_type": "code",
   "execution_count": null,
   "id": "b114a868-623e-4fb6-af77-3e2e0e52dd27",
   "metadata": {},
   "outputs": [],
   "source": [
    "# SCHRITT 3:\n",
    "# Da die Daten immer noch in ihrer Ursprungsform sind (zeilenweise), \n",
    "# müssen sie nun einmal pivotiert werden, so dass die Phasen der Projekte\n",
    "# und die Qartalssummen gebildet werden können. \n",
    "# Die pivot_wider() Funktion übernimmt dies und sortiert die Daten so um, dass in \n",
    "# den Zeilen die Projektphasen stehen (values_from = Auftraege) und in den Splaten die\n",
    "# QuartalJahr Informationen (names_from = QuartalJahr).\n",
    "\n",
    "aufgabe.2a.step3 <- aufgabe.2a.step2 %>%\n",
    "              pivot_wider(names_from = QuartalJahr, values_from = Auftraege)\n",
    "\n",
    "aufgabe.2a.step3"
   ]
  },
  {
   "cell_type": "code",
   "execution_count": null,
   "id": "d2e655b0-12e4-4aa7-98a2-c7de922547a8",
   "metadata": {},
   "outputs": [],
   "source": [
    "# SCHRITT 4:\n",
    "# Im letzten Schritt, sollen die Summen der Zeilen am Ende\n",
    "# als neue Spalte eimngefügt werden. Hierzu gibt es zwei Wege:\n",
    "\n",
    "# Weg 1:\n",
    "# Die Splaten, die summiert werden sollen, werden vorab in einem \n",
    "# separaten Vektor gespeichert (cols_to_sum) und dann summiert\n",
    "# \n",
    "# https://data-se.netlify.app/2021/05/27/zeilenweise-operationen-tidyverse-stil/\n",
    "\n",
    "cols_to_sum <- c(\"2019-1\", \"2019-2\", \"2019-3\", \"2019-4\", \"2020-1\")\n",
    "aufgabe.2a.step4 <- aufgabe.2a.step3 %>%rowwise() %>%              \n",
    "              mutate(summe = sum(across(any_of(cols_to_sum)),na.rm = TRUE))\n",
    "aufgabe.2a.step4"
   ]
  },
  {
   "cell_type": "code",
   "execution_count": null,
   "id": "5c6fa228-f4de-41f8-98a4-3638863f2c16",
   "metadata": {},
   "outputs": [],
   "source": [
    "# Weg 2:\n",
    "# Alternativ kann man einfach alle Spalten summieren, die Nummern\n",
    "# enthalten - dies geht dann wie folgt:\n",
    "\n",
    "aufgabe.2a.step4 <- aufgabe.2a.step3 %>%rowwise() %>%              \n",
    "              mutate(summe = sum(across(where(is.numeric)),na.rm = TRUE))\n",
    "aufgabe.2a.step4"
   ]
  },
  {
   "cell_type": "code",
   "execution_count": null,
   "id": "9d19a043-695a-4948-9102-7ac11774d576",
   "metadata": {},
   "outputs": [],
   "source": [
    "# Alle Schritte zusammen:\n",
    "\n",
    "aufgabe.2a <- pipeline_report.raw %>%\n",
    "              filter(Export == 0) %>%\n",
    "              mutate(QuartalJahr = paste(Jahr, Quartal, sep=\"-\")) %>%\n",
    "              group_by(QuartalJahr, Phase) %>%\n",
    "              summarise(Auftraege = sum(AnzahlOpportunities)) %>%\n",
    "              pivot_wider(names_from = QuartalJahr, values_from = Auftraege) %>%\n",
    "              rowwise() %>%              \n",
    "              mutate(summe = sum(across(where(is.numeric)),na.rm = TRUE))"
   ]
  },
  {
   "cell_type": "code",
   "execution_count": null,
   "id": "826457d3-c591-486d-97bd-e31c6ef80098",
   "metadata": {},
   "outputs": [],
   "source": [
    "aufgabe.2a"
   ]
  },
  {
   "cell_type": "markdown",
   "id": "332c1349-37b9-44ef-92a1-b783f87a49d8",
   "metadata": {},
   "source": [
    "## Aufgabe 2b\n",
    "\n",
    "**Frage:** Wie viele Opportunities, bei denen man sich aktuell in Vertragsverhandlungen befindet, werden voraussichtlich im 2. Quartal 2019 abgeschlossen?"
   ]
  },
  {
   "cell_type": "code",
   "execution_count": null,
   "id": "07548fa5-cfef-4269-b5a6-044c43f4b976",
   "metadata": {},
   "outputs": [],
   "source": [
    "aufgabe.2b <- pipeline_report.raw %>%\n",
    "              filter(Export == 0) %>%\n",
    "              mutate(QuartalJahr = paste(Jahr, Quartal, sep=\"-\")) %>%\n",
    "              group_by(QuartalJahr, Land) %>%\n",
    "              summarise(Auftraege = sum(AnzahlOpportunities)) %>%\n",
    "              pivot_wider(names_from = QuartalJahr, values_from = Auftraege) %>%\n",
    "              rowwise() %>%              \n",
    "              mutate(summe = sum(across(where(is.numeric)),na.rm = TRUE))\n",
    "\n",
    "aufgabe.2b"
   ]
  },
  {
   "cell_type": "markdown",
   "id": "82ac9631-d514-4c0e-9bad-67f1f296cbd5",
   "metadata": {},
   "source": [
    "## Aufgabe 2c\n",
    "\n",
    "**Frage:** Für welches Produkt existieren derzeit in den USA die meisten Opportunities?"
   ]
  },
  {
   "cell_type": "code",
   "execution_count": null,
   "id": "77e70cb9-e05c-46ba-bbeb-11a684afcdef",
   "metadata": {},
   "outputs": [],
   "source": [
    "aufgabe.2c <- pipeline_report.raw %>%\n",
    "              filter(Export == 0) %>%\n",
    "              group_by(Land, Produkt) %>%\n",
    "              summarise(Auftraege = sum(AnzahlOpportunities)) %>%\n",
    "              pivot_wider(names_from = Land, values_from = Auftraege) %>%\n",
    "              rowwise() %>%              \n",
    "              mutate(summe = sum(across(where(is.numeric)),na.rm = TRUE))\n",
    "\n",
    "aufgabe.2c"
   ]
  },
  {
   "cell_type": "markdown",
   "id": "c00507a6-6fd4-40f6-ba8d-ef659351b0ae",
   "metadata": {},
   "source": [
    "## Aufgabe 2d\n",
    "\n",
    "**Frage:** Mit welchem Produkt wird in welcher Branche voraussichtlich am meisten und am wenigsten Umsatz erzielt werden?"
   ]
  },
  {
   "cell_type": "code",
   "execution_count": null,
   "id": "b7d63cce-d92f-4c98-80cc-20e2468bc9cc",
   "metadata": {},
   "outputs": [],
   "source": [
    "aufgabe.2d <- pipeline_report.raw %>%\n",
    "              filter(Export == 0) %>%\n",
    "              group_by(Branche, Produkt) %>%\n",
    "              summarise(SummeBetraege = sum(Betrag)) %>%\n",
    "              pivot_wider(names_from = Branche, values_from = SummeBetraege) %>%\n",
    "              rowwise() %>%              \n",
    "              mutate(summe = sum(across(where(is.numeric)),na.rm = TRUE))\n",
    "\n",
    "DT::datatable(aufgabe.2d)"
   ]
  },
  {
   "cell_type": "markdown",
   "id": "e0e2fb67-fad4-4872-87af-78b09c1d7e62",
   "metadata": {},
   "source": [
    "## Exkurs: Tabellen aufhübschen mit gt"
   ]
  },
  {
   "cell_type": "code",
   "execution_count": null,
   "id": "3700d628-c856-444d-a466-9398707796e9",
   "metadata": {},
   "outputs": [],
   "source": [
    "library(gt)\n",
    "\n",
    "# Tabelle mit dem Package gt hübsch machen\n",
    "myTable <- aufgabe.2d %>%\n",
    "  gt() %>%\n",
    "  tab_header(\n",
    "    title = \"Umsatz Dienstleistungen nach Länder\",\n",
    "  ) %>%\n",
    "  fmt_currency(\n",
    "    columns = c(2:11),\n",
    "    currency = \"EUR\",\n",
    "  ) \n",
    "\n",
    "# Ausgabe als HTML - ist notwendig, damit es in JupyterLab\n",
    "# auch richtig eingebettet wird\n",
    "gt:::as.tags.gt_tbl(myTable)"
   ]
  },
  {
   "cell_type": "markdown",
   "id": "fe78c068-0a83-4702-ab02-c33eeeea4b77",
   "metadata": {},
   "source": [
    "# Kompexere Pivots (Aufgabe 3)"
   ]
  },
  {
   "cell_type": "code",
   "execution_count": null,
   "id": "13651b97-5263-45ad-a738-9d3076ddc1fe",
   "metadata": {},
   "outputs": [],
   "source": [
    "aufgabe.3a <- pipeline_report.raw %>%\n",
    "              filter(Export == 0) %>%\n",
    "              mutate(QuartalJahr = paste(Jahr, Quartal, sep=\"-\")) %>%\n",
    "              mutate(propabitity = case_when(\n",
    "                  Phase == '1 Interessiert' ~ 0.05,\n",
    "                  Phase == '2 Geprüft' ~ 0.10,\n",
    "                  Phase == '3 Angebotsvorbereitung' ~ 0.20,\n",
    "                  Phase == '4 Angebot abgegeben' ~ 0.25,\n",
    "                  Phase == '5 Angebotsverhandlung' ~ 0.50,\n",
    "                  Phase == '6 Vertragsverhandlung' ~ 0.75,\n",
    "                  TRUE ~ as.numeric(0))) %>%\n",
    "              mutate(GewBetrag = propabitity * Betrag) %>%\n",
    "              group_by(QuartalJahr, Produkt) %>%\n",
    "              summarise(Auftraege = sum(GewBetrag,na.rm = TRUE)) %>%\n",
    "              pivot_wider(names_from = QuartalJahr, values_from = Auftraege) %>%\n",
    "              rowwise() %>%              \n",
    "               mutate(summe = sum(across(where(is.numeric)),na.rm = TRUE))"
   ]
  },
  {
   "cell_type": "code",
   "execution_count": null,
   "id": "e4d4c165-b4b3-4cd3-b673-55c952ad368e",
   "metadata": {},
   "outputs": [],
   "source": [
    "DT::datatable(aufgabe.3a)"
   ]
  }
 ],
 "metadata": {
  "kernelspec": {
   "display_name": "R",
   "language": "R",
   "name": "ir"
  },
  "language_info": {
   "codemirror_mode": "r",
   "file_extension": ".r",
   "mimetype": "text/x-r-source",
   "name": "R",
   "pygments_lexer": "r",
   "version": "4.2.1"
  },
  "toc-autonumbering": true
 },
 "nbformat": 4,
 "nbformat_minor": 5
}

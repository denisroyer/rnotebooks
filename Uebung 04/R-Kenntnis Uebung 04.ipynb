{
 "cells": [
  {
   "cell_type": "markdown",
   "id": "566f5045-2d29-4a06-811c-7fd5b73e3bb1",
   "metadata": {},
   "source": [
    "![R-Kenntnis](../Pics/header.png \"R-Kenntnis\")\n",
    "\n",
    "<img src=\"https://img.shields.io/badge/--Kenntnis-blue?style=flat-square&logo=r&logoColor=white\"/> <a href=\"https://ostfalia.de/w\" target=\"_blank\"><img src=\"https://img.shields.io/badge/Ostfalia-Fakultät%20W-blue?style=flat-square&logo=googlescholar&logoColor=white\"/></a> <img src=\"https://img.shields.io/badge/Semester-WiSe2023%2F24-green?style=flat-square\"/> <img src=\"https://img.shields.io/badge/Copyright-2020--24-orange?style=flat-square\"/> <a href=\"https://creativecommons.org/licenses/by-nc-sa/4.0/\" target=\"_blank\"><img src=\"https://img.shields.io/badge/License-by--nc--sa-red?style=flat-square\"/></a> \n",
    "\n",
    "<div class=\"alert alert-block alert-info\">\n",
    "<img src=\"https://img.shields.io/badge/Information-Übung_04-blue?style=for-the-badge&logo=bookstack&logoColor=white\">\n",
    "    \n",
    "* **Titel:** R-Kenntnis Übungen 04: Datenaufbereitung mit `dplyr`\n",
    "* **Autor:** Prof. Dr. Denis Royer\n",
    "* **Datum:** 30.09.2023 (Version 3.0)\n",
    "\n",
    "</div>\n",
    "\n",
    "![Header_Data](../Pics/header_data.png \"Data\")\n",
    "\n",
    "<div class=\"alert alert-block alert-success\">\n",
    "\n",
    "# Überblick:    \n",
    "## 04: Datenaufbereitung mit `dplyr`\n",
    "- **Hauptfunktionen:** Das `dplyr` Paket in R bietet eine Sammlung von Funktionen zur Datenmanipulation, die das Laden, Bereinigen, Selektieren und Aggregieren von Daten in `data.frames` oder `tibbles` erleichtern.\n",
    "  \n",
    "- **Populäre Befehle:** Zu den zentralen Funktionen gehören `mutate()`, `select()`, `filter()`, `summarise()`, `arrange()` und `group_by()`.\n",
    "\n",
    "- **Pipe Syntax:** Eine zusätzliche, für den Workflow hilfreiche Funktion ist die Pipe Syntax (`%>%`) aus dem `magrittr`-Paket, die den verschachtelten Aufruf von Funktionen in einer leserlichen Sequenz ermöglicht.\n",
    "\n",
    "- **Vergleich mit Base R:** Die dplyr-Funktionen bieten oftmals eine intuitivere und effizientere Möglichkeit zur Datenmanipulation im Vergleich zu den Basisfunktionen von R.\n",
    "\n",
    "- **Zusätzliche Features:** Das Paket beinhaltet auch Funktionen wie `arrange()`, `group_by()` und `summarise()` zur Sortierung und Gruppierung von Daten, sowie viele Hilfsfunktionen für detaillierte Datenselektion.\n",
    "\n",
    "## Vermittelte Kompetenzen:\n",
    "\n",
    "Durch die dplyr Übung können Anwender in R Datenmanipulationsaufgaben ohne komplexe Basis-R-Syntax meistern. Sie lernen, Datenflüsse mit der Pipe Syntax (%>%) zu organisieren und Tabellendaten effizient zu bearbeiten, um sie für Analysen und Visualisierungen vorzubereiten.    \n",
    "</div>\n",
    "\n",
    "# BI - R-Kenntnis Übungen 04: Datenaufbereitung mit `dplyr`\n",
    "\n",
    "Bitte lesen Sie die folgenden Kapitel und die enthaltenen Hinweise ***sorgfältig*** durch. Die Aufgaben sind zum Teil in den Kapiteln enthalten.\n",
    "    \n",
    "<div class=\"alert alert-block alert-warning\">\n",
    "<b>WICHTIG:</b> \n",
    "    \n",
    "*Die Schritte im Source Code bauen zum Teil aufeinander auf. Sollten Sie Ihre RStudio oder JupyterLab Session schließen oder neu starten, so müssen Sie ggf. den **Code erneut ausführen**, bzw. die **Packages neu laden**.*\n",
    "    \n",
    "</div>\n",
    "\n",
    "<div class=\"alert alert-block alert-info\">\n",
    "<b>Hinweis:</b> Weitere Hinweise und Quellen finden Sie <a href=\"../index.ipynb\">auf der zenteralen Übersicht zu den Übungen</a>. </div>\n",
    "\n",
    "# Einleitung\n",
    "\n",
    "In der Welt der Datenanalyse und des Data Science ist es von zentraler Bedeutung, über robuste Werkzeuge zur Datenmanipulation zu verfügen. Die `dplyr`-Bibliothek in R stellt genau ein solches Werkzeug dar, das es erlaubt, Daten effizient, intuitiv und elegant zu verarbeiten. In dieser Übung werden wir uns auf die Kernfunktionalitäten von `dplyr` konzentrieren, um die Komplexität der Basis-R-Syntax zu umgehen und einen strukturierten Datenfluss zu gewährleisten. Der Fokus liegt dabei nicht nur auf dem Erwerb von technischen Fähigkeiten, sondern auch auf dem Verständnis des dahinterliegenden Konzepts und dem effizienten Umgang mit Tabellendaten. Ich lade euch ein, mit mir gemeinsam in die faszinierende Welt der Datenmanipulation in R einzutauchen und die Vielseitigkeit und Stärke von `dplyr` zu entdecken."
   ]
  },
  {
   "cell_type": "markdown",
   "id": "418c3370-a7ae-4b79-823f-6db50bd03846",
   "metadata": {
    "tags": []
   },
   "source": [
    "# Vorbereitende Schritte für die Übung 04\n",
    "\n",
    "\n",
    "<div class=\"alert alert-block alert-warning\">\n",
    "<b>Wichtig:</b> Bevor wir loslegen, müssen wir zunächst einmal ein paar vorbereitende Dinge erledigen:\n",
    "\n",
    "* Die notwendigen Packages laden (bspw. `tidyverse`)\n",
    "* Datensatz laden (siehe *Data/raw_bikeshare_data.csv*)\n",
    "* Als weiteren Datensatz nutzen wir den Testdatensatz `starwars`\n",
    "\n",
    "</div>\n"
   ]
  },
  {
   "cell_type": "code",
   "execution_count": null,
   "id": "65a83caf-6692-4a9e-9b70-bc5220866e97",
   "metadata": {},
   "outputs": [],
   "source": [
    "# Sofern Paket nicht installiert sind, soll sie installiert werden. \n",
    "# Die require() Funktion prüft ab, ob das Paket bereits installiert ist. \n",
    "# if(!require(\"tidyverse\")) install.packages(\"tidyverse\")\n",
    "# Laden der Pakete tidyverse (lädt stringr, tibble, readr und dplyr) und DT\n",
    "library(tidyverse)\n",
    "library(DT)"
   ]
  },
  {
   "cell_type": "code",
   "execution_count": null,
   "id": "c71744b4-b20a-42f5-ae1c-cee6fca2a3e4",
   "metadata": {},
   "outputs": [],
   "source": [
    "# Laden der Daten aus der Beispieldatei (nutzt readr)\n",
    "# Wichtig: Die Datei nicht 'vorher mit Excel öffnen!\n",
    "bike.df <- read_csv(\"../Data/raw_bikeshare_data.csv\")"
   ]
  },
  {
   "cell_type": "markdown",
   "id": "d95c0204-ea8a-433e-9e37-4c31da9d024c",
   "metadata": {},
   "source": [
    "Sind die Packages geladen und die Daten im Speicher, so können wir uns mit der Funktion `dplyr::glimpse()`einmal die Daten anschauen:"
   ]
  },
  {
   "cell_type": "code",
   "execution_count": null,
   "id": "e11f6140-76bc-47ee-89c0-77ab12179e35",
   "metadata": {},
   "outputs": [],
   "source": [
    "# Daten ansehen mit der dplyr::glimpse() Funktion\n",
    "glimpse(bike.df)"
   ]
  },
  {
   "cell_type": "code",
   "execution_count": null,
   "id": "31b2350e-cbc0-44cb-ad7a-f3f90866bfc4",
   "metadata": {},
   "outputs": [],
   "source": [
    "# Die Ausgabe in \"fancy\" mit dem Package DT\n",
    "# Mehr unter https://rstudio.github.io/DT/\n",
    "DT::datatable(head(bike.df,n = 20))"
   ]
  },
  {
   "cell_type": "code",
   "execution_count": null,
   "id": "5689f9c0-22fc-4315-9b0c-b44f4cffd41f",
   "metadata": {},
   "outputs": [],
   "source": [
    "# ... und noch der Starwars Datensatz:\n",
    "glimpse(starwars)"
   ]
  },
  {
   "cell_type": "code",
   "execution_count": null,
   "id": "5b14b559-e562-431d-bd51-41066e531ea9",
   "metadata": {},
   "outputs": [],
   "source": [
    "# Die Ausgabe in \"fancy\" mit dem Package DT\n",
    "# Mehr unter https://rstudio.github.io/DT/\n",
    "DT::datatable(starwars)"
   ]
  },
  {
   "cell_type": "markdown",
   "id": "39c6dc26-c402-450e-a510-3b8f9408a311",
   "metadata": {
    "tags": []
   },
   "source": [
    "# Das Paket `dplyr`\n",
    "\n",
    "In einem Business Intelligence Projekt stellt die Aufbereitung der Daten (Data Preparation oder Data Manipulation) einen wichtigen Schritt dar, der vielfach auch mit hohen Aufwänden einhergeht. So müssen für die weiteren Schritte die Daten geladen, bereinigt und so selektiert werden, dass ein Modell die benötigten Daten bekommt.\n",
    "\n",
    "In der Welt von ***R*** gibt es eine Reihe von Paketen, die bei der Data Preparation sehr gut helfen können. Ein sehr hilfreiches und häufig verwendetes Paket ist [`dplyr`](https://dplyr.tidyverse.org), welches zur `tidyverse`-Familie gehört.\n",
    "\n",
    "Das Package `dplyr` stellt eine Sammlung von Befehlen zur Datenmanipulation zur Verfügung. Dem Paket liegt eine Grammatik zur Datenaufbereitung zugrunde (A Grammar of Data Manipulation). Es wurde von Hadley Wickham entwickelt und erfreut sich großer Beliebtheit in der ***R***-Community. `dplyr` erleichtert die Aufbereitung von Datensätzen, indem es einfach zu nutzende Funktionen für die üblichen Aufgaben bereitstellt wie z.B. für die Auswahl von Spalten (`select()`), nach gewissen Kriterien die Zeilen filtern (`filter()`) oder Werte zu aggregieren (`summarise()`). \n",
    "\n",
    "Der zu bearbeitende Datensatz muss als `data.frame` oder `tibble` (die `data.frame`-Variante im `tidyverse`) vorliegen, also einer **Tabelle mit mehreren Spalten und vielen Zeilen**."
   ]
  },
  {
   "cell_type": "markdown",
   "id": "f168f4ba-7c20-4bd2-8c02-579c341b6726",
   "metadata": {
    "tags": []
   },
   "source": [
    "<div class=\"alert alert-block alert-success\">\n",
    "<b>Hinweis:</b> In <a href=\"../Uebung 03/R-Kenntnis Uebung 03.ipynb\">Uebung 03</a> konnten Sie schon erste Gehversuche mit <b>dplyr</b> unternehmen. Diese Übung vertieft Ihr Wissen zum Thema Datenaufbereitung und gibt Hinweise zu weiteren Themen.\n",
    "</div>\n",
    "    \n",
    "<div class=\"alert alert-block alert-success\">\n",
    "<b>Tipp:</b> \n",
    "\n",
    "Als schnelle Referenz kann man das **`dplyr` Cheat Sheet** hier herunterladen: <https://github.com/rstudio/cheatsheets/blob/master/data-transformation.pdf>\n",
    "    \n",
    "![data-transformation-cheatsheet-thumbs](../Pics/data-transformation-cheatsheet-thumbs.png \"dplyr Cheat Sheet\")\n",
    "    \n",
    "</div>"
   ]
  },
  {
   "cell_type": "markdown",
   "id": "3e93d1c1-6bd3-4706-ab8b-f3259796422f",
   "metadata": {
    "tags": []
   },
   "source": [
    "## `dplyr` auf einen Blick\n",
    "\n",
    "Die Idee von dplyr ist es, die wichtigsten Tools für die hierbei anfallenden Aufgaben möglichst einfach und intuitiv in einem Package bereitzustellen:\n",
    "\n",
    "* dplyr ist eine umfangreiche Toolbox zur Inspektion und Manipulation von Daten.\n",
    "* Funktionen/Syntax von dplyr lassen sich gleichermaßen auf Data Frames, Data Tables und sogar Datenbanken anwenden.\n",
    "* dplyr hat eine deutlich höhere Performance als die Basis-Funktionen von R.\n",
    "* dplyr kann ohne Probleme mit konventionellen Data Frames arbeiten.\n",
    "    * Bei großen Daten empfiehlt es sich aber, diese mit Hilfe von `as_tibble()` in ein `dplyr`-spezifisches Format zu konvertieren: das sogenannte `tibble`.\n",
    "    * Das `tibble` ist eine auf Leistung getrimmte Version eines `Data.Frames`.\n",
    "* Die zentralen Verben (die Funktionen) von `dplyr` sind:\n",
    "    * `dplyr::mutate()` fügt einem Datensatz neue (berechnete) Variablen hinzu\n",
    "    * `dplyr::select()` selektiert Daten anhand ihrer Bezeichner aus einem Datensatz\n",
    "    * `dplyr::filter()` selektiert Datensätze anhald ihrer Eigenschaften/Werte\n",
    "    * `dplyr::summarise()` fasst Datensätze zu einzelnen Werten zusammen\n",
    "    * `dplyr::arrange()` verändert die Reihung von Spalten in einem Datensatz\n",
    "    * `dplyr::group_by()` gruppiert Datensätze"
   ]
  },
  {
   "cell_type": "markdown",
   "id": "e5950535-e744-40d9-8088-e10d82081246",
   "metadata": {
    "tags": []
   },
   "source": [
    "## Der Pipe Syntax `(%<%)` (`magrittr`-Package)\n",
    "Das Zeichen „*Prozent – größer – Prozent*“ nennt sich Forward-Pipe und ist ein Konzept, welches die Lesbarkeit von R-Code erhöhen soll. Prinzipiell braucht man sie nicht, die Pipe hat sich aber als so praktisch erwiesen, dass sie heute vielfach verwendet wird. Insbesondere im `tidyverse`, also `dplyr`, `ggplot2` etc., ist sie nicht mehr wegzudenken.\n",
    "\n",
    "**Aber was macht sie denn nun. Ganz einfach eigentlich:** \n",
    "\n",
    "* Statt $f(x, …)$ schreibt man nun `x %>% f(…)`. \n",
    "* Warum ist das so nützlich? Weil damit der verschachtelte Aufruf von Funktionen viel lesbarer wird. \n",
    "* Stellen Sie sich vor, wir wollen auf einen Datensatz df zuerst die Funktion f anwenden und auf das Ergebnis die Funktion g. \n",
    "* Dann wäre der normale Code `g(f(df))`. \n",
    "* Mit der magrittr-Pipe wäre dass `df  %>% f %>% ` und entspricht der Leserichtung von links nach rechts. \n",
    "* Kommen nun noch Parameter in Spiel, z.B. p1 und p2 für f sowie p3 für g, dann wäre der konventionelle R-Code `g(f(df,p1,p2),p3)`. \n",
    "* Mit der Pipe `df %>% f(p1,p2) %>% g(p3)`.\n",
    "\n",
    "### Ein (konstruiertes) Beispiel:\n",
    "\n",
    "```R\n",
    "# Einmal auf konventionelle Art und Weise:\n",
    "filter(summarise(group_by(filter(stats_test, !is.na(score)), interest), mw = mean(score)), mw > 30) \n",
    "\n",
    "# mit dem Pipe Syntax:\n",
    "stats_test %>%\n",
    "    filter(!is.na(score)) %>% \n",
    "    group_by(interest) %>% \n",
    "    summarise(mw = mean(score)) %>% \n",
    "    filter(mw > 30) \n",
    "```\n",
    "\n",
    "Das ganze im Pipe-Syntax liest sich wie folgt:\n",
    "\n",
    "```\n",
    "Nimm die Tabelle „stats_test“ UND DANN\n",
    "    filtere alle nicht-fehlenden Werte UND DANN\n",
    "    gruppiere die verbleibenden Werte nach „interest“ UND DANN\n",
    "    bilde den Mittelwert (pro Gruppe) für „score“ UND DANN\n",
    "    liefere nur die Werte größer als 30 zurück.\n",
    "```\n",
    "\n",
    "\n",
    "### Die Geschichte des Pipe Syntax \n",
    "Diese Pipe wurde 2014 von Stefan Milton Bache mit dem Package `magrittr` in ***R*** (benannt nach dem Bild einer Pfeife von René Magritte) umgesetzt und von Hadley Wickham in das tidyverse integriert. Wenn man ein Paket aus dem tidyverse ladet, bekommt man automatisch die Pipe-Funktionalität dazu.\n",
    "\n",
    "<div class=\"alert alert-block alert-success\">\n",
    "<b>Tipp:</b> \n",
    "    Der Shortcut in <b>R-Studio</b> für die Pipe lautet <b>Strg + Shift + M</b>.\n",
    "</div>"
   ]
  },
  {
   "cell_type": "markdown",
   "id": "d28bca0a-477b-4776-91ed-49c184b78500",
   "metadata": {
    "tags": [
     "uebung"
    ]
   },
   "source": [
    "### Übungen zum Pipe Syntax\n",
    "\n",
    "![Übungsaufgabe](../Pics/excercise.png \"Übungsaufgabe\")\n",
    "\n",
    "**Basierend auf der Lösung von Übung 3:** \n",
    "* Wie sieht der Source Code für den Marketing Report im Pipe Syntax aus?\n",
    "* Schreiben Sie hierzu die Lösungsschritte aus den Kapiteln 1.2 bis 1.4 aus der <a href=\"../Uebung 3/R-Kenntnis LSG Uebung 3.ipynb\">Lösung zu Uebung 03</a> in ein einziges Pipe-Syntax Statement um, so dass der Marketing Bericht aus der ursprünglichen Aufgabenstellung entsteht.\n",
    "* Am Ende soll die gleiche Tabelle als Ergebnis entsteht:\n",
    "\n",
    "| season| sum(casual)| sum(revenue)|\n",
    "|------:|-----------:|------------:|\n",
    "|      1|          14|           70|\n",
    "|      2|           4|           20|\n",
    "    "
   ]
  },
  {
   "cell_type": "code",
   "execution_count": null,
   "id": "b4fcf280-cd59-4b83-854a-50c999c32951",
   "metadata": {},
   "outputs": [],
   "source": [
    "# Hier kommt Ihr Source Code hin:\n",
    "\n"
   ]
  },
  {
   "cell_type": "markdown",
   "id": "aa9eeaf5-75f7-456e-b30c-04209786076d",
   "metadata": {
    "tags": []
   },
   "source": [
    "## Auswahl von Daten mit `filter()` und `select()`\n",
    "\n",
    "Für die Datenanalyse brauchen wir oftmals nur einen Teil der Daten. Hier können die Funktionen `filter()` und `select()`sehr hilfreich sein:\n",
    "\n",
    "* **Zeilen (Beobachtungen) extrahieren mit `filter()`** - Die Funktion `filter()` filtert Zeilen aus einem Dataframe. Die Zeilen, die zum Filterkriterium passen, bleiben im Datensatz.\n",
    "* **Spalten (Variablen) extrahieren mit `select()`** - Die Funktion `select()` wählt Spalten aus einem Dataframe aus.\n",
    "\n",
    "![dplyr_filter_select](../Pics/dplyr_filter_select.jpg \"dplyr: Unterschiede filter() und select()\")\n",
    "\n",
    "<div class=\"alert alert-block alert-info\">\n",
    "<b> Wichtigster Unterschied zu den Base R Funktionen:</b> Es muss keine direkte Referenzierung auf den jeweiligen Datensatz erfolgen. Auf dem ersten Blick nicht viel Ersparnis, mit steigender Komplexität der Bedingungen ändert sich dies jedoch.</div>"
   ]
  },
  {
   "cell_type": "code",
   "execution_count": null,
   "id": "ae518bcf-0346-4889-939c-6f131db28be0",
   "metadata": {
    "tags": []
   },
   "outputs": [],
   "source": [
    "# Filtern von Zeilen nach einem oder mehreren Kriterien\n",
    "bike.filtered.df <- filter(bike.df, season == 1 & weather == 2) \n",
    "DT::datatable(bike.filtered.df)"
   ]
  },
  {
   "cell_type": "code",
   "execution_count": null,
   "id": "bb2b4b15-6d16-4bb9-9f54-7e690bc21b4a",
   "metadata": {
    "tags": []
   },
   "outputs": [],
   "source": [
    "# ... und zum Vergleich in Base R\n",
    "bike.filtered2.df <- bike.df[(bike.df$season == 1 & bike.df$weather == 2), ]\n",
    "DT::datatable(bike.filtered2.df)"
   ]
  },
  {
   "cell_type": "code",
   "execution_count": null,
   "id": "1afd48f1-444c-4046-a308-ff6d6c1b7351",
   "metadata": {
    "tags": []
   },
   "outputs": [],
   "source": [
    "# Selektiere name und alle Spalten, die die Zeichenkette\n",
    "# \"color\" enthalten\n",
    "starwars %>% \n",
    "  select(name, ends_with(\"color\"))"
   ]
  },
  {
   "cell_type": "code",
   "execution_count": null,
   "id": "f45a9689-2df9-4a0e-9204-12de63873efd",
   "metadata": {
    "tags": []
   },
   "outputs": [],
   "source": [
    "starwars %>% \n",
    "  filter(species == \"Droid\")"
   ]
  },
  {
   "cell_type": "markdown",
   "id": "c1ac84a9-02a1-41b7-9122-29fa8884ebcd",
   "metadata": {
    "tags": []
   },
   "source": [
    "### Weitere Funktionen\n",
    "\n",
    "* `distinct()` - Entfernen von doppelten Zeilen \n",
    "* `sample_frac()` - Anteilige Zufallsstichprobe \n",
    "* `sample_n()` - Zufallsstichprobe von n Zeilen \n",
    "* `slice()` -  \"Ausschneiden\" von Zeilen nach deren Position \n",
    "* `top_n()` - Auswählen und sortieren der n ersten Zeilen"
   ]
  },
  {
   "cell_type": "markdown",
   "id": "e59bf39c-134b-4e8f-bbeb-29f050ce3c8b",
   "metadata": {
    "tags": [
     "uebung"
    ]
   },
   "source": [
    "### Übungen zu `filter()` und `select()`\n",
    "\n",
    "![Übungsaufgabe](../Pics/excercise.png \"Übungsaufgabe\")\n",
    "\n",
    "Basierend auf dem Datensatz `bike`:\n",
    "\n",
    "1. Bilden Sie ein Subset mit den Tagen im Sommer und Herbst, an denen es keine \"casual\" Kunden gab.\n",
    "2. Ziehen Sie durch eine zufällige Auswahl 50% des soeben erstellten Subsets und speichern Sie diese unter \"fraction\".\n",
    "3. Extrahieren Sie aus dem Subset \"fraction\" nur die Spalten 4 bis 8.\n",
    "    "
   ]
  },
  {
   "cell_type": "code",
   "execution_count": null,
   "id": "59ce5260-21ab-43b0-8e6c-507216221949",
   "metadata": {},
   "outputs": [],
   "source": [
    "# Hier kommt Ihr Source Code hin:\n"
   ]
  },
  {
   "cell_type": "markdown",
   "id": "b5f16b64-b6d3-4a74-bb6c-f3693d675e74",
   "metadata": {
    "tags": []
   },
   "source": [
    "## Hilfsfunktionen für `select()` und `filter()`\n",
    "\n",
    "dplyr umfasst einige hilfreiche Funktionen, die die Auswahl mehrerer Spalten mit `select()` erleichtern. Diese Funktionen können aber auch in den anderen Befehlen wie `filter()` angewendet werden.\n",
    "\n",
    "* `starts_with()` – Liefert die Spalten zurück, die mit der im Parameter angegebenen Zeichenkette anfangen.\n",
    "* `ends_with()` – Wie `starts_with()`, nur analog für die Endung.\n",
    "* `contains()` – Ebenfalls analog zu `starts_with()` und `ends_with()`. Hier muss der String im Spaltennamen enthalten sein.\n",
    "* `matches()` – Auswahl der Spalten über einen regulären Ausdruck (regex).\n",
    "* `num_range()` – Auswahl von Spaltennamen, welche durchnummeriert sind. Also zum Beispiel V01, V02, V03, …\n",
    "* `one_of()` – Auswahl der Spalten, deren Namen per String-Vektor angegeben werden. Bei `select()` funktioniert das impliziert (siehe Abschnitt über Anführungszeichen).\n",
    "* `everything()` – Alle Spalten.\n",
    "* `last_col()` – Die letzte Spalte."
   ]
  },
  {
   "cell_type": "markdown",
   "id": "de32f1d7-02ad-4366-abc0-49dd65d7f282",
   "metadata": {},
   "source": [
    "## Die Funktion `arrange()`\n",
    "\n",
    "Der R-Befehl `arrange()` ordnet einen Datensatz entsprechend der Variablen, die als Parameter übergeben werden. Um eine umgekehrte Reihenfolge zu erhalten, gibt es die Funktion `desc()` (desc - decending). Bei numerischen Spalten geht auch einfach das Minus-Zeichen, aber für Strings und Faktoren braucht man `desc()`.\n",
    "\n",
    "<div class=\"alert alert-block alert-success\">\n",
    "    <b>Merke:</b> Die Funktion <b>arrange()</b> sortiert die Zeilen eines Dataframes.\n",
    "</div>"
   ]
  },
  {
   "cell_type": "code",
   "execution_count": null,
   "id": "ccce30e2-319a-4f69-bc2e-920996c8bf61",
   "metadata": {},
   "outputs": [],
   "source": [
    "# Sortieren der Wetterangaben von 1..4\n",
    "bike.df %>% arrange(weather)"
   ]
  },
  {
   "cell_type": "code",
   "execution_count": null,
   "id": "1d0e3768-9f79-4fa1-b37a-1b3cbd53f5af",
   "metadata": {},
   "outputs": [],
   "source": [
    "# Sortieren der Wetterangaben von 4..1\n",
    "bike.df %>% arrange(desc(weather))"
   ]
  },
  {
   "cell_type": "code",
   "execution_count": null,
   "id": "4895505a-df56-400f-9787-9881b8771cc6",
   "metadata": {},
   "outputs": [],
   "source": [
    "# Da der Wert im Datensatz nummerisch ist, kann man \n",
    "# die Reihenfolge auch mit \"-\" umkehren. Dies geht, wie bereits gesagt,\n",
    "# nicht bei Strings oder Faktoren.\n",
    "bike.df %>% arrange(-weather)"
   ]
  },
  {
   "cell_type": "code",
   "execution_count": null,
   "id": "ed9c0b1c-7c7c-4244-b1f9-cd2003a12df2",
   "metadata": {},
   "outputs": [],
   "source": [
    "# Einmal alle nach Gewicht absteigend sortieren und\n",
    "# für die ersten 10 Ergebnisse Name und Gewicht anzeigen\n",
    "starwars %>% \n",
    "  arrange(desc(mass)) %>%\n",
    "  select(name,mass) %>%\n",
    "  top_n(10)"
   ]
  },
  {
   "cell_type": "markdown",
   "id": "83c2f9b9-b5de-4462-9321-9dcaca5f07a1",
   "metadata": {},
   "source": [
    "## Die Funktionen `group_by()` und `summarise()`\n",
    "\n",
    "Das Package `dplyr` beinhaltet auch die R-Funktion `summarise()`, mit welcher sich Daten aggregieren lassen, also z.B. eine Summe oder ein Mittelwert bilden.\n",
    "\n",
    "Insbesondere in Kombination mit der dplyr-Funktion `group_by()` entfaltet `summarise()` seine Wirkung. `group_by()` funktioniert wie der SQL-Zusatz `group by()` zum select-Befehl. Man unterteilt damit den Datensatz in verschiedene Gruppen. Kombiniert man nun `summarise()` und `group_by()`, lassen sich bequem Aggregate in diesen Gruppen berechnen. Im Endeffekt ähnlich zur `aggregate()` Funktion von Base-R, nur komfortabler.\n",
    "\n",
    "![group_by_summarise](../Pics/group_by_summarize.jpg \"Zusammenspiel von group_by() und summarise() Funktion\")\n",
    "\n",
    "<div class=\"alert alert-block alert-success\">\n",
    "<b>Definition:</b> Gruppieren meint, einen Datensatz anhand einer diskreten Variablen (z.B. Geschlecht) so aufzuteilen, dass Teil-Datensätze entstehen - pro Gruppe ein Teil-Datensatz (z.B. Mann vs. Frau).</div>\n",
    "\n",
    "<div class=\"alert alert-block alert-success\">\n",
    "<b>Merke:</b> \n",
    "\n",
    "* Mit `summarise()` kann man eine Spalte eines Dataframes zu einem Wert zusammenfassen.\n",
    "* Mit `group_by()` teilt man einen Datensatz in Gruppen ein, entsprechend der Werte in eine oder mehrere Spalten.\n",
    "    \n",
    "</div>\n",
    "\n",
    "Folgende Funktionen sind für die `summarise()` Funktion verfügbar:\n",
    "\n",
    "* `first()`- Erstes Element des Vektors\n",
    "* `last()` - Letztes Element des Vektors\n",
    "* `nth()` - n tes Element des Vektors\n",
    "* `n_distinct()` - Anzahld istinkte Elemente in einem Vektor\n",
    "* `IQR()` - Interquartilsabstand\n",
    "* `min()` - Minimum des Vektors\n",
    "* `max()` - Maximum des Vektors\n",
    "* `var()` - Varianz des Vektors\n",
    "* `sd()` - Standardabweichung des Vektors\n",
    "* `median()` - Median des Vektors\n",
    "\n",
    "\n",
    "### Beispiele für die `group_by()` und `summarise()` Funktionen"
   ]
  },
  {
   "cell_type": "code",
   "execution_count": null,
   "id": "f8dfc069-a3c4-495b-ae6f-bb99b054cc43",
   "metadata": {},
   "outputs": [],
   "source": [
    "# Ein Beispiel mit dem Starwars Datensatz\n",
    "starwars %>%\n",
    "  group_by(species) %>%\n",
    "  summarise(n = n(), mass = mean(mass, na.rm = TRUE)) %>%\n",
    "  filter(n > 1, mass > 50)"
   ]
  },
  {
   "cell_type": "code",
   "execution_count": null,
   "id": "5b83b66d-3b1d-4fd9-83a8-afda29c306f8",
   "metadata": {},
   "outputs": [],
   "source": [
    "# ... und ein Beispiel aus dem bike Datensatz, welches\n",
    "# die Casual Mieter pro Saison zusammenrechnet\n",
    "\n",
    "bike.df %>%\n",
    "   group_by(season) %>%\n",
    "   summarise(sum(casual))"
   ]
  },
  {
   "cell_type": "markdown",
   "id": "71629391-a079-4182-9320-cf8fd6a16e5e",
   "metadata": {
    "tags": [
     "uebung"
    ]
   },
   "source": [
    "### Übungen zu `group_by()` und `summarise()`\n",
    "![Übungsaufgabe](../Pics/excercise.png \"Übungsaufgabe\")\n",
    "\n",
    "1. Was macht das `group_by()` / `summarise()` Statement aus dem Starwars Beispiel oben? Sortieren Sie die Ausgabe einmal nach `mass` absteigend.\n",
    "2. Gruppieren Sie die Daten aus `bike` nach den Wetterbedingungen und berechnen Sie die zugehörigen, durchschnittlichen Entleihungen für registrierte und casual Mieter.\n",
    "3. Ähnlich wie die Gruppierung aus der vorherigen Aufgabe, soll dieses Mal eine wochenweise Gruppierung und Berechnung der durchschnittlichen Entleihungen für registrierte und casual Mieter berechnet werden. **Wichtig:** Sie müssen die Datumsangaben in der Spalte `datetime` einmal mit `lubridate` umwandeln und gruppieren (siehe Uebung 03). Die Funktion für die Umwandlung in Wochen heisst `week()`und erwartet ein Datum zur Berechnung."
   ]
  },
  {
   "cell_type": "code",
   "execution_count": null,
   "id": "eead1afa-735a-48d0-a842-7f2bfba07955",
   "metadata": {},
   "outputs": [],
   "source": [
    "# Hier kommt Ihr Source Code hin:\n",
    "\n"
   ]
  },
  {
   "cell_type": "markdown",
   "id": "22b5ebdf-4e05-4a96-a560-34942352bb6e",
   "metadata": {},
   "source": [
    "## (Neue) Spalten berechnen mit der `mutate()` Funktion\n",
    "Der R-Befehl mutate ergänzt einen Datensatz um eine oder mehrere Spalten. Der häufigste Fall ist die Berechnung aus anderen Spalten. Aber auch Ergänzung von Konstanten oder das Löschen einer Spalte kann man mit `mutate()` erreichen. Als Rückgabewert wird der „mutierte“ Datensatz zurückgegeben.\n",
    "\n",
    "**Kurz gesagt:** Mit Hilfe der `mutate()`-Funktion lassen sich aus bestehenden Informationen neue Variablen erstellen.\n",
    "\n",
    "### Beispiele für die `mutate()` Funktion"
   ]
  },
  {
   "cell_type": "code",
   "execution_count": null,
   "id": "00e21ed7-a33f-4ebe-9adf-6be1e8517ca1",
   "metadata": {},
   "outputs": [],
   "source": [
    "# Aus Uebung 03:\n",
    "add_revenue <- mutate(bike.df, revenue = casual * 5)\n",
    "head(add_revenue)"
   ]
  },
  {
   "cell_type": "code",
   "execution_count": null,
   "id": "deab80ee-8775-4b3f-9280-316167c11e81",
   "metadata": {},
   "outputs": [],
   "source": [
    "# Berechnung des BMI mittels der mutate() Funktion\n",
    "starwars %>% \n",
    "  mutate(name, bmi = mass / ((height / 100)  ^ 2)) %>%\n",
    "  select(name:mass, bmi) %>%\n",
    "  top_n(10)"
   ]
  },
  {
   "cell_type": "markdown",
   "id": "e8a5540a-575f-4355-a9eb-1777da1452f2",
   "metadata": {
    "tags": [
     "uebung"
    ]
   },
   "source": [
    "### Übungen zu `mutate()` \n",
    "\n",
    "![Übungsaufgabe](../Pics/excercise.png \"Übungsaufgabe\")\n",
    "\n",
    "1. Erstellen Sie eine neue Spalte `temp_f` in `bike`, welche die Temperatur (`bike$temp`) in Fahrenheit angibt. Nutzen Sie für die Umrechnung folgende Formel: Temperatur in °C * 1.8 + 32.\n",
    "2. Erstellen Sie eine neue Spalte `per_casual`, der den Anteil in Prozent für die von \"casual\" Mieter angibt.\n"
   ]
  },
  {
   "cell_type": "code",
   "execution_count": null,
   "id": "673bae8b-07d6-4e0b-b9c1-ff7e31084556",
   "metadata": {},
   "outputs": [],
   "source": [
    "# Hier kommt Ihr Source Code hin:\n",
    "\n"
   ]
  },
  {
   "cell_type": "markdown",
   "id": "432b090a-50f1-4017-bcbc-dd0df85c893d",
   "metadata": {},
   "source": [
    "# Exkurs: Daten Verbinden (join)\n",
    "\n",
    "Häufig werden Daten dezentral in Form von verschiedenen Tabellen, Excel-Sheets, CSV-Dateien, Datenbanken usw. vorgehalten. Jede dieser Datenquellen kann relevante Informationen enthalten, die für die Analyse in einem gemeinsamen Datensatz vorliegen müssen. Datenquellen können über ein oder mehrere sog. Schlüsselattribute (auch Primärschlüssel genannt) verbunden werden.\n",
    "\n",
    "In ***R*** wir das Verbinden von zwei Tabellen mittels `merge()` oder `join()` realisiert. Der R-Befehl `merge()` wird in Base-R bzw. `data.table` verwendet, `join()` kommt ursprünglich aus der Datenbanksprache SQL. In `dplyr` gibt es analog vier Varianten von `join()`:\n",
    "\n",
    "* **inner join:** Es bleiben nur die Zeilen übrig, deren Identifikator in beiden Tabellen vorkommen.\n",
    "* **left join:** Die zuerst genannte Tabelle (also die linke) bleibt vollständig erhalten. Gibt es kein Pendant in der zweiten Tabelle, wird mit NAs aufgefüllt.\n",
    "* **right join:** Genau umgekehr zu left join. Die zweite Tabelle bleibt komplett erhalten. Werte, die keine Entsprechung in der ersten Tabelle haben, werden mit NAs aufgefüllt.\n",
    "* **full (outer) join:** Sowohl die erste als auch die zweite Tabelle bleiben vollständig erhalten.\n",
    "\n",
    "Mehr auch unter <https://databraineo.com/dplyr-left-join-inner-join-full-join-right-join-cheatsheet-2/>\n",
    "\n",
    "![Join_Merge](../Pics/dplyr-left-join-inner-join-full-join-right-join-cheatsheet.jpg \"Join und Merge\")\n"
   ]
  },
  {
   "cell_type": "code",
   "execution_count": null,
   "id": "721eec47-6b5d-4a08-a1a6-39c467937636",
   "metadata": {},
   "outputs": [],
   "source": [
    "# https://databraineo.com/ki-training-resources/r-programmierung/das-r-package-dplyr-eine-ausfuehrliche-anleitung-mit-vielen-beispielen/#pipe\n",
    "\n",
    "table1 <- data.frame(ID=1:10,x=rnorm(10))\n",
    "table2 <- data.frame(ID=5:14,y=rnorm(10))"
   ]
  },
  {
   "cell_type": "code",
   "execution_count": null,
   "id": "0314a264-119c-41e8-a8a9-56b980c840d9",
   "metadata": {},
   "outputs": [],
   "source": [
    "a = inner_join(table1,table2)\n",
    "a"
   ]
  },
  {
   "cell_type": "code",
   "execution_count": null,
   "id": "9ae5203e-ab8a-4811-852c-e565e1fb3e73",
   "metadata": {},
   "outputs": [],
   "source": [
    "b = left_join(table1,table2)\n",
    "b"
   ]
  },
  {
   "cell_type": "code",
   "execution_count": null,
   "id": "a3f18563-cfd6-4099-8ad4-841925c70566",
   "metadata": {},
   "outputs": [],
   "source": [
    "c = right_join(table1,table2)\n",
    "c"
   ]
  },
  {
   "cell_type": "code",
   "execution_count": null,
   "id": "27edbf50-86c8-41ce-bedd-db6b7115ce35",
   "metadata": {},
   "outputs": [],
   "source": [
    "d = full_join(table1,table2)\n",
    "d"
   ]
  },
  {
   "cell_type": "code",
   "execution_count": null,
   "id": "6f727db2-cb41-447f-81bc-25385daad977",
   "metadata": {},
   "outputs": [],
   "source": [
    "# zwei Spalten als Identifikatoren\n",
    "table1 <- data.frame(ID1=1:10,ID2=c(\"rot\",\"grün\"),x=rnorm(10),stringsAsFactors = FALSE)\n",
    "table2 <- data.frame(ID1=5:14,ID2=c(\"rot\",\"schwarz\"),y=rnorm(10),stringsAsFactors = FALSE)"
   ]
  },
  {
   "cell_type": "code",
   "execution_count": null,
   "id": "64f030ba-9344-46e9-b350-28b83198a1ad",
   "metadata": {},
   "outputs": [],
   "source": [
    "a2 = inner_join(table1,table2)\n",
    "a2"
   ]
  },
  {
   "cell_type": "code",
   "execution_count": null,
   "id": "f7f192f7-fd32-4103-9d76-1689f64b8192",
   "metadata": {},
   "outputs": [],
   "source": [
    "b2 = left_join(table1,table2)\n",
    "b2"
   ]
  },
  {
   "cell_type": "code",
   "execution_count": null,
   "id": "9215ed3b-bde8-477e-aea6-8ffa8bc39d60",
   "metadata": {},
   "outputs": [],
   "source": [
    "c2 = right_join(table1,table2)\n",
    "c2"
   ]
  },
  {
   "cell_type": "code",
   "execution_count": null,
   "id": "94b4a16c-118e-4116-9f21-2f68968fb9c4",
   "metadata": {},
   "outputs": [],
   "source": [
    "d2 = full_join(table1,table2)\n",
    "d2"
   ]
  },
  {
   "cell_type": "code",
   "execution_count": null,
   "id": "edaad9a7-3eb5-4f82-9972-541abafaeff0",
   "metadata": {},
   "outputs": [],
   "source": [
    "# Identifikatorwerte nicht eindeutig\n",
    "table1 <- data.frame(ID1=1:10,x=paste(\"A\",1:10),stringsAsFactors = FALSE)\n",
    "table2 <- data.frame(ID1=rep(1:3,2),y=paste(\"B\",1:6),stringsAsFactors = FALSE)"
   ]
  },
  {
   "cell_type": "code",
   "execution_count": null,
   "id": "2e8e0fe2-1c6c-4ff3-bed4-dcdc5f440cb9",
   "metadata": {},
   "outputs": [],
   "source": [
    "a3 = inner_join(table1,table2)\n",
    "a3"
   ]
  },
  {
   "cell_type": "code",
   "execution_count": null,
   "id": "b26ca5d4-d1bb-4cc5-ab42-16d7c868a9db",
   "metadata": {},
   "outputs": [],
   "source": [
    "b3 = left_join(table1,table2)\n",
    "b3"
   ]
  },
  {
   "cell_type": "code",
   "execution_count": null,
   "id": "3c13b7f4-4340-4075-89b0-e513cc5d5302",
   "metadata": {},
   "outputs": [],
   "source": [
    "c3 = right_join(table1,table2)\n",
    "c3"
   ]
  },
  {
   "cell_type": "code",
   "execution_count": null,
   "id": "316eefd0-7874-4566-83df-daca4a6c596b",
   "metadata": {},
   "outputs": [],
   "source": [
    "d3 = full_join(table1,table2)\n",
    "d3"
   ]
  },
  {
   "cell_type": "markdown",
   "id": "b677004a-03f1-4933-bc2a-40c97cc04bdc",
   "metadata": {},
   "source": [
    "# Quellen und Links\n",
    "\n",
    "* **Gendron (2016)** – Gendron, J.: *Introduction to R for business intelligence learn how to leverage the power of R for business intelligence* Birmingham, UK: Packt Publishing, 2016.\n",
    "* **Müller und Lenz (2013)** – Müller, R. M. und Jenz H.-J.: *Business Intelligence*, 1. Auflage, Springer Vieweg, 2013.\n",
    "* **Sauer (2019)** – Sauer, S.: *Moderne Datenanalyse mit R*, Springer, DOI: <https://doi.org/10.1007/978-3-658-21587-3>, 2019.\n",
    "\n",
    "**Links:**\n",
    "* <https://databraineo.com/ki-training-resources/r-programmierung/das-r-package-dplyr-eine-ausfuehrliche-anleitung-mit-vielen-beispielen/>\n",
    "* <https://sebastiansauer.github.io/Datenanalyse_mit_dplyr/>\n",
    "* <https://databraineo.com/dplyr-left-join-inner-join-full-join-right-join-cheatsheet-2/>\n",
    "\n",
    "# Lösungen\n",
    "\n",
    "Die Lösungen zu den Übungen finden Sie in der *Datei <a href=\"R-Kenntnis LSG Uebung 04.ipynb\">R-Kenntnis LSG Uebung 04.ipynb</a>*. Die Datei wird jeweils nach der Durchsprache der Übung bereitgestellt.\n",
    "\n",
    "<div class=\"alert alert-block alert-info\">\n",
    "<b>Info:</b> Die Datei wird jeweils nach der Durchsprache der Übung bereitgestellt.</div>"
   ]
  }
 ],
 "metadata": {
  "authors": [
   {
    "name": "Prof. Dr. Denis Royer"
   }
  ],
  "kernelspec": {
   "display_name": "R",
   "language": "R",
   "name": "ir"
  },
  "language_info": {
   "codemirror_mode": "r",
   "file_extension": ".r",
   "mimetype": "text/x-r-source",
   "name": "R",
   "pygments_lexer": "r",
   "version": "4.3.1"
  },
  "toc-autonumbering": true
 },
 "nbformat": 4,
 "nbformat_minor": 5
}

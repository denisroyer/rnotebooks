{
 "cells": [
  {
   "cell_type": "markdown",
   "id": "912b6562-da76-41b6-ac78-2c6e69f8121e",
   "metadata": {},
   "source": [
    "![R-Kenntnis](../Pics/header.png \"R-Kenntnis\")\n",
    "\n",
    "\n",
    "<img src=\"https://img.shields.io/badge/--Kenntnis-blue?style=flat-square&logo=r&logoColor=white\"/> <a href=\"https://ostfalia.de/w\" target=\"_blank\"><img src=\"https://img.shields.io/badge/Ostfalia-Fakultät%20W-blue?style=flat-square&logo=googlescholar&logoColor=white\"/></a> <img src=\"https://img.shields.io/badge/Semester-WiSe2023%2F24-green?style=flat-square\"/> <img src=\"https://img.shields.io/badge/Copyright-2020--24-orange?style=flat-square\"/> <a href=\"https://creativecommons.org/licenses/by-nc-sa/4.0/\" target=\"_blank\"><img src=\"https://img.shields.io/badge/License-by--nc--sa-red?style=flat-square\"/></a> \n",
    "\n",
    "<div class=\"alert alert-block alert-info\">\n",
    "<img src=\"https://img.shields.io/badge/Information-Übung_05_LSG-blue?style=for-the-badge&logo=bookstack&logoColor=white\">\n",
    "    \n",
    "* **Titel:** Lösung zu den Übungen 05: Explorative Datenanalyse (Teil 1)\n",
    "* **Autor:** Prof. Dr. Denis Royer\n",
    "* **Datum:** 27.11.2023 (Version 3.0)\n",
    "\n",
    "</div>\n",
    "\n",
    "![Header_Data](../Pics/header_data.png \"Data\")\n",
    "\n",
    "# BI - R-Kenntnis Lösung zu den Übungen 05: Explorative Datenanalyse (Teil 1)\n",
    "\n",
    "<div class=\"alert alert-block alert-warning\">\n",
    "<b>Wichtig:</b> Bevor wir loslegen, müssen wir zunächst einmal ein paar vorbereitende Dinge erledigen:\n",
    "\n",
    "* Die notwendigen Packages laden (bspw. `tidyverse`)\n",
    "\n",
    "</div>\n"
   ]
  },
  {
   "cell_type": "code",
   "execution_count": null,
   "id": "a5838ed3-66e3-4519-aea9-40ac12b2196f",
   "metadata": {},
   "outputs": [],
   "source": [
    "library(tidyverse)\n",
    "library(DT)"
   ]
  },
  {
   "cell_type": "markdown",
   "id": "48f4633b-d109-4159-9e77-ecba81170738",
   "metadata": {},
   "source": [
    "## Übung zu Boxplots\n",
    "\n",
    "![Übungsaufgabe](../Pics/excercise.png \"Übungsaufgabe\")\n",
    " \n",
    "Auf dem Campus haben wir 20 willkürlich ausgewählte Studierende nach ihrem Alter (in ganzen Jahren) befragt. Dabei ergab sich die folgende Verteilung:\n",
    "\n",
    "![Daten für die Anlage des Boxplots.](../Pics/Box-Plot-Beispiel-01.png)\n",
    "\n",
    "* Berechnen Sie mit ***R*** bitte folgende Werte:\n",
    "    * den Median\n",
    "    * den Interquartilabstand (IQR)\n",
    "    * die folgenden Quartile: 1. und 3. Quartil\n",
    "* Welche Werte bilden den oberen und unteren Zaun (Whiskers)?\n",
    "* Erstellen Sie einen Boxplot für die Daten\n",
    "    "
   ]
  },
  {
   "cell_type": "markdown",
   "id": "9eba323f-3e3c-4c8b-9055-1849ef04d4ba",
   "metadata": {},
   "source": [
    "<div class=\"alert alert-block alert-success\">\n",
    "<b>Lösungsansatz:</b></div>"
   ]
  },
  {
   "cell_type": "code",
   "execution_count": null,
   "id": "72a48bb5-a500-47bc-b740-db4644b4a375",
   "metadata": {},
   "outputs": [],
   "source": [
    "# Vektor mit den Geburtsjahren anlegen\n",
    "age <- c(24,22,23,32,28,62,31,36,22,22,21,24,22,26,26,28,31,22,21,26)\n",
    "age"
   ]
  },
  {
   "cell_type": "markdown",
   "id": "bb198771-4c20-4ad8-9c6f-d921e39c6a22",
   "metadata": {},
   "source": [
    "<div class=\"alert alert-block alert-danger\">\n",
    "<b>Wichtig:</b> \n",
    "\n",
    "***R*** (wie auch das Pendant von Excel) benutzt für die Bestimmung der Quantile eine Verteilungsfunktion, die die Werte für die Quantile Inierpoliert und nicht anhand der bestehenden Werte errechnet (also analog zum Median)!\n",
    "\n",
    "Lässt man bei `quantile()` und `IQR()` den Parameter `type=` weg, so wird der Wert für die Quantile interpoliert und nicht analog zum Median anhand der Werte selbst errechnet (siehe LV0-06). Bei `type=5` wird der Wert so berechnet, wie ihn auch die `boxplot.stats()` Funktion berechnen wird (29,5 und nicht 28,75 wie bei `quantile()` oder `IQR()`. Mehr zum Parameter `type=` findet man hier: <https://www.rdocumentation.org/packages/stats/versions/3.6.2/topics/quantile>\n",
    "    \n",
    "**Hinweis:** Bei der `summary()` Funktion heißt der Parameter `quantile.type=` und nicht `type=`. \n",
    "\n",
    "</div>"
   ]
  },
  {
   "cell_type": "code",
   "execution_count": null,
   "id": "25a4c5fb-09a6-49c4-963b-af7412628831",
   "metadata": {},
   "outputs": [],
   "source": [
    "# Im nächsten Schritt werden die Quantile berechnet.\n",
    "age_q25 <- quantile(age, probs = .25,type=5)\n",
    "age_med <- quantile(age, probs = .50,type=5)\n",
    "age_q75 <- quantile(age, probs = .75,type=5)\n",
    "age_iqr = IQR(age,type=5) # Alternative type = 5"
   ]
  },
  {
   "cell_type": "code",
   "execution_count": null,
   "id": "79921fc4-528f-4f8a-be48-b6bf47088e7d",
   "metadata": {},
   "outputs": [],
   "source": [
    "# Alternative\n",
    "quantile(age, type=5)"
   ]
  },
  {
   "cell_type": "code",
   "execution_count": null,
   "id": "f1aa9c62-2035-4371-b310-319ba62704c2",
   "metadata": {},
   "outputs": [],
   "source": [
    "# Ausgabe der Daten als Tabelle (nur zur  besseren Darstellung):\n",
    "df <- data.frame(\"1.Quart.\"= age_q25, \"Median\"= age_med, \"3.Quart.\"= age_q75, \"IQR\"= age_iqr, row.names = NULL)\n",
    "df"
   ]
  },
  {
   "cell_type": "code",
   "execution_count": null,
   "id": "30d1f10a-e510-4cb9-a853-a3745daae614",
   "metadata": {},
   "outputs": [],
   "source": [
    "# Ohne Angabe des type = Parameters wird die Verteilung 7 genutzt - sieh rote Box oben\n",
    "quantile(age, probs = .75)"
   ]
  },
  {
   "cell_type": "code",
   "execution_count": null,
   "id": "5357cb8b-40dd-4e95-a6bb-3a9a35588458",
   "metadata": {},
   "outputs": [],
   "source": [
    "# Die summary() Funktion ist ein anderer Weg, die Daten zu bekommen:\n",
    "summary(age, quantile.type = 5)"
   ]
  },
  {
   "cell_type": "markdown",
   "id": "34163e5a-4425-4036-a040-ebec65fbfbe8",
   "metadata": {},
   "source": [
    "Zuletzt gibt es die `boxplot()` Funktion, welche eine Boxplot als Grafik erstellt. Leitet man die Daten dieser Funktion in eine Variable um oder man nutzt die `boxplot.stats()` Funktion, so erhält man auch ALLE Daten, wie die \"Zäune\", Ausreißer, etc, die im Datenfeld (eine Matrix) `$stats` gespeichert sind.\n"
   ]
  },
  {
   "cell_type": "code",
   "execution_count": null,
   "id": "b1cdd343-762f-4b85-905f-7681935a4f57",
   "metadata": {},
   "outputs": [],
   "source": [
    "boxplot(age)\n",
    "boxplot.stats(age)"
   ]
  },
  {
   "cell_type": "markdown",
   "id": "7eebde8d-183f-4387-9755-486bf2efa523",
   "metadata": {},
   "source": [
    "## Übungen zu Multiplen Boxplots\n",
    "\n",
    "![Übungsaufgabe](../Pics/excercise.png \"Übungsaufgabe\")\n",
    "\n",
    "* Fassen Sie die Daten für die 3 Spezies für die Länge des Kronblatts tabellarisch zusammen und berechnen Sie in der Tabelle die Varianz, die Standardabweichung und den Mittelwert.\n",
    "* Erstellen Sie folgende 2 Boxplots für die 3 Schwertlilien Spezies aus dem `iris` Datensatz:\n",
    "   * Länge des Kelchblatts \n",
    "   * Breite des Kelchblatts\n",
    "\n",
    "***Bitte beachten Sie:*** Der Aufruf der Boxplot-Funktion unterscheidet sich ein wenig von den bisher betrachteten Funktionen. Sie erwartet ein Objekt der Klasse `formular` als Argument. Ein *formula*-Objekt wird nach folgendem Schema definiert: **`numerische Variable ~ Gruppierungsvariablen`**."
   ]
  },
  {
   "cell_type": "markdown",
   "id": "445494a7-ae6d-474b-aad7-3945bdb700a9",
   "metadata": {},
   "source": [
    "<div class=\"alert alert-block alert-success\">\n",
    "<b>Lösungsansatz Zusammenfassung der Daten:</b></div>\n",
    "\n",
    "Für die Zusammenfassung der Daten wird wieder auf den Pipe Syntax zurückgegriffen, um die Daten aus dem `iris` Datensatz für die Ausgabe anzupassen:"
   ]
  },
  {
   "cell_type": "code",
   "execution_count": null,
   "id": "bf56471e-b33e-4201-9caa-cc5954f6584f",
   "metadata": {},
   "outputs": [],
   "source": [
    "iris_data.df <- iris %>%\n",
    "  group_by(Species) %>%\n",
    "  summarise(\n",
    "    `Anzahl Spezies (N)` = n(),\n",
    "    `Average petal.length (mean)` = mean(Petal.Length),\n",
    "    `Standard Abweichung petal.length (sd)` = sd(Petal.Length),\n",
    "    `Varianz petal.length (var)` = var(Petal.Length)\n",
    "  ) "
   ]
  },
  {
   "cell_type": "code",
   "execution_count": null,
   "id": "7d1a5f94-2930-4d18-a544-31c83133b1dd",
   "metadata": {},
   "outputs": [],
   "source": [
    "# Ausgabe der Daten\n",
    "DT::datatable(iris_data.df)"
   ]
  },
  {
   "cell_type": "markdown",
   "id": "58863494-8b15-43d6-904a-281e08c0aa67",
   "metadata": {},
   "source": [
    "<div class=\"alert alert-block alert-success\">\n",
    "<b>Lösungsansatz Multiple Boxplots:</b></div>\n",
    "\n",
    "Multiple Boxplots lassen sich folgendermaßen darstellen:\n",
    "\n",
    "Als erstes erstellen wir ein formular Objekt, dass die Daten für\n",
    "den Boxplot eingrenzt. Dies läss sich wie folgt lesen:\n",
    "\n",
    "* Nehme die Daten aus `iris$Sepal.Length` **UND**\n",
    "* gruppiere diese nach `iris$Species`.\n",
    "\n",
    "Dies funktioniert bei fast allen Plot-Funktionen in R!"
   ]
  },
  {
   "cell_type": "code",
   "execution_count": null,
   "id": "dedec31e-f848-4543-b6b3-01346a2dc054",
   "metadata": {},
   "outputs": [],
   "source": [
    "formel <- iris$Sepal.Length ~ iris$Species\n",
    "# Alternativ kann der Befehl auch so geschrieben werden:\n",
    "# boxplot(iris$Sepal.Length ~ iris$Species)\n",
    "boxplot(formel)"
   ]
  },
  {
   "cell_type": "code",
   "execution_count": null,
   "id": "f4c86018-3ecf-4ca4-b05a-b3a1b954a629",
   "metadata": {},
   "outputs": [],
   "source": [
    "# Eine etwas versiertere und hübschere Darstellung:\n",
    "boxplot(formel, range=1.5,\n",
    "    horizontal =TRUE,\n",
    "       width=NULL, \n",
    "       varwidth=TRUE,\n",
    "       notch=TRUE, \n",
    "       outline=TRUE, \n",
    "       boxwex=0.8, \n",
    "       staplewex=0.5, \n",
    "       border=\"black\", \n",
    "       col=\"#94d639\", \n",
    "       horizintal=FALSE, \n",
    "       add=FALSE, \n",
    "       at=NULL,\n",
    "       ylab=\"Kelchblatt in cm\", \n",
    "       main=\"Kelchblattlänge nach Art\")"
   ]
  },
  {
   "cell_type": "markdown",
   "id": "7e18b75c-82d9-4a79-93c2-cdd6a8a6ff7d",
   "metadata": {},
   "source": [
    "## Übungen zum Anscombe-Quartett\n",
    "\n",
    "![Übungsaufgabe](../Pics/excercise.png \"Übungsaufgabe\")\n",
    "\n",
    "Analysieren Sie das Anscombe-Quartett mit den Mitteln der Explorativen Datenanalyse:\n",
    "​\n",
    "* Bestimmen Sie die Mittelwerte, Varianz und Standardabweichung für die vier Wertepaare. Was fällt Ihnen auf?\n",
    "* Plotten die die vier Wertepaare (x,y). Was fällt Ihnen auf?\n",
    "* Bestimmen Sie für alle 4 Wertepaare das Modell der Regressionsgraden.\n",
    "* Fügen Sie die Regressionsgraden in den existierenden Plots ein.\n",
    "* Was fällt Ihnen bei den Parametern der Regressionsgraden auf?\n",
    "* ***Was leiten Sie übergreifend aus den vorherigen Beobachtungen ab?***"
   ]
  },
  {
   "cell_type": "markdown",
   "id": "c7629937-ec36-4bf2-b98e-b7c06268373a",
   "metadata": {},
   "source": [
    "<div class=\"alert alert-block alert-success\">\n",
    "<b>Lösungsansatz:</b></div>\n",
    "\n",
    "Wie eingangs gesagt, besteht das Anscombe-Quartett aus vier Mengen von Datenpunkten, die nahezu identische einfache statistische Eigenschaften haben, aber aufgetragen sehr verschieden aussehen. Jede dieser vier Mengen besteht aus elf (x,y)-Punkten."
   ]
  },
  {
   "cell_type": "code",
   "execution_count": null,
   "id": "21d2967a-2727-43ff-a8e4-55c8417615d1",
   "metadata": {},
   "outputs": [],
   "source": [
    "# Laden der Daten aus dem Anscombe Datensatz\n",
    "data(\"anscombe\")\n",
    "# Anzeige der Zusammenfassung der Daten\n",
    "summary(anscombe)"
   ]
  },
  {
   "cell_type": "code",
   "execution_count": null,
   "id": "2b0eb2c6-17aa-4508-af45-366990f6a26f",
   "metadata": {},
   "outputs": [],
   "source": [
    "# Anwenden der Funktionen mean, sd und var auf die Daten\n",
    "# im Anscombe Datensatz (x und y Datensätze): \n",
    "sapply(anscombe, mean)"
   ]
  },
  {
   "cell_type": "code",
   "execution_count": null,
   "id": "bd162bb3-d1f2-41f1-b95b-4356a59376e7",
   "metadata": {},
   "outputs": [],
   "source": [
    "sapply(anscombe, sd)"
   ]
  },
  {
   "cell_type": "code",
   "execution_count": null,
   "id": "ac43c7b6-953a-43d1-a033-8cc6fb8649d3",
   "metadata": {},
   "outputs": [],
   "source": [
    "sapply(anscombe, var)"
   ]
  },
  {
   "cell_type": "code",
   "execution_count": null,
   "id": "b2ed729f-9216-42fa-9908-61999daf2856",
   "metadata": {},
   "outputs": [],
   "source": [
    "# Ausgabe der Daten als Plot\n",
    "plot(anscombe$x1, anscombe$y1)\n",
    "# Erstellen einer Regressionslinie (als Modell)\n",
    "lm(anscombe$y1 ~ anscombe$x1)\n",
    "# Einfügen der Regressionslinie in den aktuellen Plot\n",
    "abline(lm(anscombe$y1 ~ anscombe$x1))\n",
    "\n",
    "# Analog erfolgt dies für die übrigen Daten:\n",
    "plot(anscombe$x2, anscombe$y2)\n",
    "lm(anscombe$y2 ~ anscombe$x2)\n",
    "abline(lm(anscombe$y2 ~ anscombe$x2))\n",
    "\n",
    "plot(anscombe$x3, anscombe$y3)\n",
    "lm(anscombe$y3 ~ anscombe$x3)\n",
    "abline(lm(anscombe$y3 ~ anscombe$x3))\n",
    "\n",
    "plot(anscombe$x4, anscombe$y4)\n",
    "lm(anscombe$y4 ~ anscombe$x4)\n",
    "abline(lm(anscombe$y4 ~ anscombe$x4))"
   ]
  },
  {
   "cell_type": "markdown",
   "id": "0b3cfe60-7007-4cd8-82ec-e8a3a43c929d",
   "metadata": {},
   "source": [
    "Weiter Hinweise zu Formatierung mehrerer Plots gibt es hier:\n",
    "\n",
    "* <https://github.com/seandolinar/stats.seandolinar.com-Tutorials/blob/master/correlation-introduction.R>\n",
    "* <https://stats.seandolinar.com/introduction-to-correlation-with-r-anscombes-quartet/>"
   ]
  },
  {
   "cell_type": "markdown",
   "id": "e77ea6bc-25c5-4971-a8c0-551a6f206810",
   "metadata": {},
   "source": [
    "### Aufbereitung der Anscombe Daten mit ggplot2"
   ]
  },
  {
   "cell_type": "code",
   "execution_count": null,
   "id": "d8edbad5-19be-4ddc-94f4-45b08d9c076a",
   "metadata": {},
   "outputs": [],
   "source": [
    "#Bibliotheken laden\n",
    "library(ggplot2)\n",
    "library(grid)\n",
    "library(gridExtra)"
   ]
  },
  {
   "cell_type": "code",
   "execution_count": null,
   "id": "d6d8c079-a563-4a92-bf1b-ebe929753f03",
   "metadata": {},
   "outputs": [],
   "source": [
    "# Korrelation der 4 Datensätze berechnen\n",
    "cor1 <- format(cor(anscombe$x1, anscombe$y1), digits=4)\n",
    "cor2 <- format(cor(anscombe$x2, anscombe$y2), digits=4)\n",
    "cor3 <- format(cor(anscombe$x3, anscombe$y3), digits=4)\n",
    "cor4 <- format(cor(anscombe$x4, anscombe$y4), digits=4)"
   ]
  },
  {
   "cell_type": "code",
   "execution_count": null,
   "id": "966a26d3-c2e2-45b4-940c-0cf0f7718eb1",
   "metadata": {},
   "outputs": [],
   "source": [
    "#define the OLS regression\n",
    "line1 <- lm(y1 ~ x1, data=anscombe)\n",
    "line2 <- lm(y2 ~ x2, data=anscombe)\n",
    "line3 <- lm(y3 ~ x3, data=anscombe)\n",
    "line4 <- lm(y4 ~ x4, data=anscombe)"
   ]
  },
  {
   "cell_type": "code",
   "execution_count": null,
   "id": "9d08d0ea-274c-4221-9c3b-c12839fbfb78",
   "metadata": {},
   "outputs": [],
   "source": [
    "circle.size = 5\n",
    "colors = list('red', '#0066CC', '#4BB14B', '#FCE638')"
   ]
  },
  {
   "cell_type": "code",
   "execution_count": null,
   "id": "986bc3e1-7ae5-4e34-ae38-fd460fe237ed",
   "metadata": {},
   "outputs": [],
   "source": [
    "#plot1\n",
    "plot1 <- ggplot(anscombe, aes(x=x1, y=y1)) + geom_point(size=circle.size, pch=21, fill=colors[[1]]) +\n",
    "  geom_abline(intercept=line1$coefficients[1], slope=line1$coefficients[2]) +\n",
    "  annotate(\"text\", x = 12, y = 5, label = paste(\"correlation = \", cor1))\n",
    "\n",
    "#plot2\n",
    "plot2 <- ggplot(anscombe, aes(x=x2, y=y2)) + geom_point(size=circle.size, pch=21, fill=colors[[2]]) +\n",
    "  geom_abline(intercept=line2$coefficients[1], slope=line2$coefficients[2]) +\n",
    "  annotate(\"text\", x = 12, y = 3, label = paste(\"correlation = \", cor2))\n",
    "\n",
    "#plot3\n",
    "plot3 <- ggplot(anscombe, aes(x=x3, y=y3)) + geom_point(size=circle.size, pch=21, fill=colors[[3]]) +\n",
    "  geom_abline(intercept=line3$coefficients[1], slope=line3$coefficients[2]) +\n",
    "  annotate(\"text\", x = 12, y = 6, label = paste(\"correlation = \", cor3))\n",
    "\n",
    "#plot4\n",
    "plot4 <- ggplot(anscombe, aes(x=x4, y=y4)) + geom_point(size=circle.size, pch=21, fill=colors[[4]]) +\n",
    "  geom_abline(intercept=line4$coefficients[1], slope=line4$coefficients[2]) +\n",
    "  annotate(\"text\", x = 15, y = 6, label = paste(\"correlation = \", cor4))\n",
    "\n",
    "# ALle 4 Plots in einer 2x2 Martrix darstellen\n",
    "# weil es so hübscher ist\n",
    "grid.arrange(plot1, plot2, plot3, plot4, top='Anscombe Quartett -- Correlation Demo')"
   ]
  },
  {
   "cell_type": "markdown",
   "id": "bc06d1eb-cd7f-4ede-b4c2-b6a075271e9c",
   "metadata": {},
   "source": [
    "### Abgeleitete Beobachtungen zum Anscombe Quartett\n",
    "\n",
    "**Folgende Dinge lassen sich beobachten:**\n",
    "\n",
    "* Der Mittelwert von x ist in jedem Fall gleich 9 (exakt)\n",
    "* Die Varianz von x ist in jedem Fall gleich 11 (exakt)\n",
    "* Der Mittelwert von y ist in jedem Fall 7,50 (auf 2 Stellen genau)\n",
    "* Die Varianz von y ist in jedem Fall gleich 4,122 oder 4,127 (auf 3 Stellen genau)\n",
    "* Die Korrelation zwischen x und y ist in jedem Fall gleich 0,816 (auf 3 Stellen genau)\n",
    "* Die lineare Regression ist in jedem Fall $y = 3,00 + 0,500x$ (auf 2 bzw. 3 Stellen genau)\n",
    "\n",
    "<div class=\"alert alert-block alert-info\">\n",
    "<b>HINWEIS:</b> Das Anscombe-Quartett wird benutzt, um die Bedeutung der graphischen Datenanalyse herauszustellen, die erfolgen sollte, bevor man aufgrund einer Annahme über die statistischen Eigenschaften der Daten mit der Analyse beginnt. Weiterhin zeigt es, dass einfache statistische Maßzahlen zur Beschreibung der Daten nicht immer ausreichen.</div>\n"
   ]
  }
 ],
 "metadata": {
  "authors": [
   {
    "name": "Prof.Dr. Denis Royer"
   }
  ],
  "kernelspec": {
   "display_name": "R",
   "language": "R",
   "name": "ir"
  },
  "language_info": {
   "codemirror_mode": "r",
   "file_extension": ".r",
   "mimetype": "text/x-r-source",
   "name": "R",
   "pygments_lexer": "r",
   "version": "4.3.1"
  },
  "toc-autonumbering": true
 },
 "nbformat": 4,
 "nbformat_minor": 5
}

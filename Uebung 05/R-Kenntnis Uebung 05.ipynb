{
 "cells": [
  {
   "cell_type": "markdown",
   "id": "9c987923-1935-4d0f-9e95-d7c3348bcc3f",
   "metadata": {},
   "source": [
    "![R-Kenntnis](../Pics/header.png \"R-Kenntnis\")\n",
    "\n",
    "<img src=\"https://img.shields.io/badge/--Kenntnis-blue?style=flat-square&logo=r&logoColor=white\"/> <a href=\"https://ostfalia.de/w\" target=\"_blank\"><img src=\"https://img.shields.io/badge/Ostfalia-Fakultät%20W-blue?style=flat-square&logo=googlescholar&logoColor=white\"/></a> <img src=\"https://img.shields.io/badge/Semester-WiSe2023%2F24-green?style=flat-square\"/> <img src=\"https://img.shields.io/badge/Copyright-2020--24-orange?style=flat-square\"/> <a href=\"https://creativecommons.org/licenses/by-nc-sa/4.0/\" target=\"_blank\"><img src=\"https://img.shields.io/badge/License-by--nc--sa-red?style=flat-square\"/></a> \n",
    "\n",
    "<div class=\"alert alert-block alert-info\">\n",
    "<img src=\"https://img.shields.io/badge/Information-Übung_05-blue?style=for-the-badge&logo=bookstack&logoColor=white\">\n",
    "    \n",
    "* **Titel:** R-Kenntnis Übungen 05: Explorative Datenanalyse (Teil 1)\n",
    "* **Autor:** Prof. Dr. Denis Royer\n",
    "* **Datum:** 30.09.2023 (Version 3.0)\n",
    "\n",
    "</div>\n",
    "\n",
    "![Header_Data](../Pics/header_data.png \"Data\")\n",
    "\n",
    "<div class=\"alert alert-block alert-success\">\n",
    "\n",
    "# Überblick:\n",
    "## 05: Explorative Datenanalyse (Teil 1)\n",
    "\n",
    "1. **Boxplots & Quartile**: Studierende lernen, Boxplots in R zu erstellen und wichtige Statistiken wie Median, Interquartilabstand und Quartile zu berechnen.\n",
    "2. **Mehrere Boxplots**: Anhand des Iris-Datensatzes erkunden die Studierenden multiple Boxplots und berechnen dabei statistische Kennzahlen (Varianz, Standardabweichung, Mittelwert) für verschiedene Spezies.\n",
    "3. **Anscombe-Quartett**: Die Studierenden analysieren vier Datensätze, die trotz ähnlicher statistischer Eigenschaften unterschiedliche Visualisierungen aufweisen. Hierbei wird der Fokus auf Mittelwert, Varianz, Standardabweichung und Regressionsgraden gelegt.\n",
    "4. **Praktische Anwendung von R-Funktionen**: Die Studierenden nutzen diverse R-Funktionen, um statistische Daten zu analysieren, zu visualisieren und Modelle zu erstellen.\n",
    "\n",
    "## Vermittelte Kompetenzen\n",
    "\n",
    "Die Studierenden vertiefen ihre Kenntnisse in explorativer Datenanalyse mit R, wobei sie lernen, vielfältige statistische Kennzahlen zu berechnen und die Bedeutung hinter den Zahlen durch Datenvisualisierung zu interpretieren. Zudem werden sie mit dem Konzept von Datensätzen vertraut gemacht, die trotz ähnlicher statistischer Eigenschaften unterschiedliche Muster aufweisen, was die Wichtigkeit von Datenvisualisierung hervorhebt.\n",
    "</div>\n",
    "    "
   ]
  },
  {
   "cell_type": "markdown",
   "id": "43e794e5-761c-4923-95cd-e5c4dc69b46e",
   "metadata": {},
   "source": [
    "# BI - R-Kenntnis Übungen 05: Explorative Datenanalyse (Teil 1)\n",
    "\n",
    "Bitte lesen Sie die folgenden Kapitel und die enthaltenen Hinweise ***sorgfältig*** durch. Die Aufgaben sind zum Teil in den Kapiteln enthalten.\n",
    "\n",
    "<div class=\"alert alert-block alert-warning\">\n",
    "<b>WICHTIG:</b> \n",
    "    \n",
    "*Die Schritte im Source Code bauen zum Teil aufeinander auf. Sollten Sie Ihre RStudio oder JupyterLab Session schließen oder neu starten, so müssen Sie ggf. den **Code erneut ausführen**, bzw. die **Packages neu laden**.*\n",
    "    \n",
    "</div>\n",
    "\n",
    "<div class=\"alert alert-block alert-info\">\n",
    "<b>Hinweis:</b> Weitere Hinweise und Quellen finden Sie <a href=\"../index.ipynb\">auf der zenteralen Übersicht zu den Übungen</a>. </div>"
   ]
  },
  {
   "cell_type": "markdown",
   "id": "0ce11404-5c7d-4ecd-a2c2-6ca7144d87e2",
   "metadata": {},
   "source": [
    "# Einleitung\n",
    "\n",
    "Die Kunst der Datenanalyse liegt nicht nur darin, Zahlen zu interpretieren, sondern auch darin, Geschichten aus Daten zu erzählen und verborgene Muster aufzudecken. In dieser Einheit tauchen wir tiefer in die explorative Datenanalyse (EDA) ein – einen entscheidenden Schritt in der Datenverarbeitung, bei dem wir versuchen, die Hauptcharakteristika unserer Daten durch visuelle und quantitative Methoden zu erfassen. Sie hatten bereits die Gelegenheit, mit dplyr und Pivot-Tabellen zu arbeiten; jetzt werden wir Ihre Fähigkeiten weiterentwickeln und Sie mit Werkzeugen wie Boxplots und speziellen Datensätzen wie dem Anscombe-Quartett vertraut machen. Dieses Modul wird Ihnen nicht nur helfen, die zugrunde liegenden Strukturen Ihrer Daten zu verstehen, sondern auch, wie unterschiedliche Datenvisualisierungen zu unterschiedlichen Interpretationen führen können."
   ]
  },
  {
   "cell_type": "markdown",
   "id": "0500625f-009e-4906-aa60-655341d62934",
   "metadata": {},
   "source": [
    "# Quartile und Erstellung von Boxlots\n",
    "\n",
    "Auf dem Campus haben wir 20 willkürlich ausgewählte Studierende nach ihrem Alter (in ganzen Jahren) befragt. Dabei ergab sich die folgende Verteilung:\n",
    "\n",
    "![Daten für die Anlage des Boxplots.](../Pics/Box-Plot-Beispiel-01.png)\n",
    "\n",
    "## Übungsaufgabe: Boxplots\n",
    "![Übungsaufgabe](../Pics/excercise.png \"Übungsaufgabe\")\n",
    "* Berechnen Sie mit ***R*** bitte folgende Werte:\n",
    "    * den Median\n",
    "    * den Interquartilabstand (IQR)\n",
    "    * die folgenden Quartile: 1. und 3. Quartil\n",
    "* Welche Werte bilden den oberen und unteren Zaun (Whiskers)?\n",
    "* Erstellen Sie einen Boxplot für die Daten\n",
    "\n",
    "## Aufbau eines Boxplots\n",
    "\n",
    "![Boxplot](../Pics/boxplot.png \"Boxplot\")\n",
    "\n",
    "## Nützliche Funktionen\n",
    "Nützliche Funktionen für diese Aufgaben sind bspw.:\n",
    "\n",
    "```R\n",
    "quantile() # Hilfe mit ?quantile\n",
    "boxplot() # erstellt einen Boxplot\n",
    "```\n",
    "Nutzen Sie ggf. auch die Hilfefunkion von ***R***."
   ]
  },
  {
   "cell_type": "markdown",
   "id": "bdfeb896-1b94-4122-a51c-49cc41a8919c",
   "metadata": {},
   "source": [
    "# Multiple Boxplots\n",
    "\n",
    "Als Datensatz für die Demonstration von multiplen Boxplots wird das Dataset `iris` benutz, welches bei ***R*** mitgeliefert wird.\n",
    "\n",
    "Beim den Iris Daten handelt es sich um einen Datensatz mit insgesamt 150 Beobachtungen (Observations) von 4 Attributen von Schwertlilien. Gemessen wurden dabei jeweils die Breite und die Länge des Kelchblatts (Sepalum) sowie des Kronblatts (Petalum) in Zentimeter. Des Weiteren ist für jeden Datensatz die Art der Schwertlilie (Iris setosa, Iris virginica oder Iris versicolor) angegeben. Für jede Schwertlilienart liegen 50 Datensätze vor. \n",
    "\n",
    "![Iris Datensatz: Die Schwertlilien](../Pics/iris-machinelearning.png)\n",
    "\n"
   ]
  },
  {
   "cell_type": "code",
   "execution_count": null,
   "id": "100925f6-8f24-4f27-babb-a61f7c15b52f",
   "metadata": {},
   "outputs": [],
   "source": [
    "# Laden des Iris Datensatzes\n",
    "data(\"iris\")\n",
    "str(iris)"
   ]
  },
  {
   "cell_type": "markdown",
   "id": "65ee2e3d-9762-4efd-855b-52cafb346f75",
   "metadata": {
    "lines_to_next_cell": 0,
    "tags": []
   },
   "source": [
    "## Übungsaufgabe: Boxplots\n",
    "![Übungsaufgabe](../Pics/excercise.png \"Übungsaufgabe\")\n",
    "\n",
    "* Fassen Sie die Daten für die 3 Spezies für die Länge des Kronblatts tabellarisch zusammen und berechnen Sie in der Tabelle die Varianz, die Standardabweichung und den Mittelwert.\n",
    "* Erstellen Sie folgende 2 Boxplots für die 3 Schwertlilien Spezies aus dem `ìris` Datensatz:\n",
    "   * Länge des Kelchblatts \n",
    "   * Breite des Kelchblatts\n",
    "\n",
    "***Bitte beachten Sie:*** Der Aufruf der Boxplot-Funktion unterscheidet sich ein wenig von den bisher betrachteten Funktionen. Sie erwartet ein Objekt der Klasse `formular` als Argument. Ein formula-Objekt wird nach folgendem Schema definiert: *`numerische Variable ~ Gruppierungsvariablen`*.\n",
    "\n",
    "## Nützliche Funktionen\n",
    "\n",
    "Nützliche Funktionen für diese Aufgaben:"
   ]
  },
  {
   "cell_type": "code",
   "execution_count": null,
   "id": "0f2ae9ed-f53c-4fe8-8238-dec95a0e28ff",
   "metadata": {
    "eval": false
   },
   "outputs": [],
   "source": [
    "summary() # Gibt eine Zusammenfassung der Daten aus\n",
    "sd() # Berechnet die Standardabweichung\n",
    "mean() # berechnet den Mittelwert\n",
    "var() # Berechnet die Varianz\n",
    "summarise()\n",
    "group_by()"
   ]
  },
  {
   "cell_type": "markdown",
   "id": "f783e7b9-5e6b-445e-860e-124a2f0de842",
   "metadata": {},
   "source": [
    "# Das Anscombe-Quartett\n",
    "\n",
    "Das Anscombe-Quartett besteht aus vier Mengen von Datenpunkten, die nahezu identische einfache statistische Eigenschaften haben, aber aufgetragen sehr verschieden aussehen. Jede dieser vier Mengen besteht aus elf *(x,y)-Punkten*. Diese vier Mengen wurden im Jahre 1973 von dem englischen Statistiker Francis Anscombe konstruiert, um die Bedeutung einer graphischen Datenanalyse herauszustellen und die Effekte von Ausreißern zu demonstrieren."
   ]
  },
  {
   "cell_type": "code",
   "execution_count": null,
   "id": "b23f0570-ed31-4c3b-b174-14e8b31eb065",
   "metadata": {},
   "outputs": [],
   "source": [
    "# Laden des Anscombe-Quartetts\n",
    "data(\"anscombe\")"
   ]
  },
  {
   "cell_type": "markdown",
   "id": "d6373e4d-202d-48f5-82fe-8016135f1fc0",
   "metadata": {},
   "source": [
    "Die vier Mengen von Datenpunkte sind in der nachstehenden Tabelle zusammengefasst. Die x-Werte sind dabei für die ersten drei Mengen dieselben:"
   ]
  },
  {
   "cell_type": "code",
   "execution_count": null,
   "id": "58b97812-ad85-424e-9cc2-b9a1a7786b6b",
   "metadata": {
    "tags": [
     "remove_input"
    ],
    "warning": false
   },
   "outputs": [],
   "source": [
    "# Ausgabe der Daten\n",
    "anscombe"
   ]
  },
  {
   "cell_type": "markdown",
   "id": "cea81c39-f6a9-4d90-aa09-3f15b1b6562e",
   "metadata": {
    "lines_to_next_cell": 0
   },
   "source": [
    "## Übungsaufgabe: Anscombe-Quartett\n",
    "![Übungsaufgabe](../Pics/excercise.png \"Übungsaufgabe\")\n",
    "\n",
    "Analysieren Sie das Anscombe-Quartett mit den Mitteln der Explorativen Datenanalyse:\n",
    "\n",
    "* Bestimmen Sie die Mittelwerte, Varianz und Standardabweichung für die vier Wertepaare. Was fällt Ihnen auf?\n",
    "* Plotten die die vier Wertepaare (x,y). Was fällt Ihnen auf?\n",
    "* Bestimmen Sie für alle 4 Wertepaare das Modell der Regressionsgraden.\n",
    "* Fügen Sie die Regressionsgraden in den existierenden Plots ein.\n",
    "* Was fällt Ihnen bei den Parametern der Regressionsgraden auf?\n",
    "* ***Was leiten Sie übergreifend aus den vorherigen Beobachtungen ab?***\n",
    "\n",
    "## Nützliche Funktionen\n",
    "\n",
    "Nützliche Funktionen für diese Aufgaben:"
   ]
  },
  {
   "cell_type": "code",
   "execution_count": null,
   "id": "00ed56ff-b509-403b-8b57-cf6503550a28",
   "metadata": {
    "eval": false
   },
   "outputs": [],
   "source": [
    "summary() # Gibt eine Zusammenfassung der Daten aus\n",
    "sd() # Berechnet die Standardabweichung\n",
    "mean() # berechnet den Mittelwert\n",
    "var() # Berechnet die Varianz\n",
    "sapply() # Wendet eine Funktion auf einen Vektor an\n",
    "plot() # erstellt einen Plot eines Vektors\n",
    "lm(var1 ~ var2, data = dataset) # Modell einer lineare Regression 2er \n",
    "                                # Variablen im Dataset\n",
    "abline() # fügt eine gerade Linie in einen Plot ein (bspw. aus lm())"
   ]
  },
  {
   "cell_type": "markdown",
   "id": "6ab04876-90f3-47dd-84d5-1d2801658534",
   "metadata": {},
   "source": [
    "# Lösungen\n",
    "\n",
    "Die Lösungen zu den Übungen finden Sie in der *Datei <a href=\"R-Kenntnis LSG Uebung 05.ipynb\">R-Kenntnis LSG Uebung 05.ipynb</a>*. Die Datei wird jeweils nach der Durchsprache der Übung bereitgestellt.\n",
    "\n",
    "<div class=\"alert alert-block alert-info\">\n",
    "<b>Info:</b> Die Datei wird jeweils nach der Durchsprache der Übung bereitgestellt.</div>"
   ]
  }
 ],
 "metadata": {
  "kernelspec": {
   "display_name": "R",
   "language": "R",
   "name": "ir"
  },
  "language_info": {
   "codemirror_mode": "r",
   "file_extension": ".r",
   "mimetype": "text/x-r-source",
   "name": "R",
   "pygments_lexer": "r",
   "version": "4.3.1"
  }
 },
 "nbformat": 4,
 "nbformat_minor": 5
}

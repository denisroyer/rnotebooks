{
 "cells": [
  {
   "cell_type": "markdown",
   "id": "f383382d-c9e1-41e0-9e54-b70f7e0f4487",
   "metadata": {},
   "source": [
    "![R-Kenntnis](../Pics/header.png \"R-Kenntnis\")\n",
    "\n",
    "<img src=\"https://img.shields.io/badge/--Kenntnis-blue?style=flat-square&logo=r&logoColor=white\"/> <a href=\"https://ostfalia.de/w\" target=\"_blank\"><img src=\"https://img.shields.io/badge/Ostfalia-Fakultät%20W-blue?style=flat-square&logo=googlescholar&logoColor=white\"/></a> <img src=\"https://img.shields.io/badge/Semester-WiSe2023%2F24-green?style=flat-square\"/> <img src=\"https://img.shields.io/badge/Copyright-2020--24-orange?style=flat-square\"/> <a href=\"https://creativecommons.org/licenses/by-nc-sa/4.0/\" target=\"_blank\"><img src=\"https://img.shields.io/badge/License-by--nc--sa-red?style=flat-square\"/></a> \n",
    "\n",
    "<div class=\"alert alert-block alert-info\">\n",
    "<img src=\"https://img.shields.io/badge/Information-Übung_06--AddOn-blue?style=for-the-badge&logo=bookstack&logoColor=white\">\n",
    "    \n",
    "* **Titel:** R-Kenntnis LSG Übungen 06-AddOn: Visualisierung mit ggplot2\n",
    "* **Autor:** Prof. Dr. Denis Royer\n",
    "* **Datum:** 29.09.2023 (Version 1.0)\n",
    "\n",
    "</div>\n",
    "\n",
    "![Header_Data](../Pics/header_data.png \"Data\")\n",
    "\n",
    "# BI - R-Kenntnis Übungen 06-AddOn: Visualisierung mit ggplot2\n",
    "\n",
    "Bitte lesen Sie die folgenden Kapitel und die enthaltenen Hinweise ***sorgfältig*** durch. Die Aufgaben sind zum Teil in den Kapiteln enthalten.\n",
    "\n",
    "<div class=\"alert alert-block alert-warning\">\n",
    "<b>WICHTIG:</b> \n",
    "    \n",
    "*Die Schritte im Source Code bauen zum Teil aufeinander auf. Sollten Sie Ihre RStudio oder JupyterLab Session schließen oder neu starten, so müssen Sie ggf. den **Code erneut ausführen**, bzw. die **Packages neu laden**.*\n",
    "    \n",
    "</div>\n",
    "\n",
    "<div class=\"alert alert-block alert-info\">\n",
    "<b>Hinweis:</b> Weitere Hinweise und Quellen finden Sie <a href=\"../index.ipynb\">auf der zenteralen Übersicht zu den Übungen</a>. </div>"
   ]
  },
  {
   "cell_type": "markdown",
   "id": "c75cb807-a711-4f43-b340-81745566d15a",
   "metadata": {
    "tags": []
   },
   "source": [
    "## Vorbereitende Schritte für die Übung\n",
    "\n",
    "\n",
    "<div class=\"alert alert-block alert-warning\">\n",
    "<b>Wichtig:</b> Bevor wir loslegen, müssen wir zunächst einmal ein paar vorbereitende Dinge erledigen:\n",
    "\n",
    "* Die notwendigen Packages laden (`ggplot2`)\n",
    "* Datensatz laden (siehe *Data/raw_bikeshare_data.csv*)\n",
    "* Als weiteren Datensatz nutzen wir den Testdatensatz `starwars`\n",
    "\n",
    "</div>\n"
   ]
  },
  {
   "cell_type": "code",
   "execution_count": null,
   "id": "effd3f75-1dac-44bd-bd43-49acf9899187",
   "metadata": {},
   "outputs": [],
   "source": [
    "# Laden des Pakets tidyverse (lädt stringr, tibble, readr und dplyr)\n",
    "library(tidyverse)\n",
    "library(ggplot2)"
   ]
  },
  {
   "cell_type": "markdown",
   "id": "2a194de6-8467-4a50-a3c5-6bb22efd24fb",
   "metadata": {},
   "source": [
    "# Konkrete Übung zur Datenvisualisierung mit `ggplot2`:\n",
    "\n",
    "*Ziel:* Sie sollen den Umgang mit dem `ggplot2`-Paket lernen und eine Reihe unterschiedlicher Diagrammtypen erstellen können.\n",
    "\n",
    "*Datensatz:* `mtcars` (in R eingebaut)\n",
    "\n",
    "![Übungsaufgabe](../Pics/excercise.png \"Übungsaufgabe\")\n",
    "\n",
    "**Aufgabe 1:** Erstellen Sie ein einfaches Scatterplot von `mpg` (Meilen pro Gallone) gegen `hp` (Horsepower/PS) mit `ggplot2`.\n",
    "\n",
    "**Lösung:**"
   ]
  },
  {
   "cell_type": "code",
   "execution_count": null,
   "id": "8309a1d7-47e0-42da-a333-9c73bc302c7b",
   "metadata": {},
   "outputs": [],
   "source": [
    "# Ihr Code:\n",
    "ggplot(mtcars, aes(x=hp, y=mpg)) + \n",
    "  geom_point() +\n",
    "  labs(title=\"Scatterplot von mpg gegen hp\", \n",
    "       x=\"Horsepower (hp)\", \n",
    "       y=\"Miles per Gallon (mpg)\")\n"
   ]
  },
  {
   "cell_type": "markdown",
   "id": "d9c9ff04-457b-46f0-902d-9b9517493f7b",
   "metadata": {},
   "source": [
    "![Übungsaufgabe](../Pics/excercise.png \"Übungsaufgabe\")\n",
    "\n",
    "**Aufgabe 2:** Fügen Sie dem Scatterplot eine Regressionslinie hinzu.\n",
    "\n",
    "**Lösung:**"
   ]
  },
  {
   "cell_type": "code",
   "execution_count": null,
   "id": "fa3a3f06-4a09-4f11-a4bb-548e867570d0",
   "metadata": {},
   "outputs": [],
   "source": [
    "# Ihr Code:\n",
    "ggplot(mtcars, aes(x=hp, y=mpg)) + \n",
    "  geom_point() +\n",
    "  geom_smooth(method=\"lm\", se=FALSE, color=\"red\") +\n",
    "  labs(title=\"Scatterplot von mpg gegen hp mit Regressionslinie\", \n",
    "       x=\"Horsepower (hp)\", \n",
    "       y=\"Miles per Gallon (mpg)\")\n"
   ]
  },
  {
   "cell_type": "markdown",
   "id": "0d16f16f-6ad1-41d6-b856-8bc95256e3f3",
   "metadata": {},
   "source": [
    "![Übungsaufgabe](../Pics/excercise.png \"Übungsaufgabe\")\n",
    "\n",
    "**Aufgabe 3:** Erstellen Sie ein Boxplot, um den `mpg`-Wert für Automatik- (`am=1`) und Schaltwagen (`am=0`) zu vergleichen.\n",
    "\n",
    "**Lösung:**"
   ]
  },
  {
   "cell_type": "code",
   "execution_count": null,
   "id": "ddcf2c31-6e6f-4e73-9d11-00beed784d8f",
   "metadata": {},
   "outputs": [],
   "source": [
    "# Ihr Code:\n",
    "ggplot(mtcars, aes(x=factor(am), y=mpg, fill=factor(am))) + \n",
    "  geom_boxplot() +\n",
    "  labs(title=\"Boxplot von mpg nach Getriebeart\", \n",
    "       x=\"Getriebeart (0=Schaltwagen, 1=Automatik)\", \n",
    "       y=\"Miles per Gallon (mpg)\") +\n",
    "  scale_fill_discrete(name=\"Getriebeart\", labels=c(\"Schaltwagen\", \"Automatik\"))\n"
   ]
  },
  {
   "cell_type": "markdown",
   "id": "4ba1a16c-971d-4b99-98ca-d574487f5e98",
   "metadata": {},
   "source": [
    "![Übungsaufgabe](../Pics/excercise.png \"Übungsaufgabe\")\n",
    "\n",
    "**Aufgabe 4:** Erstelle ein Histogramm der `mpg`-Werte und passe die Anzahl der Bins an. Experimentiere mit verschiedenen Bin-Werten.\n",
    "\n",
    "**Lösung:**"
   ]
  },
  {
   "cell_type": "code",
   "execution_count": null,
   "id": "fc57359b-c610-4cf7-995a-3041f929abae",
   "metadata": {},
   "outputs": [],
   "source": [
    "# Ihr Code:\n",
    "ggplot(mtcars, aes(x=mpg)) + \n",
    "  geom_histogram(bins=15, fill=\"skyblue\", color=\"black\", alpha=0.7) +\n",
    "  labs(title=\"Histogramm von mpg\", x=\"Miles per Gallon (mpg)\", y=\"Anzahl der Autos\")\n"
   ]
  },
  {
   "cell_type": "markdown",
   "id": "247a4735-8345-4bbb-9204-a65c59b3034b",
   "metadata": {},
   "source": [
    "![Übungsaufgabe](../Pics/excercise.png \"Übungsaufgabe\")\n",
    "\n",
    "**Aufgabe 5:** Füge dem Histogramm aus Aufgabe 4 eine Dichtelinie hinzu.\n",
    "\n",
    "**Lösung:**"
   ]
  },
  {
   "cell_type": "code",
   "execution_count": null,
   "id": "e721f559-c2f2-4a24-90d9-0ebb813ecc64",
   "metadata": {},
   "outputs": [],
   "source": [
    "# Ihr Code:\n",
    "ggplot(mtcars, aes(x=mpg)) + \n",
    "  geom_histogram(aes(y=..density..), bins=15, fill=\"skyblue\", color=\"black\", alpha=0.7) +\n",
    "  geom_density(color=\"red\") +\n",
    "  labs(title=\"Histogramm von mpg mit Dichtelinie\", x=\"Miles per Gallon (mpg)\", y=\"Dichte\")\n"
   ]
  },
  {
   "cell_type": "markdown",
   "id": "da74bbc9-77e1-4820-aeae-a04f0d8c5e36",
   "metadata": {},
   "source": [
    "![Übungsaufgabe](../Pics/excercise.png \"Übungsaufgabe\")\n",
    "\n",
    "**Aufgabe 6:** Erstelle ein Balkendiagramm, das die Anzahl der Autos nach Zylinder (`cyl`) anzeigt.\n",
    "\n",
    "**Lösung:**"
   ]
  },
  {
   "cell_type": "code",
   "execution_count": null,
   "id": "ccea2d90-c1c8-45d6-946e-b23cabda9c40",
   "metadata": {},
   "outputs": [],
   "source": [
    "# Ihr Code:\n",
    "ggplot(mtcars, aes(x=factor(cyl))) + \n",
    "  geom_bar(fill=\"steelblue\", color=\"black\") +\n",
    "  labs(title=\"Balkendiagramm nach Zylinderanzahl\", x=\"Zylinder\", y=\"Anzahl der Autos\")\n"
   ]
  },
  {
   "cell_type": "markdown",
   "id": "e53ec8c5-4216-430a-a397-c3c60554ad05",
   "metadata": {},
   "source": [
    "![Übungsaufgabe](../Pics/excercise.png \"Übungsaufgabe\")\n",
    "\n",
    "**Aufgabe 7:** Erstelle ein gestapeltes Balkendiagramm, das die Anzahl der Autos nach Zylinder (`cyl`) und Getriebeart (`am`) anzeigt.\n",
    "\n",
    "**Lösung:**"
   ]
  },
  {
   "cell_type": "code",
   "execution_count": null,
   "id": "12880f45-4e9f-4cfa-88b4-096e8398d189",
   "metadata": {},
   "outputs": [],
   "source": [
    "# Ihr Code:\n",
    "ggplot(mtcars, aes(x=factor(cyl), fill=factor(am))) + \n",
    "  geom_bar(position=\"stack\") +\n",
    "  labs(title=\"Gestapeltes Balkendiagramm nach Zylinder und Getriebeart\", x=\"Zylinder\", y=\"Anzahl der Autos\") +\n",
    "  scale_fill_discrete(name=\"Getriebeart\", labels=c(\"Schaltwagen\", \"Automatik\"))\n"
   ]
  },
  {
   "cell_type": "markdown",
   "id": "4fc82f2e-c82d-4e7c-be0e-b44e009def1d",
   "metadata": {},
   "source": [
    "![Übungsaufgabe](../Pics/excercise.png \"Übungsaufgabe\")\n",
    "\n",
    "**Aufgabe 8:** Verwende das Facetting, um separate Scatterplots von `mpg` gegen `hp` für jede Getriebeart (`am`) zu erstellen.\n",
    "\n",
    "**Lösung:**"
   ]
  },
  {
   "cell_type": "code",
   "execution_count": null,
   "id": "a7bfe3c7-d79a-4912-9d17-557bde107128",
   "metadata": {},
   "outputs": [],
   "source": [
    "# Ihr Code:\n",
    "ggplot(mtcars, aes(x=hp, y=mpg)) + \n",
    "  geom_point() +\n",
    "  facet_wrap(~am) +\n",
    "  labs(title=\"Scatterplots von mpg gegen hp nach Getriebeart\", x=\"Horsepower (hp)\", y=\"Miles per Gallon (mpg)\")\n"
   ]
  },
  {
   "cell_type": "markdown",
   "id": "2e696382-e7c1-46a5-8e78-613dc963a434",
   "metadata": {},
   "source": [
    "![Übungsaufgabe](../Pics/excercise.png \"Übungsaufgabe\")\n",
    "\n",
    "**Aufgabe 9:** Anpassen der Themen: Verwende ein dunkles Thema für das Scatterplot aus Aufgabe 1.\n",
    "\n",
    "**Lösung:**"
   ]
  },
  {
   "cell_type": "code",
   "execution_count": null,
   "id": "9bd2e748-a369-4753-a7f7-8cca27d8176c",
   "metadata": {},
   "outputs": [],
   "source": [
    "# Ihr Code:\n",
    "ggplot(mtcars, aes(x=hp, y=mpg)) + \n",
    "  geom_point() +\n",
    "  labs(title=\"Scatterplot von mpg gegen hp\", x=\"Horsepower (hp)\", y=\"Miles per Gallon (mpg)\") +\n",
    "  theme_dark()\n"
   ]
  }
 ],
 "metadata": {
  "jupytext": {
   "cell_metadata_filter": "message,eval,paged.print,results,name,tags,warning,-all",
   "main_language": "R",
   "notebook_metadata_filter": "-all"
  },
  "kernelspec": {
   "display_name": "R",
   "language": "R",
   "name": "ir"
  },
  "language_info": {
   "codemirror_mode": "r",
   "file_extension": ".r",
   "mimetype": "text/x-r-source",
   "name": "R",
   "pygments_lexer": "r",
   "version": "4.3.1"
  },
  "toc-autonumbering": true
 },
 "nbformat": 4,
 "nbformat_minor": 5
}

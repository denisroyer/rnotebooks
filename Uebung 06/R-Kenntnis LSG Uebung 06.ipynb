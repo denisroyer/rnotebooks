{
 "cells": [
  {
   "cell_type": "markdown",
   "id": "0276548f-c588-488e-b8f6-4c3b40f5fcb9",
   "metadata": {},
   "source": [
    "![R-Kenntnis](../Pics/header.png \"R-Kenntnis\")\n",
    "\n",
    "<div class=\"alert alert-block alert-info\">\n",
    "\n",
    "* **Titel:** R-Kenntnis Übungen 06: Explorative Datenanalyse (Teil 2)\n",
    "* **Autor:** Prof. Dr. Denis Royer\n",
    "* **Datum:** 22.11.2022 (Version 2.0)\n",
    "\n",
    "</div>\n",
    "\n",
    "![Header_Data](../Pics/header_data.png \"Data\")\n",
    "\n",
    "# BI - R-Kenntnis Lösung Übungen 06: Explorative Datenanalyse (Teil 2)\n",
    "\n",
    "<div class=\"alert alert-block alert-warning\">\n",
    "<b>Wichtig:</b> Bevor wir loslegen, müssen wir zunächst einmal ein paar vorbereitende Dinge erledigen:\n",
    "\n",
    "* Die notwendigen Packages laden (bspw. `tidyverse`, `lubridate`, `psych` und `corrgram`)\n",
    "\n",
    "</div>"
   ]
  },
  {
   "cell_type": "code",
   "execution_count": null,
   "id": "effd3f75-1dac-44bd-bd43-49acf9899187",
   "metadata": {},
   "outputs": [],
   "source": [
    "# Sofern das Paket tidyverse nicht installiert ist, soll es installiert werden. \n",
    "# Die require() Funktion prüft ab, ob das Paket bereits installiert ist. \n",
    "if(!require(\"tidyverse\")) install.packages(\"tidyverse\")\n",
    "# Laden des Pakets tidyverse (lädt stringr, tibble, readr und dplyr)\n",
    "library(tidyverse)\n",
    "\n",
    "if(!require(\"psych\")) install.packages(\"psych\")\n",
    "library(psych)\n",
    "\n",
    "if(!require(\"corrgram\")) install.packages(\"corrgram\", dependencies = TRUE)\n",
    "library(corrgram)\n",
    "\n",
    "if(!require(\"lubridate\")) install.packages(\"lubridate\")\n",
    "library(lubridate)\n"
   ]
  },
  {
   "cell_type": "markdown",
   "id": "fe19ae64",
   "metadata": {},
   "source": [
    "# Workload: Explorative Datenanalyse\n",
    "\n",
    "![Übungsaufgabe](../Pics/excercise.png \"Übungsaufgabe\")\n",
    "\n",
    "Analysieren Sie die Daten, die Sie in *Übungen 4* für die Verleihdaten von *Bike Sharing LLC* aufbereitet haben und beantworten Sie folgende sieben Fragen:\n",
    "\n",
    "1. Konnten Sie die Daten laden? Wie viele Variablen und Datensätze enthält der bearbeitete Datensatz?\n",
    "2. Wie viele Beobachtungen gibt es pro Saison?\n",
    "3. Wie lauten Mittelwert und Standardabweichung für die Variable Temperatur?\n",
    "4. Welche der Variablen ist *nahezu* normalverteilt (Tipp: Histogramm nutzen)?\n",
    "5. Welche der Variable ist am meisten Links- und welche am meisten Rechtsverschoben?\n",
    "6. Welches der Wertepaare hat die größte positive und welches die größte negative Korrelation?\n",
    "7. Welche Variable(n) haben eine signifikante Korrelation?\n",
    "\n",
    "**Die Lösung wird in der kommenden Woche in der Übung besprochen.**"
   ]
  },
  {
   "cell_type": "markdown",
   "id": "24ff6b2f-0948-40b5-a7bc-8500ebadecf8",
   "metadata": {},
   "source": [
    "<div class=\"alert alert-block alert-success\">\n",
    "<b>Lösungsansatz zu Frage 1: Laden und vorbereiten der Daten</b></div>\n",
    "\n",
    "Konnten Sie die Daten laden? Wie viele Variablen und Datensätze enthält der bearbeitete Datensatz?\n",
    "\n",
    "<div class=\"alert alert-block alert-info\">\n",
    "<b>Tip:</b> Zum Thema laden der Daten siehe auch <a href=\"../Uebung 03/R-Kenntnis Uebung 03.ipynb\">Datenimporte und Datenmanipulation</a> <a href=\"../Uebung 3/R-Kenntnis LSG Uebung 03.ipynb\">(+LSG)</a>\n",
    "    \n",
    "</div>"
   ]
  },
  {
   "cell_type": "code",
   "execution_count": null,
   "id": "9e312a4b-6e2f-459b-9a6d-1a349acdc242",
   "metadata": {},
   "outputs": [],
   "source": [
    "# Daten einlesen und Datentypen konvertieren\n",
    "bike.raw <- read.csv(\"../Data/cleaned_bikeshare_data.csv\",\n",
    "                 stringsAsFactors = TRUE)\n",
    "# Kopie der Daten erstellen\n",
    "bike.df <- bike.raw"
   ]
  },
  {
   "cell_type": "markdown",
   "id": "7a0de9c3-7c50-4210-87ab-c3067204ff44",
   "metadata": {},
   "source": [
    "<div class=\"alert alert-block alert-info\">\n",
    "<b>Hinweis:</b> Der Befehl read.csv() erzeugt automatisch aus den Strings Faktorvariablen (stringsAsFactors = TRUE). Liegt eine Ordinalskalierung vor, so muss man im nächsten Schritt die Rangfolge (order) einmal festlegen.\n",
    "    \n",
    "</div>"
   ]
  },
  {
   "cell_type": "code",
   "execution_count": null,
   "id": "c0fa6b20-53d7-48b2-bd05-4d17843359f1",
   "metadata": {},
   "outputs": [],
   "source": [
    "bike.df$season <- factor(bike.df$season, ordered = TRUE,\n",
    "                      levels = c(\"spring\", \"summer\",\n",
    "                                 \"fall\", \"winter\"))"
   ]
  },
  {
   "cell_type": "code",
   "execution_count": null,
   "id": "f9477176-540f-400e-8df7-6353cd040fdc",
   "metadata": {},
   "outputs": [],
   "source": [
    "bike.df$weather <- factor(bike.df$weather, ordered = TRUE,\n",
    "                       levels = c(\"clr_part_cloud\", \n",
    "                                  \"mist_cloudy\",\n",
    "                                  \"lt_rain_snow\",\n",
    "                                  \"hvy_rain_snow\"))"
   ]
  },
  {
   "cell_type": "code",
   "execution_count": null,
   "id": "ea418db9-b51d-42b3-ab2a-6ff18a221b08",
   "metadata": {},
   "outputs": [],
   "source": [
    "# Einmal die Daten mit lubridate in echte Zeitstempel umwandeln.\n",
    "# Das ist notwendig, damit die Dataen auch als Datumswerte erkannt werden.\n",
    "bike.df$datetime <- ymd_hms(bike.df$datetime)"
   ]
  },
  {
   "cell_type": "code",
   "execution_count": null,
   "id": "7174ea85-4e4f-48be-bbb3-29f30a154b6c",
   "metadata": {},
   "outputs": [],
   "source": [
    "# Ausgabe der Struktur der Daten, um zu sehen\n",
    "# ob alle Anpassungen passen.\n",
    "str(bike.df)"
   ]
  },
  {
   "cell_type": "markdown",
   "id": "630a7290-b3f8-433e-b2b6-4692756f6594",
   "metadata": {},
   "source": [
    "<div class=\"alert alert-block alert-success\">\n",
    "<b>Lösungsansatz zu Frage 2</b></div>\n",
    "\n",
    "Wie viele Beobachtungen gibt es pro Saison?"
   ]
  },
  {
   "cell_type": "code",
   "execution_count": null,
   "id": "5494949d-0714-4020-89ab-aa5080fd23d2",
   "metadata": {},
   "outputs": [],
   "source": [
    "# Die Funktion table() summiert automatisch die Anzahl\n",
    "# der Ausprägungen einer Variable entlang der Faktoren\n",
    "# zusammen und stellt diese tabellarisch dar.\n",
    "table(bike.df$season)"
   ]
  },
  {
   "cell_type": "markdown",
   "id": "952ad86d-b756-4a46-9dc0-e5ca495e7c10",
   "metadata": {},
   "source": [
    "<div class=\"alert alert-block alert-success\">\n",
    "<b>Lösungsansatz zu Frage 3</b></div>\n",
    "\n",
    "Wie lauten Mittelwert und Standardabweichung für die Variable Temperatur?"
   ]
  },
  {
   "cell_type": "code",
   "execution_count": null,
   "id": "b09ed390-0163-4848-90d0-cefc0cb909c4",
   "metadata": {},
   "outputs": [],
   "source": [
    "mean(bike.df$temp)\n",
    "sd(bike.df$temp)"
   ]
  },
  {
   "cell_type": "markdown",
   "id": "caf41c49-cdf1-46ac-b78a-d4c7717d24dd",
   "metadata": {},
   "source": [
    "<div class=\"alert alert-block alert-success\">\n",
    "<b>Lösungsansatz zu Frage 4</b></div>\n",
    "\n",
    "Welche der Variablen ist *nahezu* normalverteilt (Tipp: Histogramm nutzen)?\n",
    "\n",
    "<div class=\"alert alert-block alert-info\">\n",
    "<b>Hinweis:</b> Man kann sehr gut die hist() Funktion nutzen, um einmal alle Variablen aus bike sich als Plot darstellen lassen zu können.\n",
    "    \n",
    "</div>"
   ]
  },
  {
   "cell_type": "code",
   "execution_count": null,
   "id": "2a4a8358-8618-4f3e-ac79-c653f13c2df9",
   "metadata": {},
   "outputs": [],
   "source": [
    "hist(bike.df$temp)"
   ]
  },
  {
   "cell_type": "markdown",
   "id": "d162b694-f54e-4404-a02e-fc1ec573e081",
   "metadata": {},
   "source": [
    "<div class=\"alert alert-block alert-success\">\n",
    "<b>Lösungsansatz zu Frage 5</b></div>\n",
    "\n",
    "Welche der Variable ist am meisten Links- und welche am meisten Rechtsverschoben?"
   ]
  },
  {
   "cell_type": "code",
   "execution_count": null,
   "id": "51e7d789-ee06-46f3-84a2-5642ebc0333f",
   "metadata": {},
   "outputs": [],
   "source": [
    "# Darstellung der Grafiken in zweispaltiger Ansicht\n",
    "par(mfrow = c(1, 2))\n",
    "# Ausgabe der Plots\n",
    "plot(bike.df$workingday) # Rechtsverschoben\n",
    "hist(bike.df$casual) #  Linksverschoben\n",
    "# Darstellung zurück auf einspaltig stellen\n",
    "par(mfrow = c(1, 1))"
   ]
  },
  {
   "cell_type": "markdown",
   "id": "1d7b8dbd-ca6a-4b29-8525-4e92d0389a0d",
   "metadata": {},
   "source": [
    "<div class=\"alert alert-block alert-success\">\n",
    "<b>Lösungsansatz zu Frage 6</b></div>\n",
    "\n",
    "Welches der Wertepaare hat die größte positive und welches die größte negative Korrelation?"
   ]
  },
  {
   "cell_type": "code",
   "execution_count": null,
   "id": "2048de91-6c47-4f31-9593-db6601a8c35c",
   "metadata": {},
   "outputs": [],
   "source": [
    "# Da die cor() Funktion nur nummerische Variablen auswerten kann,\n",
    "# erzeugen wir uns einmal eine Variante von bike, die nur nummerische\n",
    "# Variablen enthält.\n",
    "nbike.df <- bike.df[ ,-c(1:5, 13:14)]\n",
    "cor(nbike.df)"
   ]
  },
  {
   "cell_type": "code",
   "execution_count": null,
   "id": "5f8556f7-4ce9-4850-b709-5d23a401b51d",
   "metadata": {},
   "outputs": [],
   "source": [
    "pairs(nbike.df) # Der Aufrauf dauert ggf. ein wenig...."
   ]
  },
  {
   "cell_type": "markdown",
   "id": "87cf53a5-a119-4d8e-92a8-6f6239c08253",
   "metadata": {},
   "source": [
    "<div class=\"alert alert-block alert-success\">\n",
    "<b>Lösungsansatz zu Frage 7</b></div>\n",
    "\n",
    "Welche Variable(n) haben eine signifikante Korrelation?\n",
    "\n",
    "Ein sinnvolle Vorgehen ist es, die Daten einmal als Korrelogramm auszugeben (Package `corrgram`). Je nachdem wie stark die Korrelation ist, je stärker ist die Färbung der Felder. Weiterhin kann man anhand der Elipsen und Kreise im ersten Diagram sehen, wo das Gros der Daten liegt und wie stark die Korrelation in eine bestimmt Richtung geht."
   ]
  },
  {
   "cell_type": "code",
   "execution_count": null,
   "id": "1a75ed02-49f2-4c23-8fe4-e1341905d6a9",
   "metadata": {},
   "outputs": [],
   "source": [
    "corr.test(nbike.df)"
   ]
  },
  {
   "cell_type": "code",
   "execution_count": null,
   "id": "ddeefbb2-5d22-4ec5-b124-6bb9de1a0ec8",
   "metadata": {},
   "outputs": [],
   "source": [
    "corrgram(nbike.df, order = TRUE,\n",
    "         main = \"Korrelation der Daten (Elipsoid)\",\n",
    "         lower.panel = panel.shade, upper.panel = panel.ellipse,\n",
    "         diag.panel = panel.minmax, text.panel = panel.txt)"
   ]
  },
  {
   "cell_type": "code",
   "execution_count": null,
   "id": "2eafefa0-9d47-4dba-9d0c-accb64ad6424",
   "metadata": {},
   "outputs": [],
   "source": [
    "corrgram(nbike.df, order = TRUE,\n",
    "         main = \"Korrelation der Daten (Pie)\",\n",
    "         lower.panel = panel.shade, upper.panel = panel.pie,\n",
    "         diag.panel = panel.minmax, text.panel = panel.txt)"
   ]
  }
 ],
 "metadata": {
  "jupytext": {
   "cell_metadata_filter": "message,eval,paged.print,results,name,tags,warning,-all",
   "main_language": "R",
   "notebook_metadata_filter": "-all"
  },
  "kernelspec": {
   "display_name": "R",
   "language": "R",
   "name": "ir"
  },
  "language_info": {
   "codemirror_mode": "r",
   "file_extension": ".r",
   "mimetype": "text/x-r-source",
   "name": "R",
   "pygments_lexer": "r",
   "version": "4.2.1"
  }
 },
 "nbformat": 4,
 "nbformat_minor": 5
}

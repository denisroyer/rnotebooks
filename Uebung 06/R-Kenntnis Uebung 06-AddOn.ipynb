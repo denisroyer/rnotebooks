{
 "cells": [
  {
   "cell_type": "markdown",
   "id": "f383382d-c9e1-41e0-9e54-b70f7e0f4487",
   "metadata": {},
   "source": [
    "![R-Kenntnis](../Pics/header.png \"R-Kenntnis\")\n",
    "\n",
    "<img src=\"https://img.shields.io/badge/--Kenntnis-blue?style=flat-square&logo=r&logoColor=white\"/> <a href=\"https://ostfalia.de/w\" target=\"_blank\"><img src=\"https://img.shields.io/badge/Ostfalia-Fakultät%20W-blue?style=flat-square&logo=googlescholar&logoColor=white\"/></a> <img src=\"https://img.shields.io/badge/Semester-WiSe2023%2F24-green?style=flat-square\"/> <img src=\"https://img.shields.io/badge/Copyright-2020--24-orange?style=flat-square\"/> <a href=\"https://creativecommons.org/licenses/by-nc-sa/4.0/\" target=\"_blank\"><img src=\"https://img.shields.io/badge/License-by--nc--sa-red?style=flat-square\"/></a> \n",
    "\n",
    "<div class=\"alert alert-block alert-info\">\n",
    "<img src=\"https://img.shields.io/badge/Information-Übung_06--AddOn-blue?style=for-the-badge&logo=bookstack&logoColor=white\">\n",
    "    \n",
    "* **Titel:** R-Kenntnis Übungen 06-AddOn: Visualisierung mit ggplot2\n",
    "* **Autor:** Prof. Dr. Denis Royer\n",
    "* **Datum:** 29.09.2023 (Version 1.0)\n",
    "\n",
    "</div>\n",
    "\n",
    "![Header_Data](../Pics/header_data.png \"Data\")\n",
    "\n",
    "<div class=\"alert alert-block alert-success\">\n",
    "    \n",
    "# Überblick \n",
    "## 06-AddOn: Visualisierung mit ggplot2\n",
    "\n",
    "1. **Grundprinzipien der Datenvisualisierung:** Verstehen der Bedeutung und Vorteile von Datenvisualisierung, von der kognitiven Verarbeitung bis zur effektiven Kommunikation.\n",
    "   \n",
    "2. **Einführung in ggplot2:** Eine tiefgehende Erkundung des ggplot2-Pakets in R, von den Grundlagen bis zu fortgeschrittenen Techniken.\n",
    "   \n",
    "3. **Erstellung komplexer Visualisierungen:** Erlernen des Bauens anspruchsvoller und aussagekräftiger Grafiken mit ggplot2, die mehrere Datenfacetten gleichzeitig darstellen können.\n",
    "   \n",
    "4. **Optimierung und Anpassung von Grafiken:** Tipps und Techniken für die Feinabstimmung und Personalisierung von ggplot2-Grafiken, um sie sowohl funktional als auch ästhetisch ansprechend zu gestalten.\n",
    "\n",
    "## Vermittelte Kompetenzen:\n",
    "\n",
    "Teilnehmer werden befähigt, Daten effektiv und ansprechend zu visualisieren, wodurch komplexe Datenmengen verständlicher und zugänglicher gemacht werden. Zudem erwerben sie umfassende Kenntnisse in ggplot2, sodass sie in der Lage sind, individuelle und hochqualitative Grafiken in R zu erstellen.\n",
    "\n",
    "</div>\n",
    "\n",
    "# BI - R-Kenntnis Übungen 06-AddOn: Visualisierung mit ggplot2\n",
    "\n",
    "Bitte lesen Sie die folgenden Kapitel und die enthaltenen Hinweise ***sorgfältig*** durch. Die Aufgaben sind zum Teil in den Kapiteln enthalten.\n",
    "\n",
    "<div class=\"alert alert-block alert-warning\">\n",
    "<b>WICHTIG:</b> \n",
    "    \n",
    "*Die Schritte im Source Code bauen zum Teil aufeinander auf. Sollten Sie Ihre RStudio oder JupyterLab Session schließen oder neu starten, so müssen Sie ggf. den **Code erneut ausführen**, bzw. die **Packages neu laden**.*\n",
    "    \n",
    "</div>\n",
    "\n",
    "<div class=\"alert alert-block alert-info\">\n",
    "<b>Hinweis:</b> Weitere Hinweise und Quellen finden Sie <a href=\"../index.ipynb\">auf der zenteralen Übersicht zu den Übungen</a>. </div>"
   ]
  },
  {
   "cell_type": "markdown",
   "id": "d4a1683a-b3a0-4174-81c1-e1acb6396b74",
   "metadata": {},
   "source": [
    "## Einleitung\n",
    "\n",
    "In der Welt der Datenanalyse sagt man oft, dass ein Bild mehr als tausend Worte wert ist. Die Fähigkeit, Daten visuell darzustellen, ist ein unerlässliches Werkzeug für jeden Datenwissenschaftler. Mit der richtigen Darstellung können komplexe Zusammenhänge verständlich, erkennbar und anschaulich gemacht werden.\n",
    "\n",
    "`ggplot2` ist eines der beliebtesten und leistungsstärksten Pakete in R für die Datenvisualisierung. Es baut auf dem Konzept der \"Grammatik der Grafiken\" auf, was bedeutet, dass jede visuelle Darstellung aus einer Kombination von Schichten besteht. Jede dieser Schichten hat eine bestimmte Rolle bei der Erzeugung des Enddiagramms.\n",
    "\n",
    "In dieser Übung werden Sie in die Grundlagen von `ggplot2` eingeführt und lernen, wie Sie mithilfe von Schichten verschiedene Arten von Diagrammen erstellen können. Die bereitgestellte tabellarische Übersicht bietet einen schnellen Einstieg in die wichtigsten Funktionen und Konzepte, die Sie benötigen, um beeindruckende und informative Grafiken zu erstellen.\n",
    "\n",
    "Unser Ziel ist es, Sie mit den Werkzeugen auszustatten, die Sie benötigen, um Ihre Daten effektiv zu visualisieren, Geschichten mit Ihren Daten zu erzählen und Ihre Analysen auf überzeugende Weise zu kommunizieren."
   ]
  },
  {
   "cell_type": "code",
   "execution_count": null,
   "id": "8ad4a130-9f4d-4c81-887b-67d82757407b",
   "metadata": {},
   "outputs": [],
   "source": [
    "library(ggplot2)\n",
    "\n",
    "# Daten\n",
    "data(mtcars)\n",
    "\n",
    "# Haupt-Plot\n",
    "ggplot(mtcars, aes(x=hp, y=mpg)) + \n",
    "  geom_point(aes(color=cyl), size=3) +          # Punkte, gefärbt nach Zylinderzahl\n",
    "  geom_smooth(method=\"lm\", se=FALSE, color=\"black\") +  # Regressionslinie\n",
    "  facet_wrap(~gear) +                            # Unterteilung nach Gangzahl\n",
    "  theme_minimal() + \n",
    "  labs(title=\"Zusammenhang zwischen Motorleistung und Kraftstoffverbrauch\",\n",
    "       subtitle=\"Unterteilt nach Gangzahl\",\n",
    "       x=\"Motorleistung (hp)\",\n",
    "       y=\"Kraftstoffverbrauch (mpg)\",\n",
    "       color=\"Zylinderzahl\") +\n",
    "  theme(legend.position=\"bottom\")"
   ]
  },
  {
   "cell_type": "markdown",
   "id": "c75cb807-a711-4f43-b340-81745566d15a",
   "metadata": {
    "tags": []
   },
   "source": [
    "## Vorbereitende Schritte für die Übung\n",
    "\n",
    "\n",
    "<div class=\"alert alert-block alert-warning\">\n",
    "<b>Wichtig:</b> Bevor wir loslegen, müssen wir zunächst einmal ein paar vorbereitende Dinge erledigen:\n",
    "\n",
    "* Die notwendigen Packages laden (`ggplot2`)\n",
    "* Datensatz laden (siehe *Data/raw_bikeshare_data.csv*)\n",
    "* Als weiteren Datensatz nutzen wir den Testdatensatz `starwars`\n",
    "\n",
    "</div>\n"
   ]
  },
  {
   "cell_type": "code",
   "execution_count": null,
   "id": "effd3f75-1dac-44bd-bd43-49acf9899187",
   "metadata": {},
   "outputs": [],
   "source": [
    "# Laden des Pakets tidyverse (lädt stringr, tibble, readr und dplyr UND ggplot2)\n",
    "library(tidyverse)\n",
    "library(ggplot2)"
   ]
  },
  {
   "cell_type": "markdown",
   "id": "5980910e-d627-4001-ab8d-eb8413a1d43a",
   "metadata": {},
   "source": [
    "# Grundlagen der Datenvisualisierung: Warum ist sie wichtig?\n",
    "\n",
    "Datenvisualisierung ist die Kunst und Wissenschaft, Informationen in visueller Form darzustellen, sei es durch Diagramme, Graphen, Karten oder andere bildliche Darstellungen. Aber warum ist sie so wichtig?\n",
    "\n",
    "1. **Kognitive Verarbeitung:** Menschen sind von Natur aus visuelle Wesen. Ein Großteil unseres Gehirns ist für das Sehen und die visuelle Verarbeitung reserviert. Bilder können oft schneller erfasst und interpretiert werden als textbasierte Informationen. Eine gut gestaltete Grafik kann komplexe Datenmengen in eine Form umwandeln, die leicht zu verstehen und zu merken ist.\n",
    "\n",
    "2. **Entdeckung von Mustern und Trends:** Große Datenmengen können verwirrend und überwältigend sein. Durch die Visualisierung können Muster, Trends und Anomalien leichter erkannt werden. Ein Liniendiagramm kann beispielsweise einen Aufwärtstrend über die Zeit zeigen, der in einer Tabelle mit Rohdaten schwer zu erkennen wäre.\n",
    "\n",
    "3. **Effektive Kommunikation:** In Geschäfts-, Forschungs- oder politischen Kontexten müssen oft komplexe Daten und Analysen einem Publikum präsentiert werden. Eine klare und ansprechende Visualisierung kann helfen, die Botschaft effektiv zu übermitteln.\n",
    "\n",
    "4. **Informierte Entscheidungsfindung:** Für Entscheidungsträger in Unternehmen, Regierungen oder anderen Organisationen kann die Fähigkeit, Daten schnell zu verstehen und zu interpretieren, entscheidend sein. Eine klare Visualisierung kann hierbei helfen, fundierte Entscheidungen zu treffen.\n",
    "\n",
    "5. **Engagement und Interesse:** In einer Welt, die mit Informationen überflutet wird, kann eine fesselnde Visualisierung dazu beitragen, die Aufmerksamkeit eines Publikums zu gewinnen und es zum Nachdenken oder Handeln anzuregen.\n",
    "\n",
    "6. **Demokratisierung von Daten:** In einer Zeit, in der \"Daten das neue Öl\" sind, ermöglicht die Datenvisualisierung einem breiteren Publikum – auch denen ohne technischen oder statistischen Hintergrund – den Zugang und das Verständnis von Daten.\n",
    "\n",
    "7. **Effizienz:** Das Durchsuchen von Tabellen und rohen Datenbeständen kann zeitaufwändig sein. Visualisierungen ermöglichen es den Benutzern, schnell die benötigten Informationen zu finden und zu interpretieren.\n",
    "\n",
    "In einer immer komplexeren und datengetriebenen Welt ist die Fähigkeit, Daten effektiv zu visualisieren, wichtiger denn je. Sie ermöglicht nicht nur das Verständnis und die Interpretation von Informationen, sondern auch die Kommunikation von Erkenntnissen, die Einflussnahme auf Entscheidungen und das Erzählen von Geschichten mit Daten. Gut gemachte Datenvisualisierungen können sowohl schön als auch funktional sein, wodurch Daten lebendig und zugänglich werden.\n",
    "\n",
    "# Best-Practices bei der Erstellung von Grafiken\n",
    "\n",
    "Grafiken sind mächtige Werkzeuge zur Kommunikation von Informationen. Wenn sie gut gemacht sind, können sie komplexe Daten und Ideen klar und effektiv vermitteln. Hier sind einige allgemeine gute Praktiken bei der Erstellung von Grafiken:\n",
    "\n",
    "1. **Ziel und Publikum kennen:** Bevor Sie mit der Erstellung einer Grafik beginnen, sollten Sie genau wissen, welche Botschaft Sie vermitteln möchten und wer Ihre Zielgruppe ist. Das Verständnis dieser Aspekte wird Ihnen helfen, Ihre Grafik effektiv zu gestalten.\n",
    "\n",
    "2. **Einfachheit:** Ein gängiger Fehler ist das Überladen von Diagrammen mit zu vielen Datenpunkten oder Informationen. Einfache Grafiken sind oft wirkungsvoller.\n",
    "\n",
    "3. **Konsistente Farbgebung:** Verwenden Sie Farben konsistent und mit Bedacht. Wenn Sie beispielsweise in einer Grafik bestimmte Kategorien in bestimmten Farben darstellen, sollten Sie diese Farben in allen verwandten Grafiken konsistent verwenden.\n",
    "\n",
    "4. **Vermeiden Sie 3D:** 3D-Diagramme können zwar ansprechend aussehen, aber sie können Daten oft verzerren und es schwieriger machen, genaue Vergleiche anzustellen.\n",
    "\n",
    "5. **Achsentitel und -beschriftungen:** Achsen sollten klar beschriftet sein, und es ist oft hilfreich, Einheiten oder andere relevante Informationen hinzuzufügen.\n",
    "\n",
    "6. **Legende:** Eine klare und gut platzierte Legende ist wichtig, um sicherzustellen, dass die Betrachter die in der Grafik dargestellten Daten verstehen.\n",
    "\n",
    "7. **Datenquellen angeben:** Geben Sie immer die Quelle der Daten an, insbesondere wenn sie von Dritten stammen. Dies verleiht Ihrer Grafik Glaubwürdigkeit.\n",
    "\n",
    "8. **Verwenden Sie das richtige Diagrammtyp:** Je nach den zu vermittelnden Daten und Informationen gibt es unterschiedliche Diagrammtypen (z.B. Balkendiagramme, Liniendiagramme, Tortendiagramme). Wählen Sie den Typ, der Ihre Daten am besten darstellt.\n",
    "\n",
    "9. **Vermeiden Sie trügerische Achsenskalen:** Manipulationen der Achsenskalen können zu irreführenden Interpretationen führen. Wenn Sie beispielsweise die y-Achse nicht bei Null beginnen lassen, können Unterschiede überbetont dargestellt werden.\n",
    "\n",
    "10. **Testen Sie Ihre Grafik:** Bevor Sie Ihre Grafik veröffentlichen, sollten Sie sie mit Kollegen oder der Zielgruppe testen, um sicherzustellen, dass sie klar und verständlich ist.\n",
    "\n",
    "11. **Nutzung von Gitterlinien und Hintergrundfarben:** Gitterlinien sollten subtil sein und nicht von den Daten ablenken. Ein leichter Hintergrund kann helfen, die Daten hervorzuheben, ohne abzulenken.\n",
    "\n",
    "12. **Beachten Sie kulturelle Unterschiede:** Farben und Symbole können in verschiedenen Kulturen unterschiedliche Bedeutungen haben. Stellen Sie sicher, dass Ihre Grafik in allen Kulturen, in denen sie gezeigt wird, korrekt interpretiert wird.\n",
    "\n",
    "13. **Responsive Design:** Falls Ihre Grafiken online angezeigt werden, stellen Sie sicher, dass sie auf verschiedenen Geräten gut aussehen und lesbar sind.\n",
    "\n",
    "Das Beachten dieser Praktiken wird Ihnen helfen, Grafiken zu erstellen, die sowohl ästhetisch ansprechend als auch informativ sind."
   ]
  },
  {
   "cell_type": "markdown",
   "id": "4e6e3a4c-91e1-4db7-aaa9-574e65bcbb5f",
   "metadata": {},
   "source": [
    "# Einführung zu ggplot2\n",
    "\n",
    "`ggplot2` ist ein leistungsstarkes R-Paket für Datenvisualisierung, entwickelt von Hadley Wickham. Es gehört zum `tidyverse`-Paketbündel – einer Gruppe von R-Paketen, die den Datenanalyseprozess vereinfachen. Der Name \"ggplot\" ist von der \"Grammar of Graphics\" abgeleitet, einem System, das die Erstellung von Grafiken als eine Kombination von standardisierten Elementen betrachtet.\n",
    "\n",
    "#### Schlüsselkonzepte von ggplot2:\n",
    "\n",
    "1. **Aesthetics (aes)**: Diese beschreiben, wie Variablen in der Grafik dargestellt werden. Zum Beispiel, welche Variable auf der X-Achse und welche auf der Y-Achse gezeichnet wird.\n",
    "    - Diese definieren die visuelle Darstellung von Daten. Einige häufig verwendete Ästhetiken sind `x`, `y`, `color`, `fill`, `size` und `shape`.\n",
    "    - Beispiel: `aes(x=hp, y=mpg, color=cyl)`\n",
    "\n",
    "2. **Geoms**: Geometrische Objekte (wie Punkte, Linien, Balken) definieren, welche Art von Grafik gezeichnet wird. Jede `geom`-Funktion fügt eine andere Art von Layer oder Form zur Grafik hinzu.\n",
    "    - Geometrische Objekte repräsentieren verschiedene Arten von Grafiken. Zum Beispiel Punkte, Linien und Balken.\n",
    "    - Einige häufige Geoms:\n",
    "      - `geom_point()`: Punkte für Streudiagramme\n",
    "      - `geom_line()`: Linien\n",
    "      - `geom_bar()`: Balkendiagramme\n",
    "      - `geom_histogram()`: Histogramme\n",
    "      - `geom_boxplot()`: Boxplots\n",
    "\n",
    "3. **Scales**: Diese steuern die Abbildung von Daten zu visuellen Elementen. Es gibt eine Vielzahl von Skalen in `ggplot2`, die es ermöglichen, die Farben, Größen und Formen der Datenpunkte anzupassen.\n",
    "\n",
    "    - Steuern die Darstellung der Ästhetiken. Zum Beispiel, wie Datenwerte auf Farben, Größen oder Positionen abgebildet werden.\n",
    "    - Beispiele:\n",
    "      - `scale_color_manual()`: Zum Festlegen eigener Farben\n",
    "      - `scale_x_continuous()`: Zur Anpassung der X-Achse\n",
    "\n",
    "4. **Themes**: Diese steuern das Gesamtaussehen der Grafik, einschließlich der Achsentitel, Hintergrundfarben und Textgrößen.\n",
    "    - Themes kontrollieren das allgemeine Design von Plots. Dazu gehören Hintergründe, Achsentitel, Legenden und mehr.\n",
    "    - Beispiele:\n",
    "      - `theme_minimal()`: Ein minimales Design\n",
    "      - `theme_bw()`: Ein schwarz-weißes Design\n",
    "\n",
    "5. **Facets**: Erlauben es, mehrere Plots in einem Raster zu erzeugen, typischerweise basierend auf einer kategorialen Variable.\n",
    "    - Erlauben es, mehrere Plots in einem Raster zu erzeugen, typischerweise basierend auf einer kategorialen Variable.\n",
    "    - Beispiel: `facet_wrap(~gear)`\n",
    "\n",
    "#### Einfaches Beispiel mit ggplot2:\n",
    "\n",
    "Das Grundprinzip von `ggplot2` ist das der schrittweisen Erstellung einer Grafik. Man beginnt mit der Definition eines Grundgerüsts, das die Daten und die zu verwendenden Ästhetiken angibt. Anschließend werden weitere Ebenen (wie Geoms, Scales und Themes) hinzugefügt, um die Grafik zu verfeinern und anzupassen.\n",
    "\n",
    "Visualisieren Sie die Beziehung zwischen Pferdestärken (`hp`) und Meilen pro Gallone (`mpg`), eingefärbt nach der Anzahl der Zylinder (`cyl`):"
   ]
  },
  {
   "cell_type": "code",
   "execution_count": null,
   "id": "ca372a92-f7fc-4129-b2d8-9ecde2042435",
   "metadata": {},
   "outputs": [],
   "source": [
    "ggplot(data=mtcars, aes(x=hp, y=mpg, color=cyl)) +\n",
    "  geom_point() +\n",
    "  theme_minimal()"
   ]
  },
  {
   "cell_type": "markdown",
   "id": "e4153e01-39a3-44cf-8eba-8372c38ca4dc",
   "metadata": {
    "jp-MarkdownHeadingCollapsed": true,
    "tags": []
   },
   "source": [
    "#### Vorteile von ggplot2:\n",
    "\n",
    "- **Flexibilität**: Mit einer Vielzahl von Geoms, Ästhetiken und Scales können Benutzer komplexe Grafiken erstellen.\n",
    "  \n",
    "- **Konsistenz**: Das Grammatik-Konzept sorgt für einen kohärenten Ansatz zur Grafikerstellung, unabhängig von der Komplexität.\n",
    "\n",
    "- **Community Support**: Mit einer aktiven Community gibt es viele Ressourcen, Tutorials und Erweiterungspakete für ggplot2.\n",
    "\n",
    "\n",
    "`ggplot2` ist somit ein wertvolles Werkzeug für jeden, der in R Daten visualisieren möchte und professionell aussehende Grafiken erstellen will.\n",
    "\n",
    "\n",
    "<div class=\"alert alert-block alert-success\">\n",
    "<b>Tipp:</b> \n",
    "\n",
    "Als schnelle Referenz kann man das **`ggplot2` Cheat Sheet** hier herunterladen: <https://github.com/rstudio/cheatsheets/blob/main/data-visualization.pdf>\n",
    "    \n",
    "![data-visualization-cheatsheet-thumbs.png](../Pics/data-visualization-cheatsheet-thumbs.png \"ggplot2 Cheat Sheet\")\n",
    "    \n",
    "</div>"
   ]
  },
  {
   "cell_type": "markdown",
   "id": "40c766ee-7f25-4165-accf-3ef30f678cdd",
   "metadata": {},
   "source": [
    "# Wichtige Konzepte und Parameter von ggplot2\n",
    "\n",
    "| Kategorie    | Konzept/Befehl          | Beschreibung                                                               | Beispiel                                      |\n",
    "|--------------|-------------------------|----------------------------------------------------------------------------|-----------------------------------------------|\n",
    "| **Aesthetics**   | `aes()`                 | Definiert die visuellen Darstellungen von Daten                            | `aes(x=hp, y=mpg, color=cyl)`                  |\n",
    "|              |                         | - `x` und `y`: Daten für X- und Y-Achse                                   |                                               |\n",
    "|              |                         | - `color` und `fill`: Farbliche Darstellung                                |                                               |\n",
    "|              |                         | - `size`: Größe von Punkten oder Linien                                    |                                               |\n",
    "|              |                         | - `shape`: Form von Punkten                                                |                                               |\n",
    "| **Geoms**        | `geom_point()`          | Punkte für Streudiagramme                                                  |                                               |\n",
    "|              | `geom_line()`           | Linien, oft für Zeitreihen oder Trends                                      |                                               |\n",
    "|              | `geom_bar()`            | Balkendiagramme (für kategoriale Daten)                                    |                                               |\n",
    "|              | `geom_histogram()`      | Histogramme (für kontinuierliche Daten)                                    |                                               |\n",
    "|              | `geom_boxplot()`        | Boxplots (zeigt Datenverteilung)                                           |                                               |\n",
    "| **Scales**       | `scale_color_manual()`  | Festlegen eigener Farben für `color`-Ästhetik                              | `scale_color_manual(values=c(\"red\", \"blue\"))`  |\n",
    "|              | `scale_x_continuous()`  | Anpassung der X-Achse                                                      | `scale_x_continuous(breaks=c(10,20,30))`       |\n",
    "|              | `scale_y_log10()`       | Logarithmische Skalierung der Y-Achse                                      |                                               |\n",
    "| **Themes**       | `theme_minimal()`       | Ein Design mit minimalem Rauschen                                          |                                               |\n",
    "|              | `theme_bw()`            | Ein schwarz-weißes Design                                                  |                                               |\n",
    "|              | `theme()`               | Anpassen einzelner Theme-Elemente                                          | `theme(axis.title.x=element_text(angle=45))`   |\n",
    "| **Facets**       | `facet_wrap()`          | Erzeugt ein Raster von Plots basierend auf einer kategorialen Variable     | `facet_wrap(~gear)`                           |\n",
    "|              | `facet_grid()`          | Erzeugt ein Raster von Plots basierend auf zwei kategorialen Variablen     | `facet_grid(gear~cyl)`                        |\n"
   ]
  },
  {
   "cell_type": "markdown",
   "id": "f5fd2c3b-a7f3-4b81-b81b-4dd05ba66641",
   "metadata": {},
   "source": [
    "# Kontrastieren von guter und schlechter Datenvisualisierung\n",
    "\n",
    "Die Kunst der Datenvisualisierung besteht nicht nur darin, Datenpunkte auf einer Leinwand darzustellen, sondern die Geschichte hinter den Daten auf eine klare und verständliche Weise zu vermitteln. Dies kann den Unterschied zwischen einer effektiven und einer verwirrenden Darstellung ausmachen. Betrachten Sie die beiden nebeneinander dargestellten Grafiken, die dieselben Daten aus dem `mpg`-Datensatz verwenden:"
   ]
  },
  {
   "cell_type": "markdown",
   "id": "c9695fbb-ccf5-4bbe-b70f-10ffa6a2fe0a",
   "metadata": {},
   "source": [
    "**Schlechte Visualisierung (links):** Die Auswahl des Farbschemas basiert auf dem Hersteller, was zu einer überwältigenden Anzahl von Farben führt, die schwer zu unterscheiden sind. Es gibt auch keine Beschriftungen oder Titel, die dem Betrachter Kontext oder Klarheit bieten. Darüber hinaus ist die y-Achse unnötig eingeschränkt, was eine irreführende Darstellung der Daten verursachen kann."
   ]
  },
  {
   "cell_type": "code",
   "execution_count": null,
   "id": "b4d76b54-0256-462f-a044-1f39498f2189",
   "metadata": {},
   "outputs": [],
   "source": [
    "# Schlechte Visualisierung\n",
    "ggplot(mpg, aes(x=displ, y=hwy, color=manufacturer)) + \n",
    "  geom_point() + \n",
    "  ylim(20, 50) +\n",
    "  theme_minimal()"
   ]
  },
  {
   "cell_type": "markdown",
   "id": "d53695f6-61bb-4ed1-8491-c8a10c684d2c",
   "metadata": {},
   "source": [
    "**Gute Visualisierung (rechts):** Die Farbkodierung basiert hier auf der Fahrzeugklasse, wodurch die Anzahl der verwendeten Farben reduziert und ein klareres Bild der Datenverteilung gegeben wird. Titel und Achsenbeschriftungen geben dem Betrachter einen klaren Kontext. Zudem verwendet die Grafik ein sanftes, aber unterscheidbares Farbschema, das sowohl ästhetisch ansprechend ist als auch zur besseren Trennung und Identifizierung der Datenkategorien beiträgt."
   ]
  },
  {
   "cell_type": "code",
   "execution_count": null,
   "id": "254c344d-fa34-456b-aea5-2d4623e37ad2",
   "metadata": {},
   "outputs": [],
   "source": [
    "# Gute Visualisierung\n",
    "ggplot(mpg, aes(x=displ, y=hwy, color=class)) + \n",
    "  geom_point() + \n",
    "  ggtitle(\"Beziehung zwischen Hubraum und Kraftstoffeffizienz\") +\n",
    "  xlab(\"Hubraum (in Litern)\") + \n",
    "  ylab(\"Kraftstoffeffizienz (Meilen pro Gallone)\") +\n",
    "  scale_color_brewer(palette=\"Pastel1\") + \n",
    "  theme_minimal()"
   ]
  },
  {
   "cell_type": "markdown",
   "id": "a551297d-4850-4819-a26e-7d4d8123b963",
   "metadata": {},
   "source": [
    "<div class=\"alert alert-block alert-success\">\n",
    "Durch den direkten Vergleich dieser beiden Grafiken wird deutlich, wie entscheidend die Wahl der Farben, Beschriftungen und des allgemeinen Grafikdesigns für die Effektivität einer Datenvisualisierung ist.\n",
    "</div>"
   ]
  },
  {
   "cell_type": "markdown",
   "id": "2a194de6-8467-4a50-a3c5-6bb22efd24fb",
   "metadata": {},
   "source": [
    "# Konkrete Übung zur Datenvisualisierung mit `ggplot2`:\n",
    "\n",
    "*Ziel:* Sie sollen den Umgang mit dem `ggplot2`-Paket lernen und eine Reihe unterschiedlicher Diagrammtypen erstellen können.\n",
    "\n",
    "*Datensatz:* `mtcars` (in R eingebaut)\n",
    "\n",
    "![Übungsaufgabe](../Pics/excercise.png \"Übungsaufgabe\")\n",
    "**Aufgabe 1:** Erstellen Sie ein einfaches Scatterplot von `mpg` (Meilen pro Gallone) gegen `hp` (Horsepower/PS) mit `ggplot2`.\n",
    "\n",
    "**Lösung:**"
   ]
  },
  {
   "cell_type": "code",
   "execution_count": null,
   "id": "8309a1d7-47e0-42da-a333-9c73bc302c7b",
   "metadata": {},
   "outputs": [],
   "source": [
    "# Ihr Code:\n"
   ]
  },
  {
   "cell_type": "markdown",
   "id": "d9c9ff04-457b-46f0-902d-9b9517493f7b",
   "metadata": {},
   "source": [
    "![Übungsaufgabe](../Pics/excercise.png \"Übungsaufgabe\")\n",
    "**Aufgabe 2:** Fügen Sie dem Scatterplot eine Regressionslinie hinzu.\n",
    "\n",
    "**Lösung:**"
   ]
  },
  {
   "cell_type": "code",
   "execution_count": null,
   "id": "fa3a3f06-4a09-4f11-a4bb-548e867570d0",
   "metadata": {},
   "outputs": [],
   "source": [
    "# Ihr Code:\n"
   ]
  },
  {
   "cell_type": "markdown",
   "id": "0d16f16f-6ad1-41d6-b856-8bc95256e3f3",
   "metadata": {},
   "source": [
    "![Übungsaufgabe](../Pics/excercise.png \"Übungsaufgabe\")\n",
    "**Aufgabe 3:** Erstellen Sie ein Boxplot, um den `mpg`-Wert für Automatik- (`am=1`) und Schaltwagen (`am=0`) zu vergleichen.\n",
    "\n",
    "**Lösung:**"
   ]
  },
  {
   "cell_type": "code",
   "execution_count": null,
   "id": "ddcf2c31-6e6f-4e73-9d11-00beed784d8f",
   "metadata": {},
   "outputs": [],
   "source": [
    "# Ihr Code:\n"
   ]
  },
  {
   "cell_type": "markdown",
   "id": "4ba1a16c-971d-4b99-98ca-d574487f5e98",
   "metadata": {},
   "source": [
    "![Übungsaufgabe](../Pics/excercise.png \"Übungsaufgabe\")\n",
    "**Aufgabe 4:** Erstelle ein Histogramm der `mpg`-Werte und passe die Anzahl der Bins an. Experimentiere mit verschiedenen Bin-Werten.\n",
    "\n",
    "**Lösung:**"
   ]
  },
  {
   "cell_type": "code",
   "execution_count": null,
   "id": "14c35699-a974-4381-8571-56003c20530c",
   "metadata": {},
   "outputs": [],
   "source": [
    "# Ihr Code:\n"
   ]
  },
  {
   "cell_type": "markdown",
   "id": "247a4735-8345-4bbb-9204-a65c59b3034b",
   "metadata": {},
   "source": [
    "![Übungsaufgabe](../Pics/excercise.png \"Übungsaufgabe\")\n",
    "**Aufgabe 5:** Füge dem Histogramm aus Aufgabe 4 eine Dichtelinie hinzu.\n",
    "\n",
    "**Lösung:**"
   ]
  },
  {
   "cell_type": "code",
   "execution_count": null,
   "id": "e721f559-c2f2-4a24-90d9-0ebb813ecc64",
   "metadata": {},
   "outputs": [],
   "source": [
    "# Ihr Code:\n"
   ]
  },
  {
   "cell_type": "markdown",
   "id": "da74bbc9-77e1-4820-aeae-a04f0d8c5e36",
   "metadata": {},
   "source": [
    "![Übungsaufgabe](../Pics/excercise.png \"Übungsaufgabe\")\n",
    "**Aufgabe 6:** Erstelle ein Balkendiagramm, das die Anzahl der Autos nach Zylinder (`cyl`) anzeigt.\n",
    "\n",
    "**Lösung:**"
   ]
  },
  {
   "cell_type": "code",
   "execution_count": null,
   "id": "ccea2d90-c1c8-45d6-946e-b23cabda9c40",
   "metadata": {},
   "outputs": [],
   "source": [
    "# Ihr Code:\n"
   ]
  },
  {
   "cell_type": "markdown",
   "id": "e53ec8c5-4216-430a-a397-c3c60554ad05",
   "metadata": {},
   "source": [
    "![Übungsaufgabe](../Pics/excercise.png \"Übungsaufgabe\")\n",
    "**Aufgabe 7:** Erstelle ein gestapeltes Balkendiagramm, das die Anzahl der Autos nach Zylinder (`cyl`) und Getriebeart (`am`) anzeigt.\n",
    "\n",
    "**Lösung:**"
   ]
  },
  {
   "cell_type": "code",
   "execution_count": null,
   "id": "12880f45-4e9f-4cfa-88b4-096e8398d189",
   "metadata": {},
   "outputs": [],
   "source": [
    "# Ihr Code:\n"
   ]
  },
  {
   "cell_type": "markdown",
   "id": "4fc82f2e-c82d-4e7c-be0e-b44e009def1d",
   "metadata": {},
   "source": [
    "![Übungsaufgabe](../Pics/excercise.png \"Übungsaufgabe\")\n",
    "**Aufgabe 8:** Verwende das Facetting, um separate Scatterplots von `mpg` gegen `hp` für jede Getriebeart (`am`) zu erstellen.\n",
    "\n",
    "**Lösung:**"
   ]
  },
  {
   "cell_type": "code",
   "execution_count": null,
   "id": "a7bfe3c7-d79a-4912-9d17-557bde107128",
   "metadata": {},
   "outputs": [],
   "source": [
    "# Ihr Code:\n"
   ]
  },
  {
   "cell_type": "markdown",
   "id": "2e696382-e7c1-46a5-8e78-613dc963a434",
   "metadata": {},
   "source": [
    "![Übungsaufgabe](../Pics/excercise.png \"Übungsaufgabe\")\n",
    "**Aufgabe 9:** Anpassen der Themen: Verwende ein dunkles Thema für das Scatterplot aus Aufgabe 1.\n",
    "\n",
    "**Lösung:**"
   ]
  },
  {
   "cell_type": "code",
   "execution_count": null,
   "id": "9bd2e748-a369-4753-a7f7-8cca27d8176c",
   "metadata": {},
   "outputs": [],
   "source": [
    "# Ihr Code:\n"
   ]
  },
  {
   "cell_type": "markdown",
   "id": "6d48d28f-5683-4cf2-b857-cbdad2f43923",
   "metadata": {},
   "source": [
    "# Lösungen\n",
    "\n",
    "Die Lösungen zu den Übungen finden Sie in der *Datei <a href=\"R-Kenntnis LSG Uebung 06-AddOn.ipynb\">R-Kenntnis LSG Uebung 06-AddOn.ipynb</a>*. Die Datei wird jeweils nach der Durchsprache der Übung bereitgestellt.\n",
    "\n",
    "<div class=\"alert alert-block alert-info\">\n",
    "<b>Info:</b> Die Datei wird jeweils nach der Durchsprache der Übung bereitgestellt.</div>"
   ]
  }
 ],
 "metadata": {
  "jupytext": {
   "cell_metadata_filter": "message,eval,paged.print,results,name,tags,warning,-all",
   "main_language": "R",
   "notebook_metadata_filter": "-all"
  },
  "kernelspec": {
   "display_name": "R",
   "language": "R",
   "name": "ir"
  },
  "language_info": {
   "codemirror_mode": "r",
   "file_extension": ".r",
   "mimetype": "text/x-r-source",
   "name": "R",
   "pygments_lexer": "r",
   "version": "4.3.1"
  },
  "toc-autonumbering": true
 },
 "nbformat": 4,
 "nbformat_minor": 5
}

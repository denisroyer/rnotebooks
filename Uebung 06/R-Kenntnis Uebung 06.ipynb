{
 "cells": [
  {
   "cell_type": "markdown",
   "id": "f383382d-c9e1-41e0-9e54-b70f7e0f4487",
   "metadata": {},
   "source": [
    "![R-Kenntnis](../Pics/header.png \"R-Kenntnis\")\n",
    "\n",
    "<img src=\"https://img.shields.io/badge/--Kenntnis-blue?style=flat-square&logo=r&logoColor=white\"/> <a href=\"https://ostfalia.de/w\" target=\"_blank\"><img src=\"https://img.shields.io/badge/Ostfalia-Fakultät%20W-blue?style=flat-square&logo=googlescholar&logoColor=white\"/></a> <img src=\"https://img.shields.io/badge/Semester-WiSe2023%2F24-green?style=flat-square\"/> <img src=\"https://img.shields.io/badge/Copyright-2020--24-orange?style=flat-square\"/> <a href=\"https://creativecommons.org/licenses/by-nc-sa/4.0/\" target=\"_blank\"><img src=\"https://img.shields.io/badge/License-by--nc--sa-red?style=flat-square\"/></a> \n",
    "\n",
    "<div class=\"alert alert-block alert-info\">\n",
    "<img src=\"https://img.shields.io/badge/Information-Übung_06-blue?style=for-the-badge&logo=bookstack&logoColor=white\">\n",
    "    \n",
    "* **Titel:** R-Kenntnis Übungen 06: Explorative Datenanalyse (Teil 2)\n",
    "* **Autor:** Prof. Dr. Denis Royer\n",
    "* **Datum:** 19.10.2023 (Version 3.1)\n",
    "\n",
    "</div>\n",
    "\n",
    "![Header_Data](../Pics/header_data.png \"Data\")\n",
    "\n",
    "<div class=\"alert alert-block alert-success\">\n",
    "    \n",
    "# Überblick \n",
    "## 06: Explorative Datenanalyse (Teil 2)\n",
    "\n",
    "Diese Übung baut auf den Fähigkeiten und Kenntnissen auf, die Sie im 5. Teil erworben haben. Sie werden weiterhin die Kunst der explorativen Datenanalyse in R vertiefen. Hier ein kurzer Überblick über das, was Sie in dieser Übung erwarten können:\n",
    "\n",
    "1. **Vorbereitende Schritte:** Einrichten der Arbeitsumgebung, Laden der benötigten Packages und Datensätze.\n",
    "2. **Einzelne Datenanalysen:** Eintauchen in spezifische Variablen, ihre Kennzahlen und visuelle Darstellungen.\n",
    "3. **Bivariate Datenanalyse:** Erkundung von Beziehungen und Korrelationen zwischen zwei Variablen.\n",
    "4. **Signifikanztests:** Überprüfung der statistischen Signifikanz von Korrelationen.\n",
    "5. **Grafische Darstellungen:** Visuelle Exploration der Daten und ihrer Beziehungen.\n",
    "6. **Ausblick auf multivariate Daten:** Ein Vorgeschmack darauf, wie diese Techniken auf komplexere Datensets angewendet werden können.\n",
    "\n",
    "## Vermittelte Kompetenzen:\n",
    "\n",
    "- Sie werden in der Lage sein, umfassende vorbereitende Maßnahmen in R zu treffen, um Ihre Datenanalyse effizient zu gestalten.\n",
    "- Sie erwerben vertiefte Fähigkeiten in der Einzel- und bivariaten Datenanalyse, um Trends, Beziehungen und Muster in Ihren Daten zu erkennen.\n",
    "- Sie werden vertraut mit den Methoden, um die Signifikanz von Korrelationen zu überprüfen und die Bedeutung von Ergebnissen in einem gegebenen Kontext zu interpretieren.\n",
    "\n",
    "</div>\n",
    "\n",
    "# BI - R-Kenntnis Übungen 06: Explorative Datenanalyse (Teil 2)\n",
    "\n",
    "Bitte lesen Sie die folgenden Kapitel und die enthaltenen Hinweise ***sorgfältig*** durch. Die Aufgaben sind zum Teil in den Kapiteln enthalten.\n",
    "\n",
    "<div class=\"alert alert-block alert-warning\">\n",
    "<b>WICHTIG:</b> \n",
    "    \n",
    "*Die Schritte im Source Code bauen zum Teil aufeinander auf. Sollten Sie Ihre RStudio oder JupyterLab Session schließen oder neu starten, so müssen Sie ggf. den **Code erneut ausführen**, bzw. die **Packages neu laden**.*\n",
    "    \n",
    "</div>\n",
    "\n",
    "<div class=\"alert alert-block alert-info\">\n",
    "<b>Hinweis:</b> Weitere Hinweise und Quellen finden Sie <a href=\"../index.ipynb\">auf der zenteralen Übersicht zu den Übungen</a>. </div>"
   ]
  },
  {
   "cell_type": "markdown",
   "id": "d4a1683a-b3a0-4174-81c1-e1acb6396b74",
   "metadata": {},
   "source": [
    "## Einleitung\n",
    "\n",
    "Die explorative Datenanalyse (EDA) ist ein essenzieller Schritt in der Datenverarbeitung, um den Charakter, die Struktur und die Beziehungen innerhalb eines Datensatzes zu verstehen. Nachdem wir im ersten Teil der Übung grundlegende Techniken und Werkzeuge der EDA kennengelernt haben, führt uns dieser zweite Teil tiefer in die Welt der Datenexploration. Unsere Instrumente werden raffinierter, unsere Analysen tiefer und unsere Einblicke klarer.\n",
    "\n",
    "**Was erwartet Sie in diesem Teil?**\n",
    "1. **Vertiefung der Basis-Kenntnisse:** Die Konzepte des ersten Teils werden wiederholt und vertieft, um ein solides Verständnis für die EDA sicherzustellen.\n",
    "2. **Kommunikation von Daten:** Ein Fokus wird darauf gelegt, wie man Ergebnisse interpretiert und sie effektiv visualisiert, um sie einem Publikum zu präsentieren.\n",
    "3. **Erweiterte Visualisierungstechniken:** Sie lernen, komplexe Datenstrukturen und -beziehungen durch fortschrittliche Grafiken und Diagramme darzustellen.\n",
    "4. **Behandlung von Spezialfällen:** Manchmal zeigen Daten unerwartete Muster. Sie werden Techniken kennenlernen, um diese Besonderheiten zu identifizieren und zu analysieren.\n",
    "5. **Integration in den Datenanalyseprozess:** Die EDA ist nicht isoliert. Sie werden lernen, wie sie in den gesamten Prozess der Datenanalyse eingebettet ist und wie sie den Grundstein für fortgeschrittene Analysemethoden legt.\n",
    "\n",
    "**Warum ist dieser Teil wichtig?**\n",
    "Ein tieferes Verständnis der EDA ermöglicht es Ihnen, verborgene Schätze in Ihren Daten zu entdecken, mögliche Stolpersteine frühzeitig zu erkennen und letztlich fundierte Entscheidungen auf der Grundlage Ihrer Erkenntnisse zu treffen. Mit den in diesem Teil vermittelten Kenntnissen werden Sie in der Lage sein, den Wert eines Datensatzes voll auszuschöpfen und Ihre Datenkompetenz auf ein neues Level zu heben."
   ]
  },
  {
   "cell_type": "markdown",
   "id": "c75cb807-a711-4f43-b340-81745566d15a",
   "metadata": {
    "tags": []
   },
   "source": [
    "## Vorbereitende Schritte für die Übung\n",
    "\n",
    "\n",
    "<div class=\"alert alert-block alert-warning\">\n",
    "<b>Wichtig:</b> Bevor wir loslegen, müssen wir zunächst einmal ein paar vorbereitende Dinge erledigen:\n",
    "\n",
    "* Die notwendigen Packages laden (bspw. `tidyverse`)\n",
    "* Datensatz laden (siehe *`../Data/raw_bikeshare_data.csv`*)\n",
    "\n",
    "</div>\n"
   ]
  },
  {
   "cell_type": "code",
   "execution_count": null,
   "id": "effd3f75-1dac-44bd-bd43-49acf9899187",
   "metadata": {},
   "outputs": [],
   "source": [
    "# Laden des Pakets tidyverse (lädt stringr, tibble, readr und dplyr)\n",
    "library(tidyverse)\n",
    "library(DT)"
   ]
  },
  {
   "cell_type": "markdown",
   "id": "f65582e0",
   "metadata": {
    "tags": []
   },
   "source": [
    "# Use Case: Bike Sharing LLC Marketing\n",
    "\n",
    "Im Rahmen einer umfassenden Marketinganalyse hat *Bike Sharing LLC* eine Studie anderer Mitbewerber im Bereich Fahrradverleih eingekauft. Der Datensatz selbst enthält Informationen zu 172 Mitbewerbern, welche für eine Trendanalyse in der Fahrradverleihbranche erhoben wurden. Bei der Datenerhebung wurden folgende Aspekte erhoben:\n",
    "\n",
    "* Ausgaben für Werbung mittels Google AdWords\n",
    "* Ausgaben für Werbung auf Facebook\n",
    "* Ausgaben für Werbung auf Twitter.com\n",
    "* Gesamtes Marketing Budget\n",
    "* Umsatz pro Unternehmen\n",
    "* Anzahl an Mitarbeitern\n",
    "* Bevölkerungsdichte des jeweiligen Marktes\n",
    "\n",
    "Im Folgenden sollen nun verschiedene Schritte unternommen werden, um die Daten für die Marketingabteilung genauer zu analysieren.\n",
    "\n",
    "## Laden und aufbereiten der Marketing Daten\n",
    "\n",
    "Nutzen Sie den Datensatz `../Data/marketing.csv` und laden Sie die Daten in eine Variable (z.B. in die Variable *`marketing`*)."
   ]
  },
  {
   "cell_type": "code",
   "execution_count": null,
   "id": "2a63ebb0-92cd-4746-ac93-0aca9abf5376",
   "metadata": {
    "eval": true,
    "message": false,
    "name": "load_data",
    "warning": false
   },
   "outputs": [],
   "source": [
    "# Laden des Datensatzes mit der readr-Bibliothek.\n",
    "# Wichtig: \n",
    "# - tidyverse vorher laden UND\n",
    "# - Arbeitsverzeichnis setzen\n",
    "marketing.df <- read_csv(\"../Data/marketing.csv\")"
   ]
  },
  {
   "cell_type": "code",
   "execution_count": null,
   "id": "aac140e0-7616-444b-b885-d1b073e3449d",
   "metadata": {
    "eval": true,
    "message": false,
    "name": "load_data",
    "warning": false
   },
   "outputs": [],
   "source": [
    "str(marketing.df)"
   ]
  },
  {
   "cell_type": "markdown",
   "id": "572f9fcd",
   "metadata": {},
   "source": [
    "Wie sehen die Daten aus? nutzen sie die `str()` Funktion um sich einen Überblick zu verschaffen.\n",
    "\n",
    "Für die Aufgabe selbst sind die folgenden 2 Variablen interessant:\n",
    "\n",
    "* *google_adwords*\n",
    "* *pop_density*\n",
    "\n",
    "Bei *pop_density* lohnt es sich, die Variable in einen Faktor umzuwandeln, der die Reihenfolge *Low*, *Medium*, *High* hat:"
   ]
  },
  {
   "cell_type": "code",
   "execution_count": null,
   "id": "aee59e60",
   "metadata": {},
   "outputs": [],
   "source": [
    "marketing.df$pop_density <- factor(marketing.df$pop_density,\n",
    "                                ordered = TRUE, # Faktoren ordnen!\n",
    "                                levels = c(\"Low\", \"Medium\", \"High\"))"
   ]
  },
  {
   "cell_type": "code",
   "execution_count": null,
   "id": "54036c00-9b7f-4f92-b0d9-eb68196472a4",
   "metadata": {},
   "outputs": [],
   "source": [
    "DT::datatable(marketing.df)"
   ]
  },
  {
   "cell_type": "markdown",
   "id": "c5e3fb62-5b12-4319-b5c3-f26c42601a28",
   "metadata": {},
   "source": [
    "## Erste Analysen einzelner Variablen \n",
    "\n",
    "Erkunden Sie die Variablen *google_adwords* und *pop_density* aus dem Datensatz ein wenig. Nutzen Sie hierfür die Ihnen bereits bekannten Funktionen aus ***R***:\n",
    "\n",
    "* *`summary()`* (Zusammenfassung)\n",
    "* *`fivenum()`* (5-Punkte Zusammenfassung der Daten)\n",
    "* *`mean()`* (Mittelwert)\n",
    "* *`sd()`* (Standardabweichung)\n",
    "* *`var()`* (Varianz)\n",
    "* *`table()`* (bspw. für Faktoren)\n",
    "* *`hist()`* (Grafik: Histogramm)\n",
    "* *`plot()`* (Grafik: Plot)\n",
    "* *`boxplot()`* (Grafik: Box-Plot)\n",
    "\n",
    "![Übungsaufgabe](../Pics/excercise.png \"Übungsaufgabe\")\n",
    "\n",
    "***Aufgabe:*** Nutzen Sie die oben genannten Funktionen für die Analyse der Variablen *google_adwords* und *pop_density*. \n",
    "\n",
    "**Was lässt sich erkennen? Wie lassen sich die Ausgaben der Befehle interpretieren?**\n",
    "\n",
    "<div class=\"alert alert-block alert-info\">\n",
    "<b>Hinweis:</b> Benutzen Sie die Kontexthilfe!\n",
    "\n",
    "</div>  "
   ]
  },
  {
   "cell_type": "code",
   "execution_count": null,
   "id": "8d3cc248-c092-4c55-a84a-3e3598ac791a",
   "metadata": {
    "eval": false,
    "tags": [
     "remove_cell"
    ]
   },
   "outputs": [],
   "source": [
    "# Tabellarische Erkundung der Daten\n",
    "summary(marketing.df$google_adwords)"
   ]
  },
  {
   "cell_type": "code",
   "execution_count": null,
   "id": "f71a9643-643f-4fe2-8839-f819a36e6851",
   "metadata": {
    "eval": false,
    "tags": [
     "remove_cell"
    ]
   },
   "outputs": [],
   "source": [
    "fivenum(marketing.df$google_adwords)"
   ]
  },
  {
   "cell_type": "code",
   "execution_count": null,
   "id": "62047172-facd-4b19-ad5f-826b67203e68",
   "metadata": {
    "eval": false,
    "tags": [
     "remove_cell"
    ]
   },
   "outputs": [],
   "source": [
    "mean(marketing.df$google_adwords) \n",
    "sd(marketing.df$google_adwords) \n",
    "var(marketing.df$google_adwords)"
   ]
  },
  {
   "cell_type": "code",
   "execution_count": null,
   "id": "cb8b9596-da7e-483f-be25-3950db1fa94d",
   "metadata": {
    "eval": false,
    "tags": [
     "remove_cell"
    ]
   },
   "outputs": [],
   "source": [
    "summary(marketing.df$pop_density)"
   ]
  },
  {
   "cell_type": "code",
   "execution_count": null,
   "id": "d944c8c6-cec1-4ef4-97ea-cf3abddbced0",
   "metadata": {
    "eval": false,
    "tags": [
     "remove_cell"
    ]
   },
   "outputs": [],
   "source": [
    "# Grafische Erkundung der Daten\n",
    "plot(marketing.df$pop_density)"
   ]
  },
  {
   "cell_type": "code",
   "execution_count": null,
   "id": "b8db7abb-e0f8-42b9-b814-9a4707e36b61",
   "metadata": {
    "eval": false,
    "tags": [
     "remove_cell"
    ]
   },
   "outputs": [],
   "source": [
    "par(mfrow = c(1, 2))\n",
    "boxplot(marketing.df$google_adwords, ylab = \"Ausgaben\")\n",
    "hist(marketing.df$google_adwords, main = NULL)"
   ]
  },
  {
   "cell_type": "code",
   "execution_count": null,
   "id": "6294f8f4-86e4-4dfc-98c1-0f3d476cbc10",
   "metadata": {
    "eval": false,
    "tags": [
     "remove_cell"
    ]
   },
   "outputs": [],
   "source": [
    "summary(marketing.df$twitter) "
   ]
  },
  {
   "cell_type": "code",
   "execution_count": null,
   "id": "d390f8e2-6e69-485b-a54c-a49211ccd878",
   "metadata": {
    "eval": false,
    "tags": [
     "remove_cell"
    ]
   },
   "outputs": [],
   "source": [
    "boxplot(marketing.df$twitter, ylab = \"Ausgaben\", col = \"gray\")\n",
    "hist(marketing.df$twitter, main = NULL, col = \"blue\")\n",
    "par(mfrow = c(1, 1), lty = 1)"
   ]
  },
  {
   "cell_type": "markdown",
   "id": "b73abb2e",
   "metadata": {},
   "source": [
    "# Analyse zweier Variablen\n",
    "\n",
    "Hat ein Datensatz mehr als zwei Variablen, so handelt es sich um *bivariate Daten*, welche man bspw. bezüglich Ihrer möglichen Zusammenhänge analysieren möchte. Die folgenden vier Fragestellungen können hierbei in einer explorativen Datenanalyse helfen:\n",
    "\n",
    "* **Aussehen:** Wie sehen die Daten generell aus?\n",
    "* **Beziehung:** Stehen zwei Variablen ggf. zueinander in Beziehung?\n",
    "* **Korrelation:** Gibt es eine Korrelation zwischen den Daten?\n",
    "* **Signifikanz:** Ist die Korrelation ggf. auch signifikant?\n",
    "\n",
    "Im Folgenden werden wir diese Fragestellungen benutzen, um die Daten aus dem Marketing Datensatz (paarweise) zu analysieren.\n",
    "\n",
    "## Aussehen der Daten\n",
    "\n",
    "Das Aussehen der Daten kann mittels der bekannten `summary()` Funktion erfolgen.\n",
    "\n",
    "Für die Analyse der Variable `marketing$employees` ist es hilfreich, diese etwas besser aufzuteilen. Hier hilft die `cut()`-Funktion, welche einen Vektor mit Werten in eine Faktor mit angegebenen Intervallen umwandelt:"
   ]
  },
  {
   "cell_type": "code",
   "execution_count": null,
   "id": "e2b95219",
   "metadata": {},
   "outputs": [],
   "source": [
    "# Welche Werte enthält marketing$employees\n",
    "summary(marketing.df$employees)\n",
    "# Hinzufügen der neuen, temporären Variable \"emp_factor\"\n",
    "# und Aufteilung in eine Faktor-Variable mit den \n",
    "# zwei Intervallen \"(2.99,7.5]\" und \"(7.5,12]\"\n",
    "marketing.df$emp_factor <- cut(marketing.df$employees, 2)"
   ]
  },
  {
   "cell_type": "markdown",
   "id": "ead440f1",
   "metadata": {},
   "source": [
    "*Was passiert hier?:*\n",
    "\n",
    "* Es wird eine neue Variable angelegt: `marketing$emp_factor`\n",
    "* Es wird die `cut()` Funktion verwendet:\n",
    "     * Diese nimmt die Variable `marketing$emp_factor`\n",
    "     * Die Werte in `marketing$emp_factor` werden in 2 Intervalle aufgeteilt und in `marketing$emp_factor` gespeichert"
   ]
  },
  {
   "cell_type": "code",
   "execution_count": null,
   "id": "34f77b33",
   "metadata": {
    "lines_to_next_cell": 0
   },
   "outputs": [],
   "source": [
    "str(marketing.df$emp_factor)\n",
    "table(marketing.df$emp_factor)"
   ]
  },
  {
   "cell_type": "markdown",
   "id": "8965f2db",
   "metadata": {},
   "source": [
    "## Beziehung der Daten\n",
    "\n",
    "Grundsätzlich gibt es die Möglichkeit die Beziehung zweier Variablen tabellarisch oder grafisch zu analysieren:\n",
    "\n",
    "* **Tabellarische Darstellungen** funktionieren gut für Faktoren. Hier eignet sich die Funktion `table()` von ***R***.\n",
    "* **Grafische Darstellungen** nutzt man vor allem für numerische Daten. Hier sind Funktionen wie `mosaicplot()`, `boxplot()` oder `plot()` hilfreich. Darüber hinaus bietet ***R*** verschiedene Zusatzpakte wie ggplot2 und ähnliche, mit denen man Daten visualisieren kann."
   ]
  },
  {
   "cell_type": "markdown",
   "id": "bb454f40-3e67-4a55-ac4e-7b584f6f28d4",
   "metadata": {},
   "source": [
    "### Übungen: Analysieren sie die folgenden Daten:\n",
    "\n",
    "![Übungsaufgabe](../Pics/excercise.png \"Übungsaufgabe\")\n",
    "\n",
    "* Tabellarische Darstellung: Die Variablen emp_actor und pop_density\n",
    "* Grafische Darstellung:\n",
    "     * Mosaicplot (*Faktor/Faktor*): *pop_density* **und** *emp_factor*\n",
    "     * Boxplot (*Faktor/Numerisch*): Die Variable *marketing_total* gruppiert nach *pop_density*\n",
    "     * Plot (*Numerisch/Numerisch*): *google_adwords* **und** *revenues*"
   ]
  },
  {
   "cell_type": "markdown",
   "id": "123aaeb3",
   "metadata": {},
   "source": [
    "## Korrelation der Daten\n",
    "\n",
    "Für die Analyse der Korrelation kann man in ***R*** sehr gut auf die Standardfunktion `cor()` zurückgreifen. Der resultierende Wert gibt darüber Aufschluss, wie stark eine Korrelation ist (0.0 für gar nicht *bis* 1.0 für starke Korrelationen) und ob die Korrelation negativ oder positiv ist (Vorzeichen des resultierenden Werts).\n",
    "\n",
    "![Übungsaufgabe](../Pics/excercise.png \"Übungsaufgabe\")\n",
    "\n",
    "Schauen sie sich folgende Korrelationen an. Was lässt sich feststellen?\n",
    "\n",
    "<div class=\"alert alert-block alert-info\">\n",
    "<b>Tip:</b> Für zwei Variablen ist eine solche Analyse sicher außreichend - dennoch ist auch eine grafische Analyse hilfreich. Hierzu später noch mehr.</div>\n",
    "\n",
    "\n",
    "* *google_adwords* und *revenues*\n",
    "* *google_adwords* und *facebook*"
   ]
  },
  {
   "cell_type": "code",
   "execution_count": null,
   "id": "6093bdde",
   "metadata": {
    "eval": false,
    "lines_to_next_cell": 2,
    "tags": [
     "remove_cell"
    ]
   },
   "outputs": [],
   "source": [
    "cor(marketing.df$google_adwords, marketing.df$revenues)\n",
    "cor(marketing.df$google_adwords, marketing.df$facebook)"
   ]
  },
  {
   "cell_type": "markdown",
   "id": "70f67a9d",
   "metadata": {},
   "source": [
    "## Signifikanz von Korrelationen\n",
    "\n",
    "Die Signifikanz gibt in der Statistik Aufschluss darüber, wie stark Stichprobendaten von einer vorher festgelegten Annahme (Nullhypothese) abweichen. hier bietet ***R*** ebenfalls Werkzeuge an, um Korrelationen bezüglich ihrer Signifikanz zu testen - die `cor.test()` Funktion.\n",
    "\n",
    "![Übungsaufgabe](../Pics/excercise.png \"Übungsaufgabe\")\n",
    "**Aufgabe:** Schauen Sie sich folgende Tests einmal genauer an - was lässt sich beobachten/ableiten?"
   ]
  },
  {
   "cell_type": "code",
   "execution_count": null,
   "id": "5688f0f9",
   "metadata": {
    "eval": false
   },
   "outputs": [],
   "source": [
    "# cor.test\n",
    "cor.test(marketing.df$google_adwords, marketing.df$revenues)\n",
    "cor.test(marketing.df$twitter, marketing.df$revenues)\n",
    "cor.test(marketing.df$facebook, marketing.df$google_adwords)"
   ]
  },
  {
   "cell_type": "markdown",
   "id": "b199491f",
   "metadata": {},
   "source": [
    "Wichtige Konzepte bezüglich des Tests der Signifikanz von Korrelationen:\n",
    "\n",
    "<div class=\"alert alert-block alert-info\">\n",
    "<b>Tip:</b> \n",
    "    \n",
    "Mehr unter: <https://flexikon.doccheck.com/de/Nullhypothese> und <https://flexikon.doccheck.com/de/P-Wert>.\n",
    "\n",
    "</div>\n",
    "\n",
    "* **Nullhypothese:** In der Statistik ist die Nullhypothese eine Annahme, welche mithilfe eines Hypothesentests überprüft werden soll. Die Nullhypothese sagt aus, dass zwischen zwei geprüften Daten kein Unterschied bzw. kein Zusammenhang besteht. Die Alternativhypothese (H1) stellt die gegensätzliche Vermutung dar.\n",
    "* **T-Test:** Der t-Test ist ein Begriff aus der mathematischen Statistik, er bezeichnet eine Gruppe von Hypothesentests mit t-verteilter Testprüfgröße. Oft ist jedoch mit dem t-Test der Einstichproben- bzw. Zweistichproben-t-Test auf einen Mittelwertunterschied gemeint. \n",
    "* **P-Werte:** Der p-Wert ist die Wahrscheinlichkeit, dass die Teststatistik (= Prüfgröße, Testgröße, Prüffunktion) - bei Gültigkeit der Nullhypothese (H0) - mindestens den in der Stichprobe berechneten Wert (sprich diesen Wert oder einen größeren Wert) annimmt. Der p-Wert wird häufig von Statistik-Software angegeben. **Ein gängiger Wert eine Nullhypothese zu verwerfen liegt bei kleiner 0,05**.\n",
    "\n",
    "**Aber:** Ist Korrelation auch kausal erklärbar? Schauen Sie sich folgende Daten einmal genauer an:\n",
    "    \n",
    "<div class=\"alert alert-block alert-info\">\n",
    "<b>Tip:</b> \n",
    "    \n",
    "Den oben analysierten Fall und weitere Fälle für *\"falsche Korrelationen\"* finden Sie bspw. unter <http://tylervigen.com/view_correlation?id=3890>..\n",
    "\n",
    "</div>\n"
   ]
  },
  {
   "cell_type": "code",
   "execution_count": 6,
   "id": "a4c2512d-7301-4565-bc8f-c5ce5778ce14",
   "metadata": {
    "eval": false
   },
   "outputs": [],
   "source": [
    "#  ____       _           _      _ \n",
    "# | __ )  ___(_)___ _ __ (_) ___| |\n",
    "# |  _ \\ / _ \\ / __| '_ \\| |/ _ \\ |\n",
    "# | |_) |  __/ \\__ \\ |_) | |  __/ |\n",
    "# |____/ \\___|_|___/ .__/|_|\\___|_|\n",
    "#                  |_|             \n",
    "\n",
    "\n",
    "# Der Pro-Kopf-Verbrauch von Mozzarella-Käse (in den USA)\n",
    "# korreliert mit Promotionen im Bereich Technik (in den USA)\n",
    "cheese <- c(9.3, 9.7, 9.7, 9.7, 9.9, 10.2, 10.5, 11, 10.6, 10.6)\n",
    "degrees <- c(480, 501, 540, 552, 547, 622, 655, 701, 712, 708)"
   ]
  },
  {
   "cell_type": "code",
   "execution_count": 7,
   "id": "caffe350-9441-4fb7-9aa3-c2c3bd366ea1",
   "metadata": {
    "eval": false
   },
   "outputs": [
    {
     "data": {
      "text/html": [
       "0.95864778728048"
      ],
      "text/latex": [
       "0.95864778728048"
      ],
      "text/markdown": [
       "0.95864778728048"
      ],
      "text/plain": [
       "[1] 0.9586478"
      ]
     },
     "metadata": {},
     "output_type": "display_data"
    },
    {
     "data": {
      "text/plain": [
       "\n",
       "\tPearson's product-moment correlation\n",
       "\n",
       "data:  cheese and degrees\n",
       "t = 9.5274, df = 8, p-value = 1.217e-05\n",
       "alternative hypothesis: true correlation is not equal to 0\n",
       "95 percent confidence interval:\n",
       " 0.8300027 0.9904491\n",
       "sample estimates:\n",
       "      cor \n",
       "0.9586478 \n"
      ]
     },
     "metadata": {},
     "output_type": "display_data"
    }
   ],
   "source": [
    "# Korrelieren die Werte?\n",
    "cor(cheese, degrees)\n",
    "cor.test(cheese, degrees)"
   ]
  },
  {
   "cell_type": "code",
   "execution_count": 8,
   "id": "20f61294-5a5a-442f-826c-8508495bb3c0",
   "metadata": {
    "eval": false
   },
   "outputs": [
    {
     "data": {
      "image/png": "[encoded data removed]",
      "text/plain": [
       "plot without title"
      ]
     },
     "metadata": {
      "image/png": {
       "height": 420,
       "width": 420
      }
     },
     "output_type": "display_data"
    }
   ],
   "source": [
    "plot(cheese,degrees) # Grafische Ausgabe der Daten als Plot\n",
    "abline(lm(degrees~cheese)) # Regressionsgeraden einfügen"
   ]
  },
  {
   "cell_type": "markdown",
   "id": "602da1da",
   "metadata": {},
   "source": [
    "<div class=\"alert alert-block alert-warning\">\n",
    "<b>Wichtig:</b> Anders als die alltagssprachliche Verwendung des Begriffs vortäuscht, trifft die Signifikanz keine Aussage über die Relevanz von Ergebnissen. \n",
    "\n",
    "***Korrelation ist nicht gleich Kausalität!***\n",
    "\n",
    "</div>"
   ]
  },
  {
   "cell_type": "markdown",
   "id": "14853820",
   "metadata": {
    "tags": []
   },
   "source": [
    "## Grafische Darstellung\n",
    "\n",
    "Ein letzter Schritt ist es, die Daten einmal grafisch darzustellen. Dies kann folgendermaßen geschehen:"
   ]
  },
  {
   "cell_type": "code",
   "execution_count": 9,
   "id": "821f372e",
   "metadata": {},
   "outputs": [
    {
     "data": {
      "image/png": "[encoded data removed]",
      "text/plain": [
       "Plot with title “Cor: 0.853”"
      ]
     },
     "metadata": {
      "image/png": {
       "height": 420,
       "width": 420
      }
     },
     "output_type": "display_data"
    }
   ],
   "source": [
    "par(mfrow = c(1, 3))\n",
    "plot(marketing.df$google_adwords, marketing.df$revenues,\n",
    "     main = \"Cor: 0.766\")\n",
    "plot(marketing.df$google_adwords, marketing.df$facebook,\n",
    "     main = \"Cor: 0.076\")\n",
    "plot(marketing.df$marketing_total, marketing.df$revenues,\n",
    "     main = \"Cor: 0.853\")\n",
    "par(mfrow = c(1, 1))"
   ]
  },
  {
   "cell_type": "code",
   "execution_count": null,
   "id": "87956a4e",
   "metadata": {
    "lines_to_next_cell": 2,
    "tags": [
     "remove_cell"
    ]
   },
   "outputs": [],
   "source": [
    "marketing.df$emp_factor <- NULL"
   ]
  },
  {
   "cell_type": "markdown",
   "id": "f941b848",
   "metadata": {},
   "source": [
    "# Ausblick: Analyse von multivariaten Daten\n",
    "\n",
    "Folgende Analysen können analog auch auf multivariate Daten angewendet werden:"
   ]
  },
  {
   "cell_type": "code",
   "execution_count": null,
   "id": "f8ea5336-ba3f-4b13-9a29-0c84c0bd902e",
   "metadata": {
    "message": false,
    "paged.print": true,
    "warning": false
   },
   "outputs": [],
   "source": [
    "# Aussehen der Daten\n",
    "summary(marketing.df)"
   ]
  },
  {
   "cell_type": "code",
   "execution_count": null,
   "id": "b169e24c-1fa2-4bb2-962e-9eba916b0ef5",
   "metadata": {
    "message": false,
    "paged.print": true,
    "warning": false
   },
   "outputs": [],
   "source": [
    "# Beziehung\n",
    "# Nutzung einer Streudiagramm-Matrix\n",
    "pairs(marketing.df, main = \"Streudiagramm-Matrix\")"
   ]
  },
  {
   "cell_type": "code",
   "execution_count": null,
   "id": "61e949d8-d3c2-4682-a0e5-884a5e565802",
   "metadata": {
    "message": false,
    "paged.print": true,
    "warning": false
   },
   "outputs": [],
   "source": [
    "# Korrelation\n",
    "cor(marketing.df[ ,1:6])"
   ]
  },
  {
   "cell_type": "code",
   "execution_count": null,
   "id": "661d9b90-b632-4c4a-9968-0294b42684b8",
   "metadata": {
    "message": false,
    "paged.print": true,
    "warning": false
   },
   "outputs": [],
   "source": [
    "# Signifikanz\n",
    "# Nutzung des psych() Package für die Nutzung des cor.test\n",
    "# für multivariate Daten.\n",
    "library(psych)\n",
    "corr.test(marketing.df[ ,1:6])"
   ]
  },
  {
   "cell_type": "code",
   "execution_count": null,
   "id": "5e6eed5d-d6ef-429c-8bc3-29ceacbd12a1",
   "metadata": {
    "message": false,
    "paged.print": true,
    "warning": false
   },
   "outputs": [],
   "source": [
    "# Nutzung von corrgram() zur Erzeugung eines\n",
    "# Korrelationsgraphen für die Variablen im \n",
    "# Datensatz. \n",
    "#\n",
    "# Alternativ kann auch corrplot verwendet werden:\n",
    "# <https://cran.r-project.org/web/packages/corrplot/vignettes/corrplot-intro.html>\n",
    "\n",
    "library(corrgram)"
   ]
  },
  {
   "cell_type": "code",
   "execution_count": null,
   "id": "cff1639a-b0e6-4276-8109-ab5b20901142",
   "metadata": {
    "message": false,
    "paged.print": true,
    "warning": false
   },
   "outputs": [],
   "source": [
    "corrgram(marketing.df[ ,1:6], order = FALSE,\n",
    "         main = \"Korrelation der Marketingdaten, ungeordnet\",\n",
    "         upper.panel = panel.ellipse,\n",
    "         diag.panel = panel.minmax, text.panel = panel.txt)"
   ]
  },
  {
   "cell_type": "code",
   "execution_count": null,
   "id": "58e5cda9-a011-433c-889e-d00dbc17a5a4",
   "metadata": {
    "message": false,
    "paged.print": true,
    "warning": false
   },
   "outputs": [],
   "source": [
    "corrgram(marketing.df[ ,1:6], order = TRUE,\n",
    "         main = \"Korrelation der Marketingdaten, geordnet\",\n",
    "         upper.panel = panel.pie,\n",
    "         diag.panel = panel.minmax, text.panel = panel.txt)"
   ]
  },
  {
   "cell_type": "markdown",
   "id": "fe19ae64",
   "metadata": {},
   "source": [
    "# Workload: Explorative Datenanalyse\n",
    "\n",
    "![Übungsaufgabe](../Pics/excercise.png \"Übungsaufgabe\")\n",
    "\n",
    "Analysieren Sie die Daten, die Sie in *<a href=\"../Uebung 04/R-Kenntnis Uebung 04.ipynb\">Uebung 04.ipynb</a>* für die Verleihdaten von *Bike Sharing LLC* aufbereitet haben und beantworten Sie folgende sieben Fragen:\n",
    "\n",
    "1. ![](https://img.shields.io/badge/Aufgabe-6.1-blue?style=small&logo=r&logoColor=white) Konnten Sie die Daten laden? Wie viele Variablen und Datensätze enthält der bearbeitete Datensatz?\n",
    "2. ![](https://img.shields.io/badge/Aufgabe-6.2-blue?style=small&logo=r&logoColor=white) Wie viele Beobachtungen gibt es pro Saison?\n",
    "3. ![](https://img.shields.io/badge/Aufgabe-6.3-blue?style=small&logo=r&logoColor=white) Wie lauten Mittelwert und Standardabweichung für die Variable Temperatur?\n",
    "4. ![](https://img.shields.io/badge/Aufgabe-6.4-blue?style=small&logo=r&logoColor=white) Welche der Variablen ist *nahezu* normalverteilt (Tipp: Histogramm nutzen)?\n",
    "5. ![](https://img.shields.io/badge/Aufgabe-6.5-blue?style=small&logo=r&logoColor=white) Welche der Variable ist am meisten Links- und welche am meisten Rechtsverschoben?\n",
    "6. ![](https://img.shields.io/badge/Aufgabe-6.6-blue?style=small&logo=r&logoColor=white) Welches der Wertepaare hat die größte positive und welches die größte negative Korrelation?\n",
    "7. ![](https://img.shields.io/badge/Aufgabe-6.7-blue?style=small&logo=r&logoColor=white) Welche Variable(n) haben eine signifikante Korrelation?\n",
    "\n",
    "**Die Lösung wird in der kommenden Woche in der Übung besprochen.**"
   ]
  },
  {
   "cell_type": "markdown",
   "id": "6d48d28f-5683-4cf2-b857-cbdad2f43923",
   "metadata": {},
   "source": [
    "# Lösungen\n",
    "\n",
    "Die Lösungen zu den Übungen finden Sie in der *Datei <a href=\"R-Kenntnis LSG Uebung 06.ipynb\">R-Kenntnis LSG Uebung 06.ipynb</a>*. Die Datei wird jeweils nach der Durchsprache der Übung bereitgestellt.\n",
    "\n",
    "<div class=\"alert alert-block alert-info\">\n",
    "<img src=\"https://img.shields.io/badge/Info-Lösungen-blue?style=for-the-badge&logo=r&logoColor=white\" style=\"vertical-align:middle;\">\n",
    "\n",
    "<b>Info:</b> Die Datei wird jeweils nach der Durchsprache der Übung bereitgestellt.</div>"
   ]
  }
 ],
 "metadata": {
  "jupytext": {
   "cell_metadata_filter": "message,eval,paged.print,results,name,tags,warning,-all",
   "main_language": "R",
   "notebook_metadata_filter": "-all"
  },
  "kernelspec": {
   "display_name": "R",
   "language": "R",
   "name": "ir"
  },
  "language_info": {
   "codemirror_mode": "r",
   "file_extension": ".r",
   "mimetype": "text/x-r-source",
   "name": "R",
   "pygments_lexer": "r",
   "version": "4.3.1"
  },
  "toc-autonumbering": true
 },
 "nbformat": 4,
 "nbformat_minor": 5
}

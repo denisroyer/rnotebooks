{
 "cells": [
  {
   "cell_type": "markdown",
   "id": "b549b99b-b1c4-4bd6-b411-7464ed2d936a",
   "metadata": {},
   "source": [
    "![R-Kenntnis](../Pics/header.png \"R-Kenntnis\")\n",
    "\n",
    "<div class=\"alert alert-block alert-info\">\n",
    "\n",
    "* **Titel:** R-Kenntnis Lösung Übungen 07: Lineare Regression\n",
    "* **Autor:** Prof. Dr. Denis Royer\n",
    "* **Datum:** 28.11.2022 (Version 2.2)\n",
    "\n",
    "</div>\n",
    "\n",
    "![Header_Modelling](../Pics/header_modelling.png \"Modelling\")\n",
    "\n",
    "# BI - R-Kenntnis Lösung Übungen 07: Lineare Regression\n",
    "\n",
    "<div class=\"alert alert-block alert-warning\">\n",
    "<b>Wichtig:</b> Bevor wir loslegen, müssen wir zunächst einmal ein paar vorbereitende Dinge erledigen:\n",
    "\n",
    "* Die notwendigen Packages laden (bspw. `tidyverse` und `ggplot2`)\n",
    "* Den Datensatz laden (siehe *`Data/marketing.csv`*)\n",
    "\n",
    "</div>"
   ]
  },
  {
   "cell_type": "code",
   "execution_count": null,
   "id": "4d4955c2",
   "metadata": {
    "lines_to_next_cell": 0,
    "message": false,
    "name": "prepare_env",
    "tags": [
     "remove_cell"
    ],
    "warning": false
   },
   "outputs": [],
   "source": [
    "library(tidyverse)\n",
    "library(ggplot2)"
   ]
  },
  {
   "cell_type": "code",
   "execution_count": null,
   "id": "f2d1a0b3",
   "metadata": {},
   "outputs": [],
   "source": [
    "# Laden der Daten\n",
    "marketing.raw <- read_csv(\"../Data/marketing.csv\")\n",
    "# Wir wollen nur die nummerischen Anteile des Datensatzes nutzen\n",
    "# Dementsprechend kopieren wir uns diese Spalten aus den Rohdaten in einen neune\n",
    "# Data Frame:\n",
    "adverts.df <- marketing.raw[,1:5] # Spalten 1-5\n",
    "# Erstellung des Linearen Modells\n",
    "model1 <- lm(revenues ~ marketing_total, data = adverts.df)"
   ]
  },
  {
   "cell_type": "markdown",
   "id": "e253b0c3",
   "metadata": {},
   "source": [
    "# Lösung zum Bike Sharing LLC Marketing Anwendungsfall\n",
    "\n",
    "![Übungsaufgabe](../Pics/excercise.png \"Übungsaufgabe\")\n",
    "\n",
    "***Frage:*** In Bezug auf die Ziele des Modellierens: Um welchen Typ des Modellieren handelt es sich bei der Linearen Regression?\n",
    "\n",
    "***Antwort:*** Prädiktives Modellieren (Vorhersagen)\n",
    "\n",
    "***Frage:*** Was für Rückschlüsse bezüglich der Unabhängigkeit kann man bei den hier vorliegenden Daten treffen?\n",
    "\n",
    "***Antwort:*** Die Daten sind unabhängig, da die Daten an verschiedenen Orten (Firmen) erhoben worden sind und sich somit nicht gegenseitig beeinflussen.\n"
   ]
  },
  {
   "cell_type": "code",
   "execution_count": null,
   "id": "32be3dc9-6abb-4716-8807-ed7486f34cdb",
   "metadata": {
    "fig.height": 2.5
   },
   "outputs": [],
   "source": [
    "par(mfrow = c(1, 2)) # 2 Spalten für die Grafiken anlegen\n",
    "# Ausgabe der Residuen als Histogram\n",
    "hist(model1$residuals, xlab = \"Residuen\", col = \"gray\",\n",
    "     main = \"Residuenverteilung\")\n",
    "\n",
    "# Ausgabe der Residuen als Q-Q Plot\n",
    "qqnorm(model1$residuals, main = \"Q-Q Plot der Residuen\")\n",
    "qqline(model1$residuals) "
   ]
  },
  {
   "cell_type": "markdown",
   "id": "eb3e3970",
   "metadata": {
    "tags": []
   },
   "source": [
    "***Frage:*** Was kann man anhand der 2 Plots bezüglich der Residuen für Rückschlüsse ableiten?\n",
    "\n",
    "***Antwort:*** *Die Residuen sind normalverteilt, damit ist die Bedingung gegeben!*"
   ]
  },
  {
   "cell_type": "markdown",
   "id": "7c3d2f9d",
   "metadata": {},
   "source": [
    "Fälle wie (D) und (E) zeigen einen quadratischen/ logarithmischen Zusammenhang. Die Residuen streuen also nicht zufällig, sondern es ist eine klare Systematik erkennbar. Oft hängt diese Annahmenverletzung mit Problemen der Nichtlinearität (zwischen abhängiger und unabhängiger Variable) zusammen.\n",
    "\n",
    "Für das Modell aus der SLR für die Variablen *Marketing gesamt* und *Umsätze* ergibt sich hierbei folgender Residuenplot:"
   ]
  },
  {
   "cell_type": "code",
   "execution_count": null,
   "id": "0b189e61",
   "metadata": {
    "fig.height": 2.75
   },
   "outputs": [],
   "source": [
    "# Plot der Residuen des Linearen Modells\n",
    "plot(model1$fitted.values, \n",
    "     model1$residuals, \n",
    "     ylab = \"Residuen\",\n",
    "     xlab = \"Fitted Values\", \n",
    "     main = \"Verteilung der Residuen\")\n",
    "\n",
    "# Hinzufügen der Mittellinie und der 2 gestrichelten Linien\n",
    "# über und unter der Mittelllinie als Korridor\n",
    "abline(0, 0, lwd = 3)\n",
    "abline(h = c(-6.5, 6.5), lwd = 3, lty = 3)"
   ]
  },
  {
   "cell_type": "code",
   "execution_count": null,
   "id": "473b3f3c-b412-40dc-bba8-3553cdd2b4c1",
   "metadata": {},
   "outputs": [],
   "source": [
    "# Plot der Residuen des Linearen Modells\n",
    "plot(model1$fitted.values, \n",
    "     model1$residuals, \n",
    "     ylab = \"Residuen\",\n",
    "     xlab = \"Fitted Values\", \n",
    "     main = \"Verteilung der Residuen\")\n",
    "\n",
    "# Hinzufügen der Mittellinie und der 2 gestrichelten Linien\n",
    "# über und unter der Mittelllinie als Korridor\n",
    "abline(0, 0, lwd = 3)\n",
    "abline(h = c(-6.5, 6.5), lwd = 3, lty = 3)"
   ]
  },
  {
   "cell_type": "markdown",
   "id": "c0cca8a6",
   "metadata": {},
   "source": [
    "**Frage:** Was fällt bei den p-Werten der beiden Tests auf und wie lässt sich dies interpretieren (siehe auch Hinweis in der roten Box)?\n",
    "\n",
    "***Antwort:*** Der p-Wert der beiden Tests lässt die Vermutung zu, dass es sich um eine Ungleichheit der Varianzen handelt (Heteroskedastizität). Jedoch ist die Anzahl der Daten weit über 100 Beobachtunegn, wodurch die Tests nur bedingt aussagekräftig sind. Eine grafische Exploration ist hier sinnvoller und zielführender (siehe rote Box).\n",
    "\n",
    "<div class=\"alert alert-block alert-danger\">\n",
    "<b>Hinweis - Achtung:</b> \n",
    "    \n",
    "Analytische Tests verwerfen die Nullhypothese mit zunehmender Stichprobengröße häufiger, obwohl die Abweichungen marginal sind. Deswegen ist die grafische Methode (s.o.) häufig die bessere Wahl bei mehreren hundert Beobachtungen. Bei kleineren Stichproben gilt der Test jedoch als hinreichend zuverlässig.\n",
    "</div>\n",
    "\n",
    "***Frage:*** Welcher Typ von Varianz liegt beim Plot der Residuen aus dem Beispiel vor?\n",
    "\n",
    "***Antwort:*** *Homoskedastizität ist erfüllt! Die Residuen verteilen sich ungefähr in einem gleichbleibend dickem horizontalen Band.*"
   ]
  },
  {
   "cell_type": "markdown",
   "id": "8a8109df-7480-4e87-83d1-d8c7d8144292",
   "metadata": {},
   "source": [
    "***Frage:*** Welche Informationen gibt einen die `summary()` Funktion?"
   ]
  },
  {
   "cell_type": "code",
   "execution_count": null,
   "id": "f9b12f64-e487-4734-a0b5-a3e8ba98da46",
   "metadata": {},
   "outputs": [],
   "source": [
    "summary(model1)"
   ]
  },
  {
   "cell_type": "markdown",
   "id": "afb017a1-6e61-47af-aea9-857115cd7560",
   "metadata": {},
   "source": [
    "***Antwort:*** *Die `summary()` Funktion gibt die Parametrisierung des Linearen Modells zurück*"
   ]
  },
  {
   "cell_type": "markdown",
   "id": "b87759ca",
   "metadata": {},
   "source": [
    "# Übungen\n",
    "## Aufgabe 1: Analyse und Transformation der Daten\n",
    "\n",
    "![Übungsaufgabe](../Pics/excercise.png \"Übungsaufgabe\")\n",
    "\n",
    "Analysieren Sie die folgenden Daten mit dem \"*L.U.N.K.*\" Ansatz: \n",
    "\n",
    "* Fällt Ihnen was bei den Daten auf und wie lassen sich die Ergebnisse aus den einzelnen Schritten des L.U.N.K. Ansatzes interpretieren?\n",
    "* Wie kann man ggf. den Datensatz \"*reparieren*\"?"
   ]
  },
  {
   "cell_type": "code",
   "execution_count": null,
   "id": "f6678e2f",
   "metadata": {},
   "outputs": [],
   "source": [
    "x0 <- c(1, 2, 3, 4, 5, 6, 7, 8, 9, 10)\n",
    "y0 <- c(1.00, 1.41, 1.73, 2.00, 2.24,\n",
    "        2.45, 2.65, 2.83, 3.00, 3.16)"
   ]
  },
  {
   "cell_type": "markdown",
   "id": "4d918bfe",
   "metadata": {},
   "source": [
    "## Aufgabe 2: Ausreißer\n",
    "\n",
    "![Übungsaufgabe](../Pics/excercise.png \"Übungsaufgabe\")\n",
    "\n",
    "Ausreißer können große Einflüsse auf Lineare Modelle haben, wie auch im folgenden Beispielgrafik abgebildet:"
   ]
  },
  {
   "cell_type": "code",
   "execution_count": null,
   "id": "832a5e97-2362-4ee7-a1b1-ac1bbe145c24",
   "metadata": {
    "message": false,
    "tags": [
     "remove_input"
    ],
    "warning": false
   },
   "outputs": [],
   "source": [
    "# Datensatz 1 - Ausreißer beeinflust\n",
    "x2 <- 1:20\n",
    "y2 <- c(1:10, 4, 12:20)\n",
    "fit2 <- lm(y2 ~ x2)"
   ]
  },
  {
   "cell_type": "code",
   "execution_count": null,
   "id": "cc9d26ec-31cc-4032-bd89-94b917a14309",
   "metadata": {
    "message": false,
    "tags": [
     "remove_input"
    ],
    "warning": false
   },
   "outputs": [],
   "source": [
    "# Datensatz 2 - Ausreißer beeinflust nicht\n",
    "x3 <- c(1:20, 30)\n",
    "y3 <- c(0.4, 2.2, 2.2, 5.6, 5.3, 5.2, 7.5, 8.7, 9.6, 9.7, 12.5,\n",
    "        12.4, 12.4, 11.8, 16.1, 16, 17, 18.9, 19.8, 20.6, 30.0)\n",
    "fit3 <-lm(y3 ~ x3)"
   ]
  },
  {
   "cell_type": "code",
   "execution_count": null,
   "id": "6a86d1cc-44aa-42dd-a77a-35d5d08e21b0",
   "metadata": {
    "message": false,
    "tags": [
     "remove_input"
    ],
    "warning": false
   },
   "outputs": [],
   "source": [
    "# Plot der Datensätze\n",
    "par(mfrow = c(1, 2))\n",
    "plot(x2, y2, pch = 19, main = \"Ausreißer beeinflust\")\n",
    "abline(fit2)\n",
    "plot(x3, y3, pch = 19, main = \"Ausreißer beeinflust nicht\")\n",
    "abline(fit3)"
   ]
  },
  {
   "cell_type": "markdown",
   "id": "87d326e1",
   "metadata": {},
   "source": [
    "**Analysieren Sie folgenden Datensatz:**\n",
    "\n",
    "* Hat der Datensatz einen Ausreißer? Wenn ja welcher Datensatz?\n",
    "* Was für einen Einfluss hat der Datensatz? Vergleichen Sie die Linearen Modelle und Ihre Kennzahlen."
   ]
  },
  {
   "cell_type": "code",
   "execution_count": null,
   "id": "ffbf40dc",
   "metadata": {},
   "outputs": [],
   "source": [
    "x4 <- c(1:20)\n",
    "y4 <- c(0.4, 2.2, 2.2, 5.6, 5.3, 5.2, 7.5, 8.7,\n",
    "        9.6, 9.7, 12.5, 12.4, 12.4, 12.8, 16.1,\n",
    "        16.0, 17.0, 11.5, 19.8, 20.6)"
   ]
  },
  {
   "cell_type": "code",
   "execution_count": null,
   "id": "a1f2d5ff-0909-40a0-8555-9e9e51bdd525",
   "metadata": {},
   "outputs": [],
   "source": [
    "fit4 <- lm(y4 ~ x4)\n",
    "\n",
    "plot(x4, y4, pch = 19, col = \"blue\")\n",
    "abline(fit4)\n",
    "summary(fit4)\n",
    "\n",
    "x4_t <- x4[-18]\n",
    "y4_t <-y4[-18]\n",
    "fit4_t <- lm(y4_t ~ x4_t)\n",
    "summary(fit4_t)"
   ]
  },
  {
   "cell_type": "code",
   "execution_count": null,
   "id": "4fff08bb-60be-4795-a62e-03553f176b68",
   "metadata": {},
   "outputs": [],
   "source": [
    "# Darstellung beider Linearen Regression zusammen\n",
    "plot(x4, y4, pch = 19, col = \"green\")\n",
    "abline(fit4, col=\"blue\",lwd=2)\n",
    "abline(fit4_t, col=\"red\",lwd=2)"
   ]
  },
  {
   "cell_type": "markdown",
   "id": "f3ac1463-2274-4316-ae94-def55b7d24d4",
   "metadata": {
    "tags": []
   },
   "source": [
    "### Exkurs: Cooks Distanz\n",
    "\n",
    "* Die Cooks Distanz (oft abgekürzt als Cooks D) ist das wichtigste Maß zur Bestimmung einflussreicher Datenpunkte in einem Regressionsmodell.\n",
    "* In R kann einen Plot der Cook Distanz durch die grafische Ausgabe des Linearen Modells erhalten `plot(modell)`\n",
    "* Die Ausgabe erzeugt 4 Grafiken – die letzte Grafik (Residuals vs. Leverage enthält die Cook Distanz – folgende Faustregel:\n",
    "   * **Wert von 0,5** - Der Datenpunkt ist verdächtig\n",
    "   * **Wert von 1,0** - Der Datenpunkt ist wahrscheinlich einflussreich\n",
    "   * Sticht der Wert von allen übrigen Werten der Cook Distanz heraus, so ist er einflussreich!"
   ]
  },
  {
   "cell_type": "code",
   "execution_count": null,
   "id": "ecfbb1fd-3e57-44ba-a1bc-5d5b29d2a46b",
   "metadata": {},
   "outputs": [],
   "source": [
    "# Nutzung des Cook Abstands (Cook's Range) zur Identifikation von \n",
    "# Werten im Datensatz mit hohem EInflus. Mehr unter:\n",
    "# - <https://en.wikipedia.org/wiki/Cook%27s_distance>\n",
    "# - <https://support.minitab.com/de-de/minitab/18/help-and-how-to/modeling-statistics/regression/supporting-topics/model-assumptions/ways-to-identify-outliers/>\n",
    "\n",
    "# Ausgabe des Plots für die Cook's Distance mit dem Parameter\n",
    "# \"which\" --> nur den 5. Graphen (das ist die Cook'S Distance) ausgeben\n",
    "# https://stat.ethz.ch/R-manual/R-devel/library/stats/html/plot.lm.html \n",
    "plot(fit4,which=c(5))\n",
    "\n",
    "# Ausgabe aller Plots für das lineare Modell fit4\n",
    "par(mfrow = c(2, 2)) # 2 Spalten für die Grafiken anlegen\n",
    "plot(fit4)\n"
   ]
  }
 ],
 "metadata": {
  "authors": [
   {
    "name": "Prof. Dr. Denis Royer"
   }
  ],
  "jupytext": {
   "cell_metadata_filter": "message,eval,fig.height,fig.width,name,tags,warning,-all",
   "main_language": "R",
   "notebook_metadata_filter": "-all"
  },
  "kernelspec": {
   "display_name": "R",
   "language": "R",
   "name": "ir"
  },
  "language_info": {
   "codemirror_mode": "r",
   "file_extension": ".r",
   "mimetype": "text/x-r-source",
   "name": "R",
   "pygments_lexer": "r",
   "version": "4.2.1"
  },
  "title": "BI - R-Kenntnis Lösung Übungen 07: Lineare Regression",
  "toc-autonumbering": true
 },
 "nbformat": 4,
 "nbformat_minor": 5
}

{
 "cells": [
  {
   "cell_type": "markdown",
   "id": "b549b99b-b1c4-4bd6-b411-7464ed2d936a",
   "metadata": {},
   "source": [
    "![R-Kenntnis](../Pics/header.png \"R-Kenntnis\")\n",
    "\n",
    "<img src=\"https://img.shields.io/badge/--Kenntnis-blue?style=flat-square&logo=r&logoColor=white\"/> <a href=\"https://ostfalia.de/w\" target=\"_blank\"><img src=\"https://img.shields.io/badge/Ostfalia-Fakultät%20W-blue?style=flat-square&logo=googlescholar&logoColor=white\"/></a> <img src=\"https://img.shields.io/badge/Semester-WiSe2023%2F24-green?style=flat-square\"/> <img src=\"https://img.shields.io/badge/Copyright-2020--24-orange?style=flat-square\"/> <a href=\"https://creativecommons.org/licenses/by-nc-sa/4.0/\" target=\"_blank\"><img src=\"https://img.shields.io/badge/License-by--nc--sa-red?style=flat-square\"/></a> \n",
    "\n",
    "<div class=\"alert alert-block alert-info\">\n",
    "<img src=\"https://img.shields.io/badge/Information-Übung_07-blue?style=for-the-badge&logo=bookstack&logoColor=white\">\n",
    "\n",
    "* **Titel:** R-Kenntnis Übungen 07: Lineare Regression\n",
    "* **Autor:** Prof. Dr. Denis Royer\n",
    "* **Datum:** 07.12.2023 (Version 3.1)\n",
    "* **Zugehöriges Vorlesungsmodul:** LV10 - Lineare Regression\n",
    "\n",
    "</div>\n",
    "\n",
    "![Header_Modelling](../Pics/header_modelling.png \"Modelling\")\n",
    "\n",
    "<div class=\"alert alert-block alert-success\">\n",
    "    \n",
    "# Überblick \n",
    "## 07: Lineare Regression\n",
    "\n",
    "\n",
    "\n",
    "## Vermittelte Kompetenzen:\n",
    "\n",
    "\n",
    "\n",
    "</div>\n",
    "\n",
    "# BI - R-Kenntnis Übungen 07: Lineare Regression\n",
    "\n",
    "Bitte lesen Sie die folgenden Kapitel und die enthaltenen Hinweise ***sorgfältig*** durch. Die Aufgaben sind zum Teil in den Kapiteln enthalten.\n",
    "\n",
    "<div class=\"alert alert-block alert-warning\">\n",
    "<b>WICHTIG:</b> \n",
    "    \n",
    "*Die Schritte im Source Code bauen zum Teil aufeinander auf. Sollten Sie Ihre RStudio oder JupyterLab Session schließen oder neu starten, so müssen Sie ggf. den **Code erneut ausführen**, bzw. die **Packages neu laden**.*\n",
    "    \n",
    "</div>\n",
    "\n",
    "<div class=\"alert alert-block alert-info\">\n",
    "<b>Hinweis:</b> Weitere Hinweise und Quellen finden Sie <a href=\"../index.ipynb\">auf der zenteralen Übersicht zu den Übungen</a>. </div>\n",
    "\n",
    "## Anwendungsfall Lineare Regression\n",
    "\n",
    "**Für diese Übung soll der folgende Anwendungsfall genutzt werden:**\n",
    "\n",
    " > Im Online Marketing sollen verschiedene Kanäle wie Social Media, E-Mail oder Affiliate Marketing zur Umsatzsteigerung der *Bike Sharing LLC* beitragen. Mithilfe von Regressionsmodellen soll analysiert werden, wie der Marketingetat gesteuert und hierdurch die bisherige Marketingstrategien gezielt umstrukturiert und Werbebudgets angepasst werden können.\n",
    "\n",
    " > Im oben genannten Kontext untersucht die **Bike Sharing LLC** den Zusammenhang zwischen dem Marketing Budget und dem Umsatz innerhalb eines bestimmten Zeitraums. \n",
    "\n",
    "<div class=\"alert alert-block alert-warning\">\n",
    "<b>Diese Übung hat folgende Ziele:</b> \n",
    "    \n",
    "* Die Anwendungsfelder und der Aufbau der linearen Regression als **Analysemodell** können benannt werden.\n",
    "* Die Modellannahmen der linearen Regresion können überprüft werden.\n",
    "* Die Lineare Regression kann auf versch. Anwendungsfälle angewandt werden.\n",
    "    \n",
    "</div>\n",
    "\n",
    "## Aufbau der Übung\n",
    "\n",
    "Diese Übung besteht aus den folgenden Elementen:\n",
    "\n",
    "1. Ein theoretischer Überblick über die lineare Regression als Modell.\n",
    "2. Wie man die lineare Regression mkt R nutzen kann? Dies wird anhand eines praktischen Beispiels der Markting Daten der **Bike Sharing LLC**.\n",
    "3. Was sind Residuen (Fehlerterme)?\n",
    "4. Wie überprüft man die Modellannahmen der linearen Regression (wieder anhand des Fallbeispiels)?\n",
    "5. Wie nutzt man die lineare Regression zur Vorhersage von Werten?\n",
    "6. Neben den eingebetteten Übungsaufgaben sind am Ende dieses Moduls **weitere Übungsaufgaben** zur linearen Regression zu finden.\n",
    "\n",
    "## Vorbereitende Schritte für die Übung 07\n",
    "\n",
    "\n",
    "<div class=\"alert alert-block alert-warning\">\n",
    "<b>Wichtig:</b> Bevor wir loslegen, müssen wir zunächst einmal ein paar vorbereitende Dinge erledigen:\n",
    "\n",
    "* Die notwendigen Packages laden (bspw. `tidyverse`)\n",
    "* Datensatz laden (siehe *Data/marketing.csv*)\n",
    "\n",
    "</div>"
   ]
  },
  {
   "cell_type": "code",
   "execution_count": null,
   "id": "4d4955c2",
   "metadata": {
    "lines_to_next_cell": 0,
    "message": false,
    "name": "prepare_env",
    "tags": [
     "remove_cell"
    ],
    "warning": false
   },
   "outputs": [
    {
     "name": "stderr",
     "output_type": "stream",
     "text": [
      "── \u001b[1mAttaching core tidyverse packages\u001b[22m ──────────────────────── tidyverse 2.0.0 ──\n",
      "\u001b[32m✔\u001b[39m \u001b[34mdplyr    \u001b[39m 1.1.3     \u001b[32m✔\u001b[39m \u001b[34mreadr    \u001b[39m 2.1.4\n",
      "\u001b[32m✔\u001b[39m \u001b[34mforcats  \u001b[39m 1.0.0     \u001b[32m✔\u001b[39m \u001b[34mstringr  \u001b[39m 1.5.0\n",
      "\u001b[32m✔\u001b[39m \u001b[34mggplot2  \u001b[39m 3.4.3     \u001b[32m✔\u001b[39m \u001b[34mtibble   \u001b[39m 3.2.1\n",
      "\u001b[32m✔\u001b[39m \u001b[34mlubridate\u001b[39m 1.9.2     \u001b[32m✔\u001b[39m \u001b[34mtidyr    \u001b[39m 1.3.0\n",
      "\u001b[32m✔\u001b[39m \u001b[34mpurrr    \u001b[39m 1.0.2     \n",
      "── \u001b[1mConflicts\u001b[22m ────────────────────────────────────────── tidyverse_conflicts() ──\n",
      "\u001b[31m✖\u001b[39m \u001b[34mdplyr\u001b[39m::\u001b[32mfilter()\u001b[39m masks \u001b[34mstats\u001b[39m::filter()\n",
      "\u001b[31m✖\u001b[39m \u001b[34mdplyr\u001b[39m::\u001b[32mlag()\u001b[39m    masks \u001b[34mstats\u001b[39m::lag()\n",
      "\u001b[36mℹ\u001b[39m Use the conflicted package (\u001b[3m\u001b[34m<http://conflicted.r-lib.org/>\u001b[39m\u001b[23m) to force all conflicts to become errors\n"
     ]
    }
   ],
   "source": [
    "library(tidyverse)\n",
    "library(ggplot2)"
   ]
  },
  {
   "cell_type": "markdown",
   "id": "a8600d06",
   "metadata": {},
   "source": [
    "# Warum Lineare Regression?\n",
    "\n",
    "Lineare Regression ist ein hilfreiches Mittel, um im Business Intelligence Bereich Daten analysieren zu können:\n",
    "\n",
    "* Die Lineare Regression funktioniert für eine Vielzahl an Problemen und Datensätzen.\n",
    "* Die Lineare Regression kann für viele Business Intelligence Fragestellungen genutzt werden.\n",
    "* Die Lineare Regression ist die Basis für andere, fortgeschrittene Analysemethoden (speziell für andere prädiktive Analysemethoden).\n",
    "\n",
    "## Vorbereitung: Der Datensatz\n",
    "\n",
    "Für diese Übung verwenden wir erneut den Marketing Datensatz von *Bike Sharing LLC*:\n",
    "\n",
    "Im Rahmen einer umfassenden Marketinganalyse hat *Bike Sharing LLC* eine Studie anderer Mitbewerber im Bereich Fahrradverleih eingekauft. Der Datensatz selbst enthält Informationen zu 172 Mitbewerbern, welche für eine Trendanalyse in der Fahrradverleihbranche erhoben wurden."
   ]
  },
  {
   "cell_type": "code",
   "execution_count": null,
   "id": "f2d1a0b3",
   "metadata": {},
   "outputs": [
    {
     "name": "stderr",
     "output_type": "stream",
     "text": [
      "\u001b[1mRows: \u001b[22m\u001b[34m172\u001b[39m \u001b[1mColumns: \u001b[22m\u001b[34m7\u001b[39m\n",
      "\u001b[36m──\u001b[39m \u001b[1mColumn specification\u001b[22m \u001b[36m────────────────────────────────────────────────────────\u001b[39m\n",
      "\u001b[1mDelimiter:\u001b[22m \",\"\n",
      "\u001b[31mchr\u001b[39m (1): pop_density\n",
      "\u001b[32mdbl\u001b[39m (6): google_adwords, facebook, twitter, marketing_total, revenues, emplo...\n",
      "\n",
      "\u001b[36mℹ\u001b[39m Use `spec()` to retrieve the full column specification for this data.\n",
      "\u001b[36mℹ\u001b[39m Specify the column types or set `show_col_types = FALSE` to quiet this message.\n"
     ]
    }
   ],
   "source": [
    "# Laden der Daten\n",
    "marketing.raw <- read_csv(\"../Data/marketing.csv\")\n",
    "# Wir wollen nur die nummerischen Anteile des Datensatzes nutzen\n",
    "# Dementsprechend kopieren wir uns diese Spalten aus den Rohdaten in einen neune\n",
    "# Data Frame:\n",
    "adverts.df <- marketing.raw[,1:5] # Spalten 1-5"
   ]
  },
  {
   "cell_type": "code",
   "execution_count": null,
   "id": "88872554",
   "metadata": {
    "tags": [
     "remove_input"
    ],
    "warning": false
   },
   "outputs": [],
   "source": [
    "# Ausgabe der ersten 8 Zeilen des Datensatzes\n",
    "adverts.df[1:8,]"
   ]
  },
  {
   "cell_type": "markdown",
   "id": "676a296f",
   "metadata": {},
   "source": [
    "## Erste Übersicht\n",
    "Eine erste grafische Analyse mittels der `pairs()` Funktion erlaubt uns, einen Überblick über die Daten zu bekommen. Dabei lässt sich beispielsweise ein Zusammenhang zwischen den Variablen *Marketing gesamt* und *Umsätze* feststellen (siehe auch vorherige Übung): "
   ]
  },
  {
   "cell_type": "code",
   "execution_count": null,
   "id": "a91a2e56",
   "metadata": {
    "fig.height": 3.5,
    "fig.width": 4.5
   },
   "outputs": [],
   "source": [
    "pairs(adverts.df)"
   ]
  },
  {
   "cell_type": "code",
   "execution_count": null,
   "id": "d1500e9b",
   "metadata": {
    "fig.height": 3,
    "fig.width": 4.5
   },
   "outputs": [],
   "source": [
    "plot(adverts.df$marketing_total,\n",
    "     adverts.df$revenues, \n",
    "     ylab = \"Umsätze\", \n",
    "     xlab = \"Marketing gesamt\", \n",
    "     main = \"Umsatz und Marketing\"\n",
    "    )"
   ]
  },
  {
   "cell_type": "markdown",
   "id": "60bd3715",
   "metadata": {},
   "source": [
    "# Lineare Regression mit R\n",
    "\n",
    "Die Lineare Regression (kurz: LR) die einen Spezialfall des allgemeinen Konzepts der Regressionsanalyse darstellt, ist ein statistisches Verfahren, mit dem versucht wird, eine beobachtete abhängige Variable durch eine oder mehrere unabhängige Variablen zu erklären. Solch ein Modell nennt man Lineares Modell (kurz: LM). Das Beiwort „linear“ ergibt sich dadurch, dass die abhängige Variable eine Linearkombination der Regressionskoeffizienten darstellt (aber nicht notwendigerweise der unabhängigen Variablen). Der Begriff Regression bzw. Regression zur Mitte wurde vor allem durch den Statistiker *Francis Galton* geprägt.\n",
    "\n",
    "***Formel der Einfachen Linearen Regression:*** ${\\displaystyle Y_{i}=\\beta _{0}+\\beta _{1}x_{i}+U_{i}}$\n",
    "\n",
    "![Koordinatensystem Regression](../Pics/regression_coord.jpg \"Koordinatensystem Regression\")\n",
    "\n",
    "Bei der Linearen Regression werden unterschiedliche Informationen mit einbezogen, von denen man annimmt, dass sie alle das zu vorhersagende Phänomen beeinflussen:\n",
    "\n",
    "* **$x_{i}$:** Diese sind also der Ausgangspunkt für die Vorhersage - man nennt sie *Prädiktorvariablen* ($x_{i}$) oder unabhängige Variable.\n",
    "* **$Y_{i}$:** Das Phänomen, dessen Ausprägung man vorhersagen möchte, wird *Kriteriumsvariable* ($Y_{i}$) oder abhängige Variable genannt\n",
    "* **$\\beta _{0}$:** Intercept\n",
    "* **$\\beta _{1}$:** Regressionskoeffizient der Variable $x$.\n",
    "* **$U_{i}$:** Unbeobachtbare Fehlervariable, unabhängig und identisch verteilt.\n",
    "\n",
    "In ***R*** wird eine einfache Lineare Regression (*[en.]*: *Simple Linear Regression* - ***SLR***) wie folgt dargestellt:\n",
    "\n",
    "``` R\n",
    "model1 <- lm(Kriterium ~ Prädiktor, data = meine_datentabelle)\n",
    "```\n"
   ]
  },
  {
   "cell_type": "markdown",
   "id": "558ee223",
   "metadata": {},
   "source": [
    "**In Worten:** *Kriterium* wird modelliert als Funktion von *Prädiktor*, wobei sich diese Variablen im Dataframe meine_datentabelle finden.\n",
    "\n",
    "![Übungsaufgabe](../Pics/excercise.png \"Übungsaufgabe\")\n",
    "![](https://img.shields.io/badge/Aufgabe-7.1-blue?style=for-the-badge&logo=r&logoColor=white)\n",
    "\n",
    "***Frage:*** In Bezug auf die Ziele des Modellierens: Um welchen Typ des Modellieren handelt es sich bei der Linearen Regression?\n",
    "\n",
    "Angewendet auf unseren Datensatz ergibt sich für die Variablen *Marketing gesamt* und *Umsätze* folgendes Modell:"
   ]
  },
  {
   "cell_type": "code",
   "execution_count": null,
   "id": "4c2400fa-bb57-4c97-a2ec-83dc9618e9fd",
   "metadata": {
    "lines_to_next_cell": 2
   },
   "outputs": [],
   "source": [
    "# Erstellung des Linearen Modells\n",
    "model1 <- lm(revenues ~ marketing_total, data = adverts.df)"
   ]
  },
  {
   "cell_type": "code",
   "execution_count": null,
   "id": "8b872434-fd04-45e5-89ab-ea9316272fb5",
   "metadata": {
    "lines_to_next_cell": 2
   },
   "outputs": [],
   "source": [
    "# Ausgabe der Daten im resultierenden Linearen Modell\n",
    "model1"
   ]
  },
  {
   "cell_type": "markdown",
   "id": "7ecd0b15",
   "metadata": {},
   "source": [
    "\n",
    "![Übungsaufgabe](../Pics/excercise.png \"Übungsaufgabe\")\n",
    "\n",
    "***Frage:*** \n",
    "\n",
    "* Wie lassen sich die Ausgaben interpretieren?\n",
    "* Welche Daten enthält die Liste `model1`? (Hier kann die Funktion `str()` hilfreich sein)"
   ]
  },
  {
   "cell_type": "code",
   "execution_count": null,
   "id": "1f3ae88c",
   "metadata": {
    "autoscroll": "auto",
    "eval": true,
    "lines_to_next_cell": 2,
    "tags": []
   },
   "outputs": [],
   "source": [
    "str(model1)"
   ]
  },
  {
   "cell_type": "markdown",
   "id": "cf597736",
   "metadata": {},
   "source": [
    "Diese Modell (`model1`) kann nun grafisch ausgegeben werden:"
   ]
  },
  {
   "cell_type": "code",
   "execution_count": null,
   "id": "5328da01",
   "metadata": {
    "fig.height": 3.5,
    "fig.width": 4
   },
   "outputs": [],
   "source": [
    "# Ausgabe mit der bereits bekannten plot() Funktion\n",
    "plot(adverts.df$marketing_total, \n",
    "     adverts.df$revenues, \n",
    "     ylab = \"Umsätze\", \n",
    "     xlab = \"Marketing\",\n",
    "     main = \"Marketing Total vs. Umsätze (Plot)\", \n",
    "     xlim = c(50, 150), xaxt = \"n\")\n",
    "abline(model1) # Regressionsgerade in den Plot einfügen"
   ]
  },
  {
   "cell_type": "code",
   "execution_count": null,
   "id": "7018e5d5",
   "metadata": {
    "fig.height": 3.5,
    "fig.width": 4
   },
   "outputs": [],
   "source": [
    "# Alternativ kann man das ggplot2 Paket nutzen, das die Grafiken etwas aufwendiger\n",
    "# aufbereiten kann.\n",
    "ggplot(adverts.df, aes(x=marketing_total, y=revenues)) + \n",
    "        geom_point() + \n",
    "        geom_smooth(method='lm', color='red', se = FALSE) +\n",
    "        ggtitle(\"Marketing Total vs. Umsätze (ggplot)\") +\n",
    "        theme_bw()"
   ]
  },
  {
   "cell_type": "markdown",
   "id": "d43585c5",
   "metadata": {},
   "source": [
    "# Residuen (Fehlerterme - $\\epsilon$)\n",
    "\n",
    "Residuen (auch *Fehler* oder *Vorhersagefehler*), spielen eine wichtige Rolle bei der Bewertung der Güte eines Linearen Modells. Die grundlegende Überlegung zur Modellgüte lautet: \"*Wie groß ist der Unterschied zwischen Vorhersage und Wirklichkeit?*\"\n",
    "Generell gilt: Je kürzer die \"*Abweichungslinien*\", desto besser die Vorhersage eines Linearen Modells.\n",
    "\n",
    "Die folgende Grafik stellt diesen Zusammenhang einmal visuell dar:"
   ]
  },
  {
   "cell_type": "code",
   "execution_count": null,
   "id": "3da09aa3",
   "metadata": {
    "fig.height": 3.5,
    "fig.width": 4,
    "tags": []
   },
   "outputs": [],
   "source": [
    "# Ausgabe der Rohdaten als Plot\n",
    "plot(adverts.df$marketing_total, adverts.df$revenues, \n",
    "     ylab = \"Revenues\", \n",
    "     xlab = \"Marketing\",\n",
    "     main = \"Revenues versus Marketing\", \n",
    "     xlim = c(50, 150), \n",
    "     xaxt = \"n\")\n",
    "# Einfügen der Regressionsgerade aus model1 in den Plot\n",
    "abline(model1)\n",
    "\n",
    "# Einfügen der Abweichungslinie aus einem Messwert (Predicted) und\n",
    "# dem Erwartungswert (Actual) der Lineare Regression mit Beschriftung\n",
    "segments(x0 = 53.6, y0 = 31.0, x1 = 53.6, \n",
    "         y1 = 34.68, lwd = 2, lty = 3)\n",
    "text(x = 57.5, y = 30.5, labels = \"A\")\n",
    "text(x = 54.0, y = 36.3, labels = \"P\")\n",
    "axis(1, at = c(53.6, 100, 150, 200, 250)) "
   ]
  },
  {
   "cell_type": "markdown",
   "id": "5914d465",
   "metadata": {
    "tags": []
   },
   "source": [
    "Für jeden Wert im Datensatz `adverts.df` gibt es zwei Werte für den Umsatz:\n",
    "\n",
    "* ***A*** - Den gemessenen Wert (Actual)\n",
    "* ***P*** - Den vorhergesagten Wert (Predicted)\n",
    "* ***Residuen ($\\epsilon$)*** - Dies ist die Differenz aus </br>$\\epsilon = \\textit{Predicted} - \\textit{Actual}$.\n",
    "\n",
    "# Überprüfung der Modellannahmen (*L.U.N.K. Ansatz*)\n",
    "Um eine Lineare Regression nutzen zu können, müssen die folgenden vier Kernannahmen erfüllt sein:\n",
    "\n",
    "* ![](https://img.shields.io/badge/Step-1-lightgrey?style=flat) ***Linearität:*** Lineare Abhängigkeit zwischen den erklärenden Variablen und der Zielvariable.\n",
    "* ![](https://img.shields.io/badge/Step-2-lightgrey?style=flat) ***Unabhängigkeit:*** Die unabhängigen Variablen dürfen untereinander nicht zu stark korrelieren.\n",
    "* ![](https://img.shields.io/badge/Step-3-lightgrey?style=flat) ***Normalverteilung der Residuen:*** Die Fehlerterme folgen einer Normalverteilung.\n",
    "* ![](https://img.shields.io/badge/Step-4-lightgrey?style=flat) ***Konstante Varianz (Homoskedastizität):*** Die Varianz des Fehlerterms darf nicht von unabhängigen Variablen oder der Beobachtungsreihenfolge abhängig sein, somit sollte die Varianz konstant für alle Beobachtungseinheiten sein.\n",
    "\n",
    "## ![](https://img.shields.io/badge/Step-1-lightgrey?style=flat) Linearität \n",
    "\n",
    "Zunächst sollte untersucht werden, ob zwischen den metrischen unabhängigen Variablen (*Prädiktorvariable*) und der abhängigen Variablen (*Kriteriumsvariable*) überhaupt ein linearer Zusammenhang besteht. Dies lässt sich grafisch anhand von einem Streudiagramm gut überprüfen:"
   ]
  },
  {
   "cell_type": "code",
   "execution_count": null,
   "id": "df63ec3f",
   "metadata": {
    "tags": []
   },
   "outputs": [],
   "source": [
    "ggplot(adverts.df, aes(x=marketing_total, y=revenues)) + \n",
    "        geom_point() +\n",
    "        ggtitle(\"Marketing Total vs. Umsätze (ggplot)\") +\n",
    "        theme_bw()"
   ]
  },
  {
   "cell_type": "markdown",
   "id": "e253b0c3",
   "metadata": {},
   "source": [
    "\n",
    "![Übungsaufgabe](../Pics/excercise.png \"Übungsaufgabe\")\n",
    "\n",
    "\n",
    "***Frage:*** Was kann man aus dem Plot der Variablen *Marketing gesamt* und *Umsätze* schließen?\n",
    "\n",
    "## ![](https://img.shields.io/badge/Step-2-lightgrey?style=flat) Unabhängigkeit\n",
    "\n",
    "Dies ist womöglich die am schwersten zu überprüfende Annahme, die man überprüfen kann. Es geht im Kern darum, dass die getätigten Beobachtungen voneinander unabhängig sind - sich also nicht beeinflussen. Im Rahmen des \"*Data Understanding*\" ist es bspw. ein guter Ansatz, sich die Datenerhebung einmal genauer anzuschauen. So bekommt man einen guten Einblick, ob die Erhebungsmethode ggf. schon Probleme mit sich bringt oder nicht.\n",
    "\n",
    "![Übungsaufgabe](../Pics/excercise.png \"Übungsaufgabe\")\n",
    "\n",
    "![](https://img.shields.io/badge/Aufgabe-7.2-blue?style=for-the-badge&logo=r&logoColor=white)\n",
    "\n",
    "***Frage:*** Was für Rückschlüsse bezüglich der Unabhängigkeit kann man bei den hier vorliegenden Daten treffen?\n",
    "\n",
    "## ![](https://img.shields.io/badge/Step-3-lightgrey?style=flat) Normalverteilung der Residuen\n",
    "\n",
    "Für den Test der Normalverteilung können ein *Histogramm* oder ein *Q-Q Plot* hilfreich sein. Alternativ kann noch ein Kolmogorov-Smirnov-Anpassungstest durchgeführt werden (Siehe auch Lehrveranstaltung BI-07 ff. für Details zu diesem Thema).\n",
    "\n",
    "Für den vorliegenden Fall ergeben sich die folgenden zwei Plots (*Histogramm* und *Q-Q Plot*) für die Verteilung der Residuen."
   ]
  },
  {
   "cell_type": "code",
   "execution_count": null,
   "id": "32be3dc9-6abb-4716-8807-ed7486f34cdb",
   "metadata": {
    "fig.height": 2.5
   },
   "outputs": [],
   "source": [
    "# Ausgabe der Residuen als Histogram\n",
    "hist(model1$residuals, xlab = \"Residuen\", col = \"gray\",\n",
    "     main = \"Residuenverteilung\")"
   ]
  },
  {
   "cell_type": "code",
   "execution_count": null,
   "id": "7effe136-7f77-4245-a29d-a5134f62c230",
   "metadata": {
    "fig.height": 2.5
   },
   "outputs": [],
   "source": [
    "# Ausgabe der Residuen als Q-Q Plot\n",
    "# ==> Sin die Residuen normalverteilt?\n",
    "qqnorm(model1$residuals, main = \"Q-Q Plot der Residuen\")\n",
    "qqline(model1$residuals) "
   ]
  },
  {
   "cell_type": "markdown",
   "id": "eb3e3970",
   "metadata": {},
   "source": [
    "\n",
    "![Übungsaufgabe](../Pics/excercise.png \"Übungsaufgabe\")\n",
    "\n",
    "![](https://img.shields.io/badge/Aufgabe-7.3-blue?style=for-the-badge&logo=r&logoColor=white)\n",
    "\n",
    "***Frage:*** Was kann man anhand der 2 Plots bezüglich der Residuen für Rückschlüsse ableiten?\n",
    "\n",
    "## ![](https://img.shields.io/badge/Step-4-lightgrey?style=flat) Konstante Varianz (Homoskedastizität)\n",
    "\n",
    "Weiterhin wird vorausgesetzt, dass die Residuen unabhängig sind und eine konstante Varianz aufweisen (sog. Homoskedastizität). \n",
    "\n",
    "**Homoskedastizität** bedeutet, dass die Varianz der Residuen in einer **Regressionsanalyse** für alle Werte des Prädiktors konstant ist. Das heißt, die Abweichungen der vorhergesagten Werte von den wahren Werten sind in etwa immer gleich groß – unabhängig wie hoch oder niedrig der Wert des Prädiktors ist.\n",
    "\n",
    "Dies kann **grafisch überprüft werden**, indem die geschätzten Werte der abhängigen Variablen in einem Streudiagramm gegen die geschätzten Residuen des Modells abgetragen werden (sog. Residuenplots).\n",
    "\n",
    "Die Punkte in dem Diagramm sollten **unsystematisch streuen**. Das Auftreten einer Trichterform deutet auf eine Verletzung der Annahme konstanter Varianzen („Heteroskedastizität“) hin. Ist eine Systematik in den Punkten erkennbar, so ist diese meist auf eine Verletzung der Unabhängigkeitsannahme zurückzuführen. Im Fall (A) verteilen sich die Residuen ungefähr in einem gleichbleibend dicken, horizontalen Band. Hier sind weder Abhängigkeiten, noch Heteroskedastizität erkennbar. Auf den Streudiagrammen (B,C,F) sind  \"Trichter\" oder \"Rauten\" erkennbar. Das weist also auf die Verletzung der Homoskedastizitätsannahme hin. \n",
    "\n",
    "![**Abbildung:** Beispiele für Homo- und Heteroskedastizität (vgl. Hicketier(2019)).](../Pics/Hetero.png)"
   ]
  },
  {
   "cell_type": "markdown",
   "id": "7c3d2f9d",
   "metadata": {},
   "source": [
    "Fälle wie (D) und (E) zeigen einen quadratischen/ logarithmischen Zusammenhang. Die Residuen streuen also nicht zufällig, sondern es ist eine **klare Systematik** erkennbar. Oft hängt diese Annahmenverletzung mit Problemen der Nichtlinearität (zwischen abhängiger und unabhängiger Variable) zusammen.\n",
    "\n",
    "### Grafische Exploration\n",
    "\n",
    "Für das Modell aus der SLR für die Variablen *Marketing gesamt* und *Umsätze* ergibt sich hierbei folgender Residuenplot:"
   ]
  },
  {
   "cell_type": "code",
   "execution_count": null,
   "id": "0b189e61",
   "metadata": {
    "fig.height": 2.75
   },
   "outputs": [],
   "source": [
    "# Plot der Residuen des Linearen Modells\n",
    "plot(model1$fitted.values, \n",
    "     model1$residuals, \n",
    "     ylab = \"Residuen\",\n",
    "     xlab = \"Fitted Values\", \n",
    "     main = \"Verteilung der Residuen\")\n",
    "\n",
    "# Hinzufügen der Mittellinie und der 2 gestrichelten Linien\n",
    "# über und unter der Mittelllinie als Korridor\n",
    "abline(0, 0, lwd = 3)\n",
    "abline(h = c(-6.5, 6.5), lwd = 3, lty = 3)"
   ]
  },
  {
   "cell_type": "markdown",
   "id": "da1441af-739f-413d-8736-26de850a1993",
   "metadata": {},
   "source": [
    "Weiterhin kann man noch andere Plots und Tests durchführen, um die Konstanz der Varianz (also die Homoskedastizität) zu überprüfen."
   ]
  },
  {
   "cell_type": "code",
   "execution_count": null,
   "id": "270c4cad-a392-4170-a519-062be60cf53e",
   "metadata": {},
   "outputs": [],
   "source": [
    "par(mfrow = c(2, 2)) # Darstellung der Grafiken als Matrix\n",
    "plot(model1)"
   ]
  },
  {
   "cell_type": "code",
   "execution_count": null,
   "id": "c0e554e4-b120-42ae-bf8c-53f2d00bedfa",
   "metadata": {
    "fig.height": 3.5,
    "fig.width": 6,
    "tags": []
   },
   "outputs": [
    {
     "ename": "ERROR",
     "evalue": "Error in eval(expr, envir, enclos): object 'conf_interval' not found\n",
     "output_type": "error",
     "traceback": [
      "Error in eval(expr, envir, enclos): object 'conf_interval' not found\nTraceback:\n",
      "1. lines(model1, conf_interval[, 2], col = \"blue\", lty = 2)",
      "2. lines.default(model1, conf_interval[, 2], col = \"blue\", lty = 2)",
      "3. plot.xy(xy.coords(x, y), type = type, ...)",
      "4. xy.coords(x, y)"
     ]
    },
    {
     "data": {
      "image/png": "[encoded data removed]",
      "text/plain": [
       "Plot with title “Marketing Total vs. Umsätze (Plot)”"
      ]
     },
     "metadata": {
      "image/png": {
       "height": 420,
       "width": 420
      }
     },
     "output_type": "display_data"
    }
   ],
   "source": [
    "plot(model1, 1)"
   ]
  },
  {
   "cell_type": "markdown",
   "id": "516b2c25-5324-4ea7-8e51-8d34ad21e4c9",
   "metadata": {
    "tags": []
   },
   "source": [
    "Zunächst schaut man sich nur die Streuung der Punkte in den Plots an. Da in den obigen Diagrammen keine Zunahme oder Abnahme der Streuung erkennbar ist, also man keinen nach links oder rechts geöffneten Trichter erkennen kann, würde man hier zunächst eher keine Heteroskedastizität unterstellen.\n",
    "\n",
    "Das obere Diagramm hilft zusätzlich mit einer roten Linie, die möglichst gerade sein sollte. Ist sie wellig oder hat eine positive oder negative Steigung, würde man definitiv von Heteroskedastizität sprechen. Wie wir noch sehen werden, kommen wir mit der folgenden analytischen Prüfung auf ein anderes Ergebnis.\n",
    "\n",
    "### Signifikanztests\n",
    "\n",
    "Viele statistische Verfahren setzen voraus, dass die Varianzen innerhalb verschiedener Fallgruppen gleich sind (beispielsweise Signifikanztests und Mittelwertvergleiche).\n",
    "\n",
    "* Gleichheit der Varianzen = **Homoskedastizität**\n",
    "* Ungleichheit der Varianzen = **Heteroskedastizität**\n",
    "\n",
    "Mit dem Signifikanztest nach Fisher oder nach Breusch-Pagan wird folgende Nullhypothese $H_{0}$ überprüft: \n",
    "> **Die Varianzen in der Grundgesamtheit ist in allen Gruppen homogen (bei Annahme einer Normalverteilung)**\n",
    "\n",
    "Eine geringe Wahrscheinlichkeit (p-Wert) weist auf eine Varianzungleichheit (Heteroskedastizität) hin."
   ]
  },
  {
   "cell_type": "code",
   "execution_count": null,
   "id": "369ee2da-e81d-4d6f-85b2-425a6e4c4192",
   "metadata": {},
   "outputs": [],
   "source": [
    "# Signifikanztest nach Fisher\n",
    "var.test(adverts.df$marketing_total, adverts.df$revenues)"
   ]
  },
  {
   "cell_type": "code",
   "execution_count": null,
   "id": "3f2e26b5-832a-4ef2-93ac-cbb8858d2c1b",
   "metadata": {},
   "outputs": [],
   "source": [
    "# Breusch-Pagan Test\n",
    "library(lmtest)\n",
    "bptest(model1)"
   ]
  },
  {
   "cell_type": "markdown",
   "id": "cf7dce8b-975e-4a2c-a145-104edccf8289",
   "metadata": {},
   "source": [
    "\n",
    "![Übungsaufgabe](../Pics/excercise.png \"Übungsaufgabe\")\n",
    "\n",
    "![](https://img.shields.io/badge/Aufgabe-7.4-blue?style=for-the-badge&logo=r&logoColor=white)\n",
    "\n",
    "**Frage:** Was fällt bei den p-Werten der beiden Tests auf und wie lässt sich dies interpretieren (siehe auch Hinweis in der roten Box)?\n",
    "\n",
    "<div class=\"alert alert-block alert-danger\">\n",
    "<img src=\"https://img.shields.io/badge/Hinweis-Achtung-red?style=for-the-badge&logo=r&logoColor=white\" style=\"vertical-align:middle;\">\n",
    "    \n",
    "Analytische Tests verwerfen die Nullhypothese mit zunehmender Stichprobengröße häufiger, obwohl die Abweichungen marginal sind. Deswegen ist die grafische Methode (s.o.) häufig die bessere Wahl bei mehreren hundert Beobachtungen. Bei kleineren Stichproben gelten die Tests jedoch als hinreichend zuverlässig.\n",
    "</div>\n"
   ]
  },
  {
   "cell_type": "markdown",
   "id": "c0cca8a6",
   "metadata": {},
   "source": [
    "\n",
    "![Übungsaufgabe](../Pics/excercise.png \"Übungsaufgabe\")\n",
    "\n",
    "![](https://img.shields.io/badge/Aufgabe-7.5-blue?style=for-the-badge&logo=r&logoColor=white)\n",
    "\n",
    "***Frage:*** Welcher Typ von Varianz liegt beim Plot der Residuen aus dem Beispiel vor und warum?\n",
    "\n",
    "- [ ] Homoskedastizität\n",
    "- [ ] Heterokedastizität\n",
    "\n",
    "<div class=\"alert alert-block alert-info\">\n",
    "<b>Hinweis:</b> Weitere Infos zum Thema Homoskedastizität finden sie hier: <a href=\"https://bjoernwalther.com/heteroskedastizitaet-in-r-erkennen-und-beheben/\" target=\"_blan\">https://bjoernwalther.com/heteroskedastizitaet-in-r-erkennen-und-beheben/</a>. </div>\n",
    "\n",
    "# Weitere Informationen\n",
    "\n",
    "Die `summary()` Funktion liefert noch weitere Informationen zum Modell:"
   ]
  },
  {
   "cell_type": "code",
   "execution_count": null,
   "id": "8d31a0ed",
   "metadata": {
    "lines_to_next_cell": 0
   },
   "outputs": [],
   "source": [
    "summary(model1)"
   ]
  },
  {
   "cell_type": "markdown",
   "id": "ae6c7305",
   "metadata": {},
   "source": [
    "\n",
    "![Übungsaufgabe](../Pics/excercise.png \"Übungsaufgabe\")\n",
    "\n",
    "![](https://img.shields.io/badge/Aufgabe-7.6-blue?style=for-the-badge&logo=r&logoColor=white)\n",
    "\n",
    "***Frage:*** Welche Informationen gibt einen die `summary()` Funktion?\n",
    "\n",
    "# Lineare Regression zur Vorhersage nutzen\n",
    "\n",
    "Man kann ein abgeleitetes Lineares Modell natürlich auch für vorhersagen nutzen. **Das funktioniert am besten für Werte, die innerhalb der Range des Originaldatensatzes liegen** - im vorliegenden Fall im Bereich von:"
   ]
  },
  {
   "cell_type": "code",
   "execution_count": null,
   "id": "26e649fb",
   "metadata": {
    "lines_to_next_cell": 0
   },
   "outputs": [],
   "source": [
    "range(adverts.df$marketing_total)"
   ]
  },
  {
   "cell_type": "markdown",
   "id": "ebe53814",
   "metadata": {},
   "source": [
    "Um nun Voraussagen treffen zu können kann man die Funktion `predict.lm()` nutzen. Nehmen wir an, wir wollen für den Wert 465.000,00 Euro Marketingbudget den Umsatz ableiten (das Konfidenzintervall liegt bei 95%)."
   ]
  },
  {
   "cell_type": "code",
   "execution_count": null,
   "id": "0c12b3b9",
   "metadata": {},
   "outputs": [],
   "source": [
    "newdata <- data.frame(marketing_total = 465) # Wert in K€\n",
    "predict.lm(model1, newdata, interval = \"predict\")"
   ]
  },
  {
   "cell_type": "markdown",
   "id": "8a0551cb-6b9e-4bf2-a1c7-2985612d26de",
   "metadata": {
    "tags": []
   },
   "source": [
    "<div class=\"alert alert-block alert-info\">\n",
    "<b>Hinweis:</b> Ein Konfidenzintervall, kurz KI, (auch Vertrauensintervall, Vertrauensbereich oder Erwartungsbereich genannt) ist in der Statistik ein Intervall, das die Präzision der Lageschätzung eines Parameters (z. B. eines Mittelwerts) angeben soll. Das Konfidenzintervall gibt den Bereich an, der mit einer gewissen Wahrscheinlichkeit (der Überdeckungswahrscheinlichkeit) den Parameter einer Verteilung einer Zufallsvariablen einschließt. Ein häufig verwendetes Konfidenzniveau ist 95 %.</div>\n",
    "\n",
    "Der Parameter `interval` in der `predict.lm` steuert die Art des Konfidenzintervalls, das für die Vorhersagen zurückgegeben wird. Es gibt drei mögliche Werte für diesen Parameter:\n",
    "\n",
    "1. `interval = \"none\"`: Wenn dieser Wert gesetzt ist, gibt die Funktion nur die Vorhersagen zurück, ohne Konfidenzintervalle.\n",
    "\n",
    "2. `interval = \"confidence\"`: Dies erzeugt ein Konfidenzintervall für den mittleren Wert der Vorhersagen. Es gibt an, wo der erwartete Mittelwert der abhängigen Variablen für gegebene Werte der unabhängigen Variablen mit einer bestimmten Wahrscheinlichkeit (typischerweise 95%) liegt. \n",
    "\n",
    "3. `interval = \"predict\"`: Dies erzeugt ein Vorhersageintervall. Im Gegensatz zum Konfidenzintervall, das sich auf den Mittelwert der Vorhersagen bezieht, gibt das Vorhersageintervall den Bereich an, in dem zukünftige Beobachtungen mit einer bestimmten Wahrscheinlichkeit erwartet werden. Das Vorhersageintervall ist breiter als das Konfidenzintervall, da es zusätzlich zur Unsicherheit des Modells auch die Variabilität der Beobachtungen berücksichtigt.\n",
    "\n",
    "Diese Intervalle sind nützlich, um die Genauigkeit und Zuverlässigkeit der Vorhersagen einzuschätzen.\n",
    "\n",
    "Das Konfidenzintervall in der `predict.lm()` Funktion ist über den Parameter `level=` anpassbar - ebenso können mehrere Werte gleichzeitig berechnet werden:"
   ]
  },
  {
   "cell_type": "code",
   "execution_count": null,
   "id": "276553fa-f31d-4f50-9d49-3b72de07c50c",
   "metadata": {
    "tags": []
   },
   "outputs": [],
   "source": [
    "# Anpassung des Konfidenzintervalls:\n",
    "predict.lm(model1, newdata, \n",
    "           level = 0.99, \n",
    "           interval = \"predict\")\n",
    "predict.lm(model1, \n",
    "           newdata, \n",
    "           level = 0.90, \n",
    "           interval = \"predict\")"
   ]
  },
  {
   "cell_type": "code",
   "execution_count": null,
   "id": "eacecf82-a929-41bb-91cf-397e1ce8e259",
   "metadata": {
    "tags": []
   },
   "outputs": [],
   "source": [
    "# Berechnung mehrerer Werte für eine Prognose\n",
    "newdata = data.frame(marketing_total = c(450, 460, 470))\n",
    "predict.lm(model1, newdata, interval = \"predict\")"
   ]
  },
  {
   "cell_type": "markdown",
   "id": "b87759ca",
   "metadata": {},
   "source": [
    "# Übungen\n",
    "## Aufgabe 1: Analyse und Transformation der Daten\n",
    "\n",
    "![Übungsaufgabe](../Pics/excercise.png \"Übungsaufgabe\")\n",
    "\n",
    "![](https://img.shields.io/badge/Aufgabe-7.7-blue?style=for-the-badge&logo=r&logoColor=white) ![](https://img.shields.io/badge/Übung_Level:-2-red?style=for-the-badge&logo=legacygames)\n",
    "\n",
    "Analysieren Sie die folgenden Daten mit dem \"*L.U.N.K.*\" Ansatz: \n",
    "\n",
    "* Fällt Ihnen was bei den Daten auf und wie lassen sich die Ergebnisse aus den einzelnen Schritten des L.U.N.K. Ansatzes interpretieren?\n",
    "* Wie kann man ggf. den Datensatz \"*reparieren*\"?"
   ]
  },
  {
   "cell_type": "code",
   "execution_count": null,
   "id": "f6678e2f",
   "metadata": {},
   "outputs": [],
   "source": [
    "x0 <- c(1, 2, 3, 4, 5, 6, 7, 8, 9, 10)\n",
    "y0 <- c(1.00, 1.41, 1.73, 2.00, 2.24,\n",
    "        2.45, 2.65, 2.83, 3.00, 3.16)"
   ]
  },
  {
   "cell_type": "markdown",
   "id": "4d918bfe",
   "metadata": {},
   "source": [
    "## Aufgabe 2: Ausreißer\n",
    "\n",
    "![Übungsaufgabe](../Pics/excercise.png \"Übungsaufgabe\")\n",
    "\n",
    "![](https://img.shields.io/badge/Aufgabe-7.8-blue?style=for-the-badge&logo=r&logoColor=white) ![](https://img.shields.io/badge/Übung_Level:-1-yellow?style=for-the-badge&logo=legacygames)\n",
    "\n",
    "Ausreißer können große Einflüsse auf Lineare Modelle haben, wie auch im folgenden Beispielgrafik abgebildet:"
   ]
  },
  {
   "cell_type": "code",
   "execution_count": null,
   "id": "832a5e97-2362-4ee7-a1b1-ac1bbe145c24",
   "metadata": {
    "message": false,
    "tags": [
     "remove_input"
    ],
    "warning": false
   },
   "outputs": [],
   "source": [
    "# Datensatz 1 - Ausreißer beeinflust\n",
    "x2 <- 1:20\n",
    "y2 <- c(1:10, 4, 12:20)\n",
    "fit2 <- lm(y2 ~ x2)"
   ]
  },
  {
   "cell_type": "code",
   "execution_count": null,
   "id": "cc9d26ec-31cc-4032-bd89-94b917a14309",
   "metadata": {
    "message": false,
    "tags": [
     "remove_input"
    ],
    "warning": false
   },
   "outputs": [],
   "source": [
    "# Datensatz 2 - Ausreißer beeinflust nicht\n",
    "x3 <- c(1:20, 30)\n",
    "y3 <- c(0.4, 2.2, 2.2, 5.6, 5.3, 5.2, 7.5, 8.7, 9.6, 9.7, 12.5,\n",
    "        12.4, 12.4, 11.8, 16.1, 16, 17, 18.9, 19.8, 20.6, 30.0)\n",
    "fit3 <-lm(y3 ~ x3)"
   ]
  },
  {
   "cell_type": "code",
   "execution_count": null,
   "id": "6a86d1cc-44aa-42dd-a77a-35d5d08e21b0",
   "metadata": {
    "message": false,
    "tags": [
     "remove_input"
    ],
    "warning": false
   },
   "outputs": [],
   "source": [
    "# Plot der Datensätze\n",
    "par(mfrow = c(1, 2))\n",
    "plot(x2, y2, pch = 19, main = \"Ausreißer beeinflust\")\n",
    "abline(fit2)\n",
    "plot(x3, y3, pch = 19, main = \"Ausreißer beeinflust nicht\")\n",
    "abline(fit3)"
   ]
  },
  {
   "cell_type": "markdown",
   "id": "87d326e1",
   "metadata": {},
   "source": [
    "Analysieren Sie folgenden Datensatz:\n",
    "\n",
    "* Hat der Datensatz einen Ausreißer? Wenn ja welcher Datensatz?\n",
    "* Was für einen Einfluss hat der Datensatz? Vergleichen Sie die Linearen Modelle und Ihre Kennzahlen."
   ]
  },
  {
   "cell_type": "code",
   "execution_count": null,
   "id": "ffbf40dc",
   "metadata": {},
   "outputs": [],
   "source": [
    "x4 <- c(1:20)\n",
    "y4 <- c(0.4, 2.2, 2.2, 5.6, 5.3, 5.2, 7.5, 8.7,\n",
    "        9.6, 9.7, 12.5, 12.4, 12.4, 12.8, 16.1,\n",
    "        16.0, 17.0, 11.5, 19.8, 20.6)"
   ]
  },
  {
   "cell_type": "markdown",
   "id": "1a819f41-2ade-4bcd-ba76-3d00309f1f7a",
   "metadata": {
    "tags": []
   },
   "source": [
    "# Lösungen\n",
    "\n",
    "Die Lösungen zu den Übungen finden Sie in der *Datei <a href=\"R-Kenntnis LSG Uebung 07.ipynb\">R-Kenntnis LSG Uebung 07.ipynb</a>*. Die Datei wird jeweils nach der Durchsprache der Übung bereitgestellt.\n",
    "\n",
    "<div class=\"alert alert-block alert-info\">\n",
    "<img src=\"https://img.shields.io/badge/Info-Lösungen-blue?style=for-the-badge&logo=r&logoColor=white\" style=\"vertical-align:middle;\">\n",
    "    \n",
    "Die Datei wird jeweils nach der Durchsprache der Übung bereitgestellt.</div>"
   ]
  }
 ],
 "metadata": {
  "authors": [
   {
    "name": "Prof. Dr. Denis Royer"
   }
  ],
  "jupytext": {
   "cell_metadata_filter": "message,eval,fig.height,fig.width,name,tags,warning,-all",
   "main_language": "R",
   "notebook_metadata_filter": "-all"
  },
  "kernelspec": {
   "display_name": "R",
   "language": "R",
   "name": "ir"
  },
  "language_info": {
   "codemirror_mode": "r",
   "file_extension": ".r",
   "mimetype": "text/x-r-source",
   "name": "R",
   "pygments_lexer": "r",
   "version": "4.3.1"
  },
  "title": "BI - R-Kenntnis Übungen 07: Lineare Regression",
  "toc-autonumbering": true
 },
 "nbformat": 4,
 "nbformat_minor": 5
}

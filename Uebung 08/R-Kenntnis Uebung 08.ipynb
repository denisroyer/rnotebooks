{
 "cells": [
  {
   "cell_type": "markdown",
   "id": "f6301b08-811a-4f44-95f1-d6aec1cf6afd",
   "metadata": {},
   "source": [
    "![R-Kenntnis](../Pics/header.png \"R-Kenntnis\")\n",
    "\n",
    "<img src=\"https://img.shields.io/badge/--Kenntnis-blue?style=flat-square&logo=r&logoColor=white\"/> <a href=\"https://ostfalia.de/w\" target=\"_blank\"><img src=\"https://img.shields.io/badge/Ostfalia-Fakultät%20W-blue?style=flat-square&logo=googlescholar&logoColor=white\"/></a> <img src=\"https://img.shields.io/badge/Semester-WiSe2022%2F23-green?style=flat-square\"/> <img src=\"https://img.shields.io/badge/Copyright-2020--2-orange?style=flat-square\"/> <a href=\"https://creativecommons.org/licenses/by-nc-sa/4.0/\" target=\"_blank\"><img src=\"https://img.shields.io/badge/License-by--nc--sa-red?style=flat-square\"/></a> \n",
    "\n",
    "<div class=\"alert alert-block alert-info\">\n",
    "\n",
    "* **Titel:** R-Kenntnis Übungen 08: Zeitreihenanalyse mit R\n",
    "* **Autor:** Prof. Dr. Denis Royer\n",
    "* **Datum:** 02.11.2023 (Version 3.0)\n",
    "* **Zugehöriges Vorlesungsmodul:** LV11 - Zeitreihenanalyse\n",
    "\n",
    "</div>\n",
    "\n",
    "![Header_Modelling](../Pics/header_modelling.png \"Modelling\")\n",
    "\n",
    "# BI - R-Kenntnis Übungen 08: Zeitreihenanalyse mit R\n",
    "\n",
    "## Hinweise - Bitte lesen!\n",
    "Dieses Übungsblatt bezieht sich auf den R-Kurs ***R-Kenntnis*** zur Vorlesung Business Intelligence im Wintersemester 2022/23.\n",
    "\n",
    "Bitte lesen Sie die folgenden Kapitel und die enthaltenen Hinweise ***sorgfältig*** durch. Die Aufgaben sind zum Teil in den Kapiteln enthalten.\n",
    "\n",
    "<div class=\"alert alert-block alert-warning\">\n",
    "<b>WICHTIG:</b> \n",
    "    \n",
    "*Die Schritte im Source Code bauen zum Teil aufeinander auf. Sollten Sie Ihre RStudio oder JupyterLab Session schließen oder neu starten, so müssen Sie ggf. den Code erneut ausführen, bzw. die Packages neu laden.*\n",
    "    \n",
    "</div>\n",
    "\n",
    "## Quellen und weitere Materialien\n",
    "\n",
    "<div class=\"alert alert-block alert-info\">\n",
    "<b>Hinweis:</b> Weitere Hinweise und Quellen finden Sie <a href=\"../index.ipynb\">auf der zenteralen Übersicht zu den Übungen</a>. </div>\n",
    "\n",
    "* **Hyndman und Athanasopoulos (2021)** - Hyndman, R.J. und Athanasopoulos, G.: Forecasting: Principles and Practice (3rd ed.) - https://otexts.com/fpp3/, Monash University, Australia, 2021.\n",
    "* **Hyndman und Athanasopoulos (2018)** - Hyndman, R.J. und Athanasopoulos, G.: Forecasting: Principles and Practice (2nd ed.) - https://otexts.com/fpp2/, Monash University, Australia, 2018.\n",
    "\n",
    "\n",
    "## Vorbereitende Schritte für die Übung 08\n",
    "\n",
    "\n",
    "<div class=\"alert alert-block alert-warning\">\n",
    "<b>Wichtig:</b> Bevor wir loslegen, müssen wir zunächst einmal ein paar vorbereitende Dinge erledigen:\n",
    "\n",
    "* Die notwendigen Packages laden (bspw. `tidyverse` und `forecast`)\n",
    "* Datensatz laden (siehe *Data/cleaned_bikeshare_data.csv*)\n",
    "\n",
    "</div>"
   ]
  },
  {
   "cell_type": "code",
   "execution_count": null,
   "id": "0a99742a",
   "metadata": {
    "lines_to_next_cell": 0,
    "message": false,
    "name": "prepare_env",
    "tags": [
     "remove_cell"
    ],
    "warning": false
   },
   "outputs": [],
   "source": [
    "# Laden der notwendigen Libraries\n",
    "library(tidyverse)\n",
    "library(ggplot2)\n",
    "library(forecast)\n",
    "library(lubridate)\n",
    "library(ggfortify)\n",
    "library(escapeR)"
   ]
  },
  {
   "cell_type": "code",
   "execution_count": null,
   "id": "9c555e9f-2a7c-45f1-bd70-76a29af8e6e9",
   "metadata": {},
   "outputs": [],
   "source": [
    "# Hinweise der summarise() Funktion bei der Gruppierung von\n",
    "# Daten abschaltem - mehr unter:\n",
    "# https://statisticsglobe.com/dplyr-message-summarise-has-grouped-output-r\n",
    "options(dplyr.summarise.inform = FALSE)"
   ]
  },
  {
   "cell_type": "markdown",
   "id": "bb2b67e5-110a-4d63-9965-e3531113a2b9",
   "metadata": {
    "eval": false,
    "lines_to_next_cell": 2
   },
   "source": [
    "# Analyse von Zeitserien bei Bike Sharing LLC\n",
    "\n",
    " *Bike Sharing LLC* hat in den letzten zwei Jahre die Zahlen Ihrer Verleihstationen mitprotokolliert. Auf Basis der gesammetlten Daten ergibt sich nun die folgende Fragestellungen für das Unternehmen:\n",
    " \n",
    "> ***Unsere Fragestellung:* Wie entwickelt sich die Verleihrate der Fahrräder in den nächsten 6 Monaten?**\n",
    " \n",
    "Insbesondere geht es um Prognosen, die dafür dienen sollen, die Investoren von *Bike Sharing LLC* bezüglich der Entwicklung zu informieren aber auch um die Planung der Mitarbeiter für die kommende Saison zu vereinfachen. \n",
    "\n",
    "Für die Analyse soll eine Zeitreihenanalyse genutzt werden. Als Ansatz soll dabei das ARIMA Modell zum Einsatz kommen. Hierfür benötigen wir das Package `forecast` und folgende Funktionen.\n",
    "\n",
    "```R\n",
    "library(forecast)\n",
    "\n",
    "ts()\n",
    "arima()\n",
    "auto.arima()\n",
    "forecast()\n",
    "decompose()\n",
    "autoplot()\n",
    "pull()\n",
    "stl()\n",
    "decompose()\n",
    "ggtsdisplay()\n",
    "checkresiduals()\n",
    "acf()\n",
    "pacf()\n",
    "```\n"
   ]
  },
  {
   "cell_type": "markdown",
   "id": "de31f65d",
   "metadata": {},
   "source": [
    "## Vorbereitung: Laden der Daten\n",
    "\n",
    "Wie gehabt liegt der im Ordner \"`../Daten/`\" - alternativ können Sie auch der aufbereiteten Datensatz aus den vorherigen Übungen genutzt werden."
   ]
  },
  {
   "cell_type": "code",
   "execution_count": null,
   "id": "748f9e42",
   "metadata": {
    "include": true,
    "message": false,
    "warning": false
   },
   "outputs": [],
   "source": [
    "# Daten aus CSV Datei Laden\n",
    "bike.raw <- read_csv(\"../Data/cleaned_bikeshare_data.csv\")\n",
    "# Kopie der Daten erstellen, so dass man immer noch mal auf die\n",
    "# Originaldaten zugreifen kann (\"... sicher ist sicher...\")\n",
    "bike.df <- bike.raw\n",
    "# Ausgabe der ersten Datensätze für eine Sichtprüfung\n",
    "head(bike.df[,c(1,10,11,12,13)])"
   ]
  },
  {
   "cell_type": "code",
   "execution_count": null,
   "id": "5897eaa7",
   "metadata": {
    "eval": false
   },
   "outputs": [],
   "source": [
    "str(bike.df)\n",
    "# Uns interessieren insbesondere die Daten aus der Variablen\n",
    "sum(bike.df$count) #(Gesamtzahl der entliehenen Fahrräder im Datensatz)"
   ]
  },
  {
   "cell_type": "markdown",
   "id": "9cec12ff",
   "metadata": {},
   "source": [
    "# Aufbereitung der Daten\n",
    "\n",
    "Im ersten Schritt geht es darum, die Daten für die Zeitreihenanalyse vorzubereiten. Für die Analyse selbst hat man sich entschieden, die Daten pro Monat aufzubereiten und die Summen bezüglich der verliehenen Fahrräder zu bilden.\n",
    "\n",
    "![Übungsaufgabe](../Pics/excercise.png \"Übungsaufgabe\")\n",
    "\n",
    "***Notwendige Schritte zum Nachvollziehen:***\n",
    "\n",
    "1. **Fassen Sie die Rohdaten aus `bike.df$count` pro Monat zusammen.**\n",
    "   * Das ganze lässt sich mittels dplyr-Package und dem Pipe Syntax gut realisieren.\n",
    "   * Gruppieren Sie die Daten nach Jahr/Monat. Hierbei hilft das Package `lubridate` mit den Funktionen `year()` und `month()` gut weiter, mit dem Sie die Angaben aus der Variablen `datetime` in seine Bestandteile zerlegen können.\n",
    "    * Summieren Sie die Variable `bike.df$count`.\n",
    "    * Speichern Sie Ihre Daten in einer Variable (bspw. `bike.df.monthly`).\n",
    "2. **Erstellen Sie eine Zeitserie mit der Funktion `ts()` und dem bike.ts)**\n",
    "   * Start: 01/2017\n",
    "   * Ende: 12/2018\n",
    "   * Frequenz: 12 Monate\n",
    "\n",
    "<div class=\"alert alert-block alert-info\">\n",
    "<b>Hinweis:</b> Für das Nachvollziehen der Schritte ist es hilreich, <a href=\"../Uebung 04/R-Kenntnis Uebung 04.ipynb\">Uebung 04</a> und die <a href=\"../Uebung 04/R-Kenntnis LSG Uebung 04.ipynb\">zugehörigen Aufgaben</a> absolviert zu haben. </div>"
   ]
  },
  {
   "cell_type": "code",
   "execution_count": null,
   "id": "449a67b5-a375-485d-81c8-11c92d9b70b5",
   "metadata": {},
   "outputs": [],
   "source": [
    "# Lubridate für die Aufbereitung der Zeitangaben laden\n",
    "library(lubridate)"
   ]
  },
  {
   "cell_type": "code",
   "execution_count": null,
   "id": "0700dca5-5a8d-4554-a7c7-411e305336dc",
   "metadata": {},
   "outputs": [],
   "source": [
    "# Daten monatsweise zusammenfassen\n",
    "bike.df.monthly <- bike.df %>%\n",
    "          group_by(year = year(datetime),\n",
    "                   month = month(datetime)) %>%\n",
    "          summarise(riders = sum(count))"
   ]
  },
  {
   "cell_type": "code",
   "execution_count": null,
   "id": "ac61ea3e-ec1d-4d72-ba0d-5278ea544a8f",
   "metadata": {},
   "outputs": [],
   "source": [
    "bike.df.monthly"
   ]
  },
  {
   "cell_type": "code",
   "execution_count": null,
   "id": "fd9df8cd-a3a0-4691-bb9a-46abeb7177dc",
   "metadata": {},
   "outputs": [],
   "source": [
    "# Überprüfung, ob alle Jahr/Monat-Kombinationen auch einen Wert haben!\n",
    "# Hierfür eignet sich die table() Funktion. Ist ein Wert vorhanden, so wird\n",
    "# eine 1 in die entstehende Tabelle eingetragen - andernfalls eine 0.\n",
    "table(bike.df.monthly$year, bike.df.monthly$month)"
   ]
  },
  {
   "cell_type": "code",
   "execution_count": null,
   "id": "61ac247a",
   "metadata": {
    "include": true,
    "message": false,
    "warning": false
   },
   "outputs": [],
   "source": [
    "# Timeseries mit ts() erstellen.\n",
    "# WICHTIG: Die Daten müssen vorher in einen Vektor überführt werden.\n",
    "# Hierfür kann man pull() aus dplyr verwenden\n",
    "bike.riders <- pull(bike.df.monthly[, 3])\n",
    "bike.ts <- ts(bike.riders, frequency = 12, start = c(2017, 1), end = c(2018, 12))\n",
    "bike.ts"
   ]
  },
  {
   "cell_type": "markdown",
   "id": "2d32fd22",
   "metadata": {},
   "source": [
    "## Prüfung der Zeitserie: Stationarität der Zeitserie\n",
    "\n",
    "Eine wichtige Vorbedingung der Analyse von Zeitserien ist es, dass dieses stationär sind. Eine Möglichkeit sich hierzu ein Bild zu verschaffen ist es, sich die Daten einmal mittels der `plot()` Funktion auszugeben."
   ]
  },
  {
   "cell_type": "code",
   "execution_count": null,
   "id": "7771b936",
   "metadata": {},
   "outputs": [],
   "source": [
    "plot(bike.ts)"
   ]
  },
  {
   "cell_type": "markdown",
   "id": "16963738",
   "metadata": {},
   "source": [
    "Eine weitere Möglichkeit ist es, die Daten mittels der `decompose()` Funktion zu zerlegen. Diese Funktion zerlegt die Zeitreihe in ihre Bestandteile Trend und Saison:"
   ]
  },
  {
   "cell_type": "code",
   "execution_count": null,
   "id": "e8412e34",
   "metadata": {
    "eval": false,
    "lines_to_next_cell": 0,
    "warning": false
   },
   "outputs": [],
   "source": [
    "# Zerlegen der Zeitreihe in Ihre Bestandteile\n",
    "bike.stl <- decompose(bike.ts) \n",
    "# Die Funktion stl() würde auch gehen, benötigt aber min. 2 Perioden!\n",
    "autoplot(bike.stl) # Plot der Daten"
   ]
  },
  {
   "cell_type": "markdown",
   "id": "864d00a7",
   "metadata": {},
   "source": [
    "![Übungsaufgabe](../Pics/excercise.png \"Übungsaufgabe\")\n",
    "\n",
    "***Frage/Aufgabe***\n",
    "\n",
    "* Nutzen sie die `decompose()` Funktion um die Daten aus bike.ts zu zerlegen.\n",
    "* Geben Sie die Daten aus `decompose()` in einem Plot aus.\n",
    "* Wie kann man die Daten interpretieren?\n",
    "\n",
    "# Ableitung der Parameter für das ARIMA Modell\n",
    "\n",
    "Um ARIMA als Modell nutzen zu können, müssen die Parameter für die Variablen p & q (P & Q) festgelegt werden. Dies kann entweder über die Funktion `auto.arima()` oder durch *eine manuelle Festlegung* geschehen. Beide Vorgehensweisen werden wir in den folgenden Abschnitten anschauen.\n",
    "\n",
    "$$ARIMA = \\underbrace{(p,d,q)}_{nicht-saisonal} \\underbrace{(P,D,Q)_m}_{saisonal}$$\n",
    "\n",
    "Wie in der ARIMA Formel dargestellt, müssen die Parameter - je nach Daten - für die saisonalen/nicht-saisonalen Aspekte festgelegt werden. Der Parameter $m$ gibt dabei die Anzahl Beobachtungen pro Jahr an:\n",
    "\n",
    "* **AR** - einem autoregressiven Teil (Parameter p und P)\n",
    "* **I** - einem Teil, der die Stationarität der Zeitreihe sicherstellt (Parameter d oder D)\n",
    "* **MA** - einem Beitrag aus einem gleitenden Mittelwert (Parameter q oder Q)\n",
    "\n",
    "Das \"*fitting*\" eines ARIMA Modells ist im folgenden Ablaufdiagramm kurz dargestellt:\n",
    "\n",
    "![Ablaufdiagramm für die Modellierung von ARIMA Modellen (siehe <https://otexts.com/fpp2/arima-r.html> für weitere Details.)](../Pics/arimaflowchart.png)\n",
    "\n",
    "## Generelle Gedanken zur Wahl der Parameter\n",
    "\n",
    "* Ein erster Ansatz ist die Nutzung von `auto.arima` zur Festlegung der Parameter. ABER: Der Datensatz ist zu klein! Die Saisonalität wird mittels `stl()` nicht erkannt....\n",
    "* Das Modell muss manuell angepasst werden, da man sonst kein gutes Modell findet!\n",
    "* Es sind zu wenig Daten --> Es sind min. 50 Samples, bzw. zwei volle Perioden notwendig.\n",
    "* **ERGO:** `auto.arima` liefert gute Daten, aber ein separates Fitting des Modells ist sinnvoll!\n",
    "\n",
    "## Herstellen der Stationarität mittels Differencing\n",
    "\n",
    "Je nach Beschaffenheit der Daten muss nun dafür gesorgt werden, dass die Daten stationär werden. Hierzu kann man, in wie in LV-11 vorgestellt, mit der `diff()` Funktion eine Trend- oder Saisonale- ifferenzierung durchgeführt werden.\n",
    "Der sich ergebende Grad an Differencing wird auch als Parameter für den Parameter *d/D* des ARIMA Modells benötigt. Dieser ergibt sich aus der Anzahl der notwendigen Differencing Schritte, die notwendig sind bis die Daten stationär sind.\n",
    "\n",
    "![Übungsaufgabe](../Pics/excercise.png \"Übungsaufgabe\")\n",
    "\n",
    "***Frage/Aufgabe:***\n",
    "\n",
    "* Nutzen Sie die `diff()` Funktion, um die `bike.ts` Zeitserie weiter zu analysieren.\n",
    "* Überprüfen Sie, inwieweit folgendes Differencing die Zeitreihe stationär macht:\n",
    "    * Trendweises Differencing\n",
    "    * Saisonales Differencing\n",
    "    * Die Kombination der beiden\n",
    "* Plotten Sie Ihre Ergebnisse - wie lassen sich diese interpretieren? Sie können hierfür die `plot()` Funktion nutzen. Zusätzlich hilft die Funktion `ggtsdisplay()` aus dem Package `forecast`, um weitere Einsichten in die Daten zu erhalten.\n",
    "* Wie würden Sie die Parameter für den Parameter d/D wählen? Begründen Sie Ihre Beobachtungen."
   ]
  },
  {
   "cell_type": "markdown",
   "id": "cbe6412a-2ceb-4950-9038-b4178a0ed590",
   "metadata": {},
   "source": [
    "<div class=\"alert alert-block alert-success\">\n",
    "<b>Lösungsansatz:</b></div>"
   ]
  },
  {
   "cell_type": "code",
   "execution_count": null,
   "id": "f877f610",
   "metadata": {
    "fig.height": 3.5,
    "include": true
   },
   "outputs": [],
   "source": [
    "# ██████  ███████ ██ ███████ ██████  ██ ███████ ██      \n",
    "# ██   ██ ██      ██ ██      ██   ██ ██ ██      ██      \n",
    "# ██████  █████   ██ ███████ ██████  ██ █████   ██      \n",
    "# ██   ██ ██      ██      ██ ██      ██ ██      ██      \n",
    "# ██████  ███████ ██ ███████ ██      ██ ███████ ███████ \n",
    "                   \n",
    "par(mfrow = c(2, 2))\n",
    "# Trend Differencing --> d=1\n",
    "bike.ts.diff_trend <-diff(bike.ts)\n",
    "# Saison Differencing d=0/D=1\n",
    "bike.ts.diff_saison <- diff(bike.ts, lag = 12)\n",
    "# Trend und Saison Differencing kombiniert--> d=1 / D=1\n",
    "bike.ts.diff_trendsaison <- diff(diff(bike.ts, lag = 12))\n",
    "\n",
    "plot(bike.ts, ylim = c(-30000, max(bike.ts)))\n",
    "plot(bike.ts.diff_trend, ylim = c(-30000, max(bike.ts)))\n",
    "plot(bike.ts.diff_saison, ylim = c(-30000, max(bike.ts)))\n",
    "plot(bike.ts.diff_trendsaison, ylim = c(-30000, max(bike.ts)))\n",
    "\n",
    "# mit ggtsdisplay()\n",
    "ggtsdisplay(bike.ts)\n",
    "ggtsdisplay(bike.ts.diff_trend)\n",
    "ggtsdisplay(bike.ts.diff_saison)\n",
    "ggtsdisplay(bike.ts.diff_trendsaison)"
   ]
  },
  {
   "cell_type": "markdown",
   "id": "e26e6f64-0611-4c66-a477-ae222912af30",
   "metadata": {},
   "source": [
    "Zusätzlicher Hinweis:\n",
    "Um steigende Varianz einer Zeitreihe zu entfernen kann man auf eine BoxCox \n",
    "ransformation zugreifen. \n",
    "```R\n",
    "data <- BoxCox(bike.ts, lambda = 0.5)\n",
    "```\n",
    "Für den hier vorliegenden Datensatz reicht ein einfaches Differencing aus (d=1).\n",
    "Der Plot zeigt bei d=1 schon einen ausreichend stationären Verlauf der Zeitreihe!\n",
    "Dementsprechend arbeiten wir mit den Daten aus dem Vector bike.ts.diff_trend weiter um\n",
    "bspw. die ACF und PACF Plots zu erstellen."
   ]
  },
  {
   "cell_type": "markdown",
   "id": "810cc0ea",
   "metadata": {},
   "source": [
    "## ![](https://img.shields.io/badge/Variante-1-lightgrey?style=flat) Nutzung von `auto.arima()`\n",
    "\n",
    "Die Funktion `auto.arima()` berechnet die Parameter p, d und q anhand eines Algorithmus automatisch aus. Hierbei werden sog. Informationskriterien zur Auswahl des Modells genutzt. Ein *Informationskriterium* ist ein Kriterium zur Auswahl eines Modells in der Statistik. Man folgt dabei der Idee von Ockhams Rasiermesser, dass ein Modell nicht unnötig komplex sein soll und balanciert die Anpassungsgüte des geschätzten Modells an die vorliegenden empirischen Daten (Stichprobe) und dessen Komplexität, gemessen an der Anzahl der Parameter, aus. Die Anzahl der Parameter wird dabei „*strafend*“ berücksichtigt, da sonst komplexe Modelle mit vielen Parametern bevorzugt würden.\n",
    "\n",
    "Bei `auto.arima()` kommen folgende Informationskriterien zum Einsatz (siehe auch <https://otexts.com/fpp2/arima-estimation.html>):\n",
    "\n",
    "* Akaikes Informationskriterium (AIC und AICc) *und*\n",
    "* Bayesian Information Criterion (BIC)\n",
    "\n",
    "**Gute Modelle erhält man, indem man die Werte für AIC, AICc oder BIC minimiert.**\n",
    "\n",
    "**Wichtig:** Es ist wichtig anzumerken, dass die Informationskriterien für die Parameter p und q gut geeignet sind. Parameter d muss separat festgelegt werden (Differencing)."
   ]
  },
  {
   "cell_type": "code",
   "execution_count": null,
   "id": "1bd09015",
   "metadata": {
    "echo": true,
    "eval": true,
    "lines_to_next_cell": 0,
    "message": false,
    "warning": false
   },
   "outputs": [],
   "source": [
    "bike.fit.auto = auto.arima(bike.ts, \n",
    "                           trace = TRUE, \n",
    "                           seasonal = TRUE, \n",
    "                           approximation=FALSE, \n",
    "                           ic = \"aicc\", \n",
    "                           stepwise=FALSE)"
   ]
  },
  {
   "cell_type": "markdown",
   "id": "65add737",
   "metadata": {},
   "source": [
    "![Übungsaufgabe](../Pics/excercise.png \"Übungsaufgabe\")\n",
    "\n",
    "***Frage/Aufgabe***\n",
    "\n",
    "* Führen Sie `auto.arima()` für die Zeitreihe aus!\n",
    "* Was bedeuten die Parameter beim Aufruf von `auto.arima()`? (Nutzen Sie die Hilfefunktion.)\n",
    "* Wie lassen sich die Ausgaben der \"trace\" von `auto.arima()` interpretieren?\n",
    "* Überprüfen Sie das resultierende Modell mittels der `checkresiduals()` Funktion. Was können Sie sehen (siehe auch folgender Abschnitt)?\n"
   ]
  },
  {
   "cell_type": "code",
   "execution_count": null,
   "id": "d8ed9f8e",
   "metadata": {
    "eval": true,
    "include": true
   },
   "outputs": [],
   "source": [
    "bike.fit.auto %>% \n",
    "  residuals() %>% \n",
    "  ggtsdisplay()"
   ]
  },
  {
   "cell_type": "markdown",
   "id": "b60b31fc",
   "metadata": {},
   "source": [
    "## Portmanteau-Tests (Ljung/Box Test auf Autokorrelation)\n",
    "Portmanteau-Tests sind statistische Tests, mit deren Hilfe für mehrere Autokorrelationskoeffizienten getestet werden kann, ob sie sich signifikant von null unterscheiden. Dies ist vor allem bei der Prüfung der Autokorrelationsfreiheit der Residuen im Rahmen der Diagnosephase einer Zeitreihenanalyse wichtig.\n",
    "\n",
    "Portmanteau-Tests sind reine Signifikanztests. Sie testen nicht gegen eine klar formulierte Gegenhypothese.\n",
    "\n",
    "Die Teststatistik wird Q-Statistik genannt.\n",
    "\n",
    "**Ljung/Box** (benannt nach den Statistikern Greta M. Ljung und George EP Box) ist ein solcher Test, der auch bei Zeitreihen mit weniger als 100 Zeitreihenwerten zufriedenstellend arbeitet. Dieser arbeitet nach folgendem Testvorgehen:\n",
    "\n",
    "* $H_0$: Die Daten sind unabhängig voneinander verteilt (d.h. die Korrelationen in der Population, aus der die Stichprobe entnommen wurde, sind 0, so dass alle beobachteten Korrelationen in den Daten aus der Zufälligkeit des Stichprobenprozesses resultieren).\n",
    "* $H_1$: Die Daten sind nicht unabhängig verteilt; sie weisen eine Autokorrelation auf (serielle Korrelation).\n",
    "\n",
    "Dabei wird $H_0$ verworfen, wenn der P-Wert unter der 5%-Schwelle liegt. **Wir suchen also hohe p-Werte, da diese auf einen Hinweis auf Autokorrelationsfreiheit geben.**"
   ]
  },
  {
   "cell_type": "code",
   "execution_count": null,
   "id": "56716072-463a-4d2e-862f-535a6200b90b",
   "metadata": {
    "eval": true,
    "include": true
   },
   "outputs": [],
   "source": [
    "# Test inkl. Plots\n",
    "checkresiduals(bike.fit.auto)\n",
    "ggtsdiag(bike.fit.auto)"
   ]
  },
  {
   "cell_type": "markdown",
   "id": "03ab8498-c805-4081-b87f-275852aea5cd",
   "metadata": {},
   "source": [
    "<div class=\"alert alert-block alert-info\">\n",
    "<b>Hinweis:</b> <a href=\"https://statologie.de/ljung-box-test/\">Mehr zum Ljung/Box Test finden sie hier.</a></div>"
   ]
  },
  {
   "cell_type": "markdown",
   "id": "1365bd2d",
   "metadata": {},
   "source": [
    "## Vorhersagen treffen mit dem `auto.arima()` Modell\n",
    "\n",
    "Nachdem nun das Modell mittels `auto.arima()` erstellt wurde, können wir es für Prognosen einsetzen:"
   ]
  },
  {
   "cell_type": "code",
   "execution_count": null,
   "id": "c7eef9e4",
   "metadata": {},
   "outputs": [],
   "source": [
    "# Forecast erstellen für 6 Monate --> h = 6\n",
    "bike.yr_forecast <- forecast(bike.fit.auto, h = 2)\n",
    "# Ausgabe der Daten als Plot...\n",
    "autoplot(bike.yr_forecast)\n",
    "# ... und als Tabelle\n",
    "bike.yr_forecast"
   ]
  },
  {
   "cell_type": "markdown",
   "id": "0f051a1e",
   "metadata": {},
   "source": [
    "## ![](https://img.shields.io/badge/Variante-2-lightgrey?style=flat) Manuelle Festlegung der Parameter\n",
    "\n",
    "Für die manuelle Festlegung der Parameter kann man auf die (Partielle) Autokorellationsfunktion (ACF/PACF) zurückgreifen. \n",
    "\n",
    "<div class=\"alert alert-block alert-info\">\n",
    "<b>Hinweis:</b> \n",
    "PACF steht für partielle Autokorrelationsfunktion. Es ist ein Werkzeug, das in der Zeitreihenanalyse verwendet wird, um zu untersuchen, wie stark ein Zeitreihenwert mit seinen vorherigen Werten korreliert ist. Die PACF unterscheidet sich von der Autokorrelationsfunktion (ACF), die die Korrelation zwischen einem Zeitreihenwert und all seinen vorherigen Werten misst. Im Gegensatz dazu misst die PACF nur die Korrelation zwischen einem Zeitreihenwert und seinen direkt vorhergehenden Werten, wobei die indirekten Korrelationen ausgeschlossen werden. Die PACF wird verwendet, um festzustellen, welche Autokorrelationswerte in einer Zeitreihe signifikant sind und welche nicht, und kann somit bei der Identifikation und Modellierung von Zeitreihenmustern verwendet werden.\n",
    "    \n",
    "Mehr zu PACF und ACF siehe hier: <a href=\"https://www.youtube.com/watch?v=DeORzP0go5I\">(Youtube) ACF und PACF</a> oder <a href=\"https://ichi.pro/de/autokorrelation-und-partielle-autokorrelation-in-zeitreihendaten-32975526028430\">hier.</a>  </div>\n",
    "\n",
    "Die ACF und die PACF können verwendet werden, um die Parameter des ARIMA-Modells zu bestimmen, indem man die Muster in den Korrelationsfunktionen untersucht und daraus Rückschlüsse auf die wahrscheinlichsten Werte für die AR-, I- und MA-Parameter des Modells zieht. Im Allgemeinen kann man sagen, dass eine Zeitreihe eine starke Autokorrelation aufweist, wenn ihre ACF- und PACF-Funktionen über mehrere Lag-Werte hinweg signifikant sind. Dies deutet auf eine starke Abhängigkeit zwischen den aufeinanderfolgenden Werten der Zeitreihe hin, die möglicherweise durch ein AR- oder MA-Modell modelliert werden kann. Eine Zeitreihe kann auch eine saisonale Struktur aufweisen, die durch ein saisonales AR- oder MA-Modell modelliert werden kann. Die ACF und PACF können verwendet werden, um diese Muster zu identifizieren und die entsprechenden Parameter des ARIMA-Modells zu bestimmen.\n",
    "\n",
    "Erstellt man diese zwei Diagramme aus der untersuchten Zeitreihe, so kann man folgendes ableiten:\n",
    "\n",
    "* **Für ein ARIMA (p,d,0) Modell spricht folgendes Muster:**\n",
    "    * Der ACF ist exponentiell abnehmend oder sinusförmig.\n",
    "    * Es gibt einen signifikanten Anstieg an Lag p in der PACF, aber keinen jenseits des Lag p.\n",
    "* **Für ein ARIMA (0,d,q) Modell spricht folgendes Muster:**\n",
    "    * Der PACF ist exponentiell abnehmend oder sinusförmig.\n",
    "    * Es gibt einen signifikanten Anstieg an Lag q in der ACF, aber keinen jenseits des Lag q.\n",
    "    \n",
    "\n",
    "Folgendes Beispiel soll den Zusammenhang zwischen ACF und PACF für die Auswahl der Parameter p und q verdeutlichen:"
   ]
  },
  {
   "cell_type": "code",
   "execution_count": null,
   "id": "70ba00f5-4842-41dd-a8ab-ecb0f02651a2",
   "metadata": {
    "eval": true,
    "lines_to_next_cell": 0
   },
   "outputs": [],
   "source": [
    "# Ausgabe der Plots nebeneinander\n",
    "par(mfrow = c(1, 2))\n",
    "# Trend Differencing --> d=1\n",
    "bike.ts.diff_trend <-diff(bike.ts)\n",
    "\n",
    "#Plots für ACF und PACF\n",
    "acfRes <- acf(bike.ts.diff_trend)\n",
    "pacfRes <- pacf(bike.ts.diff_trend)\n",
    "#par(mfrow = c(1, 1))"
   ]
  },
  {
   "cell_type": "markdown",
   "id": "e289bda8",
   "metadata": {},
   "source": [
    "<div class=\"alert alert-block alert-info\">\n",
    "<b>Hinweis:</b> Wir können eine signifikante Spitze in jedem Plot ignorieren, wenn sie gerade außerhalb der Grenzen liegt und nicht in den ersten paar Lags. Immerhin ist die Wahrscheinlichkeit, dass ein Spike zufällig signifikant ist, liegt ungefähr bei eins zu zwanzig.</div>\n",
    "\n",
    "![Übungsaufgabe](../Pics/excercise.png \"Übungsaufgabe\")\n",
    "\n",
    "***Frage/Aufgabe***\n",
    "\n",
    "* Wie lautet das angepasste ARIMA Modell, wenn man manuelle vorgeht?\n",
    "* Wie verändern sich die Parameter bezüglich der saisonalen Daten (Differencing)?\n",
    "\n",
    "<div class=\"alert alert-block alert-success\">\n",
    "<b>Lösungsansatz:</b></div>"
   ]
  },
  {
   "cell_type": "code",
   "execution_count": null,
   "id": "f26957a1-25c3-49df-8d11-c90627db1813",
   "metadata": {
    "eval": true,
    "include": true
   },
   "outputs": [],
   "source": [
    "bike.ts %>% \n",
    "  diff() %>% \n",
    "  diff(lag=12) %>% \n",
    "  ggtsdisplay()"
   ]
  },
  {
   "cell_type": "code",
   "execution_count": null,
   "id": "c057bbca-bc66-49a4-b326-c1c049082d3d",
   "metadata": {
    "eval": true,
    "include": true,
    "lines_to_next_cell": 2
   },
   "outputs": [],
   "source": [
    "# Zusätlich kann man einen Box.test() durchführen, um die Stationarität der Zeitreihe\n",
    "# zu analysieren. Hohe p-Werte stehen für stationäre Daten!\n",
    "Box.test(bike.ts, type=\"Ljung-Box\")\n",
    "Box.test(bike.ts.diff_trend, type=\"Ljung-Box\")\n",
    "Box.test(bike.ts.diff_saison, type=\"Ljung-Box\")\n",
    "Box.test(bike.ts.diff_trendsaison, type=\"Ljung-Box\")"
   ]
  },
  {
   "cell_type": "code",
   "execution_count": null,
   "id": "2fedd49a-b94d-421b-9a74-aa685aeaaf87",
   "metadata": {
    "eval": true,
    "include": true
   },
   "outputs": [],
   "source": [
    "bike.fit <- arima(bike.ts, order = c(1,0,0), seasonal = list(order = c(0,1,0)))\n",
    "summary(bike.fit)"
   ]
  },
  {
   "cell_type": "code",
   "execution_count": null,
   "id": "d05088c1-0eee-41d3-a196-c609dab0803b",
   "metadata": {
    "eval": true,
    "include": true,
    "lines_to_next_cell": 2
   },
   "outputs": [],
   "source": [
    "bike.fit %>% \n",
    "  residuals() %>% \n",
    "  ggtsdisplay()"
   ]
  },
  {
   "cell_type": "code",
   "execution_count": null,
   "id": "fc525d85-0919-4480-b261-6be0f3fdd30b",
   "metadata": {
    "eval": true,
    "include": true,
    "lines_to_next_cell": 0
   },
   "outputs": [],
   "source": [
    "checkresiduals(bike.fit)"
   ]
  },
  {
   "cell_type": "markdown",
   "id": "cd0d08a8",
   "metadata": {},
   "source": [
    "## Vorhersagen treffen mit dem manuellen Modell \n",
    "Analog zum `auto.arima()` Modell lässt sich nun eine Vorhersage für die nächsten 6 Monate durchführen:"
   ]
  },
  {
   "cell_type": "code",
   "execution_count": null,
   "id": "e3a55c3f",
   "metadata": {},
   "outputs": [],
   "source": [
    "bike.yr_forecast2 <- forecast(bike.fit, h = 6)\n",
    "bike.yr_forecast2\n",
    "autoplot(bike.yr_forecast2)"
   ]
  },
  {
   "cell_type": "markdown",
   "id": "4e007b2c-724c-4f76-9722-f31ac3701c12",
   "metadata": {},
   "source": [
    "## Abschlussbetrachtung: Einschränkungen des ARIMA Modells\n",
    "\n",
    "Grundsätzlich sind das ARIMA Modell und seine Abwandlungen sehr gut für die Prognose von Zeitreihen geeignet. Jedoch sind folgende Rahmenbedingungen und Einschränkungen zu beachten:  \n",
    "\n",
    "* ARIMA Modelle nutzen historische Daten für die Vorhersagewerte - lange und stabile Zeitreihen funktionieren am besten\n",
    "* Zeitreihen müssen lang genug sein, um gute Modelle zu erhalten (*Empfehlung ~ 50 Sample*)\n",
    "* Zeitreihen müssen stationär sein!\n",
    "* Es sollten > 2 Perioden als Frequenz vorhanden sein, um Saisonalität ausreichend darstellen zu können.\n",
    "* Saisonale Modelle sind für Frequenzen von bis zu 12 Monaten konzipiert (theoretisch maximal 350 möglich) https://robjhyndman.com/hyndsight/longseasonality/ \n"
   ]
  },
  {
   "cell_type": "markdown",
   "id": "f72391d5",
   "metadata": {},
   "source": [
    "# Exkurs: Andere Modelltypen (tbats Modell)\n",
    "\n",
    "Für die Vorhersage können auch andere Modelle genutzt werden. Hierzu gehört bspw. das TBATS Modell: [en.] Trigonometric seasonality, Box-Cox transformation, ARMA errors, Trend and Seasonal components.\n",
    "\n",
    "TBATS ist ein Zeitreihenmodell, das von Rob Hyndman und George Athanasopoulos entwickelt wurde. Es kombiniert Elemente aus verschiedenen anderen Zeitreihenmodellen, wie zum Beispiel einem saisonalen Trend, um mehrere komplexe Zeitreihenmuster zu erkennen und zu modellieren. Das TBATS-Modell ist insbesondere dafür geeignet, wenn die Zeitreihe eine saisonale Struktur mit Trend und regelmäßigen Schwingungen hat.\n",
    "\n",
    "Der Name des TBATS Modells bezieht sich auf die folgenden Eigenschaften:\n",
    "\n",
    "* **T**: Trigonometric seasonality\n",
    "* **B**: Box-Cox transformation\n",
    "* **A**: ARIMA errors\n",
    "* **T**: Trend\n",
    "* **S**: Seasonal components\n",
    "\n",
    "Mehr unter https://blog.tenthplanet.in/time-series-forecasting-tbats/\n",
    "\n",
    "<div class=\"alert alert-block alert-success\">\n",
    "<b>ARIMA vs. TBATS:</b>\n",
    "ARIMA und TBATS sind beide Zeitreihenmodelle, aber sie unterscheiden sich in ihrem Ansatz und ihren Funktionen. ARIMA ist ein einfacheres Modell, das sich auf drei Hauptparameter konzentriert: die Autokorrelationsfunktion (AR), die Integrationsordnung (I) und die Moving Average (MA). Es wird verwendet, um lineare Zeitreihenmuster zu erkennen und zu modellieren, die keine saisonale Struktur haben. Im Gegensatz dazu ist TBATS ein komplexeres Modell, das Elemente aus mehreren anderen Zeitreihenmodellen kombiniert und somit in der Lage ist, verschiedene Arten von saisonalen Strukturen und Trends in Zeitreihen zu erkennen und zu modellieren. Zusammengefasst ist ARIMA besser geeignet für einfachere Zeitreihen, während TBATS für komplexere Zeitreihen besser geeignet ist.\n",
    "</div>"
   ]
  },
  {
   "cell_type": "code",
   "execution_count": null,
   "id": "55c8f267",
   "metadata": {
    "lines_to_next_cell": 2
   },
   "outputs": [],
   "source": [
    "tbats.fit <- tbats(bike.ts)\n",
    "tbats.fit.forecast <- forecast(tbats.fit, h = 6)\n",
    "autoplot(tbats.fit.forecast)\n",
    "checkresiduals(tbats.fit)"
   ]
  },
  {
   "cell_type": "markdown",
   "id": "191e2e16-7c2b-48e1-a341-28c5d01a77b8",
   "metadata": {},
   "source": [
    "<div class=\"alert alert-block alert-info\">\n",
    "<b>Übersicht anderer Zeitreihenmodelle:</b>\n",
    "    \n",
    "| Modellname | Modellannahmen                         | Einsatzbereich                        | Anforderungen an die Daten             |\n",
    "|------------|----------------------------------------|---------------------------------------|----------------------------------------|\n",
    "| ARIMA      | Stationarität, Nicht-Saisonalität      | Kurz- bis mittelfristige Prognosen    | Mindestens moderate Datengröße, keine ausgeprägte Saisonalität |\n",
    "| SARIMA     | Stationarität, Saisonalität            | Saisonale Prognosen                   | Saisonale Datenmuster                  |\n",
    "| TBATS      | Saisonalität, möglicherweise mehrfach, Box-Cox-Transformation | Saisonale Prognosen, insbesondere bei komplexer Saisonalität | Große Datenmengen mit komplexer Saisonalität |\n",
    "| ETS        | Exponentialglättung                    | Kurz- bis mittelfristige Prognosen    | Keine strengen Annahmen, anpassungsfähig an verschiedene Datentypen |\n",
    "| Holt-Winters| Saisonalität, Trend, Level             | Kurzfristige saisonale Prognosen      | Saisonale Muster, mindestens zwei vollständige Saisonzyklen |\n",
    "\n",
    "</div>"
   ]
  },
  {
   "cell_type": "markdown",
   "id": "5ae2c9c8",
   "metadata": {},
   "source": [
    "### ![Übungsaufgabe](../Pics/excercise.png \"Übungsaufgabe\")\n",
    "***Frage/Aufgabe***\n",
    "\n",
    "* Vergleich Sie beide Modelle - wie beurteilen Sie den \"*fit*\" der Modelle (under-/overfitting)?\n",
    "\n",
    "<div class=\"alert alert-block alert-success\">\n",
    "<b>Lösungsansatz:</b></div>"
   ]
  },
  {
   "cell_type": "code",
   "execution_count": null,
   "id": "fcfc6fdd",
   "metadata": {
    "eval": true,
    "include": true
   },
   "outputs": [],
   "source": [
    "# ██████  ███████ ██ ███████ ██████  ██ ███████ ██      \n",
    "# ██   ██ ██      ██ ██      ██   ██ ██ ██      ██      \n",
    "# ██████  █████   ██ ███████ ██████  ██ █████   ██      \n",
    "# ██   ██ ██      ██      ██ ██      ██ ██      ██      \n",
    "# ██████  ███████ ██ ███████ ██      ██ ███████ ███████ \n",
    "                   \n",
    "monthly_data <- tbats(bike.ts)\n",
    "year_forecast <- forecast(monthly_data, h = 12)\n",
    "plot(year_forecast)\n",
    "\n",
    "summary(year_forecast$mean)\n",
    "summary(year_forecast$upper)\n",
    "summary(year_forecast$lower)\n",
    "\n",
    "mean_2011 <- round(as.numeric(\n",
    "     filter(bike.monthly, year == 2011) %>%\n",
    "          summarise(mean = mean(riders))), 0)\n",
    "mean_2012 <- round(as.numeric(\n",
    "     filter(bike.monthly, year == 2012) %>%\n",
    "          summarise(mean = mean(riders))), 0)\n",
    "mean_2013 <- round(mean(year_forecast$mean), 0)\n",
    "max_mean_2013 <- round(max(year_forecast$mean), 0)\n",
    "\n",
    "abline(h = max(year_forecast$mean), lty = 2, col = \"blue\")\n",
    "segments(2011, mean_2011, x1 = 2012, y1 = mean_2011,\n",
    "         col = \"darkgray\", lty = 2, lwd = 2)\n",
    "segments(2012, mean_2012, x1 = 2013, y1 = mean_2012,\n",
    "         col = \"darkgray\", lty = 2, lwd = 2)\n",
    "segments(2013, mean_2013, x1 = 2014, y1 = mean_2013,\n",
    "         col = \"blue\", lty = 2, lwd = 2)\n",
    "\n",
    "text(2011.15, mean_2011 + 10000, mean_2011)\n",
    "text(2012, mean_2012 + 10000, mean_2012)\n",
    "text(2013, mean_2013 + 10000, mean_2013)\n",
    "text(2013.85, max_mean_2013 + 10000, max_mean_2013)"
   ]
  },
  {
   "cell_type": "markdown",
   "id": "373e12aa",
   "metadata": {
    "tags": []
   },
   "source": [
    "# Übungsaufgaben: Analyse von Passagierdaten\n",
    "\n",
    "## Datensatz und Aufgabe\n",
    "Der Datensatz `AirPassengers` enthält die Daten für eine Fluggesellschaft und deren monatliches Passagieraufkommen für den Zeitraum von 1949 - 1960."
   ]
  },
  {
   "cell_type": "code",
   "execution_count": null,
   "id": "8bc1a986",
   "metadata": {},
   "outputs": [],
   "source": [
    "data(\"AirPassengers\")\n",
    "AirPassengers"
   ]
  },
  {
   "cell_type": "markdown",
   "id": "63ddbfb5",
   "metadata": {},
   "source": [
    "![Übungsaufgabe](../Pics/excercise.png \"Übungsaufgabe\")\n",
    "***Folgende Aufgaben:***\n",
    "\n",
    "\n",
    "1. **![](https://img.shields.io/badge/Aufgabe-8.1-blue?style=small&logo=r&logoColor=white) Analysieren Sie die Daten und erstellen Sie eine Zeitreihenanalyse.**\n",
    "    * Um was für eine Typ Datensatz handelt es sich bei den `AirPassengers`?\n",
    "    * Erstellen Sie eine Zeitreihe der Daten.\n",
    "    * Erstellen Sie einen Plot der Daten\n",
    "2.  **![](https://img.shields.io/badge/Aufgabe-8.2-blue?style=small&logo=r&logoColor=white) Analysieren Sie den Datensatz (Differencing) und leiten Sie ein adäquates ARIMA Modell ab (mittels `auto.arima()`).**\n",
    "3.  **![](https://img.shields.io/badge/Aufgabe-8.3-blue?style=small&logo=r&logoColor=white) Überprüfen Sie die Modellannahmen Ihres Modells.**\n",
    "4.  **![](https://img.shields.io/badge/Aufgabe-8.4-blue?style=small&logo=r&logoColor=white) Erstellen Sie mit Ihrem Modell eine Prognose für die Jahre 1961 - 1965 (60 Monate).**\n"
   ]
  },
  {
   "cell_type": "markdown",
   "id": "7e1075ea-f003-4ad2-8db1-bc1447054e0c",
   "metadata": {},
   "source": [
    "![](https://img.shields.io/badge/Aufgabe-8.1-blue?style=for-the-badge&logo=r&logoColor=white)"
   ]
  },
  {
   "cell_type": "code",
   "execution_count": null,
   "id": "3cc9f588-8fec-48e8-8c3e-4538a5aecdaa",
   "metadata": {},
   "outputs": [],
   "source": [
    "# Lösungsansatz Aufgabe 8.1\n",
    "str(AirPassengers)\n",
    "AirPassengers.ts <- AirPassengers\n",
    "#Ergebnis Überprüfen\n",
    "createResultQRCode(AirPassengers.ts)"
   ]
  },
  {
   "cell_type": "markdown",
   "id": "8f20ae4c-e799-4e25-8ce3-27a8904e9061",
   "metadata": {},
   "source": [
    "![](https://img.shields.io/badge/Aufgabe-8.2-blue?style=for-the-badge&logo=r&logoColor=white)"
   ]
  },
  {
   "cell_type": "code",
   "execution_count": null,
   "id": "dfddb04e-1710-4c87-b32d-b2f30185120a",
   "metadata": {},
   "outputs": [],
   "source": [
    "# Lösungsansatz Aufgabe 8.2\n",
    "AirPassengers.fit.auto <- auto.arima(AirPassengers.ts,trace = TRUE)\n",
    "\n",
    "# Ergebnisse Überprüfen\n",
    "createResultQRCode(AirPassengers.fit.auto)"
   ]
  },
  {
   "cell_type": "markdown",
   "id": "7d874ba8-08c5-43b4-9d64-55445cd49862",
   "metadata": {},
   "source": [
    "![](https://img.shields.io/badge/Aufgabe-8.3-blue?style=for-the-badge&logo=r&logoColor=white)"
   ]
  },
  {
   "cell_type": "code",
   "execution_count": null,
   "id": "03de0c87-326c-4bc6-bbcf-ed182fd13878",
   "metadata": {
    "tags": []
   },
   "outputs": [],
   "source": [
    "# Lösungsansatz Aufgabe 8.3\n",
    "\n"
   ]
  },
  {
   "cell_type": "markdown",
   "id": "9d162d62-f2f7-40de-a3c4-1c8151548cee",
   "metadata": {},
   "source": [
    "![](https://img.shields.io/badge/Aufgabe-8.4-blue?style=for-the-badge&logo=r&logoColor=white)"
   ]
  },
  {
   "cell_type": "code",
   "execution_count": null,
   "id": "66d1e693-c088-46d5-92d3-701e1a563745",
   "metadata": {},
   "outputs": [],
   "source": [
    "# Lösungsansatz Aufgabe 8.4\n",
    "\n",
    "\n",
    "# Ergebnisse Überprüfen\n",
    "createResultQRCode(AirPassengers.forecast)"
   ]
  },
  {
   "cell_type": "markdown",
   "id": "aab9c17e",
   "metadata": {},
   "source": [
    "# Lösungen\n",
    "\n",
    "Die Lösungen zu den Übungen finden Sie in der *Datei <a href=\"R-Kenntnis LSG Uebung 08.ipynb\">R-Kenntnis LSG Uebung 08.ipynb</a>*. Die Datei wird jeweils nach der Durchsprache der Übung bereitgestellt.\n",
    "\n",
    "<div class=\"alert alert-block alert-info\">\n",
    "<img src=\"https://img.shields.io/badge/Info-Lösungen-blue?style=for-the-badge&logo=r&logoColor=white\" style=\"vertical-align:middle;\">\n",
    "\n",
    "<b>Info:</b> Die Datei wird jeweils nach der Durchsprache der Übung bereitgestellt.</div>\n"
   ]
  }
 ],
 "metadata": {
  "jupytext": {
   "cell_metadata_filter": "message,eval,echo,fig.height,include,name,tags,warning,-all",
   "main_language": "R",
   "notebook_metadata_filter": "-all"
  },
  "kernelspec": {
   "display_name": "R",
   "language": "R",
   "name": "ir"
  },
  "language_info": {
   "codemirror_mode": "r",
   "file_extension": ".r",
   "mimetype": "text/x-r-source",
   "name": "R",
   "pygments_lexer": "r",
   "version": "4.3.1"
  },
  "toc-autonumbering": true
 },
 "nbformat": 4,
 "nbformat_minor": 5
}

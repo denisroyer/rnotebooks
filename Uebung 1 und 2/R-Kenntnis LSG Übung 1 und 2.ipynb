{
 "cells": [
  {
   "cell_type": "markdown",
   "id": "2cccbb8d-7535-4683-a6a9-884885cf6f0e",
   "metadata": {},
   "source": [
    "# BI - R-Kenntnis Lösung zu den Übungen 01 & 02: Basis Datenstrukturen in R"
   ]
  },
  {
   "cell_type": "markdown",
   "id": "2860d184-bd7b-43f7-aca6-1795b2797762",
   "metadata": {},
   "source": [
    "## Übung 1.1 - Arbeiten mit Variablen\n",
    "\n",
    "1. Schätzen Sie die Einwohner Hessens und speichern Sie Ihre Schätzung in eine neue Variable namens`hessen`.\n",
    "2. Schätzen Sie die Einwohner Deutschlands und speichern Sie Ihre Schätzung in die Variable `deutschland`.\n",
    "3. Berechnen Sie eine neue Variable `ant_hessen`, die den Anteil der Einwohner Hessens an Gesamt-Deutschland enthält (in %).\n",
    "4. Geben sie dem Inhalt der Variable `ant_hessen` aus."
   ]
  },
  {
   "cell_type": "code",
   "execution_count": null,
   "id": "990d7abd-12c7-4901-98f9-54c2b1068ba2",
   "metadata": {
    "tags": []
   },
   "outputs": [],
   "source": [
    "### Ihr Source Code\n",
    "# Variable hessen anlegen und befüllen\n",
    "hessen <- 6.266\n",
    "# Variable deutschland anlegen und befüllen\n",
    "deutschland <- 83.2\n",
    "# Anteil hessen berechnen (in %)\n",
    "ant_hessen <- hessen / deutschland *100\n",
    "#Ergebnis ausgeben\n",
    "ant_hessen"
   ]
  },
  {
   "cell_type": "markdown",
   "id": "7d3c51ea-4e50-4019-bd1b-f434b9393ec8",
   "metadata": {},
   "source": [
    "## Übung 1.2 Weiter Funktionen\n",
    "\n",
    "1. Erzeugen Sie eine Sequenz von 0 bis 100 in 5-er Schritten.\n",
    "2. Berechnen Sie den Mittelwert des Vektors [1, 3, 4, 7, 11, 2].\n",
    "3. Lassen Sie sich die Spannweite $x_{max} - x_{min}$ dieses Vektors ausgeben.\n",
    "4. Berechnen Sie die Summe dieses Vektors.\n",
    "5. Generieren Sie einen Vektor, der aus 100 Wiederholungen der Zahl 3 besteht."
   ]
  },
  {
   "cell_type": "code",
   "execution_count": null,
   "id": "9a579b9e-c244-4bdd-bc18-93cc43321f78",
   "metadata": {},
   "outputs": [],
   "source": [
    "### Ihr Source Code\n"
   ]
  },
  {
   "cell_type": "markdown",
   "id": "52d7b883-f98c-4c79-b845-c3327145dd9c",
   "metadata": {},
   "source": [
    "## Übung 1.3: Arbeiten mit Data Frames\n",
    "\n",
    "Folgende kleine Aufgaben an Sie:\n",
    "\n",
    "1. Erstellen Sie einen Vektor `meine_Zahlen` mit den Zahlen 20 runter bis zur 1 (Reihenfolge beachten.\n",
    "2. Erstellen Sie einen zweiten Vektor (`meine_Buchstaben`), der die Buchstaben A, B, C und D enthält. Der Vektor soll auch insgesamt 20 Elemente enthalten. Die Anzahl der einzelnen Buchstaben ist dabei egal.\n",
    "3. wandeln Sie den Vektor`meine_Buchstaben` in einen Vektor vom Typ Factor um. Folgende Übersetzung:\n",
    "    * A -> grün\n",
    "    * B -> gelb\n",
    "    * C -> rot\n",
    "    * D -> blau\n",
    "4. Zählen die Ausprägungen der einzelnen Farben (Faktoren) einmal tabellarisch zusammen.\n",
    "5. Erstellen Sie aus den Vektoren `meine_Zahlen` und dem foktorisierten Vektor meine_Buchstaben einen Data Frame mit dem Namen mein.df"
   ]
  },
  {
   "cell_type": "code",
   "execution_count": null,
   "id": "5763cb5c-2bf0-4bdc-8812-fd5418a22ec8",
   "metadata": {},
   "outputs": [],
   "source": [
    "### Ihr Source Code\n"
   ]
  }
 ],
 "metadata": {
  "kernelspec": {
   "display_name": "R",
   "language": "R",
   "name": "ir"
  },
  "language_info": {
   "codemirror_mode": "r",
   "file_extension": ".r",
   "mimetype": "text/x-r-source",
   "name": "R",
   "pygments_lexer": "r",
   "version": "3.6.3"
  }
 },
 "nbformat": 4,
 "nbformat_minor": 5
}

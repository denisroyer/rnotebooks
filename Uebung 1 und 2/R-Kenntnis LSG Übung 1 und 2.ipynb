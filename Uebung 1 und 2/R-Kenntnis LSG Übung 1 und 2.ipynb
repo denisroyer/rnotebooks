{
 "cells": [
  {
   "cell_type": "markdown",
   "id": "2cccbb8d-7535-4683-a6a9-884885cf6f0e",
   "metadata": {
    "tags": []
   },
   "source": [
    "![R-Kenntnis](../Pics/header.png \"R-Kenntnis\")\n",
    "\n",
    "* **Titel:** Lösung zu den Übungen 01 & 02: Basis Datenstrukturen in R\n",
    "* **Autor:** Prof. Dr. Denis Royer\n",
    "* **Datum:** 03.10.2021\n",
    "\n",
    "# BI - R-Kenntnis Lösung zu den Übungen 01 & 02: Basis Datenstrukturen in R"
   ]
  },
  {
   "cell_type": "markdown",
   "id": "2860d184-bd7b-43f7-aca6-1795b2797762",
   "metadata": {},
   "source": [
    "## Übung 1.1 - Arbeiten mit Variablen\n",
    "\n",
    "![Übungsaufgabe](../Pics/excercise.png \"Übungsaufgabe\")\n",
    "\n",
    "1. Schätzen Sie die Einwohner Hessens und speichern Sie Ihre Schätzung in eine neue Variable namens`hessen`.\n",
    "2. Schätzen Sie die Einwohner Deutschlands und speichern Sie Ihre Schätzung in die Variable `deutschland`.\n",
    "3. Berechnen Sie eine neue Variable `ant_hessen`, die den Anteil der Einwohner Hessens an Gesamt-Deutschland enthält (in %).\n",
    "4. Geben sie dem Inhalt der Variable `ant_hessen` aus."
   ]
  },
  {
   "cell_type": "markdown",
   "id": "226cd844-f804-45b3-a050-a013a373ff58",
   "metadata": {},
   "source": [
    "<div class=\"alert alert-block alert-success\">\n",
    "<b>Lösungsansatz:</b></div>"
   ]
  },
  {
   "cell_type": "code",
   "execution_count": null,
   "id": "026f9557-03d2-4b41-a99e-41ff00aa7244",
   "metadata": {
    "tags": []
   },
   "outputs": [],
   "source": [
    "### Ihr Source Code\n",
    "# Teil 1\n",
    "# Variable hessen anlegen und befüllen\n",
    "hessen <- 6.266"
   ]
  },
  {
   "cell_type": "code",
   "execution_count": null,
   "id": "b3c07460-8c01-4bcc-82fb-2fc447d71297",
   "metadata": {
    "tags": []
   },
   "outputs": [],
   "source": [
    "# Teil 2\n",
    "# Variable deutschland anlegen und befüllen\n",
    "deutschland <- 83.2"
   ]
  },
  {
   "cell_type": "code",
   "execution_count": null,
   "id": "5fb5c18e-601b-4899-9893-87149bcf7bbc",
   "metadata": {
    "tags": []
   },
   "outputs": [],
   "source": [
    "# Teil 3\n",
    "# Anteil hessen berechnen (in %)\n",
    "ant_hessen <- hessen / deutschland *100"
   ]
  },
  {
   "cell_type": "code",
   "execution_count": null,
   "id": "50c6f3de-8206-47f3-acc8-154d0b3bef1a",
   "metadata": {
    "tags": []
   },
   "outputs": [],
   "source": [
    "# Teil 4\n",
    "#Ergebnis ausgeben\n",
    "ant_hessen"
   ]
  },
  {
   "cell_type": "markdown",
   "id": "7d3c51ea-4e50-4019-bd1b-f434b9393ec8",
   "metadata": {},
   "source": [
    "## Übung 1.2 Weiter Funktionen\n",
    "\n",
    "![Übungsaufgabe](../Pics/excercise.png \"Übungsaufgabe\")\n",
    "\n",
    "1. Erzeugen Sie eine Sequenz von 0 bis 100 in 5-er Schritten.\n",
    "2. Berechnen Sie den Mittelwert des Vektors [1, 3, 4, 7, 11, 2].\n",
    "3. Lassen Sie sich die Spannweite $x_{max} - x_{min}$ dieses Vektors ausgeben.\n",
    "4. Berechnen Sie die Summe dieses Vektors.\n",
    "5. Generieren Sie einen Vektor, der aus 100 Wiederholungen der Zahl 3 besteht."
   ]
  },
  {
   "cell_type": "markdown",
   "id": "ede4079f-b782-48e4-a0c4-52217afb605f",
   "metadata": {},
   "source": [
    "<div class=\"alert alert-block alert-success\">\n",
    "<b>Lösungsansatz:</b></div>"
   ]
  },
  {
   "cell_type": "code",
   "execution_count": null,
   "id": "098fe681-ffeb-49e0-8490-70dab7509006",
   "metadata": {},
   "outputs": [],
   "source": [
    "### Ihr Source Code\n",
    "# Teil 1\n",
    "seq(from = 0, to = 100, by = 5)"
   ]
  },
  {
   "cell_type": "code",
   "execution_count": null,
   "id": "d8304991-1afd-46b5-93d9-621500564e71",
   "metadata": {},
   "outputs": [],
   "source": [
    "# Teil 2\n",
    "zahlen <- c(1, 3, 4, 7, 11, 2)\n",
    "mean(zahlen)"
   ]
  },
  {
   "cell_type": "code",
   "execution_count": null,
   "id": "e6740a6e-5d6f-4f43-8553-b053a7a4bbb9",
   "metadata": {},
   "outputs": [],
   "source": [
    "# Teil 3\n",
    "spannweite <- max(zahlen) - min(zahlen)\n",
    "spannweite"
   ]
  },
  {
   "cell_type": "code",
   "execution_count": null,
   "id": "b026005d-3e85-4c4c-9863-d562837a499d",
   "metadata": {},
   "outputs": [],
   "source": [
    "# Teil 4\n",
    "sum(zahlen)"
   ]
  },
  {
   "cell_type": "code",
   "execution_count": null,
   "id": "5bd331eb-53fc-4523-b4b9-d66c88849dba",
   "metadata": {},
   "outputs": [],
   "source": [
    "# Teil 5\n",
    "hundert_mal_drei <- rep(3, times= 100)\n",
    "hundert_mal_drei"
   ]
  },
  {
   "cell_type": "markdown",
   "id": "52d7b883-f98c-4c79-b845-c3327145dd9c",
   "metadata": {},
   "source": [
    "## Übung 1.3: Arbeiten mit Data Frames\n",
    "\n",
    "![Übungsaufgabe](../Pics/excercise.png \"Übungsaufgabe\")\n",
    "\n",
    "Folgende kleine Aufgaben an Sie:\n",
    "\n",
    "1. Erstellen Sie einen Vektor `meine_Zahlen` mit den Zahlen 20 runter bis zur 1 (Reihenfolge beachten.\n",
    "2. Erstellen Sie einen zweiten Vektor (`meine_Buchstaben`), der die Buchstaben A, B, C und D enthält. Der Vektor soll auch insgesamt 20 Elemente enthalten. Die Anzahl der einzelnen Buchstaben ist dabei egal.\n",
    "3. Wandeln Sie den Vektor `meine_Buchstaben` in einen Vektor vom Typ Factor um. Folgende Übersetzung:\n",
    "    * A -> grün\n",
    "    * B -> gelb\n",
    "    * C -> rot\n",
    "    * D -> blau\n",
    "4. Zählen die Ausprägungen der einzelnen Farben (Faktoren) einmal tabellarisch zusammen.\n",
    "5. Erstellen Sie aus den Vektoren `meine_Zahlen` und dem foktorisierten Vektor `meine_Buchstaben` einen Data Frame mit dem Namen `mein.df`."
   ]
  },
  {
   "cell_type": "markdown",
   "id": "502d52b2-da24-431c-b99c-21f9b2b994a8",
   "metadata": {},
   "source": [
    "<div class=\"alert alert-block alert-success\">\n",
    "<b>Lösungsansatz:</b></div>"
   ]
  },
  {
   "cell_type": "code",
   "execution_count": null,
   "id": "903650ec-4b05-4587-b4d3-1b032cc8bacc",
   "metadata": {},
   "outputs": [],
   "source": [
    "### Ihr Source Code\n",
    "\n",
    "# Teil 1\n",
    "meine_Zahlen <- c(20:1)\n",
    "meine_Zahlen"
   ]
  },
  {
   "cell_type": "code",
   "execution_count": null,
   "id": "53b3335b-714c-4593-8ee0-59039d7d70ce",
   "metadata": {},
   "outputs": [],
   "source": [
    "# Teil 2\n",
    "meine_Buchstaben <- c(\"A\", \"B\", \"C\", \"D\", \"A\", \"A\", \"C\", \"D\", \"A\", \"C\", \n",
    "                      \"C\", \"D\", \"A\", \"A\", \"C\", \"D\", \"D\", \"B\", \"C\", \"D\")\n",
    "meine_Buchstaben"
   ]
  },
  {
   "cell_type": "code",
   "execution_count": null,
   "id": "0430a903-b69e-4e6e-bf7f-225b860c59d5",
   "metadata": {},
   "outputs": [],
   "source": [
    "# Teil 3\n",
    "meine_Buchstaben.factor <- factor(meine_Buchstaben, \n",
    "                                  labels=c(\"grün\", \"gelb\", \"rot\", \"blau\"))\n",
    "meine_Buchstaben.factor\n",
    "str(meine_Buchstaben.factor)"
   ]
  },
  {
   "cell_type": "code",
   "execution_count": null,
   "id": "9fc643c7-d6d9-45b7-9888-4b72776df770",
   "metadata": {},
   "outputs": [],
   "source": [
    "# Teil 4\n",
    "my_parts <- split(x = meine_Buchstaben, f = meine_Buchstaben.factor)\n",
    "lengths(my_parts)"
   ]
  },
  {
   "cell_type": "code",
   "execution_count": null,
   "id": "6567612c-4e21-4011-aa90-c7d9f1cf20f6",
   "metadata": {},
   "outputs": [],
   "source": [
    "# Teil 5\n",
    "mein.df <- data.frame(meine_Zahlen,\n",
    "                      meine_Buchstaben.factor)\n",
    "mein.df\n",
    "str(mein.df)\n",
    "dim(mein.df)"
   ]
  }
 ],
 "metadata": {
  "authors": [
   {
    "name": "Prof. Dr. Denis Royer"
   }
  ],
  "kernelspec": {
   "display_name": "R",
   "language": "R",
   "name": "ir"
  },
  "language_info": {
   "codemirror_mode": "r",
   "file_extension": ".r",
   "mimetype": "text/x-r-source",
   "name": "R",
   "pygments_lexer": "r",
   "version": "3.6.3"
  },
  "toc-autonumbering": true
 },
 "nbformat": 4,
 "nbformat_minor": 5
}

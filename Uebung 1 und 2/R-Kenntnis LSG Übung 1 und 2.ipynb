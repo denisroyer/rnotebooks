{
 "cells": [
  {
   "cell_type": "markdown",
   "id": "2cccbb8d-7535-4683-a6a9-884885cf6f0e",
   "metadata": {},
   "source": [
    "![Übungsaufgabe](../Pics/excercise.png \"Übungsaufgabe\")\n",
    "# BI - R-Kenntnis Lösung zu den Übungen 01 & 02: Basis Datenstrukturen in R"
   ]
  },
  {
   "cell_type": "markdown",
   "id": "2860d184-bd7b-43f7-aca6-1795b2797762",
   "metadata": {},
   "source": [
    "## Übung 1.1 - Arbeiten mit Variablen\n",
    "\n",
    "1. Schätzen Sie die Einwohner Hessens und speichern Sie Ihre Schätzung in eine neue Variable namens`hessen`.\n",
    "2. Schätzen Sie die Einwohner Deutschlands und speichern Sie Ihre Schätzung in die Variable `deutschland`.\n",
    "3. Berechnen Sie eine neue Variable `ant_hessen`, die den Anteil der Einwohner Hessens an Gesamt-Deutschland enthält (in %).\n",
    "4. Geben sie dem Inhalt der Variable `ant_hessen` aus."
   ]
  },
  {
   "cell_type": "code",
   "execution_count": null,
   "id": "026f9557-03d2-4b41-a99e-41ff00aa7244",
   "metadata": {
    "tags": []
   },
   "outputs": [],
   "source": [
    "### Ihr Source Code\n",
    "# Teil 1\n",
    "# Variable hessen anlegen und befüllen\n",
    "hessen <- 6.266"
   ]
  },
  {
   "cell_type": "code",
   "execution_count": null,
   "id": "e45053f7-816e-46a3-ab1b-afaf11d5007a",
   "metadata": {
    "tags": []
   },
   "outputs": [],
   "source": [
    "# Teil 2\n",
    "# Variable deutschland anlegen und befüllen\n",
    "deutschland <- 83.2\n",
    "# Teil\n",
    "# Anteil hessen berechnen (in %)\n",
    "ant_hessen <- hessen / deutschland *100\n",
    "#Ergebnis ausgeben\n",
    "ant_hessen"
   ]
  },
  {
   "cell_type": "markdown",
   "id": "7d3c51ea-4e50-4019-bd1b-f434b9393ec8",
   "metadata": {},
   "source": [
    "## Übung 1.2 Weiter Funktionen\n",
    "\n",
    "1. Erzeugen Sie eine Sequenz von 0 bis 100 in 5-er Schritten.\n",
    "2. Berechnen Sie den Mittelwert des Vektors [1, 3, 4, 7, 11, 2].\n",
    "3. Lassen Sie sich die Spannweite $x_{max} - x_{min}$ dieses Vektors ausgeben.\n",
    "4. Berechnen Sie die Summe dieses Vektors.\n",
    "5. Generieren Sie einen Vektor, der aus 100 Wiederholungen der Zahl 3 besteht."
   ]
  },
  {
   "cell_type": "code",
   "execution_count": 11,
   "id": "098fe681-ffeb-49e0-8490-70dab7509006",
   "metadata": {},
   "outputs": [],
   "source": [
    "### Ihr Source Code\n",
    "# Teil 1\n",
    "seq(from = 0, to = 100, by = 5)"
   ]
  },
  {
   "cell_type": "code",
   "execution_count": 14,
   "id": "d8304991-1afd-46b5-93d9-621500564e71",
   "metadata": {},
   "outputs": [],
   "source": [
    "#Teil 2\n",
    "zahlen <- c(1, 3, 4, 7, 11, 2)\n",
    "mean(zahlen)"
   ]
  },
  {
   "cell_type": "code",
   "execution_count": 17,
   "id": "e6740a6e-5d6f-4f43-8553-b053a7a4bbb9",
   "metadata": {},
   "outputs": [],
   "source": [
    "# Teil 3\n",
    "spannweite <- max(zahlen) - min(zahlen)\n",
    "spannweite"
   ]
  },
  {
   "cell_type": "code",
   "execution_count": 19,
   "id": "5bd331eb-53fc-4523-b4b9-d66c88849dba",
   "metadata": {},
   "outputs": [
    {
     "data": {
      "text/html": [
       "<style>\n",
       ".list-inline {list-style: none; margin:0; padding: 0}\n",
       ".list-inline>li {display: inline-block}\n",
       ".list-inline>li:not(:last-child)::after {content: \"\\00b7\"; padding: 0 .5ex}\n",
       "</style>\n",
       "<ol class=list-inline><li>3</li><li>3</li><li>3</li><li>3</li><li>3</li><li>3</li><li>3</li><li>3</li><li>3</li><li>3</li><li>3</li><li>3</li><li>3</li><li>3</li><li>3</li><li>3</li><li>3</li><li>3</li><li>3</li><li>3</li><li>3</li><li>3</li><li>3</li><li>3</li><li>3</li><li>3</li><li>3</li><li>3</li><li>3</li><li>3</li><li>3</li><li>3</li><li>3</li><li>3</li><li>3</li><li>3</li><li>3</li><li>3</li><li>3</li><li>3</li><li>3</li><li>3</li><li>3</li><li>3</li><li>3</li><li>3</li><li>3</li><li>3</li><li>3</li><li>3</li><li>3</li><li>3</li><li>3</li><li>3</li><li>3</li><li>3</li><li>3</li><li>3</li><li>3</li><li>3</li><li>3</li><li>3</li><li>3</li><li>3</li><li>3</li><li>3</li><li>3</li><li>3</li><li>3</li><li>3</li><li>3</li><li>3</li><li>3</li><li>3</li><li>3</li><li>3</li><li>3</li><li>3</li><li>3</li><li>3</li><li>3</li><li>3</li><li>3</li><li>3</li><li>3</li><li>3</li><li>3</li><li>3</li><li>3</li><li>3</li><li>3</li><li>3</li><li>3</li><li>3</li><li>3</li><li>3</li><li>3</li><li>3</li><li>3</li><li>3</li></ol>\n"
      ],
      "text/latex": [
       "\\begin{enumerate*}\n",
       "\\item 3\n",
       "\\item 3\n",
       "\\item 3\n",
       "\\item 3\n",
       "\\item 3\n",
       "\\item 3\n",
       "\\item 3\n",
       "\\item 3\n",
       "\\item 3\n",
       "\\item 3\n",
       "\\item 3\n",
       "\\item 3\n",
       "\\item 3\n",
       "\\item 3\n",
       "\\item 3\n",
       "\\item 3\n",
       "\\item 3\n",
       "\\item 3\n",
       "\\item 3\n",
       "\\item 3\n",
       "\\item 3\n",
       "\\item 3\n",
       "\\item 3\n",
       "\\item 3\n",
       "\\item 3\n",
       "\\item 3\n",
       "\\item 3\n",
       "\\item 3\n",
       "\\item 3\n",
       "\\item 3\n",
       "\\item 3\n",
       "\\item 3\n",
       "\\item 3\n",
       "\\item 3\n",
       "\\item 3\n",
       "\\item 3\n",
       "\\item 3\n",
       "\\item 3\n",
       "\\item 3\n",
       "\\item 3\n",
       "\\item 3\n",
       "\\item 3\n",
       "\\item 3\n",
       "\\item 3\n",
       "\\item 3\n",
       "\\item 3\n",
       "\\item 3\n",
       "\\item 3\n",
       "\\item 3\n",
       "\\item 3\n",
       "\\item 3\n",
       "\\item 3\n",
       "\\item 3\n",
       "\\item 3\n",
       "\\item 3\n",
       "\\item 3\n",
       "\\item 3\n",
       "\\item 3\n",
       "\\item 3\n",
       "\\item 3\n",
       "\\item 3\n",
       "\\item 3\n",
       "\\item 3\n",
       "\\item 3\n",
       "\\item 3\n",
       "\\item 3\n",
       "\\item 3\n",
       "\\item 3\n",
       "\\item 3\n",
       "\\item 3\n",
       "\\item 3\n",
       "\\item 3\n",
       "\\item 3\n",
       "\\item 3\n",
       "\\item 3\n",
       "\\item 3\n",
       "\\item 3\n",
       "\\item 3\n",
       "\\item 3\n",
       "\\item 3\n",
       "\\item 3\n",
       "\\item 3\n",
       "\\item 3\n",
       "\\item 3\n",
       "\\item 3\n",
       "\\item 3\n",
       "\\item 3\n",
       "\\item 3\n",
       "\\item 3\n",
       "\\item 3\n",
       "\\item 3\n",
       "\\item 3\n",
       "\\item 3\n",
       "\\item 3\n",
       "\\item 3\n",
       "\\item 3\n",
       "\\item 3\n",
       "\\item 3\n",
       "\\item 3\n",
       "\\item 3\n",
       "\\end{enumerate*}\n"
      ],
      "text/markdown": [
       "1. 3\n",
       "2. 3\n",
       "3. 3\n",
       "4. 3\n",
       "5. 3\n",
       "6. 3\n",
       "7. 3\n",
       "8. 3\n",
       "9. 3\n",
       "10. 3\n",
       "11. 3\n",
       "12. 3\n",
       "13. 3\n",
       "14. 3\n",
       "15. 3\n",
       "16. 3\n",
       "17. 3\n",
       "18. 3\n",
       "19. 3\n",
       "20. 3\n",
       "21. 3\n",
       "22. 3\n",
       "23. 3\n",
       "24. 3\n",
       "25. 3\n",
       "26. 3\n",
       "27. 3\n",
       "28. 3\n",
       "29. 3\n",
       "30. 3\n",
       "31. 3\n",
       "32. 3\n",
       "33. 3\n",
       "34. 3\n",
       "35. 3\n",
       "36. 3\n",
       "37. 3\n",
       "38. 3\n",
       "39. 3\n",
       "40. 3\n",
       "41. 3\n",
       "42. 3\n",
       "43. 3\n",
       "44. 3\n",
       "45. 3\n",
       "46. 3\n",
       "47. 3\n",
       "48. 3\n",
       "49. 3\n",
       "50. 3\n",
       "51. 3\n",
       "52. 3\n",
       "53. 3\n",
       "54. 3\n",
       "55. 3\n",
       "56. 3\n",
       "57. 3\n",
       "58. 3\n",
       "59. 3\n",
       "60. 3\n",
       "61. 3\n",
       "62. 3\n",
       "63. 3\n",
       "64. 3\n",
       "65. 3\n",
       "66. 3\n",
       "67. 3\n",
       "68. 3\n",
       "69. 3\n",
       "70. 3\n",
       "71. 3\n",
       "72. 3\n",
       "73. 3\n",
       "74. 3\n",
       "75. 3\n",
       "76. 3\n",
       "77. 3\n",
       "78. 3\n",
       "79. 3\n",
       "80. 3\n",
       "81. 3\n",
       "82. 3\n",
       "83. 3\n",
       "84. 3\n",
       "85. 3\n",
       "86. 3\n",
       "87. 3\n",
       "88. 3\n",
       "89. 3\n",
       "90. 3\n",
       "91. 3\n",
       "92. 3\n",
       "93. 3\n",
       "94. 3\n",
       "95. 3\n",
       "96. 3\n",
       "97. 3\n",
       "98. 3\n",
       "99. 3\n",
       "100. 3\n",
       "\n",
       "\n"
      ],
      "text/plain": [
       "  [1] 3 3 3 3 3 3 3 3 3 3 3 3 3 3 3 3 3 3 3 3 3 3 3 3 3 3 3 3 3 3 3 3 3 3 3 3 3\n",
       " [38] 3 3 3 3 3 3 3 3 3 3 3 3 3 3 3 3 3 3 3 3 3 3 3 3 3 3 3 3 3 3 3 3 3 3 3 3 3\n",
       " [75] 3 3 3 3 3 3 3 3 3 3 3 3 3 3 3 3 3 3 3 3 3 3 3 3 3 3"
      ]
     },
     "metadata": {},
     "output_type": "display_data"
    }
   ],
   "source": [
    "hundert_mal_drei <- rep(3, times= 100)\n",
    "hundert_mal_drei"
   ]
  },
  {
   "cell_type": "code",
   "execution_count": 18,
   "id": "b026005d-3e85-4c4c-9863-d562837a499d",
   "metadata": {},
   "outputs": [
    {
     "data": {
      "text/html": [
       "28"
      ],
      "text/latex": [
       "28"
      ],
      "text/markdown": [
       "28"
      ],
      "text/plain": [
       "[1] 28"
      ]
     },
     "metadata": {},
     "output_type": "display_data"
    }
   ],
   "source": [
    "sum(zahlen)"
   ]
  },
  {
   "cell_type": "markdown",
   "id": "52d7b883-f98c-4c79-b845-c3327145dd9c",
   "metadata": {},
   "source": [
    "## Übung 1.3: Arbeiten mit Data Frames\n",
    "\n",
    "Folgende kleine Aufgaben an Sie:\n",
    "\n",
    "1. Erstellen Sie einen Vektor `meine_Zahlen` mit den Zahlen 20 runter bis zur 1 (Reihenfolge beachten.\n",
    "2. Erstellen Sie einen zweiten Vektor (`meine_Buchstaben`), der die Buchstaben A, B, C und D enthält. Der Vektor soll auch insgesamt 20 Elemente enthalten. Die Anzahl der einzelnen Buchstaben ist dabei egal.\n",
    "3. wandeln Sie den Vektor `meine_Buchstaben` in einen Vektor vom Typ Factor um. Folgende Übersetzung:\n",
    "    * A -> grün\n",
    "    * B -> gelb\n",
    "    * C -> rot\n",
    "    * D -> blau\n",
    "4. Zählen die Ausprägungen der einzelnen Farben (Faktoren) einmal tabellarisch zusammen.\n",
    "5. Erstellen Sie aus den Vektoren `meine_Zahlen` und dem foktorisierten Vektor `meine_Buchstaben` einen Data Frame mit dem Namen `mein.df`."
   ]
  },
  {
   "cell_type": "code",
   "execution_count": 7,
   "id": "903650ec-4b05-4587-b4d3-1b032cc8bacc",
   "metadata": {},
   "outputs": [
    {
     "data": {
      "text/html": [
       "<style>\n",
       ".list-inline {list-style: none; margin:0; padding: 0}\n",
       ".list-inline>li {display: inline-block}\n",
       ".list-inline>li:not(:last-child)::after {content: \"\\00b7\"; padding: 0 .5ex}\n",
       "</style>\n",
       "<ol class=list-inline><li>20</li><li>19</li><li>18</li><li>17</li><li>16</li><li>15</li><li>14</li><li>13</li><li>12</li><li>11</li><li>10</li><li>9</li><li>8</li><li>7</li><li>6</li><li>5</li><li>4</li><li>3</li><li>2</li><li>1</li></ol>\n"
      ],
      "text/latex": [
       "\\begin{enumerate*}\n",
       "\\item 20\n",
       "\\item 19\n",
       "\\item 18\n",
       "\\item 17\n",
       "\\item 16\n",
       "\\item 15\n",
       "\\item 14\n",
       "\\item 13\n",
       "\\item 12\n",
       "\\item 11\n",
       "\\item 10\n",
       "\\item 9\n",
       "\\item 8\n",
       "\\item 7\n",
       "\\item 6\n",
       "\\item 5\n",
       "\\item 4\n",
       "\\item 3\n",
       "\\item 2\n",
       "\\item 1\n",
       "\\end{enumerate*}\n"
      ],
      "text/markdown": [
       "1. 20\n",
       "2. 19\n",
       "3. 18\n",
       "4. 17\n",
       "5. 16\n",
       "6. 15\n",
       "7. 14\n",
       "8. 13\n",
       "9. 12\n",
       "10. 11\n",
       "11. 10\n",
       "12. 9\n",
       "13. 8\n",
       "14. 7\n",
       "15. 6\n",
       "16. 5\n",
       "17. 4\n",
       "18. 3\n",
       "19. 2\n",
       "20. 1\n",
       "\n",
       "\n"
      ],
      "text/plain": [
       " [1] 20 19 18 17 16 15 14 13 12 11 10  9  8  7  6  5  4  3  2  1"
      ]
     },
     "metadata": {},
     "output_type": "display_data"
    }
   ],
   "source": [
    "### Ihr Source Code\n",
    "\n",
    "# Teil 1\n",
    "meine_Zahlen <- c(20:1)\n",
    "meine_Zahlen"
   ]
  },
  {
   "cell_type": "code",
   "execution_count": 8,
   "id": "53b3335b-714c-4593-8ee0-59039d7d70ce",
   "metadata": {},
   "outputs": [
    {
     "data": {
      "text/html": [
       "<style>\n",
       ".list-inline {list-style: none; margin:0; padding: 0}\n",
       ".list-inline>li {display: inline-block}\n",
       ".list-inline>li:not(:last-child)::after {content: \"\\00b7\"; padding: 0 .5ex}\n",
       "</style>\n",
       "<ol class=list-inline><li>'A'</li><li>'B'</li><li>'C'</li><li>'D'</li><li>'A'</li><li>'A'</li><li>'C'</li><li>'D'</li><li>'A'</li><li>'C'</li><li>'C'</li><li>'D'</li><li>'A'</li><li>'A'</li><li>'C'</li><li>'D'</li><li>'D'</li><li>'B'</li><li>'C'</li><li>'D'</li></ol>\n"
      ],
      "text/latex": [
       "\\begin{enumerate*}\n",
       "\\item 'A'\n",
       "\\item 'B'\n",
       "\\item 'C'\n",
       "\\item 'D'\n",
       "\\item 'A'\n",
       "\\item 'A'\n",
       "\\item 'C'\n",
       "\\item 'D'\n",
       "\\item 'A'\n",
       "\\item 'C'\n",
       "\\item 'C'\n",
       "\\item 'D'\n",
       "\\item 'A'\n",
       "\\item 'A'\n",
       "\\item 'C'\n",
       "\\item 'D'\n",
       "\\item 'D'\n",
       "\\item 'B'\n",
       "\\item 'C'\n",
       "\\item 'D'\n",
       "\\end{enumerate*}\n"
      ],
      "text/markdown": [
       "1. 'A'\n",
       "2. 'B'\n",
       "3. 'C'\n",
       "4. 'D'\n",
       "5. 'A'\n",
       "6. 'A'\n",
       "7. 'C'\n",
       "8. 'D'\n",
       "9. 'A'\n",
       "10. 'C'\n",
       "11. 'C'\n",
       "12. 'D'\n",
       "13. 'A'\n",
       "14. 'A'\n",
       "15. 'C'\n",
       "16. 'D'\n",
       "17. 'D'\n",
       "18. 'B'\n",
       "19. 'C'\n",
       "20. 'D'\n",
       "\n",
       "\n"
      ],
      "text/plain": [
       " [1] \"A\" \"B\" \"C\" \"D\" \"A\" \"A\" \"C\" \"D\" \"A\" \"C\" \"C\" \"D\" \"A\" \"A\" \"C\" \"D\" \"D\" \"B\" \"C\"\n",
       "[20] \"D\""
      ]
     },
     "metadata": {},
     "output_type": "display_data"
    }
   ],
   "source": [
    "# Teil 2\n",
    "meine_Buchstaben <- c(\"A\",\"B\",\"C\",\"D\",\"A\",\"A\",\"C\",\"D\",\"A\",\"C\",\"C\",\"D\",\"A\",\"A\",\"C\",\"D\",\"D\",\"B\",\"C\",\"D\")\n",
    "meine_Buchstaben"
   ]
  },
  {
   "cell_type": "code",
   "execution_count": 6,
   "id": "0430a903-b69e-4e6e-bf7f-225b860c59d5",
   "metadata": {},
   "outputs": [],
   "source": [
    "# Teil 3\n",
    "meine_Buchstaben.factor <- factor(meine_Buchstaben, labels=c(\"grün\", \"gelb\", \"rot\", \"blau\"))\n",
    "meine_Buchstaben.factor\n",
    "str(meine_Buchstaben.factor)"
   ]
  },
  {
   "cell_type": "code",
   "execution_count": 9,
   "id": "9fc643c7-d6d9-45b7-9888-4b72776df770",
   "metadata": {},
   "outputs": [
    {
     "data": {
      "text/html": [
       "<style>\n",
       ".dl-inline {width: auto; margin:0; padding: 0}\n",
       ".dl-inline>dt, .dl-inline>dd {float: none; width: auto; display: inline-block}\n",
       ".dl-inline>dt::after {content: \":\\0020\"; padding-right: .5ex}\n",
       ".dl-inline>dt:not(:first-of-type) {padding-left: .5ex}\n",
       "</style><dl class=dl-inline><dt>grün</dt><dd>6</dd><dt>gelb</dt><dd>2</dd><dt>rot</dt><dd>6</dd><dt>blau</dt><dd>6</dd></dl>\n"
      ],
      "text/latex": [
       "\\begin{description*}\n",
       "\\item[grün] 6\n",
       "\\item[gelb] 2\n",
       "\\item[rot] 6\n",
       "\\item[blau] 6\n",
       "\\end{description*}\n"
      ],
      "text/markdown": [
       "grün\n",
       ":   6gelb\n",
       ":   2rot\n",
       ":   6blau\n",
       ":   6\n",
       "\n"
      ],
      "text/plain": [
       "grün gelb  rot blau \n",
       "   6    2    6    6 "
      ]
     },
     "metadata": {},
     "output_type": "display_data"
    }
   ],
   "source": [
    "# Teil 4\n",
    "my_parts <- split(x = meine_Buchstaben, f = meine_Buchstaben.factor)\n",
    "lengths(my_parts)"
   ]
  },
  {
   "cell_type": "code",
   "execution_count": 10,
   "id": "6567612c-4e21-4011-aa90-c7d9f1cf20f6",
   "metadata": {},
   "outputs": [
    {
     "data": {
      "text/html": [
       "<table class=\"dataframe\">\n",
       "<caption>A data.frame: 20 × 2</caption>\n",
       "<thead>\n",
       "\t<tr><th scope=col>meine_Zahlen</th><th scope=col>meine_Buchstaben.factor</th></tr>\n",
       "\t<tr><th scope=col>&lt;int&gt;</th><th scope=col>&lt;fct&gt;</th></tr>\n",
       "</thead>\n",
       "<tbody>\n",
       "\t<tr><td>20</td><td>grün</td></tr>\n",
       "\t<tr><td>19</td><td>gelb</td></tr>\n",
       "\t<tr><td>18</td><td>rot </td></tr>\n",
       "\t<tr><td>17</td><td>blau</td></tr>\n",
       "\t<tr><td>16</td><td>grün</td></tr>\n",
       "\t<tr><td>15</td><td>grün</td></tr>\n",
       "\t<tr><td>14</td><td>rot </td></tr>\n",
       "\t<tr><td>13</td><td>blau</td></tr>\n",
       "\t<tr><td>12</td><td>grün</td></tr>\n",
       "\t<tr><td>11</td><td>rot </td></tr>\n",
       "\t<tr><td>10</td><td>rot </td></tr>\n",
       "\t<tr><td> 9</td><td>blau</td></tr>\n",
       "\t<tr><td> 8</td><td>grün</td></tr>\n",
       "\t<tr><td> 7</td><td>grün</td></tr>\n",
       "\t<tr><td> 6</td><td>rot </td></tr>\n",
       "\t<tr><td> 5</td><td>blau</td></tr>\n",
       "\t<tr><td> 4</td><td>blau</td></tr>\n",
       "\t<tr><td> 3</td><td>gelb</td></tr>\n",
       "\t<tr><td> 2</td><td>rot </td></tr>\n",
       "\t<tr><td> 1</td><td>blau</td></tr>\n",
       "</tbody>\n",
       "</table>\n"
      ],
      "text/latex": [
       "A data.frame: 20 × 2\n",
       "\\begin{tabular}{ll}\n",
       " meine\\_Zahlen & meine\\_Buchstaben.factor\\\\\n",
       " <int> & <fct>\\\\\n",
       "\\hline\n",
       "\t 20 & grün\\\\\n",
       "\t 19 & gelb\\\\\n",
       "\t 18 & rot \\\\\n",
       "\t 17 & blau\\\\\n",
       "\t 16 & grün\\\\\n",
       "\t 15 & grün\\\\\n",
       "\t 14 & rot \\\\\n",
       "\t 13 & blau\\\\\n",
       "\t 12 & grün\\\\\n",
       "\t 11 & rot \\\\\n",
       "\t 10 & rot \\\\\n",
       "\t  9 & blau\\\\\n",
       "\t  8 & grün\\\\\n",
       "\t  7 & grün\\\\\n",
       "\t  6 & rot \\\\\n",
       "\t  5 & blau\\\\\n",
       "\t  4 & blau\\\\\n",
       "\t  3 & gelb\\\\\n",
       "\t  2 & rot \\\\\n",
       "\t  1 & blau\\\\\n",
       "\\end{tabular}\n"
      ],
      "text/markdown": [
       "\n",
       "A data.frame: 20 × 2\n",
       "\n",
       "| meine_Zahlen &lt;int&gt; | meine_Buchstaben.factor &lt;fct&gt; |\n",
       "|---|---|\n",
       "| 20 | grün |\n",
       "| 19 | gelb |\n",
       "| 18 | rot  |\n",
       "| 17 | blau |\n",
       "| 16 | grün |\n",
       "| 15 | grün |\n",
       "| 14 | rot  |\n",
       "| 13 | blau |\n",
       "| 12 | grün |\n",
       "| 11 | rot  |\n",
       "| 10 | rot  |\n",
       "|  9 | blau |\n",
       "|  8 | grün |\n",
       "|  7 | grün |\n",
       "|  6 | rot  |\n",
       "|  5 | blau |\n",
       "|  4 | blau |\n",
       "|  3 | gelb |\n",
       "|  2 | rot  |\n",
       "|  1 | blau |\n",
       "\n"
      ],
      "text/plain": [
       "   meine_Zahlen meine_Buchstaben.factor\n",
       "1  20           grün                   \n",
       "2  19           gelb                   \n",
       "3  18           rot                    \n",
       "4  17           blau                   \n",
       "5  16           grün                   \n",
       "6  15           grün                   \n",
       "7  14           rot                    \n",
       "8  13           blau                   \n",
       "9  12           grün                   \n",
       "10 11           rot                    \n",
       "11 10           rot                    \n",
       "12  9           blau                   \n",
       "13  8           grün                   \n",
       "14  7           grün                   \n",
       "15  6           rot                    \n",
       "16  5           blau                   \n",
       "17  4           blau                   \n",
       "18  3           gelb                   \n",
       "19  2           rot                    \n",
       "20  1           blau                   "
      ]
     },
     "metadata": {},
     "output_type": "display_data"
    },
    {
     "name": "stdout",
     "output_type": "stream",
     "text": [
      "'data.frame':\t20 obs. of  2 variables:\n",
      " $ meine_Zahlen           : int  20 19 18 17 16 15 14 13 12 11 ...\n",
      " $ meine_Buchstaben.factor: Factor w/ 4 levels \"grün\",\"gelb\",..: 1 2 3 4 1 1 3 4 1 3 ...\n"
     ]
    },
    {
     "data": {
      "text/html": [
       "<style>\n",
       ".list-inline {list-style: none; margin:0; padding: 0}\n",
       ".list-inline>li {display: inline-block}\n",
       ".list-inline>li:not(:last-child)::after {content: \"\\00b7\"; padding: 0 .5ex}\n",
       "</style>\n",
       "<ol class=list-inline><li>20</li><li>2</li></ol>\n"
      ],
      "text/latex": [
       "\\begin{enumerate*}\n",
       "\\item 20\n",
       "\\item 2\n",
       "\\end{enumerate*}\n"
      ],
      "text/markdown": [
       "1. 20\n",
       "2. 2\n",
       "\n",
       "\n"
      ],
      "text/plain": [
       "[1] 20  2"
      ]
     },
     "metadata": {},
     "output_type": "display_data"
    }
   ],
   "source": [
    "# Teil 5\n",
    "mein.df <- data.frame(meine_Zahlen,meine_Buchstaben.factor)\n",
    "mein.df\n",
    "str(mein.df)\n",
    "dim(mein.df)"
   ]
  }
 ],
 "metadata": {
  "kernelspec": {
   "display_name": "R",
   "language": "R",
   "name": "ir"
  },
  "language_info": {
   "codemirror_mode": "r",
   "file_extension": ".r",
   "mimetype": "text/x-r-source",
   "name": "R",
   "pygments_lexer": "r",
   "version": "3.6.3"
  },
  "toc-autonumbering": true
 },
 "nbformat": 4,
 "nbformat_minor": 5
}

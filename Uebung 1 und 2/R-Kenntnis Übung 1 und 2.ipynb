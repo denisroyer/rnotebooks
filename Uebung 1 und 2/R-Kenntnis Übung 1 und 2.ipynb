{
 "cells": [
  {
   "cell_type": "markdown",
   "id": "b2a8469e-c1cd-45de-a8ef-ed5689a0ae66",
   "metadata": {
    "tags": []
   },
   "source": [
    "# BI - R-Kenntnis Übungen 01 & 02: Basis Datenstrukturen in R\n",
    "\n",
    "## Hinweise - Bitte lesen!\n",
    "Dieses Übungsblatt bezieht sich auf den R-Kurs ***R-Kenntnis*** zur Vorlesung Business Intelligence im Wintersemester 2021/2022.\n",
    "\n",
    "Bitte lesen Sie die folgenden Kapitel und die enthaltenen Hinweise ***sorgfältig*** durch. Die Aufgaben sind zum Teil in den Kapiteln enthalten.\n",
    "\n",
    "**WICHTIG:** *Die Schritte im Source Code bauen zum Teil aufeinander auf. Sollten Sie Ihre RStudio oder JupyterLab Session schließen oder neu starten, so müssen Sie ggf. den Code erneut ausführen, bzw. die Libraries neu laden.*\n",
    "\n",
    "## Quellen und weitere Materialien\n",
    "\n",
    "Bitte nutzen Sie für die Lösung die folgenden Hilfen/Quellen:<br>\n",
    "\n",
    "* ***Die bisherigen Vorlesungsunterlagen*** \n",
    "* ***Bücher zu R:***\n",
    "    * **Sebastian Sauer:** *\"Moderne Datenanalyse mit R: Daten einlesen, aufbereiten, visualisieren und modellieren\"*, Springer, DOI: <https://doi.org/10.1007/978-3-658-21587-3>, 2019.\n",
    "    * **Generelle Hilfe zu R:** <https://www.r-project.org/help.html>\n",
    "    * **R Cheat Sheets:** <https://www.rstudio.com/resources/cheatsheets/>\n",
    "* ***R Markdown:***\n",
    "    * <https://yihui.name/knitr/> \n",
    "    * <https://bookdown.org/yihui/rmarkdown/>.\n",
    "    \n"
   ]
  },
  {
   "cell_type": "markdown",
   "id": "3c8e4024-803a-4bf8-8f01-0ff05d6ce369",
   "metadata": {},
   "source": [
    "# Source Code zur Übung: Datenstrukturen in R"
   ]
  },
  {
   "cell_type": "markdown",
   "id": "8c313e06-6ada-4f0d-a181-6e8057c87913",
   "metadata": {},
   "source": [
    "## Mathematische Operationen mit R\n",
    "### R als Taschenrechner\n",
    "\n",
    "Als erste Anwendung können wir R als Taschenrechner benützen. Zuvor müssen wir uns aber noch ein wenig Vokabular aneignen, und dann ein bisschen Syntax lernen.\n",
    "\n",
    "Zum Basisvokabular gehören einige eingebaute Operatoren (sowohl arithmetische als auch logische).\n",
    "\n",
    "Die ersten fünf Operatoren sollten selbsterklärend sein:\n",
    "\n",
    "     +                Addition\n",
    "     -                Subtraktion\n",
    "     *                Multiplikation\n",
    "     /                Division\n",
    "     ^ oder **        Potenz\n",
    "     x %*% y          Matrixmultiplikation c(5, 3) %*% c(2, 4) == 22\n",
    "     x %% y           Modulo (x mod y) 5 %% 2 == 1\n",
    "     x %/% y          Ganzzahlige Teilung: 5 %/% 2 == 2\n",
    "\n",
    "* Die letzten drei Operatoren sind vielleicht nicht allen geläufig. `%*%` ist der Operator für die Matrixmultiplikation. Der einfachste Fall ist die Multiplikation zweier gleich langer Vektoren (eines Zeilen- und eines Spaltenvektors). Dabei werden die Elemente der beiden Vektoren elementweise miteinander multipliziert und anschliessend die Produkte aufsummiert. Ergebnis ist ein Skalar (eine einzelne Zahl bzw. ein Vektor mit nur einem Element bzw. eine Matrix mit nur einer Zeile und einer Spalte). \n",
    "* `%%` ist der Modulo Operator und gibt den Rest nach einer ganzzahligen Division an. So gibt z.B.`5 %% 2` (sprich 5 modulo 2) den Wert 1. \n",
    "* `%/%` gibt das Resultat der ganzzahligen Division, d.h. `5 %/% 2` gibt den Wert 2 (wie oft kann man 2 von 5 subtrahieren?). Diese Operatoren werden beim Programmieren oft gebracht.\n",
    "\n",
    "**Quelle:** https://methodenlehre.github.io/einfuehrung-in-R/die-r-sprache.html#operatoren-und-funktionen"
   ]
  },
  {
   "cell_type": "code",
   "execution_count": null,
   "id": "8a0b3ddb-c3e5-4716-b391-f9bf4b368139",
   "metadata": {},
   "outputs": [],
   "source": [
    "6 + 3.4"
   ]
  },
  {
   "cell_type": "code",
   "execution_count": null,
   "id": "96c08002-0149-438f-8ea9-3fc13169f685",
   "metadata": {},
   "outputs": [],
   "source": [
    "3^3"
   ]
  },
  {
   "cell_type": "code",
   "execution_count": null,
   "id": "d978e92c-a5ba-4346-9827-fe093bc4cf33",
   "metadata": {},
   "outputs": [],
   "source": [
    "22 * 15 + 6"
   ]
  },
  {
   "cell_type": "code",
   "execution_count": null,
   "id": "dec63c08-95e3-404e-8cb9-8f816aa59308",
   "metadata": {},
   "outputs": [],
   "source": [
    "22 * (15 + 6)"
   ]
  },
  {
   "cell_type": "code",
   "execution_count": null,
   "id": "a6a8bc82-8f72-4c6c-9b01-0adc0e6a07f2",
   "metadata": {},
   "outputs": [],
   "source": [
    "22 ^ 2 + 7"
   ]
  },
  {
   "cell_type": "code",
   "execution_count": null,
   "id": "c98aea75-29cc-4684-9bde-ed4d00eabaf1",
   "metadata": {},
   "outputs": [],
   "source": [
    "22 ^ (2 + 7)"
   ]
  },
  {
   "cell_type": "code",
   "execution_count": null,
   "id": "045373aa-bbb6-465b-84e7-ec337997d43a",
   "metadata": {},
   "outputs": [],
   "source": [
    "(2 * (17.2 + 5)) / 56"
   ]
  },
  {
   "cell_type": "markdown",
   "id": "6e448cb3-5a9f-42b1-a7f2-baa0577e3c01",
   "metadata": {},
   "source": [
    "### Logische Operationen \n",
    "\n",
    "Auch R unterstützt logische Operatoren - folgende können genutzt werden:\n",
    "\n",
    "* `==` gleich \n",
    "* `!=` ungleich\n",
    "* `<` kleiner als\n",
    "* `>` größer als\n",
    "* `<=` kleiner gleich \n",
    "* `>=` größer gleich\n",
    "* `&` logisches UND\n",
    "* `|` logisches ODER \n",
    "* `!` logisches NICHT\n",
    "\n",
    "Zur Verdeutlichung, ein paar Beispiele, wie die logischen Operatoren in Bezug auf die Mengen x und y auswirken:\n",
    "\n",
    "![Logische Operatoren](pics/transform-logical.png \"Logische Operatoren\")"
   ]
  },
  {
   "cell_type": "code",
   "execution_count": null,
   "id": "0d46fe2a-ee1f-4f9f-8904-54d647e5b396",
   "metadata": {},
   "outputs": [],
   "source": [
    "3 == 3"
   ]
  },
  {
   "cell_type": "code",
   "execution_count": null,
   "id": "460d33ee-c56a-4675-bb4c-d2bfa39700bd",
   "metadata": {},
   "outputs": [],
   "source": [
    "3 == 4"
   ]
  },
  {
   "cell_type": "code",
   "execution_count": null,
   "id": "2b84873f-65db-4116-b28b-2623e367b7dc",
   "metadata": {},
   "outputs": [],
   "source": [
    "3 != 4"
   ]
  },
  {
   "cell_type": "code",
   "execution_count": null,
   "id": "ff1936d0-6da6-4093-93df-2da0f6caf76b",
   "metadata": {},
   "outputs": [],
   "source": [
    "3 <= 4 & 3 == 3"
   ]
  },
  {
   "cell_type": "code",
   "execution_count": null,
   "id": "e307457e-4fd7-4c57-842d-f0a232226da6",
   "metadata": {},
   "outputs": [],
   "source": [
    "3 <= 4 | 3 == 4"
   ]
  },
  {
   "cell_type": "code",
   "execution_count": null,
   "id": "45e7bf90-a2ad-48e0-9c63-5d2ccaef9dde",
   "metadata": {},
   "outputs": [],
   "source": [
    "(3 <= 4 | 3 == 3) & 3 == 4"
   ]
  },
  {
   "cell_type": "markdown",
   "id": "6a1a34f8-ffbf-4ef0-a074-993987e1ce3c",
   "metadata": {},
   "source": [
    "### Erstellung von Variablen\n",
    "Bisher haben wir die Resultate unserer Berechnungen nicht gespeichert. Selbstverständlich können in R auch Variablen definiert werden, und diesen einen Wert zuweisen.\n",
    "\n",
    "Variablen werden in R so definiert: `my_var <- 4`. `<-` ist hier ein spezieller Zuweisungspfeil, und besteht aus einem < Zeichen und einem -. Es gibt in RStudio dafür eine Tastenkombination ALT *+* -. Hier weisen wir also der neuen Variablen `my_var` den Wert 4 zu."
   ]
  },
  {
   "cell_type": "code",
   "execution_count": null,
   "id": "d9e5525a-e0a6-41d2-87c3-e70d5ed5f081",
   "metadata": {},
   "outputs": [],
   "source": [
    "meine_variable = 12\n",
    "meine_variable2 <- 23\n",
    "\n",
    "meine_variable2 + meine_variable"
   ]
  },
  {
   "cell_type": "markdown",
   "id": "9134003b-77d1-4695-a805-32e109cf6d63",
   "metadata": {},
   "source": [
    "### Übung 1.1 - Arbeiten mit Variablen\n",
    "\n",
    "1. Schätzen Sie die Einwohner Hessens und speichern Sie Ihre Schätzung in eine neue Variable namens`hessen`.\n",
    "2. Schätzen Sie die Einwohner Deutschlands und speichern Sie Ihre Schätzung in die Variable `deutschland`.\n",
    "3. Berechnen Sie eine neue Variable `ant_hessen`, die den Anteil der Einwohner Hessens an Gesamt-Deutschland enthält (in %).\n",
    "4. Geben sie dem Inhalt der Variable `ant_hessen` aus."
   ]
  },
  {
   "cell_type": "code",
   "execution_count": null,
   "id": "07d10a4d-5b28-4a56-8bc8-b1ed903d9fd2",
   "metadata": {},
   "outputs": [],
   "source": [
    "### Ihr Source Code\n",
    "# Variable hessen anlegen und befüllen\n",
    "hessen <- 6.266\n",
    "# Variable deutschland anlegen und befüllen\n",
    "deutschland <- 83.2\n",
    "# Anteil hessen berechnen (in %)\n",
    "ant_hessen <- hessen / deutschland *100\n",
    "#Ergebnis ausgeben\n",
    "ant_hessen"
   ]
  },
  {
   "cell_type": "markdown",
   "id": "2f6d8ff0-1018-4169-8ec6-b6ba797062ad",
   "metadata": {},
   "source": [
    "## Datenstrukturen: Vektoren\n",
    "\n",
    "### Grundlagen Vektoren\n",
    "\n",
    "Ein Vektor ist eine geordnete Sammlung mehrerer Objekte gleicher Art. Die Objekte werden mit fortlaufender Nummer hintereinander geschrieben und können so auch angesprochen werden."
   ]
  },
  {
   "cell_type": "markdown",
   "id": "b1c660b7-dd9a-4d92-86f5-6b3d6b3e8b86",
   "metadata": {},
   "source": [
    "### Vektoren erstellen (Die `c()` Funktion)"
   ]
  },
  {
   "cell_type": "markdown",
   "id": "3b045b5d-2561-4231-86db-2f44536cccca",
   "metadata": {},
   "source": [
    "Mit dem Operator (Befehl) `c()` wird den Objekten a, b und c ein Vektor mit Elementen zugewiesen, indem die Funktion `c()` (vom englischen “concatenation”, d. h. ”Verkettung“) diese Werte zu einem Vektor zusammenfasst. "
   ]
  },
  {
   "cell_type": "code",
   "execution_count": null,
   "id": "832ac5b0-40bd-43b4-b81d-0be46cc9bfae",
   "metadata": {
    "tags": []
   },
   "outputs": [],
   "source": [
    "# Erstellung von Vektoren mittels der combine/concatenate Funktion \"c()\"\n",
    "a <- c(5, 3, 2)\n",
    "a"
   ]
  },
  {
   "cell_type": "code",
   "execution_count": null,
   "id": "5cbf17cb-70ce-45bd-a47b-7376ae4e24d1",
   "metadata": {},
   "outputs": [],
   "source": [
    "b <- c(\"A\", \"B\", \"C\")\n",
    "b"
   ]
  },
  {
   "cell_type": "code",
   "execution_count": null,
   "id": "b38cee21-2355-42a6-9704-9bc82a72a14d",
   "metadata": {},
   "outputs": [],
   "source": [
    "c <- c(\"a\", \"b\", \"c\")\n",
    "c "
   ]
  },
  {
   "cell_type": "code",
   "execution_count": null,
   "id": "b14ac509-8142-4c4b-8406-0f0bfdf44df8",
   "metadata": {},
   "outputs": [],
   "source": [
    "# Erstellt einen Vektor x mit den Zahlen 1 bis 6\n",
    "# vorwärts\n",
    "x <- 4:16\n",
    "x"
   ]
  },
  {
   "cell_type": "code",
   "execution_count": null,
   "id": "0d84f358-3f78-465b-a517-3682e1556a0a",
   "metadata": {},
   "outputs": [],
   "source": [
    "# rückwärts\n",
    "y <- 6:1\n",
    "y"
   ]
  },
  {
   "cell_type": "code",
   "execution_count": null,
   "id": "a0516eb1-2a63-431f-9a42-df4d3daa8b33",
   "metadata": {},
   "outputs": [],
   "source": [
    "# Zufallszahlen\n",
    "# runif() erzeugt einen Vektor mit 6 Zufallszahlen im Bereich [0,100]\n",
    "z <- runif(6,min=0,max=100) \n",
    "z"
   ]
  },
  {
   "cell_type": "code",
   "execution_count": null,
   "id": "d3579d77-6f51-40ac-80db-0574f10479dd",
   "metadata": {},
   "outputs": [],
   "source": [
    "z[1:3]"
   ]
  },
  {
   "cell_type": "code",
   "execution_count": null,
   "id": "bd303551-ff50-4e9e-ba88-7efbe57cbbc9",
   "metadata": {},
   "outputs": [],
   "source": [
    "# Zusammenfassende ansicht eines Vektors mittels der summary() Funktion\n",
    "summary(x)\n",
    "summary(y)\n",
    "summary(z)"
   ]
  },
  {
   "cell_type": "markdown",
   "id": "5798eec6-ceba-4ccd-8a91-542d275bf65d",
   "metadata": {},
   "source": [
    "### Operationen mit Vektoren"
   ]
  },
  {
   "cell_type": "code",
   "execution_count": null,
   "id": "d95aaf93-2415-42b7-bb29-bbe0e92a1a8e",
   "metadata": {},
   "outputs": [],
   "source": [
    "#Vergleiche\n",
    "a == b\n",
    "b == c"
   ]
  },
  {
   "cell_type": "markdown",
   "id": "49374594-9c59-4422-9450-f7c16fc3dd54",
   "metadata": {},
   "source": [
    "R selber ist eine Objektorientierte Programmiersprache. Dementsprechend sind alle Variablen Objekte, deren Klasse und Typ man feststellen kann. Hierzu dienen die Funktionen `class()` und `type()`.\n",
    "\n",
    "Mehr infos finden Sie unter <https://statistik-dresden.de/archives/15281>."
   ]
  },
  {
   "cell_type": "code",
   "execution_count": null,
   "id": "c247c5a1-6fda-4da5-91e9-c6da6a0c873a",
   "metadata": {},
   "outputs": [],
   "source": [
    "# Typen und Klasse von Vektoren überprüfen\n",
    "typeof(a)"
   ]
  },
  {
   "cell_type": "code",
   "execution_count": null,
   "id": "3114eace-387b-4e5f-8e9b-b9547909548e",
   "metadata": {},
   "outputs": [],
   "source": [
    "# Klasse des \n",
    "class(a) "
   ]
  },
  {
   "cell_type": "code",
   "execution_count": null,
   "id": "63b9aebd-7071-49f3-9b3e-dfc063dd1c8c",
   "metadata": {},
   "outputs": [],
   "source": [
    "is.numeric(b); "
   ]
  },
  {
   "cell_type": "code",
   "execution_count": null,
   "id": "695a44cf-dc1f-46a2-a64d-7efcbb0f618f",
   "metadata": {},
   "outputs": [],
   "source": [
    "is.character(b)"
   ]
  },
  {
   "cell_type": "code",
   "execution_count": null,
   "id": "1a8fdbdb-bf00-4afe-924c-8ac69af44887",
   "metadata": {},
   "outputs": [],
   "source": [
    "# Länge des Vektors a\n",
    "length(a)"
   ]
  },
  {
   "cell_type": "code",
   "execution_count": null,
   "id": "f208e3a7-cc5e-40b1-8365-0330498cdaa1",
   "metadata": {},
   "outputs": [],
   "source": [
    "# Selektieren von Elementen eines Vektors\n",
    "# das 2. Element\n",
    "a[2]\n",
    "#das 2. bis 4. Element von x\n",
    "x[2:4]"
   ]
  },
  {
   "cell_type": "code",
   "execution_count": null,
   "id": "c504b611-2a74-42d1-894d-03fc89055a4c",
   "metadata": {},
   "outputs": [],
   "source": [
    "# Alle Elemente des Vektors a um den Wert 3 erhöhen\n",
    "x+3\n",
    "# Alle Elemente des Vektors a mit dem Wert 3 multiplizieren\n",
    "x*3"
   ]
  },
  {
   "cell_type": "code",
   "execution_count": null,
   "id": "c3be26eb-85f8-4697-9d77-33e5fad5a9e9",
   "metadata": {},
   "outputs": [],
   "source": [
    "# Vektor x zurücksetzen\n",
    "x <- 1:6\n",
    "x"
   ]
  },
  {
   "cell_type": "code",
   "execution_count": null,
   "id": "0179242b-eca6-4a9f-83ae-7833665e4042",
   "metadata": {},
   "outputs": [],
   "source": [
    "# löschen des 3. Wertes\n",
    "x <- x[-3]\n",
    "x"
   ]
  },
  {
   "cell_type": "code",
   "execution_count": null,
   "id": "aac1f15b-1a02-46b9-b4ca-1d844938cf45",
   "metadata": {},
   "outputs": [],
   "source": [
    "# Anhängen weiterer Komponenten an einen bestehenden Vektor\n",
    "(y1 = append(x, c(10,11), after=5))\n",
    "(y2 = c(-1, 0, x, 10))"
   ]
  },
  {
   "cell_type": "code",
   "execution_count": null,
   "id": "45f37b76-2622-4f30-ab44-31f1b453458b",
   "metadata": {},
   "outputs": [],
   "source": [
    "# Ausgabe der resultierenden Vektoren\n",
    "y1\n",
    "y2"
   ]
  },
  {
   "cell_type": "code",
   "execution_count": null,
   "id": "34939e34-8d03-4e61-a4c5-1b95a6629988",
   "metadata": {},
   "outputs": [],
   "source": [
    "# Vergleich der Werte in a, ob diese > 4 sind\n",
    "a > 4\n",
    "# Vergleich der Werte in a, ob diese gleich 3 sind\n",
    "a == 3"
   ]
  },
  {
   "cell_type": "code",
   "execution_count": null,
   "id": "f67e72ec-2932-48ce-bac5-e239f26bf134",
   "metadata": {},
   "outputs": [],
   "source": [
    "a\n",
    "# Wie viele Vektor-Komponenten sind grösser als 3\n",
    "sum(a>3)"
   ]
  },
  {
   "cell_type": "code",
   "execution_count": null,
   "id": "bdba2e81-08ec-406b-84d8-67dc704bbd44",
   "metadata": {},
   "outputs": [],
   "source": [
    "# Welche Vektor-Komponenten sind groesser als 2.5 sowie deren Werte\n",
    "# Variante 1 - which Funktion\n",
    "which(a>2.5) "
   ]
  },
  {
   "cell_type": "code",
   "execution_count": null,
   "id": "99ccf1eb-3bcd-4ec0-9ad9-c9b4fae2a39e",
   "metadata": {},
   "outputs": [],
   "source": [
    "# Variante 2 - direkt über den Vektor\n",
    "a[a>2.5]"
   ]
  },
  {
   "cell_type": "markdown",
   "id": "09600cb2-c8d9-4683-bbf1-8ef312eb2196",
   "metadata": {
    "tags": []
   },
   "source": [
    "### NEU: Weitere nützliche Funktionen und Beispiele\n",
    "\n",
    "* `seq(from, to, by)` Generiert eine Sequenz\n",
    "* `:` Colon Operator: generiert eine reguläre Sequenz (d.h. Sequenz in Einerschritten). Diese kann sowohl aufwärts (1:x) oder abwärts (x:1) genutzt werden.\n",
    "* `rep(x, times, each)` Wiederholt x \n",
    "    * `times`: die Sequenz wird n-mal wiederholt \n",
    "    * `each`: jedes Element wird n-mal wiederholt\n",
    "* `head(x, n = 6)` Zeigt die n ersten Elemente von x an\n",
    "* `tail(x, n = 6)` Zeigt die n letzten Elemente von x an"
   ]
  },
  {
   "cell_type": "code",
   "execution_count": null,
   "id": "9a437a6a-6670-45e6-a3fc-037d2e969fb8",
   "metadata": {},
   "outputs": [],
   "source": [
    "# concatenate Funktion\n",
    "c(1, 2, 3, 4, 5, 6)\n",
    "# Sequenz von 1 bis 6 mit 1er Schrittweite\n",
    "seq(from = 1, to = 6, by = 1)\n",
    "# Sequenz 1 bis 6\n",
    "1:6\n",
    "# Sequenz 1 bis 6, zweimal wiederholt\n",
    "rep(1:6, times = 2)\n",
    "# Sequenz 1 bis 6, jede Zahl wird zweimal wiederholt\n",
    "rep(1:6, each = 2)\n",
    "# Sequenz 1 bis 6, zweimal, jede Zahl wird zweimal wiederholt\n",
    "rep(1:6, times = 2, each = 2)\n"
   ]
  },
  {
   "cell_type": "markdown",
   "id": "7976da7e-e2d2-4f11-b852-5e083e11f119",
   "metadata": {},
   "source": [
    "### NEU: Statistische Funktionen\n",
    "\n",
    "Hier ist eine Auflistung statistischer Funktionen. Diese Funktionen haben alle das Argument na.rm, welches standardmässig den Wert FALSE annimmt. Damit können fehlende Werte berücksichtigt werden, d.h. fehlende Werte (na = not available/NA) werden in diesem Fall nicht entfernt (rm = remove). Diese Funktionen können alle auf einen Vektor angewandt werden (siehe weiter unten).\n",
    "\n",
    "* `mean(x, na.rm = FALSE)` Mittelwert\n",
    "* `sd(x)` Standardabweichung\n",
    "* `var(x)` Varianz\n",
    "* `median(x)` Median\n",
    "* `quantile(x, probs)` Quantile von x.  probs: Vektor mit Wahrscheinlichkeiten\n",
    "* `sum(x)` Summe\n",
    "* `min(x)` Minimalwert x_min\n",
    "* `max(x)` Maximalwert x_max\n",
    "* `range(x)` x_min und x_max"
   ]
  },
  {
   "cell_type": "code",
   "execution_count": null,
   "id": "b91b15cb-ab35-4f60-9d0a-a91ac78ba1ff",
   "metadata": {},
   "outputs": [],
   "source": [
    "mean(c(1, 2, 3, 4, 5, 6))\n",
    "mean(c(1, NA, 3, 4, 5, 6), na.rm = TRUE)\n",
    "mean(c(1, NA, 3, 4, 5, 6), na.rm = FALSE)\n",
    "sd(c(1, 2, 3, 4, 5, 6))\n",
    "sum(c(1, 2, 3, 4, 5, 6))\n",
    "min(c(1, 2, 3, 4, 5, 6))\n",
    "range(c(1, 2, 3, 4, 5, 6))"
   ]
  },
  {
   "cell_type": "markdown",
   "id": "8d4e607f-9355-49be-99a5-bdb7e57b4103",
   "metadata": {},
   "source": [
    "### Übung 1.2 - weiter Funktionen\n",
    "\n",
    "1. Erzeugen Sie eine Sequenz von 0 bis 100 in 5-er Schritten.\n",
    "2. Berechnen Sie den Mittelwert des Vektors [1, 3, 4, 7, 11, 2].\n",
    "3. Lassen Sie sich die Spannweite $x_{max} - x_{min}$ dieses Vektors ausgeben.\n",
    "4. Berechnen Sie die Summe dieses Vektors.\n",
    "5.Generieren Sie einen Vektor, der aus 100 Wiederholungen der Zahl 3 besteht."
   ]
  },
  {
   "cell_type": "code",
   "execution_count": null,
   "id": "0f9e31f9-053e-4dd1-a56c-546426d05858",
   "metadata": {},
   "outputs": [],
   "source": [
    "# Hier kommt Ihr Source Code hin:\n"
   ]
  },
  {
   "cell_type": "markdown",
   "id": "2261f497-0947-4e37-98d6-600d5539387b",
   "metadata": {},
   "source": [
    "## Datenstrukturen: Matrizen und Arrays"
   ]
  },
  {
   "cell_type": "markdown",
   "id": "24b4f646-4964-4136-892a-2bb7f70176e7",
   "metadata": {},
   "source": [
    "### Erstellen von Matrizen und Arrays"
   ]
  },
  {
   "cell_type": "code",
   "execution_count": null,
   "id": "4fdf03ba-969a-4366-9cd5-08273228e2d8",
   "metadata": {},
   "outputs": [],
   "source": [
    "# Matrix == Anordnung mehrerer Vektoren in einer Tabelle\n",
    "# Array == beliebige Dimension\n",
    "gewicht <- c(56, 63, 80, 49, 75)\n",
    "groesse <- c(1.64, 1.73, 1.85, 1.6, 1.81) \n",
    "alter <- c(22, 21.5, 24, 28, 39)"
   ]
  },
  {
   "cell_type": "code",
   "execution_count": null,
   "id": "82c321e3-efab-496a-9e1c-a6279627af8d",
   "metadata": {},
   "outputs": [],
   "source": [
    "#spaltenweise (c = columns) zusammenbinden\n",
    "# hierfür nutzen wir dei Funktion cbind() --> column bind\n",
    "Spalte <- cbind(alter, gewicht, groesse) ## alter gewicht groesse\n",
    "Spalte"
   ]
  },
  {
   "cell_type": "markdown",
   "id": "0e24d2d8-395f-481e-ad44-d9cc848cd3b9",
   "metadata": {},
   "source": [
    "Erzeugt die folgende Tabelle:\n",
    "\n",
    "| alter| gewicht| groesse|\n",
    "|-----:|-------:|-------:|\n",
    "|  22.0|      56|    1.64|\n",
    "|  21.5|      63|    1.73|\n",
    "|  24.0|      80|    1.85|\n",
    "|  28.0|      49|    1.60|\n",
    "|  39.0|      75|    1.81|"
   ]
  },
  {
   "cell_type": "code",
   "execution_count": null,
   "id": "7832de54-f86f-4218-a8d4-21356e2e796c",
   "metadata": {},
   "outputs": [],
   "source": [
    "# zeilenweise (r = rows) zusammenbinden\n",
    "Zeile <- rbind(alter, gewicht, groesse)\n",
    "Zeile"
   ]
  },
  {
   "cell_type": "markdown",
   "id": "3b5ed0d1-f723-4787-a82a-47217f3ef265",
   "metadata": {},
   "source": [
    "Erzeugt die folgende Tabelle:\n",
    "\n",
    "|        |      |      |      |     |      |\n",
    "|:-------|-----:|-----:|-----:|----:|-----:|\n",
    "|alter   | 22.00| 21.50| 24.00| 28.0| 39.00|\n",
    "|gewicht | 56.00| 63.00| 80.00| 49.0| 75.00|\n",
    "|groesse |  1.64|  1.73|  1.85|  1.6|  1.81|"
   ]
  },
  {
   "cell_type": "code",
   "execution_count": null,
   "id": "f9058f2d-53d8-4679-b91b-6d531a6d9344",
   "metadata": {},
   "outputs": [],
   "source": [
    "# Zugriff auf Matrizen analog zu Vektoren: Spalte[i, j] entspricht dem Eintrag \n",
    "# in der i−ten Zeile und j−ten Spalte von Spalte\n",
    "Spalte[5,1]\n",
    "\n",
    "Spalte[1,]\n",
    "\n",
    "Spalte[c(1,3,5),]"
   ]
  },
  {
   "cell_type": "code",
   "execution_count": null,
   "id": "a6ae5a1a-f1b2-4639-8b42-2a246a49cf06",
   "metadata": {},
   "outputs": [],
   "source": [
    "# Namen vergeben\n",
    "colnames(Spalte)"
   ]
  },
  {
   "cell_type": "code",
   "execution_count": null,
   "id": "b406b7d6-d4c7-40a8-a021-9ae00fdd7749",
   "metadata": {},
   "outputs": [],
   "source": [
    "namen = c(\"Gerda\", \"Karin\", \"Hans\", \"Doris\", \"Ludwig\") \n",
    "rownames(Spalte) = namen\n",
    "\n",
    "Spalte"
   ]
  },
  {
   "cell_type": "code",
   "execution_count": null,
   "id": "2645f5fa-4012-4064-8094-cf29dc3e006e",
   "metadata": {},
   "outputs": [],
   "source": [
    "Spalte[\"Doris\", \"gewicht\"]\n",
    "\n",
    "Spalte[4,2]"
   ]
  },
  {
   "cell_type": "markdown",
   "id": "e5c794d7-f35d-40ec-86fe-abc2fddfe98f",
   "metadata": {},
   "source": [
    "### Funktionen zum Arbeiten mit Matrizen oder Arrays"
   ]
  },
  {
   "cell_type": "code",
   "execution_count": null,
   "id": "bcbb2578-f3ed-44b4-9442-86bb4576e92d",
   "metadata": {},
   "outputs": [],
   "source": [
    "# hilfreiche Funktionen zum Arbeiten mit Matrizen oder Arrays\n",
    "\n",
    "length(Spalte)\n",
    "\n",
    "dim(Spalte)\n",
    "\n",
    "# structure Funktion\n",
    "str(Spalte)"
   ]
  },
  {
   "cell_type": "code",
   "execution_count": null,
   "id": "65aabea0-aba3-40a4-9e37-6fd1958a0d4b",
   "metadata": {},
   "outputs": [],
   "source": [
    "# Alternative Erzeugung einer Matrix aus einem Vektor\n",
    "# Beispiel hier: Ein Vektor x mit den Zahlen 1 bis 12\n",
    "\n",
    "x = 1:12\n",
    "matrix(data <- x, nrow=3)\n",
    "\n",
    "matrix(data <- x, ncol=3)"
   ]
  },
  {
   "cell_type": "markdown",
   "id": "ffa39773-e96a-4c90-a9d7-fa1b2c93fcd3",
   "metadata": {},
   "source": [
    "## Datenstrukturen: Data Frames"
   ]
  },
  {
   "cell_type": "markdown",
   "id": "0bada2ab-6871-40a6-8c4a-dd70205471d3",
   "metadata": {},
   "source": [
    "### Einen Data Frame erstellen"
   ]
  },
  {
   "cell_type": "code",
   "execution_count": null,
   "id": "3f0d50f8-9b1d-4445-84f7-b26032db0c3c",
   "metadata": {},
   "outputs": [],
   "source": [
    "# häufigste Verwendungsform für statistische Daten\n",
    "# Matrix-ähnliche Struktur für verschiedene Datentypen\n",
    "\n",
    "gewicht <- c(56, 63, 80, 49, 75)\n",
    "groesse <- c(1.64, 1.73, 1.85, 1.6, 1.81) \n",
    "alter <- c(22, 21.5, 24, 28, 39)\n",
    "\n",
    "#spaltenweise (c = columns) zusammenbinden\n",
    "Spalte <- cbind(alter, gewicht, groesse) ## alter gewicht groesse\n",
    "\n",
    "Spalte\n",
    "Geschlecht <- c(\"weiblich\",\"weiblich\",\"männlich\",\"weiblich\",\"männlich\")\n",
    "daten <- data.frame(Spalte,Geschlecht)\n",
    "daten\n",
    "str(daten)\n",
    "dim(daten)"
   ]
  },
  {
   "cell_type": "markdown",
   "id": "a3b775a5-9b3b-4831-b972-375e184c1622",
   "metadata": {},
   "source": [
    "### Zugriff auf Data Frames\n",
    "\n",
    "Oftmals ist es notwendig, nur auf spezifische Zeilen bzw. Spalten des Data Frames zurückzugreifen\n",
    "\n",
    "![Zugriff auf Data Frames](pics/data_frame.jpg \"Data Frame\")"
   ]
  },
  {
   "cell_type": "code",
   "execution_count": null,
   "id": "ec3eca2e-417b-426b-836d-b718a445a279",
   "metadata": {},
   "outputs": [],
   "source": [
    "# Zugriff auf Data Frames und ihre Spalten über den \"$\" Operator und dem zug\n",
    "# Namen der Spalte.\n",
    "\n",
    "daten$gewicht\n",
    "daten$groesse"
   ]
  },
  {
   "cell_type": "code",
   "execution_count": null,
   "id": "cc48b162-3123-42c5-8267-4ad7e49e4537",
   "metadata": {},
   "outputs": [],
   "source": [
    "daten[,\"gewicht\"]\n",
    "\n",
    "daten[\"Doris\",]\n",
    "\n",
    "daten[4,]"
   ]
  },
  {
   "cell_type": "markdown",
   "id": "425e6562-95b1-4838-8eb2-4695c2098346",
   "metadata": {},
   "source": [
    "### Zugriff mittels attach() Funktion"
   ]
  },
  {
   "cell_type": "code",
   "execution_count": null,
   "id": "84492ccd-4208-4ec2-a65e-9420fd5db2e1",
   "metadata": {},
   "outputs": [],
   "source": [
    "# direkter Zugriff auf Unterelemente mittels Suchpfad durch die\n",
    "# attach() Funktion setzen\n",
    "attach(daten)\n",
    "\n",
    "gewicht\n",
    "\n",
    "# Suchpfad fuer Objekt \"daten\" wieder loeschen\n",
    "detach(daten)\n",
    "# Zugriff auf Unterelemente wieder nur via objekt$unterobjekt \n",
    "daten$gewicht"
   ]
  },
  {
   "cell_type": "markdown",
   "id": "0a05b586-cfa5-4a64-aee9-4cf6e1ef89fd",
   "metadata": {
    "tags": []
   },
   "source": [
    "### Arbeiten mit Faktoren\n",
    "Die bisher vorgestellten zusammengesetzten Datentypen wie Vektoren, Felder, Listen oder Data Frames kann man auch als Container auffassen: sie dienen dazu, Tupel von Zahlen (oder Zeichenketten) nach gewissen Regeln abzuspeichern. Je nachdem welcher innere Zusammenhang zwischen den Komponenten besteht und wie man sie weiterverarbeiten möchte, wird man den einen oder anderen Container auswählen. Mit Faktoren wird ein Container angeboten, der schon eine Auswertung beinhaltet: Die Daten werden gruppiert (oder wie man auch sagt: in Klassen eingeteilt) – so wie etwa jedem Datum ein bestimmter Wochentag zugeordnet werden kann.\n",
    "\n",
    "**Mehr unter folgender URLs:** \n",
    "* <http://de.jberries.com/artikel/faktoren-in-r-der-datentyp-factor-86> \n",
    "* <https://de.jberries.com/artikel/faktoren-in-r-anwendungen-92>"
   ]
  },
  {
   "cell_type": "code",
   "execution_count": null,
   "id": "6e174790-9928-4e9f-a382-267db99a6c6d",
   "metadata": {
    "tags": []
   },
   "outputs": [],
   "source": [
    "x <- c(rep(1 ,10) , rep(2 ,10))\n",
    "geschl.factor.labeled <- factor(x, labels=c(\"w\", \"m\"))\n",
    "geschl.factor.labeled\n",
    "is.factor(geschl.factor.labeled)"
   ]
  },
  {
   "cell_type": "code",
   "execution_count": null,
   "id": "7cbe6948-9642-4787-89ae-73c0a7da4ca3",
   "metadata": {},
   "outputs": [],
   "source": [
    "# Über die Funktion levels() lassen sich die Faktorstufen einer bestehenden \n",
    "# Faktorvariablen im Nachhinein noch verändern:\n",
    "levels(geschl.factor.labeled) <- c(\"weiblich\", \"männlich\")\n",
    "geschl.factor.labeled"
   ]
  },
  {
   "cell_type": "markdown",
   "id": "a7d73a3f-dc4c-48da-86e9-b91c7773d948",
   "metadata": {},
   "source": [
    "Die Funktion `split()` hat einen Vektor mit Hilfe der Level eines Faktors in eine Liste verwandelt, wobei jede Komponente der Liste derjenige Teilvektor ist, der dem Level zugeordnet ist. Mit der Funktion`unlist()` kann man aus der Liste den Vektor wieder zurückgewinnen:"
   ]
  },
  {
   "cell_type": "code",
   "execution_count": null,
   "id": "ccd85d8e-f859-4cdd-9585-8c7aa9b7e4ed",
   "metadata": {
    "tags": []
   },
   "outputs": [],
   "source": [
    "# Aufsplitten mittels split()\n",
    "my_parts <- split(x = x, f = geschl.factor.labeled)\n",
    "# Parts ausgeben\n",
    "my_parts\n",
    "# Zählen der Parts pro Faktor\n",
    "lengths(my_parts)"
   ]
  },
  {
   "cell_type": "code",
   "execution_count": null,
   "id": "a2825f21-4fa4-40b4-9ab9-adc3d06599fa",
   "metadata": {},
   "outputs": [],
   "source": [
    "# Zusammenfassung der Parts mittels unsplit in einen neune Vektor v\n",
    "v <- unsplit(value = my_parts, f = geschl.factor.labeled)\n",
    "# Vektor v ausgeben\n",
    "v\n",
    "# Struktur von v ausgeben\n",
    "str(v)"
   ]
  },
  {
   "cell_type": "markdown",
   "id": "36c3e1cd-20b3-4293-8ca7-832af9bfe4d3",
   "metadata": {},
   "source": [
    "### Alternative Dateneingabe (funtioniert nur in RStudio)\n",
    "In RStudio kann man auch über die GUI direkt Daten eingeben. Dies geht allerdings nicht in Jupyter. Der unten genannte Code wird hier eine Fehlermeldung erzugen."
   ]
  },
  {
   "cell_type": "code",
   "execution_count": null,
   "id": "8cd519cb-44bb-43d9-b030-b264a4721631",
   "metadata": {},
   "outputs": [],
   "source": [
    "# 1. Leeren Data Frame anlegen\n",
    "mydata <- data.frame()\n",
    "# 2. Beispielsweise Daten über Data Editor manuell eingeben\n",
    "# mydata <- edit(mydata)\n",
    "# Hinweis MacOS: XQuartz von xquartz.macosforge.org wird benötigt\n",
    "\n",
    "# weitere nützliche Befehle\n",
    "#head(mydata)\n",
    "#fix(mydata)\n",
    "#View(mydata)\n",
    "\n",
    "#save(mydata, file <- \"mydata.RData\")\n",
    "#load(\"mydata.RData\")"
   ]
  },
  {
   "cell_type": "markdown",
   "id": "c4d556b1-c7e1-4032-b5d9-b06465d596b3",
   "metadata": {},
   "source": [
    "### Beispiel: Plot von Daten aus einem Data Frame"
   ]
  },
  {
   "cell_type": "code",
   "execution_count": null,
   "id": "ae181160-ad7b-41ea-b261-544f5b567677",
   "metadata": {},
   "outputs": [],
   "source": [
    "boxplot(daten$gewicht~daten$Geschlecht, main = \"Gewicht\")\n",
    "plot(daten)"
   ]
  },
  {
   "cell_type": "markdown",
   "id": "622db899-f81a-42b4-af00-f461824d1d0f",
   "metadata": {},
   "source": [
    "### Übung 1.3: Arbeiten mit Data Frames\n",
    "\n",
    "Folgende kleine Aufgaben an Sie:\n",
    "\n",
    "1. Erstellen Sie einen Vektor `meine_Zahlen` mit den Zahlen 20 runter bis zur 1 (Reihenfolge beachten.\n",
    "2. Erstellen Sie einen zweiten Vektor (`meine_Buchstaben`), der die Buchstaben A, B, C und D enthält. Der Vektor soll auch insgesamt 20 Elemente enthalten. Die Anzahl der einzelnen Buchstaben ist dabei egal.\n",
    "3. wandeln Sie den Vektor`meine_Buchstaben` in einen Vektor vom Typ Factor um. Folgende Übersetzung:\n",
    "    * A -> grün\n",
    "    * B -> gelb\n",
    "    * C -> rot\n",
    "    * D -> blau\n",
    "4. Zählen die Ausprägungen der einzelnen Farben (Faktoren) einmal tabellarisch zusammen.\n",
    "5. Erstellen Sie aus den Vektoren `meine_Zahlen` und dem foktorisierten Vektor meine_Buchstaben einen Data Frame mit dem Namen mein.df"
   ]
  },
  {
   "cell_type": "code",
   "execution_count": null,
   "id": "682c1df3-1e24-4ce2-938b-2103344ca505",
   "metadata": {},
   "outputs": [],
   "source": [
    "# Hier kommt Ihr Source Code hin:\n"
   ]
  }
 ],
 "metadata": {
  "kernelspec": {
   "display_name": "R",
   "language": "R",
   "name": "ir"
  },
  "language_info": {
   "codemirror_mode": "r",
   "file_extension": ".r",
   "mimetype": "text/x-r-source",
   "name": "R",
   "pygments_lexer": "r",
   "version": "3.6.3"
  },
  "toc-autonumbering": true,
  "toc-showmarkdowntxt": false
 },
 "nbformat": 4,
 "nbformat_minor": 5
}

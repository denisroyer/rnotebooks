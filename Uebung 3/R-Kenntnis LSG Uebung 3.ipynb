{
 "cells": [
  {
   "cell_type": "markdown",
   "id": "918e91f3-ff38-47b8-9ca1-416d4e85899f",
   "metadata": {},
   "source": [
    "![R-Kenntnis](../Pics/header.png \"R-Kenntnis\")\n",
    "\n",
    "<div class=\"alert alert-block alert-info\">\n",
    "\n",
    "* **Titel:** Lösung zu den Übungen 03: Datenimporte und Datenmanipulation\n",
    "* **Autor:** Prof. Dr. Denis Royer\n",
    "* **Datum:** 12.10.2021\n",
    "\n",
    "</div>\n",
    "\n",
    "# BI - R-Kenntnis Lösung zu den Übungen 03: Datenimporte und Datenmanipulation\n",
    "Als Start müssen wir die Packages und die Daten laden, damit die Aufgaben gelöst werden können:"
   ]
  },
  {
   "cell_type": "code",
   "execution_count": null,
   "id": "bcee30bb-7164-4579-8dcf-f502adb157ce",
   "metadata": {},
   "outputs": [],
   "source": [
    "# Sofern das Paket tidyverse nicht installiert ist, soll es installiert werden. \n",
    "# Die require() Funktion prüft ab, ob das Paket bereits installiert ist. \n",
    "if(!require(\"tidyverse\")) install.packages(\"tidyverse\")\n",
    "# Laden des Pakets tidyverse (lädt stringr, tibble, readr und dplyr)\n",
    "library(tidyverse)\n",
    "\n",
    "# Laden der Daten aus der Beispieldatei (nutzt readr)\n",
    "# Wichtig Die Datei nicht vorher mit Excel öffnen!\n",
    "bike <- read_csv(\"../Data/raw_bikeshare_data.csv\")"
   ]
  },
  {
   "cell_type": "markdown",
   "id": "5c582e6b-cc32-4a24-81c0-5135cb116194",
   "metadata": {},
   "source": [
    "## Aufgabe: Data Dictionary und Datenstruktur\n",
    "\n",
    "![Übungsaufgabe](../Pics/excercise.png \"Übungsaufgabe\")\n",
    "\n",
    "Bitte schauen Sie sich die geladenen Daten in der Variable `bike` an und vergleichen Sie die Strukturen mit dem **Data Dictionary** aus den Folien zur Übung:\n",
    "\n",
    "\n",
    "\n",
    "* Welche Dinge Fallen Ihnen auf, wenn Sie sich die Daten mit der Funktion `str(bike)` ausgeben und mit den Inhalten des Data Dictionaries vergleichen?\n",
    "* Welche Anpassungen sind für die Daten notwendig?"
   ]
  },
  {
   "cell_type": "markdown",
   "id": "eb1e55a1-d3b0-4718-a974-f414174c8f2c",
   "metadata": {},
   "source": [
    "<div class=\"alert alert-block alert-success\">\n",
    "<b>Lösungsansatz:</b> \n",
    "\n",
    "* Einige der Datenstrukturen im Data Dictionary sind Skalen - diese müssen angepasst werden.\n",
    "* Einige Fehler müssen bereinigt werden.\n",
    "    \n",
    "</div>"
   ]
  },
  {
   "cell_type": "markdown",
   "id": "af8ea676-7c53-41f9-98a4-587f4b2a5cd2",
   "metadata": {},
   "source": [
    "## Aufgabe: Daten extrahieren\n",
    "\n",
    "Das Marketing benötigt eine Aussage darüber, an welchen Tagen im Frühling und Sommer nur Fahrräder von *Casual* Mietern entliehen wurden. Nutzen Sie die Funktionen aus dem Paket `dplyr` um aus dem `tibble bike` alle Vorkommen mit den folgenden Eigenschaften in eine neue Variable (bspw. einen tibble - z.B. `bike_extracted`) zu extrahieren: \n",
    "\n",
    "![Übungsaufgabe](../Pics/excercise.png \"Übungsaufgabe\")\n",
    "* Alle Tage im Frühling und Sommer an denen nur *\"Casual\"* Mieter Fahrräder entliehen haben.\n",
    "* Wie viele Beobachtungen (*\"Observations\"*) gibt es?\n",
    "* Wie sieht Ihr R Source Code? "
   ]
  },
  {
   "cell_type": "code",
   "execution_count": null,
   "id": "59318ab9-fdee-4916-8e89-cff16895e3bc",
   "metadata": {},
   "outputs": [],
   "source": [
    "#####################################\n",
    "# Lösungsansatz\n",
    "#####################################\n",
    "# Ausgabe aller Vorkommen in den Daten, für die \n",
    "# Folgendes gilt:\n",
    "# Alle Nutzer die nicht registriert sind (registered == 0)\n",
    "# UND die entweder season ==1 oder season==2 sind.\n",
    "bike_extracted <- filter(bike, registered == 0, season == 1 | season == 2)\n",
    "bike_extracted"
   ]
  },
  {
   "cell_type": "markdown",
   "id": "bbad2856-0d43-4631-8482-16851f076f9f",
   "metadata": {},
   "source": [
    "## Aufgabe: Werte in einer Tabelle berechnen\n",
    "\n",
    "Weiterhin will das Marketing wissen, wie hoch die Umsätze an den jeweiligen Tagen waren. Nutzen Sie hierfür die Funktion `dplyr::mutate`, um im `tibble bike_extracted` eine neue Spalte einzufügen, die die Umsätze aus den *\"Casual\"* Mietern berechnet:\n",
    "\n",
    "![Übungsaufgabe](../Pics/excercise.png \"Übungsaufgabe\")\n",
    "* Erstellen Sie die neue Tabelle als Kopie des `data.frame/tibble` *bike_extracted*. \n",
    "* Die neue Spalte soll *\"revenue\"* heißen.\n",
    "* Als Wert pro vermietete Einheit sollen *5.00 Euro* angenommen werden (Hinweis: Nachkommaanteile werden mit einem \".\" und nicht mit \",\" abgetrennt)."
   ]
  },
  {
   "cell_type": "code",
   "execution_count": null,
   "id": "98d37203-da3c-4a48-83fe-55aa3e3db7ca",
   "metadata": {},
   "outputs": [],
   "source": [
    "#####################################\n",
    "# Lösungsansatz\n",
    "#####################################\n",
    "add_revenue <- mutate(bike_extracted, revenue = casual * 5)\n",
    "add_revenue[c(1,10,14)]"
   ]
  },
  {
   "cell_type": "markdown",
   "id": "e61be60e-d216-46f0-8cbc-6fb74720e7ca",
   "metadata": {},
   "source": [
    "## Aufgabe: Daten zusammenfassen\n",
    "\n",
    "Nutzen Sie die Funktionen `dplyr:group_by` und `dplyr:summarise` aus `dplyr`, um aus der vorher erstellten Tabelle eine Zusammenfassung der Daten für das Marketing zu erstellen.\n",
    "\n",
    "![Übungsaufgabe](../Pics/excercise.png \"Übungsaufgabe\")\n",
    "* Zusammengefasst werden sollen die Saison (Frühling und Sommer), jeweils über die Werte der Mieter (Casual) und die Einnahmen (revenue)\n",
    "* Hierzu müssen die Daten erst einmal gruppiert werden (`dplyr::group_by()`).\n",
    "* Danach können diese dann zusammengefasst werden.\n",
    "* Wie sieht die Kette der Befehle im Pipe-Syntax aus?\n",
    "* Speichern Sie Ihr Ergebnis als *.csv*-Datei ab."
   ]
  },
  {
   "cell_type": "code",
   "execution_count": null,
   "id": "b4d0d625-c00f-4d80-b179-e0ab20419227",
   "metadata": {},
   "outputs": [],
   "source": [
    "#####################################\n",
    "# Lösungsansatz\n",
    "#####################################\n",
    "\n",
    "grouped <- group_by(add_revenue, season)\n",
    "report <- summarise(grouped, sum(casual), sum(revenue))\n",
    "report"
   ]
  },
  {
   "cell_type": "markdown",
   "id": "29f17a2f-9c1e-4da3-90f3-1d92d1051fa5",
   "metadata": {},
   "source": [
    "## Aufgabe: Fehlerhaft Importierte Einträge finden (`read_csv()`)\n",
    "\n",
    "![Übungsaufgabe](../Pics/excercise.png \"Übungsaufgabe\")\n",
    "\n",
    "mit der Funktion `problems()` aus dem Paket `readr` lassen sich die problematischen Einträge ausgeben, die beim Export durch `read_csv` detektiert wurden. Diese lassen sich dann im Weiteren bereinigen. \n",
    "\n",
    "* Was sagen die Informationen aus dem Befehl `readr::problems()` aus?\n",
    "* Wie kann man diese bei einer Bereinigung verwenden?\n",
    "* Bereinigen Sie die Fehler aus `readr::problems()`!"
   ]
  },
  {
   "cell_type": "code",
   "execution_count": null,
   "id": "c0a10a10-cf23-479a-95f9-5072548dd65e",
   "metadata": {},
   "outputs": [],
   "source": [
    "#####################################\n",
    "# Lösungsansatz\n",
    "#####################################\n",
    "problems(bike)"
   ]
  },
  {
   "cell_type": "markdown",
   "id": "6d40842c-200f-45c7-9338-d57c2c3ab892",
   "metadata": {},
   "source": [
    "<div class=\"alert alert-block alert-success\">\n",
    "<b>Lösungsansatz:</b> \n",
    "\n",
    "* Die Ausgabe von `problems()` zeigt, dass in Zeile 14178 des Datensatzes in Spalte 8 eine Fließkommazahl erwartet war.\n",
    "* Der Wert, der tatsächlich gespeichert ist, ist eine Zeichenkette: \"*x61*\"\n",
    "* Im nächsten Schritt konvertieren wir diese und überschreiben den Wert in unseem `data.table` `bike`.\n",
    "</div>"
   ]
  },
  {
   "cell_type": "code",
   "execution_count": null,
   "id": "24984268-9eea-467d-a0af-44ecb7f06ace",
   "metadata": {},
   "outputs": [],
   "source": [
    "# Problem reparieren\n",
    "# Daten aus Problems laden\n",
    "fix_values <- problems(bike)\n",
    "# Zeile laden, die wir reparieren wollen. Diese ist an der Stelle\n",
    "# [1,1] in fix_values gespeichert.\n",
    "myvar <- as.integer(fix_values[1,1])\n",
    "# Abschließend setzen wir an der Stelle myvar den Wert für humidity\n",
    "# manuell auf 61, wodurch nun eine Zahl und keine Zeichenkette mehr\n",
    "# im Datensatz steht.\n",
    "bike$humidity[myvar] <- 61"
   ]
  },
  {
   "cell_type": "code",
   "execution_count": null,
   "id": "44b033c2-a305-4626-a44d-285113ad1b4f",
   "metadata": {},
   "outputs": [],
   "source": [
    "# Ausgabe des Werts und Überprüfung, ob es nun eine Zahl ist\n",
    "bike$humidity[myvar]\n",
    "is.numeric(bike$humidity[myvar])"
   ]
  },
  {
   "cell_type": "markdown",
   "id": "e4631769-d013-4d46-a38d-76eb79ec13c5",
   "metadata": {},
   "source": [
    "## Aufgabe: Fehlende Einträge finden\n",
    "![Übungsaufgabe](../Pics/excercise.png \"Übungsaufgabe\")\n",
    "\n",
    "Ein erster Schritt ist es festzustellen, wie viele Felder keine Einträge besitzen. ***R*** markierte diese leeren Werte bei einem Import mit `read_csv` automatisch mit dem Eintrag ***\"NA\"*** ([en] **n**ot **a**vailable) - somit kann man hiermit diese leeren Werte sehr gut identifizieren (bspw. über die Funktionen `is.na()` oder `str_detect()`)\n",
    "\n",
    "\n",
    "* Was schließen Sie aus den sich ergebende Werten?\n",
    "* Was muss Ihrer Meinung nach getan werden, um dies zu bereinigen?\n"
   ]
  },
  {
   "cell_type": "code",
   "execution_count": null,
   "id": "27fe1f8a-65d2-42aa-942d-6f858fd9973c",
   "metadata": {},
   "outputs": [],
   "source": [
    "# Anzahl der NA Werte im tibble bike als Tabelle darstellen\n",
    "table(is.na(bike))\n",
    "\n",
    "# Welche der Variablen (Spalten) enthalten NA-Werte?\n",
    "str_detect(bike, \"NA\")"
   ]
  },
  {
   "cell_type": "markdown",
   "id": "ff972db1-fb6f-4c41-a290-816b0d16708d",
   "metadata": {},
   "source": [
    "<div class=\"alert alert-block alert-success\">\n",
    "<b>Lösungsansatz:</b> \n",
    "\n",
    "* Die \"NA\"-Werte sind primär in der Spalte `source` vorhanden\n",
    "* Ggf. ist es sinnvoll, diese direkt zu bereinigen (siehe nächster Schritt)\n",
    "    \n",
    "</div>"
   ]
  },
  {
   "cell_type": "markdown",
   "id": "5a98f292-3e73-4835-968f-f10612cbda25",
   "metadata": {},
   "source": [
    "## Aufgabe: Spalten/Variablen in Faktoren umwandeln\n",
    "![Übungsaufgabe](../Pics/excercise.png \"Übungsaufgabe\")\n",
    "\n",
    "* Welche Spalten/Variablen sind möglicherweise Skalen? Nutzen Sie hierfür das Data Dictionary.\n",
    "* Welche Skalenniveaus haben die Spalten/Variablen, bzw. in welche müssen diese konvertiert werden?\n",
    "* Wandeln Sie die übrigen Spalten/Variablen in die jeweiligen Skalenniveaus um! Nutzen Sie hierfür die `factor()` Funktion von R."
   ]
  },
  {
   "cell_type": "code",
   "execution_count": null,
   "id": "588446af-a3da-430b-9e15-385ea853b1a4",
   "metadata": {},
   "outputs": [],
   "source": [
    "# Ein Beispiel:\n",
    "# Vor der Umwandlung\n",
    "str(bike$holiday)\n",
    "# Umwandlung: 0 = no, 1 = yes\n",
    "bike$holiday <- factor(bike$holiday, levels = c(0, 1),\n",
    "                       labels = c(\"no\", \"yes\"))\n",
    "# Nach der Umwandlung\n",
    "str(bike$holiday)"
   ]
  },
  {
   "cell_type": "code",
   "execution_count": null,
   "id": "3ed9d89d-1db1-4f8e-a447-bc6152b47b06",
   "metadata": {},
   "outputs": [],
   "source": [
    "#####################################\n",
    "# Lösungsansatz\n",
    "#####################################\n",
    "# Skala: Nominal\n",
    "bike$workingday <- factor(bike$workingday, levels = c(0, 1),\n",
    "                          labels = c(\"no\", \"yes\"))\n",
    "\n",
    "# Skala: Ordinal --> sonst alphabetische Sortierung!\n",
    "bike$season <- factor(bike$season, levels = c(1, 2, 3, 4),\n",
    "                      labels = c(\"spring\", \"summer\",\n",
    "                                 \"fall\", \"winter\"),\n",
    "                      ordered = TRUE )\n",
    "\n",
    "# Skala: Ordinal\n",
    "bike$weather <- factor(bike$weather, levels = c(1, 2, 3, 4),\n",
    "                       labels = c(\"clr_part_cloud\",\n",
    "                                  \"mist_cloudy\",\n",
    "                                  \"lt_rain_snow\",\n",
    "                                  \"hvy_rain_snow\"),\n",
    "                       ordered = TRUE )\n",
    "\n",
    "str(bike)"
   ]
  },
  {
   "cell_type": "markdown",
   "id": "72931bfc-665c-4b9d-855a-64a06977fd7e",
   "metadata": {},
   "source": [
    "## Aufgabe: Datenquellen anpassen (`sources`)\n",
    "![Übungsaufgabe](../Pics/excercise.png \"Übungsaufgabe\")\n",
    "Eine weitere sinnvolle Optimierung ist es, die Anzahl der Qullen in `sources` zu reduzieren. Als Faustregel kann man hier den Wert 7 (+/- 2) als Anzahl der Einträge annehmen.\n",
    "\n",
    "* Welche Werte ais `sources` lassen sich ggf. in Gruppen von maximal 7 (+/- 2) Ausprägungen zusammengefasst darstellen?\n",
    "* Gibt es ggf. Merkmale, die dabei helfen, die Daten neu zu gruppieren?\n",
    "* Welche Befehle in ***R*** benötigt man für die Bereinigung? Nutzen SIe hiefür die Unterlagen und die Hilfe von R.\n",
    "* Welchen Datentyp sollte die Variable/Spalte `sources` nach einer Bereinigung bekommen?\n"
   ]
  },
  {
   "cell_type": "code",
   "execution_count": null,
   "id": "a60d8f00-2556-49e9-bf79-7e77d4aaa452",
   "metadata": {},
   "outputs": [],
   "source": [
    "# lubridate installieren/laden\n",
    "if(!require(\"lubridate\")) install.packages(\"lubridate\")\n",
    "library(lubridate)"
   ]
  },
  {
   "cell_type": "code",
   "execution_count": null,
   "id": "1339ba24-d2c0-40a5-8400-938eec843f7c",
   "metadata": {},
   "outputs": [],
   "source": [
    "# Datumsangaben umwandeln:\n",
    "str(bike$datetime)\n",
    "bike$datetime <- mdy_hm(bike$datetime)\n",
    "str(bike$datetime)"
   ]
  },
  {
   "cell_type": "code",
   "execution_count": null,
   "id": "bee1c441-8d63-44e0-be55-43d5fc239056",
   "metadata": {},
   "outputs": [],
   "source": [
    "#####################################\n",
    "# Lösungsansatz\n",
    "#####################################\n",
    "# Ausgangszustand\n",
    "source_lables <- unique(bike$sources)\n",
    "source_lables\n",
    "length(source_lables)"
   ]
  },
  {
   "cell_type": "code",
   "execution_count": null,
   "id": "ddd23d6e-5340-46da-a8b1-78e92d019225",
   "metadata": {},
   "outputs": [],
   "source": [
    "# Folgende Dinge können getan werden:\n",
    "# - Alle Einträeg in gleicher Form schreiben (klein, keine Leerzeichen, etc.)\n",
    "# - Webseiten/URLs als Kategorie \"website\" zusammenfassen\n",
    "# - alle NA Werte als Kategorie \"unknown\" zusammenfassen\n",
    "\n",
    "# Bezeichnung bereinigen:\n",
    "# - in Kleinschreibung umwandeln\n",
    "bike$sources <- tolower(bike$sources)"
   ]
  },
  {
   "cell_type": "code",
   "execution_count": null,
   "id": "ecaa11ca-71ec-42ec-9f3c-880339538a1e",
   "metadata": {},
   "outputs": [],
   "source": [
    "# - Leerzeichen weg\n",
    "bike$sources <- str_trim(bike$sources)"
   ]
  },
  {
   "cell_type": "code",
   "execution_count": null,
   "id": "4ed25c02-3bfd-408d-a65d-f2cff619dc81",
   "metadata": {},
   "outputs": [],
   "source": [
    "# Alle Werte mit NA identifizieren..\n",
    "na_loc <- is.na(bike$sources)"
   ]
  },
  {
   "cell_type": "code",
   "execution_count": null,
   "id": "15df8a26-dfc3-485a-91fb-d87b11c66f78",
   "metadata": {},
   "outputs": [],
   "source": [
    "# ... und auf den Wert \"unknown\" setzen\n",
    "bike$sources[na_loc] <- \"unknown\""
   ]
  },
  {
   "cell_type": "code",
   "execution_count": null,
   "id": "61c17abb-8e2a-48d4-a029-46b7fd69859e",
   "metadata": {},
   "outputs": [],
   "source": [
    "# In Faktorvariable umwandeln\n",
    "bike$sources <- as_factor(bike$sources)\n",
    "\n",
    "# Alle Vorkommen mit Webseite identifizieren\n",
    "# hierzu nutzt man bspw. einen Regulären Ausdruck --> siehe unten.\n",
    "# RegEx: <https://www.oreilly.com/library/view/regular-expressions-cookbook/9781449327453/ch08s15.html>\n",
    "web_sites <- \"([a-z0-9]+(-[a-z0-9]+)*\\\\.)+[a-z]{2,}\"\n",
    "\n",
    "# ALTERNATIV kann man natürlich auch alle enthaltenen URLs\n",
    "# für jedes Vorkommen einzeln entfernen oder zusammenfassen. "
   ]
  },
  {
   "cell_type": "code",
   "execution_count": null,
   "id": "084c7788-8af3-44a4-b65c-6c6147d6182f",
   "metadata": {},
   "outputs": [],
   "source": [
    "# Alle Vorkommen von Webseiten ersetzen!\n",
    "# Hierzu nutzen wir das Suchmuster im String web_sites, welches \n",
    "# wir auf die Werte in der Spalte bike$sources anwenden und das \n",
    "# Ergebnis in die neue Spalte bike$sources_new schreiben.\n",
    "bike <- bike %>% \n",
    "  mutate(sources_new = str_replace(sources, web_sites, \"web\"))"
   ]
  },
  {
   "cell_type": "code",
   "execution_count": null,
   "id": "c10b7ebb-16de-4ad0-b936-1844fc6ee35b",
   "metadata": {},
   "outputs": [],
   "source": [
    "str(bike)"
   ]
  },
  {
   "cell_type": "code",
   "execution_count": null,
   "id": "500527f6-4198-496f-85de-d1f6e3a262df",
   "metadata": {},
   "outputs": [],
   "source": [
    "# Zusammenfassung erzeugen:\n",
    "# Wie viele Ausprägungen haben wir pro Kategorie in der neuen\n",
    "# Spalte  bike$sources_new \n",
    "# Mehr zum %>% / Pipe Syntax in der nächsten Übung (Uebung 04)\n",
    "\n",
    "bike_source_report <- bike %>% \n",
    "  group_by(sources_new) %>% \n",
    "  summarise(n = n())"
   ]
  },
  {
   "cell_type": "code",
   "execution_count": null,
   "id": "f3038f50-90bb-4abb-9dcc-1cc2e9aee015",
   "metadata": {},
   "outputs": [],
   "source": [
    "# Report erzeugen\n",
    "bike_source_report\n",
    "# Anzahl summieren\n",
    "sum(bike_source_report$n)"
   ]
  },
  {
   "cell_type": "code",
   "execution_count": null,
   "id": "72241ed5-9616-4597-b332-d574f6afa4e0",
   "metadata": {},
   "outputs": [],
   "source": [
    "# Zustand nach der Bereinigung\n",
    "source_lables <- unique(bike$sources_new)\n",
    "length(source_lables)\n",
    "source_lables"
   ]
  },
  {
   "cell_type": "code",
   "execution_count": null,
   "id": "e718f40c-051f-45db-9aaf-f46eec8f7e87",
   "metadata": {},
   "outputs": [],
   "source": [
    "# Daten sichern\n",
    "write.csv(bike, \"cleaned_bikeshare_data.csv\", row.names = FALSE)"
   ]
  },
  {
   "cell_type": "code",
   "execution_count": null,
   "id": "efeaa5df-9c5a-409f-862f-4c5bcad43916",
   "metadata": {},
   "outputs": [],
   "source": []
  }
 ],
 "metadata": {
  "authors": [
   {
    "name": "Prof.Dr. Denis Royer"
   }
  ],
  "kernelspec": {
   "display_name": "R",
   "language": "R",
   "name": "ir"
  },
  "language_info": {
   "codemirror_mode": "r",
   "file_extension": ".r",
   "mimetype": "text/x-r-source",
   "name": "R",
   "pygments_lexer": "r",
   "version": "3.6.3"
  },
  "toc-showcode": false,
  "toc-showmarkdowntxt": false
 },
 "nbformat": 4,
 "nbformat_minor": 5
}

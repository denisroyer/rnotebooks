{
 "cells": [
  {
   "cell_type": "markdown",
   "id": "912b6562-da76-41b6-ac78-2c6e69f8121e",
   "metadata": {},
   "source": [
    "![R-Kenntnis](../Pics/header.png \"R-Kenntnis\")\n",
    "\n",
    "<div class=\"alert alert-block alert-info\">\n",
    "\n",
    "* **Titel:** Lösung zu den Übungen 04: Datenaufbereitung mit `dplyr`\n",
    "* **Autor:** Prof. Dr. Denis Royer\n",
    "* **Datum:** 19.10.2021 (Version 2.0)\n",
    "\n",
    "</div>\n",
    "\n",
    "# BI - R-Kenntnis Lösung zu den Übungen 04: Datenaufbereitung mit `dplyr`\n",
    "\n",
    "<div class=\"alert alert-block alert-warning\">\n",
    "<b>Wichtig:</b> Bevor wir loslegen, müssen wir zunächst einmal ein paar vorbereitende Dinge erledigen:\n",
    "\n",
    "* Die notwendigen Packages laden (bspw. `tidyverse`)\n",
    "* Datensatz laden (siehe *Data/raw_bikeshare_data.csv*)\n",
    "* Als weiteren Datensatz nutzen wir den Testdatensatz `starwars`\n",
    "\n",
    "</div>\n"
   ]
  },
  {
   "cell_type": "code",
   "execution_count": null,
   "id": "0328ece1-e02d-471e-bd85-df1609667d1c",
   "metadata": {},
   "outputs": [],
   "source": [
    "# Laden des Pakets tidyverse (lädt stringr, tibble, readr und dplyr)\n",
    "library(tidyverse)\n",
    "\n",
    "# Laden der Daten aus der Beispieldatei (nutzt readr)\n",
    "# Wichtig Die Datei nicht vorher mit Excel öffnen!\n",
    "bike <- read_csv(\"../Data/raw_bikeshare_data.csv\")"
   ]
  },
  {
   "cell_type": "code",
   "execution_count": null,
   "id": "62c78873-57f0-46ae-acff-11f85ca7db5c",
   "metadata": {},
   "outputs": [],
   "source": [
    "# Darstellung der Zahlen auf 4 Stellen für die Optik :-)\n",
    "options(digits=4)"
   ]
  },
  {
   "cell_type": "markdown",
   "id": "48f4633b-d109-4159-9e77-ecba81170738",
   "metadata": {},
   "source": [
    "## Übungen zum Pipe Syntax\n",
    "\n",
    "![Übungsaufgabe](../Pics/excercise.png \"Übungsaufgabe\")\n",
    "\n",
    "**Basierend auf der Lösung von Übung 3:** \n",
    "* Wie sieht der Source Code für den Marketing Report im Pipe Syntax aus?\n",
    "* Schreiben Sie hierzu die Lösungsschritte aus den Kapiteln 1.2 bis 1.4 aus der <a href=\"../Uebung 3/R-Kenntnis LSG Uebung 3.ipynb\">Lösung zu Uebung 03</a> in ein einziges Pipe-Syntax Statement um, so dass der Marketing Bericht aus der ursprünglichen Aufgabenstellung entsteht.\n",
    "* Am Ende soll die gleiche Tabelle als Ergebnis entsteht:\n",
    "\n",
    "| season| sum(casual)| sum(revenue)|\n",
    "|------:|-----------:|------------:|\n",
    "|      1|          14|           70|\n",
    "|      2|           4|           20|\n",
    "    "
   ]
  },
  {
   "cell_type": "markdown",
   "id": "9eba323f-3e3c-4c8b-9055-1849ef04d4ba",
   "metadata": {},
   "source": [
    "<div class=\"alert alert-block alert-success\">\n",
    "<b>Lösungsansatz:</b></div>"
   ]
  },
  {
   "cell_type": "code",
   "execution_count": null,
   "id": "a5224f68-ad72-45a2-8cfb-4e52d7c5f887",
   "metadata": {},
   "outputs": [],
   "source": [
    "report <- bike %>% \n",
    "          filter(registered == 0, season == 1 | season == 2) %>%\n",
    "          mutate(revenue = casual * 5) %>%\n",
    "          group_by(season) %>%\n",
    "          summarise(sum(casual), sum(revenue))\n",
    "report"
   ]
  },
  {
   "cell_type": "markdown",
   "id": "7eebde8d-183f-4387-9755-486bf2efa523",
   "metadata": {},
   "source": [
    "## Übungen zu `filter()` und `select()`\n",
    "\n",
    "![Übungsaufgabe](../Pics/excercise.png \"Übungsaufgabe\")\n",
    "\n",
    "Basierend auf dem Datensatz `bike`:\n",
    "\n",
    "1. Bilden Sie ein Subset mit den Tagen im Sommer und Herbst, an denen es keine \"casual\" Kunden gab.\n",
    "2. Ziehen Sie durch eine zufällige Auswahl 50% des soeben erstellten Subsets und speichern Sie diese unter \"fraction\".\n",
    "3. Extrahieren Sie aus dem Subset \"fraction\" nur die Spalten (Zusatz: Zeilen) 4 bis 8."
   ]
  },
  {
   "cell_type": "markdown",
   "id": "445494a7-ae6d-474b-aad7-3945bdb700a9",
   "metadata": {},
   "source": [
    "<div class=\"alert alert-block alert-success\">\n",
    "<b>Lösungsansatz Teil 1:</b></div>"
   ]
  },
  {
   "cell_type": "code",
   "execution_count": null,
   "id": "bf56471e-b33e-4201-9caa-cc5954f6584f",
   "metadata": {},
   "outputs": [],
   "source": [
    "myFilter <- filter(bike, ((season == 2 | season == 3) & casual == 0) ) \n",
    "myFilter"
   ]
  },
  {
   "cell_type": "markdown",
   "id": "58863494-8b15-43d6-904a-281e08c0aa67",
   "metadata": {},
   "source": [
    "<div class=\"alert alert-block alert-success\">\n",
    "<b>Lösungsansatz Teil 2:</b></div>"
   ]
  },
  {
   "cell_type": "code",
   "execution_count": null,
   "id": "dedec31e-f848-4543-b6b3-01346a2dc054",
   "metadata": {},
   "outputs": [],
   "source": [
    "# Zufälliges Auswählen der Daten aus bike.\n",
    "# Es werden 50% (0.5) der Daten ausgewählt.\n",
    "myFilter.fraction <- sample_frac(myFilter,0.5)\n",
    "myFilter.fraction"
   ]
  },
  {
   "cell_type": "markdown",
   "id": "2339360f-a195-4b08-9b03-d434e61654e6",
   "metadata": {},
   "source": [
    "<div class=\"alert alert-block alert-success\">\n",
    "<b>Lösungsansatz Teil 3:</b></div>"
   ]
  },
  {
   "cell_type": "code",
   "execution_count": null,
   "id": "6e7dc147-269b-4b77-8007-990e35abe98e",
   "metadata": {},
   "outputs": [],
   "source": [
    "# Auswahl der Spalten 4 bis 8\n",
    "myFilter.fraction %>% select(4:8)\n",
    "# Zusatz: Auswahl der Zeilen 4 bis 8\n",
    "myFilter.fraction %>% slice(4:8)"
   ]
  },
  {
   "cell_type": "markdown",
   "id": "85519375-df8e-4d33-bba4-0df37fd29bf2",
   "metadata": {},
   "source": [
    "## Übungen zu `group_by()` und `summarise()`\n",
    "![Übungsaufgabe](../Pics/excercise.png \"Übungsaufgabe\")\n",
    "\n",
    "1. Was macht das `group_by()` / `summarise()` Statement aus dem Starwars Beispiel oben? Sortieren Sie die Ausgabe einmal nach `mass` absteigend.\n",
    "2. Gruppieren Sie die Daten aus `bike` nach den Wetterbedingungen und berechnen Sie die zugehörigen, durchschnittlichen Entleihungen für registrierte und casual Mieter.\n",
    "3. Ähnlich wie die Gruppierung aus der vorherigen Aufgabe, soll dieses Mal eine wochenweise Gruppierung und Berechnung der durchschnittlichen Entleihungen für registrierte und casual Mieter berechnet werden. **Wichtig:** Sie müssen die Datumsangaben in der Spalte `datetime` einmal mit `lubridate` umwandeln und gruppieren (siehe Uebung 03). Die Funktion für die Umwandlung in Wochen heisst `week()`und erwartet ein Datum zur Berechnung."
   ]
  },
  {
   "cell_type": "markdown",
   "id": "321c6df9-3959-4e52-82da-54a48c42048f",
   "metadata": {},
   "source": [
    "<div class=\"alert alert-block alert-success\">\n",
    "<b>Lösungsansatz Teil 1:</b></div>"
   ]
  },
  {
   "cell_type": "markdown",
   "id": "464b08f9-4622-4b6f-9a6d-46b198e49dc9",
   "metadata": {},
   "source": [
    "Anbei noch mal das Beispiel:\n",
    "```R\n",
    "# Ein Beispiel mit dem Starwars Datensatz\n",
    "starwars %>%\n",
    "  group_by(species) %>%\n",
    "  summarise(n = n(), mass = mean(mass, na.rm = TRUE)) %>%\n",
    "  filter(n > 1, mass > 50)\n",
    "```\n",
    "\n",
    "Das `group_by()` und `summarise()` Statement filter den Starwars Datensatz folgendermaßen:\n",
    "\n",
    "* Zunächst wird der Datsatz nach den Spezies gruppiert.\n",
    "* Danach wird die Gruppierung aufsummiert (wie viele Individuen sind es pro Spezies) und das durchschnittliche Gewicht berechnet. Sollte es keinen Wert für eines der Individuen geben, so wird dieses bei der Mittelwertberechnung ausgelassen (Parameter `na.rm = TRUE`).\n",
    "* Als letztes werden diejenigen Ergebnisse angezeigt, bei denen es **mehr** als ein Individuum pro Spezies gibt (also ab 2 Individuen pro Spezies) und wo das mittlere Gewicht prößer als 50kg ist."
   ]
  },
  {
   "cell_type": "markdown",
   "id": "7582b27c-6b3a-444e-8fd7-ae370fd506e7",
   "metadata": {},
   "source": [
    "<div class=\"alert alert-block alert-success\">\n",
    "<b>Lösungsansatz Teil 2:</b></div>"
   ]
  },
  {
   "cell_type": "code",
   "execution_count": null,
   "id": "a5c740cc-bb77-4f06-9f47-1e500e6610bd",
   "metadata": {},
   "outputs": [],
   "source": [
    "bike %>%\n",
    "   group_by(weather) %>%\n",
    "   summarise(mean(casual, na.rm = TRUE),mean(registered, na.rm = TRUE))"
   ]
  },
  {
   "cell_type": "markdown",
   "id": "30064f44-d2f7-41ef-bf4a-cdce67e2425b",
   "metadata": {},
   "source": [
    "<div class=\"alert alert-block alert-success\">\n",
    "<b>Lösungsansatz Teil 3:</b></div>"
   ]
  },
  {
   "cell_type": "code",
   "execution_count": null,
   "id": "2829ff58-1da2-41a0-8b8a-b3cb055748a2",
   "metadata": {},
   "outputs": [],
   "source": [
    "# Laden des Package lubridate, für die Handhabung der\n",
    "# Datumsangaben im Datensatz\n",
    "library(lubridate)\n",
    "# Umwandlung der Spalte datetime von einem String in einen POSIX \n",
    "# Zeitstempel, damit man die Angaben gleich Wochenweise zusammen-\n",
    "# fassen kann.\n",
    "bike$datetime <- mdy_hm(bike$datetime)"
   ]
  },
  {
   "cell_type": "code",
   "execution_count": null,
   "id": "2dfabe1f-a90c-439a-889d-ba93952821c8",
   "metadata": {},
   "outputs": [],
   "source": [
    "# Wochenweise Zusammenfassung der Daten\n",
    "bike %>%\n",
    "   group_by(week = week(datetime)) %>%\n",
    "   summarise(mean(casual, na.rm = TRUE), mean(registered, na.rm = TRUE))"
   ]
  },
  {
   "cell_type": "code",
   "execution_count": null,
   "id": "de1184ae-f5ea-4e28-8f76-d9cd694adda9",
   "metadata": {},
   "outputs": [],
   "source": [
    "# Zusatz: Monatsweise Zusammenfassung der Daten\n",
    "bike %>%\n",
    "   group_by(month = month(datetime)) %>%\n",
    "   summarise(mean(casual, na.rm = TRUE), mean(registered, na.rm = TRUE))"
   ]
  },
  {
   "cell_type": "markdown",
   "id": "8353e3b2-57f4-4170-9465-b5921bb94590",
   "metadata": {},
   "source": [
    "## Übungen zu `mutate()` \n",
    "\n",
    "![Übungsaufgabe](../Pics/excercise.png \"Übungsaufgabe\")\n",
    "\n",
    "1. Erstellen Sie eine neue Spalte `temp_f` in `bike`, welche die Temperatur (`bike$temp`) in Fahrenheit angibt. Nutzen Sie für die Umrechnung folgende Formel: Temperatur in °C * 1.8 + 32.\n",
    "2. Erstellen Sie eine neue Spalte `per_casual`, der den Anteil in Prozent für die von \"casual\" Mieter angibt."
   ]
  },
  {
   "cell_type": "markdown",
   "id": "db4c96a4-4b87-43f7-abc3-ccae9a83f3c7",
   "metadata": {},
   "source": [
    "<div class=\"alert alert-block alert-success\">\n",
    "<b>Lösungsansatz Teil 1:</b></div>"
   ]
  },
  {
   "cell_type": "code",
   "execution_count": null,
   "id": "311ed9dc-f2a0-4801-b01e-6dabcf9951af",
   "metadata": {},
   "outputs": [],
   "source": [
    "# Hinzufügen der Spalte temp_f mit der Temperaturangabe\n",
    "# in Grad Fahrenheit\n",
    "bike %>%\n",
    "    mutate(temp_f = temp * 1.8 + 32)"
   ]
  },
  {
   "cell_type": "markdown",
   "id": "a653f45b-1d99-44ce-90d8-43fcf9d48e40",
   "metadata": {},
   "source": [
    "<div class=\"alert alert-block alert-success\">\n",
    "<b>Lösungsansatz Teil 2:</b></div>"
   ]
  },
  {
   "cell_type": "code",
   "execution_count": null,
   "id": "6149600a-b3bd-4fbb-bed4-7f099dc20415",
   "metadata": {},
   "outputs": [],
   "source": [
    "# Hinzufügen der Spalte per_casual mit dem\n",
    "# prozentualen Anteil der casual Mieter\n",
    "bike %>%\n",
    "    mutate(per_casual = casual / count *100)"
   ]
  }
 ],
 "metadata": {
  "authors": [
   {
    "name": "Prof.Dr. Denis Royer"
   }
  ],
  "kernelspec": {
   "display_name": "R",
   "language": "R",
   "name": "ir"
  },
  "language_info": {
   "codemirror_mode": "r",
   "file_extension": ".r",
   "mimetype": "text/x-r-source",
   "name": "R",
   "pygments_lexer": "r",
   "version": "3.6.3"
  }
 },
 "nbformat": 4,
 "nbformat_minor": 5
}

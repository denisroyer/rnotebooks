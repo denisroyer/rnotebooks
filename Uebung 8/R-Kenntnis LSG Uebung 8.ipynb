{
 "cells": [
  {
   "cell_type": "markdown",
   "id": "4b825c5a-67cc-4077-bcd6-97843f8f0c07",
   "metadata": {},
   "source": [
    "![R-Kenntnis](../Pics/header.png \"R-Kenntnis\")\n",
    "\n",
    "<div class=\"alert alert-block alert-info\">\n",
    "\n",
    "* **Titel:** R-Kenntnis Lösung Übungen 08: Zeitreihenanalyse mit R\n",
    "* **Autor:** Prof. Dr. Denis Royer\n",
    "* **Datum:** 04.12.2021 (Version 1.0)\n",
    "\n",
    "</div>\n",
    "\n",
    "# BI - R-Kenntnis Lösung Übungen 08: Zeitreihenanalyse mit R\n",
    "\n",
    "<div class=\"alert alert-block alert-warning\">\n",
    "<b>Wichtig:</b> Bevor wir loslegen, müssen wir zunächst einmal ein paar vorbereitende Dinge erledigen:\n",
    "\n",
    "* Die notwendigen Packages laden (bspw. `tidyverse`)\n",
    "* Datensatz laden (siehe *Data/marketing.csv*)\n",
    "\n",
    "</div>"
   ]
  },
  {
   "cell_type": "code",
   "execution_count": null,
   "id": "f3c86773-5695-47a6-b806-b1e9d61fa419",
   "metadata": {},
   "outputs": [],
   "source": [
    "# Laden der notwendigen Libraries\n",
    "library(tidyverse)\n",
    "library(ggplot2)\n",
    "library(forecast)\n",
    "library(lubridate)"
   ]
  },
  {
   "cell_type": "markdown",
   "id": "d024e3cb-e0b3-486d-926c-a547432fbb94",
   "metadata": {
    "tags": []
   },
   "source": [
    "# Übungsaufgaben: Analyse von Passagierdaten\n",
    "\n",
    "## Datensatz und Aufgabe\n",
    "Der Datensatz `AirPassengers` enthält die Daten für eine Fluggesellschaft und deren monatliches Passagieraufkommen für den Zeitraum von 1949 - 1960."
   ]
  },
  {
   "cell_type": "code",
   "execution_count": null,
   "id": "e23bbb3f-9114-4907-bda5-f73f71cb988e",
   "metadata": {},
   "outputs": [],
   "source": [
    "data(\"AirPassengers\")\n",
    "# Ausgabe der Daten in einer druckfähigen Tabelle \n",
    "# mittels pander()\n",
    "AirPassengers"
   ]
  },
  {
   "cell_type": "markdown",
   "id": "fabc70de-04a7-401e-959f-67e09188b5c6",
   "metadata": {},
   "source": [
    "![Übungsaufgabe](../Pics/excercise.png \"Übungsaufgabe\")\n",
    "***Folgende Aufgaben:***\n",
    "\n",
    "\n",
    "* Analysieren Sie die Daten und erstellen Sie eine Zeitreihenanalyse.\n",
    "* Leiten Sie ein adäquates ARIMA Modell ab.\n",
    "* Erstellen Sie mit Ihrem Modell eine Prognose für die Jahre 1961 - 1965.\n",
    "\n",
    "Siehe auch folgende Links:\n",
    "\n",
    "* <http://rstudio-pubs-static.s3.amazonaws.com/311446_08b00d63cc794e158b1f4763eb70d43a.html>\n",
    "* <https://www.datascience.com/blog/introduction-to-forecasting-with-arima-in-r-learn-data-science-tutorials>\n",
    "* <https://blog.exxcellent.de/datenanalyse-mit-r-so-erstellen-sie-interaktive-prognoseplots>"
   ]
  },
  {
   "cell_type": "markdown",
   "id": "a8e35656-93a1-4a3c-94e3-a52c695fba57",
   "metadata": {},
   "source": [
    "## Laden der Daten"
   ]
  },
  {
   "cell_type": "code",
   "execution_count": null,
   "id": "71a27f0d-5c2e-489e-968b-8639cacc088c",
   "metadata": {},
   "outputs": [],
   "source": [
    "# Laden des Datensatzes\n",
    "AirPassengers.ts <- AirPassengers\n",
    "autoplot(AirPassengers.ts)"
   ]
  },
  {
   "cell_type": "markdown",
   "id": "3ad9b0a8-8e46-4168-a2b6-3a00cfccf352",
   "metadata": {},
   "source": [
    "## Differencing: Identifikation von Trend- und Saison-Aspekten\n",
    "Im ersten Schritt geht es nun darum, wie viele Differencing Schritte notwendig sind.\n",
    "\n",
    "Wir wollen eine Zeitreihe, die nach dem Differencing keine Trend- oder Saison-Aspekte enthält."
   ]
  },
  {
   "cell_type": "code",
   "execution_count": null,
   "id": "8a4da810-8362-467b-a999-02f064d82e79",
   "metadata": {},
   "outputs": [],
   "source": [
    "# Trend Differencing --> d=1\n",
    "AirPassengers.ts.diff_trend <-diff(AirPassengers.ts)\n",
    "# Saison Differencing d=0/D=1\n",
    "AirPassengers.ts.diff_saison <- diff(AirPassengers.ts, lag = 12)\n",
    "# Trend und Saison Differencing kombiniert--> d=1 / D=1\n",
    "AirPassengers.ts.diff_trendsaison <- diff(diff(AirPassengers.ts, lag = 12))"
   ]
  },
  {
   "cell_type": "code",
   "execution_count": null,
   "id": "d3e4e48e-402a-471d-bf84-59fb36d61176",
   "metadata": {},
   "outputs": [],
   "source": [
    "par(mfrow = c(2, 2))\n",
    "# Plot der Zeitreihe\n",
    "plot(AirPassengers.ts)\n",
    "# Plot mit Differencing des Trends\n",
    "plot(AirPassengers.ts.diff_trend)\n",
    "# Plot mit Differencing der Saison (12)\n",
    "plot(AirPassengers.ts.diff_saison)\n",
    "# Kombiniertes Differencing (Trend & Saison)\n",
    "plot(AirPassengers.ts.diff_trendsaison)"
   ]
  },
  {
   "cell_type": "code",
   "execution_count": null,
   "id": "1731a9e5-c8e4-469c-bf52-d1da4cec22ed",
   "metadata": {},
   "outputs": [],
   "source": [
    "# mit ggtsdisplay()\n",
    "ggtsdisplay(AirPassengers.ts)\n",
    "ggtsdisplay(AirPassengers.ts.diff_trend)\n",
    "ggtsdisplay(AirPassengers.ts.diff_saison)\n",
    "ggtsdisplay(AirPassengers.ts.diff_trendsaison)"
   ]
  },
  {
   "cell_type": "code",
   "execution_count": null,
   "id": "2b0d3b66-8ef2-439f-b00a-0b9261995ffe",
   "metadata": {},
   "outputs": [],
   "source": [
    "AirPassengers.ts.stl <- stl(AirPassengers.ts, \"per\")\n",
    "plot(AirPassengers.ts.stl)"
   ]
  },
  {
   "cell_type": "markdown",
   "id": "d539cfaf-4960-4a64-96ab-91b12d931cf7",
   "metadata": {},
   "source": [
    "## Konfiguration des Modells"
   ]
  },
  {
   "cell_type": "code",
   "execution_count": null,
   "id": "ef29aa2c-8418-419b-8144-e29bfb8a9ac4",
   "metadata": {},
   "outputs": [],
   "source": [
    "AirPassengers.fit.auto = auto.arima(AirPassengers.ts, \n",
    "                                    trace = TRUE, \n",
    "                                    seasonal = TRUE, \n",
    "                                    approximation = FALSE, \n",
    "                                    ic = \"aicc\", \n",
    "                                    stepwise=FALSE)\n",
    "\n",
    "summary(AirPassengers.fit.auto)"
   ]
  },
  {
   "cell_type": "code",
   "execution_count": null,
   "id": "aa7981a8-f399-4f65-9e34-1ea34ed949d4",
   "metadata": {},
   "outputs": [],
   "source": [
    "AirPassengers.fit.auto %>% \n",
    "  residuals() %>% \n",
    "  ggtsdisplay()"
   ]
  },
  {
   "cell_type": "markdown",
   "id": "22c923e5-6177-4798-be71-dbba9545ca4e",
   "metadata": {},
   "source": [
    "## Überprüfung des Modells"
   ]
  },
  {
   "cell_type": "code",
   "execution_count": null,
   "id": "d5027c47-a396-4ba8-8e06-34d59cad1b73",
   "metadata": {},
   "outputs": [],
   "source": [
    "checkresiduals(AirPassengers.fit.auto)"
   ]
  },
  {
   "cell_type": "code",
   "execution_count": null,
   "id": "601fbae0-0a1c-4636-bfa4-86bc0a30038c",
   "metadata": {},
   "outputs": [],
   "source": [
    "AirPassengers.yr_forecast2 <- forecast(AirPassengers.fit.auto, h = 10*12)\n",
    "# AirPassengers.yr_forecast2\n",
    "plot(AirPassengers.yr_forecast2)\n",
    "autoplot(AirPassengers.fit.auto)"
   ]
  },
  {
   "cell_type": "markdown",
   "id": "e9fa45a2-6592-4aa3-905d-bc94a3e4fada",
   "metadata": {},
   "source": [
    "## Vergleich des Modells und der Vorhersage mittels Testdaten"
   ]
  },
  {
   "cell_type": "code",
   "execution_count": null,
   "id": "49dec864-1059-4c51-8781-2153c20105f6",
   "metadata": {},
   "outputs": [],
   "source": [
    "# Check des Modells\n",
    "hold <- window(ts(AirPassengers.ts), start=97)\n",
    "\n",
    "fit_no_holdout = arima(ts(AirPassengers.ts[-c(97:144)]), order=c(2,1,1), seasonal = c(0,1,0))\n",
    "\n",
    "fcast_no_holdout <- forecast(fit_no_holdout,h=48)\n",
    "plot(fcast_no_holdout, main=\" \", col=\"green\",lwd=3)\n",
    "lines(ts(AirPassengers.ts),col=\"red\")"
   ]
  }
 ],
 "metadata": {
  "kernelspec": {
   "display_name": "R",
   "language": "R",
   "name": "ir"
  },
  "language_info": {
   "codemirror_mode": "r",
   "file_extension": ".r",
   "mimetype": "text/x-r-source",
   "name": "R",
   "pygments_lexer": "r",
   "version": "3.6.3"
  },
  "toc-autonumbering": true
 },
 "nbformat": 4,
 "nbformat_minor": 5
}

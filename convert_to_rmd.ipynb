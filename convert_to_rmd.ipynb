{
 "cells": [
  {
   "cell_type": "code",
   "execution_count": 8,
   "id": "2be267d7-5fc6-4b6c-986b-69b32f502186",
   "metadata": {},
   "outputs": [],
   "source": [
    "library(rmarkdown)\n",
    "fileNames <- list.files(pattern=\"\\\\.(ipynb)\",recursive=TRUE,)\n",
    "\n",
    "for (i in 1:length(fileNames)) {\n",
    "    nb_rmd = rmarkdown::convert_ipynb(fileNames[i])\n",
    "}"
   ]
  },
  {
   "cell_type": "code",
   "execution_count": 10,
   "id": "db7a99e9-1ea4-4381-bbe6-d9a17d729a2f",
   "metadata": {},
   "outputs": [],
   "source": [
    "fileNames <- list.files(pattern=\"\\\\.(Rmd)\",recursive=TRUE,)\n",
    "\n",
    "for (i in 1:length(fileNames)) {\n",
    "    unlink(fileNames[i])\n",
    "}"
   ]
  },
  {
   "cell_type": "code",
   "execution_count": null,
   "id": "208c395d-84e9-4bd2-b918-444e0f8bb9ca",
   "metadata": {},
   "outputs": [],
   "source": []
  }
 ],
 "metadata": {
  "kernelspec": {
   "display_name": "R",
   "language": "R",
   "name": "ir"
  },
  "language_info": {
   "codemirror_mode": "r",
   "file_extension": ".r",
   "mimetype": "text/x-r-source",
   "name": "R",
   "pygments_lexer": "r",
   "version": "3.6.3"
  }
 },
 "nbformat": 4,
 "nbformat_minor": 5
}

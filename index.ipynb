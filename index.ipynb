{
 "cells": [
  {
   "cell_type": "markdown",
   "id": "167156e0-b0ee-4295-87b9-06cdac749ba3",
   "metadata": {
    "tags": []
   },
   "source": [
    "![R-Kenntnis](Pics/header.png \"R-Kenntnis\")\n",
    "                                                               \n",
    "# Übungen R-Kenntnis\n",
    "\n",
    "Dieses Repository enthält das Übungsmaterial für die Vorlesung Business Intelligence.\n",
    "\n",
    "Sie finden die zu den Übungen gehörenden Materialien jeweils in den Unterverzeichnissen des Ordners \"rnotebooks\".\n",
    "\n",
    "![Folder](Pics/screenshotFolder.jpg \"Ordner /rrnotebooks\")\n",
    "\n",
    "<div class=\"alert alert-block alert-warning\">\n",
    "    \n",
    "Die neuste Version der Unterlagen erhalten Sie über den folgenden Link automatisch in Ihren JupyterLab Account geladen: <https://j2n.eu/r/riXSs>. \n",
    "</div>\n",
    "\n",
    "\n",
    "\n",
    "<div class=\"alert alert-block alert-danger\">\n",
    "<b>Bitte beachten Sie:</b> Beim Update werden alle Änderungen überschrieben. Legen Sie sich daher bitte für Ihre R-Skripte eigene Dateien und Ordner an!\n",
    "</div>"
   ]
  },
  {
   "cell_type": "markdown",
   "id": "07dbc5ef-0e40-4e42-a7bf-240655462585",
   "metadata": {
    "tags": []
   },
   "source": [
    "**Infos zum Semesterprojekt:**\n",
    "\n",
    "* <a href=\"Semesterprojekt/Semesterprojekt.ipynb\">Informationen zum Semesterprojekt</a>\n",
    "\n",
    "**Enthaltene Übungen:**\n",
    "\n",
    "* **Übung 00**: <a href=\"Uebung 00/R-Kenntnis Uebung 00.ipynb\">Basics - Der markdown Syntax</a> **-** <a href=\"Uebung 00/R-Kenntnis LSG Uebung 00.ipynb\">(+LSG)</a>\n",
    "* **Übung 01 und 02:**  <a href=\"Uebung 01 und 02/R-Kenntnis Übung 01 und 02.ipynb\">Basis Datenstrukturen in R</a> **-** <a href=\"Uebung 01 und 02/R-Kenntnis LSG Übung 01 und 02.ipynb\">(+LSG)</a>\n",
    "* **Übung 03**: <a href=\"Uebung 03/R-Kenntnis Uebung 03.ipynb\">Datenimporte und Datenmanipulation</a> **-** <a href=\"Uebung 03/R-Kenntnis LSG Uebung 03.ipynb\">(+LSG)</a>\n",
    "* **Übung 04:** <a href=\"Uebung 04/R-Kenntnis Uebung 04.ipynb\">Datenaufbereitung mit `dplyr`</a> **-** <a href=\"Uebung 04/R-Kenntnis LSG Uebung 04.ipynb\">(+LSG)</a>\n",
    "* **Übung 04 (Add-On):** <a href=\"Uebung 04/R-Kenntnis Uebung 04 Add-On.ipynb\">Pivot-Tabellen mit `dplyr`</a>\n",
    "* **Übung 05:** <a href=\"Uebung 05/R-Kenntnis Uebung 05.ipynb\">Explorative Datenanalyse (Teil 1)</a> **-** <a href=\"Uebung 05/R-Kenntnis LSG Uebung 05.ipynb\">(+LSG)</a>\n",
    "* **Übung 06:** <a href=\"Uebung 06/R-Kenntnis Uebung 06.ipynb\">Explorative Datenanalyse (Teil 2)</a> **-** <a href=\"Uebung 06/R-Kenntnis LSG Uebung 06.ipynb\">(+LSG)</a>\n",
    "* **Übung 07:** <a href=\"Uebung 07/R-Kenntnis Uebung 07.ipynb\">Lineare Regression mit R</a> **-** <a href=\"Uebung 07/R-Kenntnis LSG Uebung 07.ipynb\">(+LSG)</a>\n",
    "* **Übung 08:** <a href=\"Uebung 08/R-Kenntnis Uebung 08.ipynb\">Zeitreihenanalyse mit R</a> **-** <a href=\"Uebung 08/R-Kenntnis LSG Uebung 08.ipynb\">(+LSG)</a>\n",
    "* **Übung 09:** <a href=\"Uebung 09/R-Kenntnis Uebung 09.ipynb\">Klassifikation und Clustering mit R</a> **-** <a href=\"Uebung 09/R-Kenntnis LSG Uebung 09.ipynb\">(+LSG)</a>\n",
    "* **Tools** - <a href=\"Tools.ipynb\">Werkzeuge für den Umgang mit den Jupyter Notebooks</a>"
   ]
  },
  {
   "cell_type": "markdown",
   "id": "657c2f10-da56-4cac-8a30-dc0d740589e1",
   "metadata": {},
   "source": [
    "# Literaturempfehlungen und Materialien\n",
    "\n",
    "* ***Allgemeine Infos zu Jupyter:***\n",
    "    * https://www.dataquest.io/blog/jupyter-notebook-tutorial/\n",
    "    * https://mljar.com/blog/jupyter-notebook-shortcuts/\n",
    "    * https://cheatography.com/weidadeyue/cheat-sheets/jupyter-notebook/pdf_bw/\n",
    "* ***Allgemeine Bücher zu R:***\n",
    "    * **Sebastian Sauer:** *\"Moderne Datenanalyse mit R: Daten einlesen, aufbereiten, visualisieren und modellieren\"*, Springer, DOI: <https://doi.org/10.1007/978-3-658-21587-3>, 2019.\n",
    "    * **Generelle Hilfe zu R:** <https://www.r-project.org/help.html>\n",
    "    * **R Cheat Sheets:** <https://www.rstudio.com/resources/cheatsheets/>\n",
    "* ***R Markdown:***\n",
    "    * <https://yihui.name/knitr/> \n",
    "    * <https://bookdown.org/yihui/rmarkdown/>\n",
    "    * <https://medium.com/analytics-vidhya/the-ultimate-markdown-guide-for-jupyter-notebook-d5e5abf728fd>\n",
    "* ***Datenstrukturen:***\n",
    "    * <http://venus.ifca.unican.es/Rintro/dataStruct.html>\n",
    "* ***dplyr:***\n",
    "    * <https://sebastiansauer.github.io/Datenanalyse_mit_dplyr/>\n",
    "    * <https://databraineo.com/ki-training-resources/r-programmierung/das-r-package-dplyr-eine-ausfuehrliche-anleitung-mit-vielen-beispielen/>\n",
    "    * <https://dplyr.tidyverse.org>\n",
    "    * <https://databraineo.com/dplyr-left-join-inner-join-full-join-right-join-cheatsheet-2/>\n",
    "    * Merge Datasets: <https://garthtarr.github.io/meatR/merging.html>\n",
    "* ***Data Transformation:***\n",
    "    * **Data transformation:** <https://r4ds.had.co.nz/transform.html>\n",
    "    * **Pivot Tables with dplyr:** <https://rstudio-conf-2020.github.io/r-for-excel/pivot-tables.html>\n",
    "    * **An introduction to data cleaning with R** - <https://cran.r-project.org/doc/contrib/de_Jonge+van_der_Loo-Introduction_to_data_cleaning_with_R.pdf>\n",
    "    * **Pivot Tables with `dplyr`:** - <https://rstudio-conf-2020.github.io/r-for-excel/pivot-tables.html>\n",
    "    * **Handhabung von Listen (```list()```)** - <https://www.tutorialspoint.com/r/r_lists.htm>\n",
    "* ***Zeitreihenanalyse:***\n",
    "    * **Hyndman und Athanasopoulos (2018)** - Hyndman, R.J. und Athanasopoulos, G.: *Forecasting: Principles and Practice (2nd ed.)*  -  <https://otexts.com/fpp2/>, Monash University, Australia, 2018.\n",
    "    * **Hyndman und Athanasopoulos (2021)** - Hyndman, R.J. und Athanasopoulos, G.: *Forecasting: Principles and Practice (3rd ed.)* -  <https://otexts.com/fpp3/>, Monash University, Australia, 2021.\n"
   ]
  }
 ],
 "metadata": {
  "kernelspec": {
   "display_name": "R",
   "language": "R",
   "name": "ir"
  },
  "language_info": {
   "codemirror_mode": "r",
   "file_extension": ".r",
   "mimetype": "text/x-r-source",
   "name": "R",
   "pygments_lexer": "r",
   "version": "4.2.1"
  }
 },
 "nbformat": 4,
 "nbformat_minor": 5
}

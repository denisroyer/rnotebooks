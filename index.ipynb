{
 "cells": [
  {
   "cell_type": "markdown",
   "id": "1c325166-f5ae-450f-8e82-b5e59c37cfbb",
   "metadata": {},
   "source": [
    "![R-Kenntnis](Pics/header.png \"R-Kenntnis\")\n",
    "                                                               \n",
    "# Übungen R-Kenntnis\n",
    "\n",
    "Dieses Repository enthält das Übungsmaterial für die Vorlesung Business Intelligence.\n",
    "\n",
    "Sie finden die zu den Übungen gehörenden Materialien jeweils in den Unterverzeichnissen des Ordners \"rnotebooks\".\n",
    "\n",
    "Die neuste Version der Unterlagen erhalten Sie über den folgenden Link: <https://t1p.de/kyi0>. **Bitte beachten Sie**, dass beim Update alle Änderungen überschrieben werden. Legen Sie sich daher bitte für Ihre R-Skripte eigene Dateien und Ordner an!\n",
    "\n",
    "Enthaltene Übungen:\n",
    "\n",
    "* **Übung 1 und 2:**  <a href=\"Uebung 1 und 2/R-Kenntnis Übung 1 und 2.ipynb\">Basis Datenstrukturen in R</a> **-** <a href=\"Uebung 1 und 2/R-Kenntnis LSG Übung 1 und 2.ipynb\">(+LSG)</a>\n",
    "* **Übung 3**: <a href=\"Uebung 3/R-Kenntnis Uebung 3.ipynb\">Datenimporte und Datenmanipulation</a> **-** <a href=\"Uebung 3/R-Kenntnis LSG Uebung 3.ipynb\">(+LSG)</a>\n",
    "* **Übung 4:** <a href=\"Uebung /R-Kenntnis Uebung 3.ipynb\">Datenaufbereitung mit `dplyr`</a> **-** <a href=\"Uebung 3/R-Kenntnis LSG Uebung 3.ipynb\">(+LSG)</a>\n",
    "* **Übung 5:** Explorative Datenanalyse (Teil 1)\n",
    "* **Übung 6:** Explorative Datenanalyse (Teil 2)\n",
    "\n"
   ]
  },
  {
   "cell_type": "code",
   "execution_count": null,
   "id": "7219f5da-2888-4e8d-85af-555c2b448c70",
   "metadata": {},
   "outputs": [],
   "source": []
  }
 ],
 "metadata": {
  "kernelspec": {
   "display_name": "R",
   "language": "R",
   "name": "ir"
  },
  "language_info": {
   "codemirror_mode": "r",
   "file_extension": ".r",
   "mimetype": "text/x-r-source",
   "name": "R",
   "pygments_lexer": "r",
   "version": "3.6.3"
  }
 },
 "nbformat": 4,
 "nbformat_minor": 5
}

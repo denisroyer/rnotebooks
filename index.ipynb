{
 "cells": [
  {
   "cell_type": "markdown",
   "id": "167156e0-b0ee-4295-87b9-06cdac749ba3",
   "metadata": {
    "tags": []
   },
   "source": [
    "![R-Kenntnis](Pics/header.png \"R-Kenntnis\")\n",
    "\n",
    "<a href=\"https://github.com/denisroyer/rnotebooks\" target=\"_blank\"><img src=\"https://img.shields.io/badge/--Kenntnis-blue?style=for-the-badge&logo=r&logoColor=white\"/></a> <a href=\"https://ostfalia.de/w\" target=\"_blank\"><img src=\"https://img.shields.io/badge/Ostfalia-Fakultät%20W-blue?style=for-the-badge&logo=googlescholar&logoColor=white\"/></a> <img src=\"https://img.shields.io/badge/Semester-WiSe2022%2F23-green?style=for-the-badge\"/>  <a href=\"https://creativecommons.org/licenses/by-nc-sa/4.0/\" target=\"_blank\"><img src=\"https://img.shields.io/badge/License-by--nc--sa-red?style=for-the-badge\"/></a> \n",
    "\n",
    "\n",
    "# Übungen R-Kenntnis\n",
    "\n",
    "Dieses Repository enthält das Übungsmaterial für die Vorlesung Business Intelligence.\n",
    "\n",
    "Sie finden die zu den Übungen gehörenden Materialien jeweils in den Unterverzeichnissen des Ordners \"rnotebooks\".\n",
    "\n",
    "![Folder](Pics/screenshotFolder.jpg \"Ordner /rrnotebooks\")\n",
    "\n",
    "<div class=\"alert alert-block alert-warning\">\n",
    "\n",
    "<b>Neueste Dokumente:</b> Die neuste Version der Unterlagen erhalten Sie über die `git` Funktion von JupyterLab. Eine Anleitung hierfür finden Sie im Ordner Docs. Die URL des Repositories lautet: <https://github.com/denisroyer/rnotebooks.git>\n",
    "</div>\n",
    "\n",
    "<div class=\"alert alert-block alert-danger\">\n",
    "<b>Bitte beachten Sie:</b> Beim Update werden alle Änderungen überschrieben. Legen Sie sich daher bitte für Ihre R-Skripte eigene Dateien und Ordner an!\n",
    "</div>\n",
    "    \n",
    "# Link zum Moodle Raum\n",
    "    \n",
    "https://moodle.ostfalia.de/course/view.php?id=7556"
   ]
  },
  {
   "cell_type": "code",
   "execution_count": 1,
   "id": "88237035-1130-43a0-9e10-135758d4a881",
   "metadata": {
    "jupyter": {
     "source_hidden": true
    },
    "tags": []
   },
   "outputs": [
    {
     "data": {
      "image/png": "[encoded data removed]",
      "text/plain": [
       "plot without title"
      ]
     },
     "metadata": {
      "image/png": {
       "height": 420,
       "width": 420
      }
     },
     "output_type": "display_data"
    }
   ],
   "source": [
    "library(qrcode)\n",
    "plot(qr_code('https://moodle.ostfalia.de/course/view.php?id=7556'))"
   ]
  },
  {
   "cell_type": "markdown",
   "id": "07dbc5ef-0e40-4e42-a7bf-240655462585",
   "metadata": {
    "tags": []
   },
   "source": [
    "# Infos zu den Übungen und zum Semesterprojekt\n",
    "\n",
    "**Infos zum Semesterprojekt:**\n",
    "\n",
    "* <a href=\"Semesterprojekt/Semesterprojekt.ipynb\">Informationen zum Semesterprojekt</a>\n",
    "\n",
    "**Enthaltene Übungen:**\n",
    "\n",
    "* **Übung 00**: <a href=\"Uebung 00/R-Kenntnis Uebung 00.ipynb\">Basics - Der markdown Syntax</a> **-** <a href=\"Uebung 00/R-Kenntnis LSG Uebung 00.ipynb\">(+LSG)</a>\n",
    "* **Übung 01 und 02:**  <a href=\"Uebung 01 und 02/R-Kenntnis Übung 01 und 02.ipynb\">Basis Datenstrukturen in R</a> **-** <a href=\"Uebung 01 und 02/R-Kenntnis LSG Übung 01 und 02.ipynb\">(+LSG)</a>\n",
    "* **Übung 03**: <a href=\"Uebung 03/R-Kenntnis Uebung 03.ipynb\">Datenimporte und Datenmanipulation</a> **-** <a href=\"Uebung 03/R-Kenntnis LSG Uebung 03.ipynb\">(+LSG)</a>\n",
    "* **Übung 04:** <a href=\"Uebung 04/R-Kenntnis Uebung 04.ipynb\">Datenaufbereitung mit `dplyr`</a> **-** <a href=\"Uebung 04/R-Kenntnis LSG Uebung 04.ipynb\">(+LSG)</a>\n",
    "* **Übung 04 (Add-On):** <a href=\"Uebung 04/R-Kenntnis Uebung 04 Add-On.ipynb\">Pivot-Tabellen mit `dplyr`</a>\n",
    "* **Übung 05:** <a href=\"Uebung 05/R-Kenntnis Uebung 05.ipynb\">Explorative Datenanalyse (Teil 1)</a> **-** <a href=\"Uebung 05/R-Kenntnis LSG Uebung 05.ipynb\">(+LSG)</a>\n",
    "* **Übung 06:** <a href=\"Uebung 06/R-Kenntnis Uebung 06.ipynb\">Explorative Datenanalyse (Teil 2)</a> **-** <a href=\"Uebung 06/R-Kenntnis LSG Uebung 06.ipynb\">(+LSG)</a>\n",
    "* **Übung 07:** <a href=\"Uebung 07/R-Kenntnis Uebung 07.ipynb\">Lineare Regression mit R</a> **-** <a href=\"Uebung 07/R-Kenntnis LSG Uebung 07.ipynb\">(+LSG)</a>\n",
    "* **Übung 08:** <a href=\"Uebung 08/R-Kenntnis Uebung 08.ipynb\">Zeitreihenanalyse mit R</a> **-** <a href=\"Uebung 08/R-Kenntnis LSG Uebung 08.ipynb\">(+LSG)</a>\n",
    "* **Übung 09:** <a href=\"Uebung 09/R-Kenntnis Uebung 09.ipynb\">Klassifikation und Clustering mit R</a> **-** <a href=\"Uebung 09/R-Kenntnis LSG Uebung 09.ipynb\">(+LSG)</a>\n",
    "* **Tools** - <a href=\"Tools.ipynb\">Werkzeuge für den Umgang mit den Jupyter Notebooks</a>"
   ]
  },
  {
   "cell_type": "markdown",
   "id": "657c2f10-da56-4cac-8a30-dc0d740589e1",
   "metadata": {},
   "source": [
    "# Literaturempfehlungen und Materialien\n",
    "\n",
    "* ***Allgemeine Infos zu Jupyter:***\n",
    "    * https://www.dataquest.io/blog/jupyter-notebook-tutorial/\n",
    "    * https://mljar.com/blog/jupyter-notebook-shortcuts/\n",
    "    * https://cheatography.com/weidadeyue/cheat-sheets/jupyter-notebook/pdf_bw/\n",
    "* ***Allgemeine Bücher zu R:***\n",
    "    * **Sebastian Sauer:** *\"Moderne Datenanalyse mit R: Daten einlesen, aufbereiten, visualisieren und modellieren\"*, Springer, DOI: <https://doi.org/10.1007/978-3-658-21587-3>, 2019.\n",
    "    * **Generelle Hilfe zu R:** <https://www.r-project.org/help.html>\n",
    "    * **R Cheat Sheets:** <https://www.rstudio.com/resources/cheatsheets/>\n",
    "* ***R Markdown:***\n",
    "    * <https://yihui.name/knitr/> \n",
    "    * <https://bookdown.org/yihui/rmarkdown/>\n",
    "    * <https://medium.com/analytics-vidhya/the-ultimate-markdown-guide-for-jupyter-notebook-d5e5abf728fd>\n",
    "* ***Datenstrukturen:***\n",
    "    * <http://venus.ifca.unican.es/Rintro/dataStruct.html>\n",
    "* ***Reinigung unsauberer Daten mit dem `janitor` Package:***\n",
    "    * <https://cran.r-project.org/web/packages/janitor/vignettes/janitor.html>\n",
    "    * <https://github.com/sfirke/janitor>\n",
    "    * <https://sfirke.github.io/janitor/articles/tabyls.html>\n",
    "* ***dplyr:***\n",
    "    * <https://sebastiansauer.github.io/Datenanalyse_mit_dplyr/>\n",
    "    * <https://databraineo.com/ki-training-resources/r-programmierung/das-r-package-dplyr-eine-ausfuehrliche-anleitung-mit-vielen-beispielen/>\n",
    "    * <https://dplyr.tidyverse.org>\n",
    "    * <https://databraineo.com/dplyr-left-join-inner-join-full-join-right-join-cheatsheet-2/>\n",
    "    * Merge Datasets: <https://garthtarr.github.io/meatR/merging.html>\n",
    "* ***Data Transformation:***\n",
    "    * **Data transformation:** <https://r4ds.had.co.nz/transform.html>\n",
    "    * **Pivot Tables with dplyr:** <https://rstudio-conf-2020.github.io/r-for-excel/pivot-tables.html>\n",
    "    * **An introduction to data cleaning with R** - <https://cran.r-project.org/doc/contrib/de_Jonge+van_der_Loo-Introduction_to_data_cleaning_with_R.pdf>\n",
    "    * **Pivot Tables with `dplyr`:** - <https://rstudio-conf-2020.github.io/r-for-excel/pivot-tables.html>\n",
    "    * **Handhabung von Listen (```list()```)** - <https://www.tutorialspoint.com/r/r_lists.htm>\n",
    "* ***Zeitreihenanalyse:***\n",
    "    * **Hyndman und Athanasopoulos (2018)** - Hyndman, R.J. und Athanasopoulos, G.: *Forecasting: Principles and Practice (2nd ed.)*  -  <https://otexts.com/fpp2/>, Monash University, Australia, 2018.\n",
    "    * **Hyndman und Athanasopoulos (2021)** - Hyndman, R.J. und Athanasopoulos, G.: *Forecasting: Principles and Practice (3rd ed.)* -  <https://otexts.com/fpp3/>, Monash University, Australia, 2021.\n"
   ]
  },
  {
   "cell_type": "markdown",
   "id": "8bd71bec-be6a-45ed-8dc4-e9c44a38f735",
   "metadata": {},
   "source": [
    "# Lizenz\n",
    "\n",
    "<a rel=\"license\" href=\"http://creativecommons.org/licenses/by-nc-sa/4.0/\"><img alt=\"Creative Commons License\" style=\"border-width:0\" src=\"https://i.creativecommons.org/l/by-nc-sa/4.0/88x31.png\" /></a><br />This work is licensed under a <a rel=\"license\" href=\"http://creativecommons.org/licenses/by-nc-sa/4.0/\">Creative Commons Attribution-NonCommercial-ShareAlike 4.0 International License</a>."
   ]
  },
  {
   "cell_type": "code",
   "execution_count": null,
   "id": "07e8c3fc-9ca7-40e3-ba51-06b9e777b685",
   "metadata": {},
   "outputs": [],
   "source": []
  }
 ],
 "metadata": {
  "authors": [
   {
    "name": "Prof. Dr. Denis Royer"
   }
  ],
  "kernelspec": {
   "display_name": "R",
   "language": "R",
   "name": "ir"
  },
  "language_info": {
   "codemirror_mode": "r",
   "file_extension": ".r",
   "mimetype": "text/x-r-source",
   "name": "R",
   "pygments_lexer": "r",
   "version": "4.2.1"
  },
  "title": "Intro: R-Kenntnis"
 },
 "nbformat": 4,
 "nbformat_minor": 5
}

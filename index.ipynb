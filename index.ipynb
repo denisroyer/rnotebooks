{
 "cells": [
  {
   "cell_type": "markdown",
   "id": "1c325166-f5ae-450f-8e82-b5e59c37cfbb",
   "metadata": {
    "jp-MarkdownHeadingCollapsed": true,
    "tags": []
   },
   "source": [
    "![R-Kenntnis](Pics/header.png \"R-Kenntnis\")\n",
    "                                                               \n",
    "# Übungen R-Kenntnis\n",
    "\n",
    "Dieses Repository enthält das Übungsmaterial für die Vorlesung Business Intelligence.\n",
    "\n",
    "Sie finden die zu den Übungen gehörenden Materialien jeweils in den Unterverzeichnissen des Ordners \"rnotebooks\".\n",
    "\n",
    "Die neuste Version der Unterlagen erhalten Sie über den folgenden Link: <https://t1p.de/kyi0>. **Bitte beachten Sie**, dass beim Update alle Änderungen überschrieben werden. Legen Sie sich daher bitte für Ihre R-Skripte eigene Dateien und Ordner an!\n",
    "\n",
    "Enthaltene Übungen:\n",
    "\n",
    "* **Übung 1 und 2:**  <a href=\"Uebung 1 und 2/R-Kenntnis Übung 1 und 2.ipynb\">Basis Datenstrukturen in R</a> **-** <a href=\"Uebung 1 und 2/R-Kenntnis LSG Übung 1 und 2.ipynb\">(+LSG)</a>\n",
    "* **Übung 3**: <a href=\"Uebung 3/R-Kenntnis Uebung 3.ipynb\">Datenimporte und Datenmanipulation</a> **-** <a href=\"Uebung 3/R-Kenntnis LSG Uebung 3.ipynb\">(+LSG)</a>\n",
    "* **Übung 4:** <a href=\"Uebung 4/R-Kenntnis Uebung 4.ipynb\">Datenaufbereitung mit `dplyr`</a> **-** <a href=\"Uebung 4/R-Kenntnis LSG Uebung 4.ipynb\">(+LSG)</a>\n",
    "* **Übung 5:** <a href=\"Uebung 5/R-Kenntnis Uebung 5.ipynb\">Explorative Datenanalyse (Teil 1)</a> **-** <a href=\"Uebung 5/R-Kenntnis LSG Uebung 5.ipynb\">(+LSG)</a>\n",
    "* **Übung 6:** <a href=\"Uebung 6/R-Kenntnis Uebung 6.ipynb\">Explorative Datenanalyse (Teil 2)</a> **-** <a href=\"Uebung 6/R-Kenntnis LSG Uebung 6.ipynb\">(+LSG)</a>\n",
    "* **Übung 7:** <a href=\"Uebung 7/R-Kenntnis Uebung 7.ipynb\">Lineare Regression mit R</a> **-** <a href=\"Uebung 7/R-Kenntnis LSG Uebung 7.ipynb\">(+LSG)</a>\n",
    "* **Übung 8:** <a href=\"Uebung 8/R-Kenntnis Uebung 8.ipynb\">Zeitreihenanalyse mit R</a> **-** <a href=\"Uebung 8/R-Kenntnis LSG Uebung 8.ipynb\">(+LSG)</a>\n",
    "* **Tools** - <a href=\"Tools.ipynb\">Werkzeuge für den Umgang mit den Jupyter Notebooks</a>"
   ]
  },
  {
   "cell_type": "markdown",
   "id": "657c2f10-da56-4cac-8a30-dc0d740589e1",
   "metadata": {},
   "source": [
    "# Literaturempfehlungen\n",
    "\n",
    "* ***Allgemeine Bücher zu R:***\n",
    "    * **Sebastian Sauer:** *\"Moderne Datenanalyse mit R: Daten einlesen, aufbereiten, visualisieren und modellieren\"*, Springer, DOI: <https://doi.org/10.1007/978-3-658-21587-3>, 2019.\n",
    "    * **Generelle Hilfe zu R:** <https://www.r-project.org/help.html>\n",
    "    * **R Cheat Sheets:** <https://www.rstudio.com/resources/cheatsheets/>\n",
    "* ***R Markdown:***\n",
    "    * <https://yihui.name/knitr/> \n",
    "    * <https://bookdown.org/yihui/rmarkdown/>\n",
    "    * <https://medium.com/analytics-vidhya/the-ultimate-markdown-guide-for-jupyter-notebook-d5e5abf728fd>\n",
    "* ***dplyr:***\n",
    "    * <https://sebastiansauer.github.io/Datenanalyse_mit_dplyr/>\n",
    "    * <https://databraineo.com/ki-training-resources/r-programmierung/das-r-package-dplyr-eine-ausfuehrliche-anleitung-mit-vielen-beispielen/>\n",
    "    * <https://dplyr.tidyverse.org>\n",
    "    * <https://databraineo.com/dplyr-left-join-inner-join-full-join-right-join-cheatsheet-2/>\n",
    "* ***Data Transformation:***\n",
    "    * **Data transformation:** <https://r4ds.had.co.nz/transform.html>\n",
    "    * **Pivot Tables with dplyr:** <https://rstudio-conf-2020.github.io/r-for-excel/pivot-tables.html>\n",
    "    * **An introduction to data cleaning with R** - <https://cran.r-project.org/doc/contrib/de_Jonge+van_der_Loo-Introduction_to_data_cleaning_with_R.pdf>\n",
    "    * **Pivot Tables with `dplyr`:** - <https://rstudio-conf-2020.github.io/r-for-excel/pivot-tables.html>\n",
    "* ***Zeitreihenanalyse:***\n",
    "    * **Hyndman und Athanasopoulos (2018)** - Hyndman, R.J. und Athanasopoulos, G.: *Forecasting: Principles and Practice (2nd ed.)*  -  <https://otexts.com/fpp2/>, Monash University, Australia, 2018.\n",
    "* **Hyndman und Athanasopoulos (2021)** - Hyndman, R.J. und Athanasopoulos, G.: *Forecasting: Principles and Practice* -  <https://otexts.com/fpp3/>, Monash University, Australia, 2018.\n"
   ]
  }
 ],
 "metadata": {
  "kernelspec": {
   "display_name": "R",
   "language": "R",
   "name": "ir"
  },
  "language_info": {
   "codemirror_mode": "r",
   "file_extension": ".r",
   "mimetype": "text/x-r-source",
   "name": "R",
   "pygments_lexer": "r",
   "version": "3.6.3"
  }
 },
 "nbformat": 4,
 "nbformat_minor": 5
}
